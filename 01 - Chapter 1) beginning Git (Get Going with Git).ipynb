{
 "cells": [
  {
   "cell_type": "markdown",
   "id": "c822cb75",
   "metadata": {},
   "source": [
    "# Creating git repository"
   ]
  },
  {
   "cell_type": "markdown",
   "id": "b626d604",
   "metadata": {},
   "source": [
    "### Print Working Directory"
   ]
  },
  {
   "cell_type": "code",
   "execution_count": null,
   "id": "9deb91f0",
   "metadata": {
    "vscode": {
     "languageId": "shellscript"
    }
   },
   "outputs": [
    {
     "data": {
      "text/plain": [
       "'/home/amin/HeadFirstGit/HeadFirstGit-Samples/ch01_01'"
      ]
     },
     "execution_count": 47,
     "metadata": {},
     "output_type": "execute_result"
    }
   ],
   "source": [
    "pwd"
   ]
  },
  {
   "cell_type": "markdown",
   "id": "86f6c369",
   "metadata": {},
   "source": [
    "### Change Directory"
   ]
  },
  {
   "cell_type": "code",
   "execution_count": null,
   "id": "e2952709",
   "metadata": {
    "vscode": {
     "languageId": "shellscript"
    }
   },
   "outputs": [
    {
     "name": "stdout",
     "output_type": "stream",
     "text": [
      "/home/amin/HeadFirstGit\n"
     ]
    }
   ],
   "source": [
    "cd /home/amin/HeadFirstGit"
   ]
  },
  {
   "cell_type": "markdown",
   "id": "0d2bb889",
   "metadata": {},
   "source": [
    "### Make Directory"
   ]
  },
  {
   "cell_type": "code",
   "execution_count": null,
   "id": "f008f477",
   "metadata": {
    "vscode": {
     "languageId": "shellscript"
    }
   },
   "outputs": [
    {
     "name": "stdout",
     "output_type": "stream",
     "text": [
      "mkdir: cannot create directory ‘HeadFirstGit-Samples’: File exists\n"
     ]
    }
   ],
   "source": [
    "mkdir HeadFirstGit-Samples"
   ]
  },
  {
   "cell_type": "code",
   "execution_count": null,
   "id": "2d684432",
   "metadata": {
    "vscode": {
     "languageId": "shellscript"
    }
   },
   "outputs": [
    {
     "name": "stdout",
     "output_type": "stream",
     "text": [
      "/home/amin/HeadFirstGit/HeadFirstGit-Samples\n"
     ]
    }
   ],
   "source": [
    "cd /home/amin/HeadFirstGit/HeadFirstGit-Samples"
   ]
  },
  {
   "cell_type": "markdown",
   "id": "10b6da1a",
   "metadata": {},
   "source": [
    "### Parent directory"
   ]
  },
  {
   "cell_type": "code",
   "execution_count": null,
   "id": "ae4a6f58",
   "metadata": {
    "vscode": {
     "languageId": "shellscript"
    }
   },
   "outputs": [
    {
     "name": "stdout",
     "output_type": "stream",
     "text": [
      "/home/amin/HeadFirstGit\n"
     ]
    }
   ],
   "source": [
    "cd .."
   ]
  },
  {
   "cell_type": "markdown",
   "id": "1a4c4019",
   "metadata": {},
   "source": [
    "### Home directory"
   ]
  },
  {
   "cell_type": "code",
   "execution_count": null,
   "id": "5eaff9b3",
   "metadata": {
    "vscode": {
     "languageId": "shellscript"
    }
   },
   "outputs": [
    {
     "name": "stdout",
     "output_type": "stream",
     "text": [
      "/home/amin\n"
     ]
    }
   ],
   "source": [
    "cd ~"
   ]
  },
  {
   "cell_type": "markdown",
   "id": "679fe3d3",
   "metadata": {},
   "source": [
    "### List All (Including Hidden) Files\n",
    "* .files are hidden"
   ]
  },
  {
   "cell_type": "code",
   "execution_count": null,
   "id": "9c953c28",
   "metadata": {
    "vscode": {
     "languageId": "shellscript"
    }
   },
   "outputs": [
    {
     "name": "stdout",
     "output_type": "stream",
     "text": [
      ".bash_history  \u001b[0m\u001b[01;34m.ipython\u001b[0m/             .sudo_as_admin_successful\n",
      ".bash_logout   \u001b[01;34m.jupyter\u001b[0m/             \u001b[01;34mTemplates\u001b[0m/\n",
      ".bashrc        .lesshst              \u001b[01;34mterminal-profile\u001b[0m/\n",
      "\u001b[01;34m.cache\u001b[0m/        \u001b[01;34m.local\u001b[0m/               \u001b[01;34mVideos\u001b[0m/\n",
      "\u001b[01;34m.config\u001b[0m/       \u001b[01;34mMusic\u001b[0m/                .viminfo\n",
      "\u001b[01;34mDesktop\u001b[0m/       \u001b[01;34mmyenv\u001b[0m/                \u001b[01;34m.vscode\u001b[0m/\n",
      "\u001b[01;34mDevOps\u001b[0m/        \u001b[01;34m.oh-my-zsh\u001b[0m/           .wget-hsts\n",
      "\u001b[01;34mDocuments\u001b[0m/     \u001b[01;34mPictures\u001b[0m/             .zcompdump\n",
      "\u001b[01;34m.dotnet\u001b[0m/       \u001b[01;34m.pki\u001b[0m/                 .zcompdump-amin-5.9\n",
      "\u001b[01;34mDownloads\u001b[0m/     .profile              .zcompdump-amin-5.9.zwc\n",
      "\u001b[01;34m.fonts\u001b[0m/        \u001b[01;34mPublic\u001b[0m/               .zsh_history\n",
      ".gitconfig     .shell.pre-oh-my-zsh  .zshrc\n",
      "\u001b[01;34m.gnupg\u001b[0m/        \u001b[01;34msnap\u001b[0m/\n",
      "\u001b[01;34mHeadFirstGit\u001b[0m/  \u001b[01;34m.ssh\u001b[0m/\n"
     ]
    }
   ],
   "source": [
    "ls -A"
   ]
  },
  {
   "cell_type": "markdown",
   "id": "8eb0560e",
   "metadata": {},
   "source": [
    "### Create directory with spaces"
   ]
  },
  {
   "cell_type": "code",
   "execution_count": null,
   "id": "aaaab3e7",
   "metadata": {
    "vscode": {
     "languageId": "shellscript"
    }
   },
   "outputs": [],
   "source": [
    "mkdir \"this is how it is done\""
   ]
  },
  {
   "cell_type": "markdown",
   "id": "815aabc4",
   "metadata": {},
   "source": [
    "###  Force remove files/directories"
   ]
  },
  {
   "cell_type": "code",
   "execution_count": null,
   "id": "4c672856",
   "metadata": {
    "vscode": {
     "languageId": "shellscript"
    }
   },
   "outputs": [],
   "source": [
    "rm -rf \"this is how it is done\""
   ]
  },
  {
   "cell_type": "code",
   "execution_count": null,
   "id": "be184e7c",
   "metadata": {
    "vscode": {
     "languageId": "shellscript"
    }
   },
   "outputs": [
    {
     "name": "stdout",
     "output_type": "stream",
     "text": [
      "/home/amin/HeadFirstGit/HeadFirstGit-Samples\n"
     ]
    }
   ],
   "source": [
    "cd /home/amin/HeadFirstGit/HeadFirstGit-Samples"
   ]
  },
  {
   "cell_type": "markdown",
   "id": "6a9284a5",
   "metadata": {},
   "source": [
    "# Create another repository"
   ]
  },
  {
   "cell_type": "code",
   "execution_count": null,
   "id": "4a552266",
   "metadata": {
    "vscode": {
     "languageId": "shellscript"
    }
   },
   "outputs": [
    {
     "name": "stdout",
     "output_type": "stream",
     "text": [
      "mkdir: cannot create directory ‘ch01_01’: File exists\n"
     ]
    }
   ],
   "source": [
    "mkdir ch01_01"
   ]
  },
  {
   "cell_type": "code",
   "execution_count": null,
   "id": "84d74130",
   "metadata": {
    "vscode": {
     "languageId": "shellscript"
    }
   },
   "outputs": [
    {
     "name": "stdout",
     "output_type": "stream",
     "text": [
      "/home/amin/HeadFirstGit/HeadFirstGit-Samples/ch01_01\n"
     ]
    }
   ],
   "source": [
    "cd ch01_01"
   ]
  },
  {
   "cell_type": "markdown",
   "id": "a1ac4098",
   "metadata": {},
   "source": [
    "###  Initialize a Git repository"
   ]
  },
  {
   "cell_type": "code",
   "execution_count": null,
   "id": "0e0c30da",
   "metadata": {
    "vscode": {
     "languageId": "shellscript"
    }
   },
   "outputs": [
    {
     "name": "stdout",
     "output_type": "stream",
     "text": [
      "Reinitialized existing Git repository in /home/amin/HeadFirstGit/HeadFirstGit-Samples/ch01_01/.git/\n"
     ]
    }
   ],
   "source": [
    "!git init"
   ]
  },
  {
   "cell_type": "code",
   "execution_count": null,
   "id": "1346bdd4",
   "metadata": {
    "vscode": {
     "languageId": "shellscript"
    }
   },
   "outputs": [
    {
     "name": "stdout",
     "output_type": "stream",
     "text": [
      "\u001b[0m\u001b[01;34m.git\u001b[0m/\n"
     ]
    }
   ],
   "source": [
    "ls -A"
   ]
  },
  {
   "cell_type": "markdown",
   "id": "31fa88a0",
   "metadata": {},
   "source": [
    "### Configure user info"
   ]
  },
  {
   "cell_type": "code",
   "execution_count": null,
   "id": "cbb22e30",
   "metadata": {
    "vscode": {
     "languageId": "shellscript"
    }
   },
   "outputs": [],
   "source": [
    "!git config --global user.name \"v1TrAy\"\n",
    "!git config --global user.email \"v1TrAy@gmail.com\""
   ]
  },
  {
   "cell_type": "markdown",
   "id": "8eda24b0",
   "metadata": {},
   "source": [
    "### Add & Commit"
   ]
  },
  {
   "cell_type": "code",
   "execution_count": null,
   "id": "8da668fc",
   "metadata": {
    "vscode": {
     "languageId": "shellscript"
    }
   },
   "outputs": [
    {
     "data": {
      "text/plain": [
       "'/home/amin/HeadFirstGit/HeadFirstGit-Samples/ch01_01'"
      ]
     },
     "execution_count": 63,
     "metadata": {},
     "output_type": "execute_result"
    }
   ],
   "source": [
    "pwd"
   ]
  },
  {
   "cell_type": "code",
   "execution_count": null,
   "id": "747c0678",
   "metadata": {
    "vscode": {
     "languageId": "shellscript"
    }
   },
   "outputs": [
    {
     "name": "stdout",
     "output_type": "stream",
     "text": [
      "/home/amin/HeadFirstGit/HeadFirstGit-Samples\n"
     ]
    }
   ],
   "source": [
    "cd .."
   ]
  },
  {
   "cell_type": "code",
   "execution_count": null,
   "id": "92394f43",
   "metadata": {
    "vscode": {
     "languageId": "shellscript"
    }
   },
   "outputs": [],
   "source": [
    "mkdir HawtDawg"
   ]
  },
  {
   "cell_type": "code",
   "execution_count": null,
   "id": "b0d7a9b1",
   "metadata": {
    "vscode": {
     "languageId": "shellscript"
    }
   },
   "outputs": [
    {
     "name": "stdout",
     "output_type": "stream",
     "text": [
      "/home/amin/HeadFirstGit/HeadFirstGit-Samples/HawtDawg\n"
     ]
    }
   ],
   "source": [
    "cd HawtDawg"
   ]
  },
  {
   "cell_type": "code",
   "execution_count": null,
   "id": "965884c7",
   "metadata": {
    "vscode": {
     "languageId": "shellscript"
    }
   },
   "outputs": [
    {
     "name": "stdout",
     "output_type": "stream",
     "text": [
      "\u001b[33mhint: Using 'master' as the name for the initial branch. This default branch name\u001b[m\n",
      "\u001b[33mhint: is subject to change. To configure the initial branch name to use in all\u001b[m\n",
      "\u001b[33mhint: of your new repositories, which will suppress this warning, call:\u001b[m\n",
      "\u001b[33mhint: \u001b[m\n",
      "\u001b[33mhint: \tgit config --global init.defaultBranch <name>\u001b[m\n",
      "\u001b[33mhint: \u001b[m\n",
      "\u001b[33mhint: Names commonly chosen instead of 'master' are 'main', 'trunk' and\u001b[m\n",
      "\u001b[33mhint: 'development'. The just-created branch can be renamed via this command:\u001b[m\n",
      "\u001b[33mhint: \u001b[m\n",
      "\u001b[33mhint: \tgit branch -m <name>\u001b[m\n",
      "Initialized empty Git repository in /home/amin/HeadFirstGit/HeadFirstGit-Samples/HawtDawg/.git/\n"
     ]
    }
   ],
   "source": [
    "!git init"
   ]
  },
  {
   "cell_type": "code",
   "execution_count": null,
   "id": "947baa37",
   "metadata": {
    "vscode": {
     "languageId": "shellscript"
    }
   },
   "outputs": [],
   "source": [
    "!touch Checklist.md"
   ]
  },
  {
   "cell_type": "code",
   "execution_count": null,
   "id": "0e846676",
   "metadata": {
    "vscode": {
     "languageId": "shellscript"
    }
   },
   "outputs": [
    {
     "name": "stdout",
     "output_type": "stream",
     "text": [
      "# Getting ready to commit\n",
      "- [ ] Create checklist\n",
      "- [ ] Gather initial set of requirements\n",
      "- [ ] Adopt a litter of puppies for \"user testing\"\n",
      "- [ ] Demo first version\n",
      "\n"
     ]
    }
   ],
   "source": [
    "cat Checklist.md"
   ]
  },
  {
   "cell_type": "code",
   "execution_count": null,
   "id": "5bba5c49",
   "metadata": {
    "vscode": {
     "languageId": "shellscript"
    }
   },
   "outputs": [],
   "source": [
    "!git add Checklist.md"
   ]
  },
  {
   "cell_type": "code",
   "execution_count": null,
   "id": "c65df4a6",
   "metadata": {
    "vscode": {
     "languageId": "shellscript"
    }
   },
   "outputs": [
    {
     "name": "stdout",
     "output_type": "stream",
     "text": [
      "On branch master\n",
      "\n",
      "No commits yet\n",
      "\n",
      "Changes to be committed:\n",
      "  (use \"git rm --cached <file>...\" to unstage)\n",
      "\t\u001b[32mnew file:   Checklist.md\u001b[m\n",
      "\n"
     ]
    }
   ],
   "source": [
    "!git status"
   ]
  },
  {
   "cell_type": "code",
   "execution_count": null,
   "id": "cf4a89bc",
   "metadata": {
    "vscode": {
     "languageId": "shellscript"
    }
   },
   "outputs": [
    {
     "name": "stdout",
     "output_type": "stream",
     "text": [
      "[master (root-commit) fb54a9b] My first commit\n",
      " 1 file changed, 6 insertions(+)\n",
      " create mode 100644 Checklist.md\n"
     ]
    }
   ],
   "source": [
    "!git commit -m \"My first commit\""
   ]
  },
  {
   "cell_type": "code",
   "execution_count": null,
   "id": "84cadddf",
   "metadata": {
    "vscode": {
     "languageId": "shellscript"
    }
   },
   "outputs": [
    {
     "name": "stdout",
     "output_type": "stream",
     "text": [
      "On branch master\n",
      "nothing to commit, working tree clean\n"
     ]
    }
   ],
   "source": [
    "!git status"
   ]
  },
  {
   "cell_type": "code",
   "execution_count": null,
   "id": "683d6018",
   "metadata": {
    "vscode": {
     "languageId": "shellscript"
    }
   },
   "outputs": [
    {
     "name": "stdout",
     "output_type": "stream",
     "text": [
      "/home/amin/HeadFirstGit/HeadFirstGit-Samples\n"
     ]
    }
   ],
   "source": [
    "cd /home/amin/HeadFirstGit/HeadFirstGit-Samples"
   ]
  },
  {
   "cell_type": "code",
   "execution_count": null,
   "id": "b83921d3",
   "metadata": {
    "vscode": {
     "languageId": "shellscript"
    }
   },
   "outputs": [],
   "source": [
    "mkdir playwith-index"
   ]
  },
  {
   "cell_type": "code",
   "execution_count": null,
   "id": "7c49622e",
   "metadata": {
    "vscode": {
     "languageId": "shellscript"
    }
   },
   "outputs": [
    {
     "name": "stdout",
     "output_type": "stream",
     "text": [
      "/home/amin/HeadFirstGit/HeadFirstGit-Samples/playwith-index\n"
     ]
    }
   ],
   "source": [
    "cd playwith-index"
   ]
  },
  {
   "cell_type": "code",
   "execution_count": null,
   "id": "19a81965",
   "metadata": {
    "vscode": {
     "languageId": "shellscript"
    }
   },
   "outputs": [
    {
     "name": "stdout",
     "output_type": "stream",
     "text": [
      "\u001b[33mhint: Using 'master' as the name for the initial branch. This default branch name\u001b[m\n",
      "\u001b[33mhint: is subject to change. To configure the initial branch name to use in all\u001b[m\n",
      "\u001b[33mhint: of your new repositories, which will suppress this warning, call:\u001b[m\n",
      "\u001b[33mhint: \u001b[m\n",
      "\u001b[33mhint: \tgit config --global init.defaultBranch <name>\u001b[m\n",
      "\u001b[33mhint: \u001b[m\n",
      "\u001b[33mhint: Names commonly chosen instead of 'master' are 'main', 'trunk' and\u001b[m\n",
      "\u001b[33mhint: 'development'. The just-created branch can be renamed via this command:\u001b[m\n",
      "\u001b[33mhint: \u001b[m\n",
      "\u001b[33mhint: \tgit branch -m <name>\u001b[m\n",
      "Initialized empty Git repository in /home/amin/HeadFirstGit/HeadFirstGit-Samples/playwith-index/.git/\n"
     ]
    }
   ],
   "source": [
    "!git init"
   ]
  },
  {
   "cell_type": "code",
   "execution_count": null,
   "id": "b01563da",
   "metadata": {
    "vscode": {
     "languageId": "shellscript"
    }
   },
   "outputs": [],
   "source": [
    "!echo \"First Edit\" > multiple-add.txt"
   ]
  },
  {
   "cell_type": "markdown",
   "id": "bca2bb89",
   "metadata": {},
   "source": [
    "**Working directory:**\n",
    "  * multiple-add.txt\n",
    "  \n",
    "**Index:**\n",
    "  * Null"
   ]
  },
  {
   "cell_type": "code",
   "execution_count": null,
   "id": "add37b77",
   "metadata": {
    "vscode": {
     "languageId": "shellscript"
    }
   },
   "outputs": [],
   "source": [
    "!git add multiple-add.txt"
   ]
  },
  {
   "cell_type": "markdown",
   "id": "aeb54e83",
   "metadata": {},
   "source": [
    "**Working directory:**\n",
    "  * Tracked multiple-add.txt\n",
    "  \n",
    "**Index:**\n",
    "  * multiple-add.txt"
   ]
  },
  {
   "cell_type": "code",
   "execution_count": null,
   "id": "a3029a61",
   "metadata": {
    "vscode": {
     "languageId": "shellscript"
    }
   },
   "outputs": [],
   "source": [
    "!echo \"Second Edit\" > multiple-add.txt"
   ]
  },
  {
   "cell_type": "markdown",
   "id": "517de4c7",
   "metadata": {},
   "source": [
    "**Working directory:**\n",
    "  * Modified multiple-add.txt\n",
    "  \n",
    "**Index:**\n",
    "  * multiple-add.txt"
   ]
  },
  {
   "cell_type": "code",
   "execution_count": null,
   "id": "a0cf4126",
   "metadata": {
    "vscode": {
     "languageId": "shellscript"
    }
   },
   "outputs": [],
   "source": [
    "!git add multiple-add.txt"
   ]
  },
  {
   "cell_type": "markdown",
   "id": "122f7f20",
   "metadata": {},
   "source": [
    "**Working directory:**\n",
    "  * Tracked multiple-add.txt\n",
    "  \n",
    "**Index:**\n",
    "  * multiple-add.txt"
   ]
  },
  {
   "cell_type": "code",
   "execution_count": null,
   "id": "0931c82c",
   "metadata": {
    "vscode": {
     "languageId": "shellscript"
    }
   },
   "outputs": [
    {
     "name": "stdout",
     "output_type": "stream",
     "text": [
      "fatal: your current branch 'master' does not have any commits yet\n"
     ]
    }
   ],
   "source": [
    "!git log"
   ]
  },
  {
   "cell_type": "markdown",
   "id": "0eab7c8c",
   "metadata": {},
   "source": [
    "## Status Report"
   ]
  },
  {
   "cell_type": "code",
   "execution_count": null,
   "id": "14da7ab6",
   "metadata": {
    "vscode": {
     "languageId": "shellscript"
    }
   },
   "outputs": [
    {
     "name": "stdout",
     "output_type": "stream",
     "text": [
      "/home/amin/HeadFirstGit/HeadFirstGit-Samples\n"
     ]
    }
   ],
   "source": [
    "cd .."
   ]
  },
  {
   "cell_type": "code",
   "execution_count": null,
   "id": "6b396d53",
   "metadata": {
    "vscode": {
     "languageId": "shellscript"
    }
   },
   "outputs": [],
   "source": [
    "mkdir ch01_03"
   ]
  },
  {
   "cell_type": "code",
   "execution_count": null,
   "id": "cd1536c5",
   "metadata": {
    "vscode": {
     "languageId": "shellscript"
    }
   },
   "outputs": [
    {
     "name": "stdout",
     "output_type": "stream",
     "text": [
      "/home/amin/HeadFirstGit/HeadFirstGit-Samples/ch01_03\n"
     ]
    }
   ],
   "source": [
    "cd ch01_03"
   ]
  },
  {
   "cell_type": "code",
   "execution_count": null,
   "id": "1537a96b",
   "metadata": {
    "vscode": {
     "languageId": "shellscript"
    }
   },
   "outputs": [
    {
     "name": "stdout",
     "output_type": "stream",
     "text": [
      "\u001b[33mhint: Using 'master' as the name for the initial branch. This default branch name\u001b[m\n",
      "\u001b[33mhint: is subject to change. To configure the initial branch name to use in all\u001b[m\n",
      "\u001b[33mhint: of your new repositories, which will suppress this warning, call:\u001b[m\n",
      "\u001b[33mhint: \u001b[m\n",
      "\u001b[33mhint: \tgit config --global init.defaultBranch <name>\u001b[m\n",
      "\u001b[33mhint: \u001b[m\n",
      "\u001b[33mhint: Names commonly chosen instead of 'master' are 'main', 'trunk' and\u001b[m\n",
      "\u001b[33mhint: 'development'. The just-created branch can be renamed via this command:\u001b[m\n",
      "\u001b[33mhint: \u001b[m\n",
      "\u001b[33mhint: \tgit branch -m <name>\u001b[m\n",
      "Initialized empty Git repository in /home/amin/HeadFirstGit/HeadFirstGit-Samples/ch01_03/.git/\n"
     ]
    }
   ],
   "source": [
    "!git init"
   ]
  },
  {
   "cell_type": "code",
   "execution_count": null,
   "id": "ec1daa05",
   "metadata": {
    "vscode": {
     "languageId": "shellscript"
    }
   },
   "outputs": [
    {
     "name": "stdout",
     "output_type": "stream",
     "text": [
      "On branch master\n",
      "\n",
      "No commits yet\n",
      "\n",
      "nothing to commit (create/copy files and use \"git add\" to track)\n"
     ]
    }
   ],
   "source": [
    "!git status"
   ]
  },
  {
   "cell_type": "code",
   "execution_count": null,
   "id": "985e5dee",
   "metadata": {
    "vscode": {
     "languageId": "shellscript"
    }
   },
   "outputs": [],
   "source": [
    "!echo \"# README\\n This repository will allow us to play with the git status command.\" > README.md"
   ]
  },
  {
   "cell_type": "code",
   "execution_count": null,
   "id": "1de85f1d",
   "metadata": {
    "vscode": {
     "languageId": "shellscript"
    }
   },
   "outputs": [],
   "source": [
    "!echo \"# Cheecklist\\n - [ ] Create two files\\n - [ ] Add a README.md and commit\\n - [ ] Update checklist.md then add and commit\" > Checklist.md"
   ]
  },
  {
   "cell_type": "code",
   "execution_count": null,
   "id": "7422bb47",
   "metadata": {
    "vscode": {
     "languageId": "shellscript"
    }
   },
   "outputs": [
    {
     "name": "stdout",
     "output_type": "stream",
     "text": [
      "On branch master\n",
      "\n",
      "No commits yet\n",
      "\n",
      "Untracked files:\n",
      "  (use \"git add <file>...\" to include in what will be committed)\n",
      "\t\u001b[31mChecklist.md\u001b[m\n",
      "\t\u001b[31mREADME.md\u001b[m\n",
      "\n",
      "nothing added to commit but untracked files present (use \"git add\" to track)\n"
     ]
    }
   ],
   "source": [
    "!git status"
   ]
  },
  {
   "cell_type": "code",
   "execution_count": null,
   "id": "cf53693c",
   "metadata": {
    "vscode": {
     "languageId": "shellscript"
    }
   },
   "outputs": [],
   "source": [
    "!git add README.md"
   ]
  },
  {
   "cell_type": "code",
   "execution_count": null,
   "id": "8cc52fee",
   "metadata": {
    "vscode": {
     "languageId": "shellscript"
    }
   },
   "outputs": [
    {
     "name": "stdout",
     "output_type": "stream",
     "text": [
      "On branch master\n",
      "\n",
      "No commits yet\n",
      "\n",
      "Changes to be committed:\n",
      "  (use \"git rm --cached <file>...\" to unstage)\n",
      "\t\u001b[32mnew file:   README.md\u001b[m\n",
      "\n",
      "Untracked files:\n",
      "  (use \"git add <file>...\" to include in what will be committed)\n",
      "\t\u001b[31mChecklist.md\u001b[m\n",
      "\n"
     ]
    }
   ],
   "source": [
    "!git status"
   ]
  },
  {
   "cell_type": "code",
   "execution_count": null,
   "id": "4e820a4e",
   "metadata": {
    "vscode": {
     "languageId": "shellscript"
    }
   },
   "outputs": [
    {
     "name": "stdout",
     "output_type": "stream",
     "text": [
      "[master (root-commit) 79bbfb2] My first commit\n",
      " 1 file changed, 2 insertions(+)\n",
      " create mode 100644 README.md\n"
     ]
    }
   ],
   "source": [
    "!git commit -m \"My first commit\""
   ]
  },
  {
   "cell_type": "code",
   "execution_count": null,
   "id": "896acc5b",
   "metadata": {
    "vscode": {
     "languageId": "shellscript"
    }
   },
   "outputs": [
    {
     "name": "stdout",
     "output_type": "stream",
     "text": [
      "On branch master\n",
      "Untracked files:\n",
      "  (use \"git add <file>...\" to include in what will be committed)\n",
      "\t\u001b[31mChecklist.md\u001b[m\n",
      "\n",
      "nothing added to commit but untracked files present (use \"git add\" to track)\n"
     ]
    }
   ],
   "source": [
    "!git status"
   ]
  },
  {
   "cell_type": "code",
   "execution_count": null,
   "id": "131d1acb",
   "metadata": {
    "vscode": {
     "languageId": "shellscript"
    }
   },
   "outputs": [],
   "source": [
    "!echo \"# Cheecklist\\n - [x] Create two files\\n - [x] Add a README.md and commit\\n - [ ] Update checklist.md then add and commit\" > Checklist.md"
   ]
  },
  {
   "cell_type": "code",
   "execution_count": null,
   "id": "27a0a95f",
   "metadata": {
    "vscode": {
     "languageId": "shellscript"
    }
   },
   "outputs": [
    {
     "name": "stdout",
     "output_type": "stream",
     "text": [
      "On branch master\n",
      "Changes to be committed:\n",
      "  (use \"git restore --staged <file>...\" to unstage)\n",
      "\t\u001b[32mnew file:   Checklist.md\u001b[m\n",
      "\n"
     ]
    }
   ],
   "source": [
    "!git add Checklist.md\n",
    "!git status"
   ]
  },
  {
   "cell_type": "code",
   "execution_count": null,
   "id": "fc7c0c02",
   "metadata": {
    "vscode": {
     "languageId": "shellscript"
    }
   },
   "outputs": [
    {
     "name": "stdout",
     "output_type": "stream",
     "text": [
      "[master 3572083] My second commit\n",
      " 1 file changed, 4 insertions(+)\n",
      " create mode 100644 Checklist.md\n",
      "On branch master\n",
      "nothing to commit, working tree clean\n"
     ]
    }
   ],
   "source": [
    "!git commit -m \"My second commit\"\n",
    "!git status"
   ]
  },
  {
   "cell_type": "code",
   "execution_count": null,
   "id": "4951dcac",
   "metadata": {
    "vscode": {
     "languageId": "shellscript"
    }
   },
   "outputs": [
    {
     "name": "stdout",
     "output_type": "stream",
     "text": [
      "\u001b[33mcommit 35720833727839683d13b0cb48b779a70cbe3361\u001b[m\u001b[33m (\u001b[m\u001b[1;36mHEAD\u001b[m\u001b[33m -> \u001b[m\u001b[1;32mmaster\u001b[m\u001b[33m)\u001b[m\n",
      "Author: v1TrAy <v1TrAy@gmail.com>\n",
      "Date:   Mon Apr 14 10:13:39 2025 +0330\n",
      "\n",
      "    My second commit\n",
      "\n",
      "\u001b[33mcommit 79bbfb281c7e50cbbd648d4eab0df17309ecbeaa\u001b[m\n",
      "Author: v1TrAy <v1TrAy@gmail.com>\n",
      "Date:   Mon Apr 14 10:07:47 2025 +0330\n",
      "\n",
      "    My first commit\n"
     ]
    }
   ],
   "source": [
    "!git log"
   ]
  }
 ],
 "metadata": {
  "kernelspec": {
   "display_name": "Python 3",
   "language": "python",
   "name": "python3"
  },
  "language_info": {
   "codemirror_mode": {
    "name": "ipython",
    "version": 3
   },
   "file_extension": ".py",
   "mimetype": "text/x-python",
   "name": "python",
   "nbconvert_exporter": "python",
   "pygments_lexer": "ipython3",
   "version": "3.12.3"
  }
 },
 "nbformat": 4,
 "nbformat_minor": 5
}
