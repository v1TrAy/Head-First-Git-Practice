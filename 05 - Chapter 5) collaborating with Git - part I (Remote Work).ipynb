{
 "cells": [
  {
   "cell_type": "markdown",
   "id": "bc9801c2",
   "metadata": {},
   "source": [
    "# Chapter 5 - collaborating with Git - part I (Remote Work)"
   ]
  },
  {
   "cell_type": "markdown",
   "id": "9ba3d1e5",
   "metadata": {},
   "source": [
    "# Another way to a Git repository: cloning"
   ]
  },
  {
   "cell_type": "code",
   "execution_count": null,
   "id": "b8da3a41",
   "metadata": {
    "vscode": {
     "languageId": "shellscript"
    }
   },
   "outputs": [
    {
     "name": "stdout",
     "output_type": "stream",
     "text": [
      "/home/amin/HeadFirstGit/headfirst-git-download/chapter05\n"
     ]
    }
   ],
   "source": [
    "cd headfirst-git-download/chapter05"
   ]
  },
  {
   "cell_type": "code",
   "execution_count": null,
   "id": "4316cb7b",
   "metadata": {
    "vscode": {
     "languageId": "shellscript"
    }
   },
   "outputs": [
    {
     "name": "stdout",
     "output_type": "stream",
     "text": [
      "Cloning into 'working-with-remotes'...\n",
      "remote: Enumerating objects: 6, done.\u001b[K\n",
      "remote: Total 6 (delta 0), reused 0 (delta 0), pack-reused 6 (from 1)\u001b[K\n",
      "Receiving objects: 100% (6/6), done.\n"
     ]
    }
   ],
   "source": [
    "!git clone https://github.com/v1TrAy/working-with-remotes"
   ]
  },
  {
   "cell_type": "code",
   "execution_count": null,
   "id": "17683f19",
   "metadata": {
    "vscode": {
     "languageId": "shellscript"
    }
   },
   "outputs": [
    {
     "name": "stdout",
     "output_type": "stream",
     "text": [
      "feat-a-01.md  master-01.md  master-03.md  README.md\n",
      "feat-b-01.md  master-02.md  master-04.md  \u001b[0m\u001b[01;34mworking-with-remotes\u001b[0m/\n"
     ]
    }
   ],
   "source": [
    "ls"
   ]
  },
  {
   "cell_type": "code",
   "execution_count": null,
   "id": "1ecc9c30",
   "metadata": {
    "vscode": {
     "languageId": "shellscript"
    }
   },
   "outputs": [
    {
     "name": "stdout",
     "output_type": "stream",
     "text": [
      "/home/amin/HeadFirstGit/headfirst-git-download/chapter05/working-with-remotes\n"
     ]
    }
   ],
   "source": [
    "cd working-with-remotes"
   ]
  },
  {
   "cell_type": "code",
   "execution_count": null,
   "id": "c46d4a59",
   "metadata": {
    "vscode": {
     "languageId": "shellscript"
    }
   },
   "outputs": [
    {
     "name": "stdout",
     "output_type": "stream",
     "text": [
      "master-01.md  README.md\n"
     ]
    }
   ],
   "source": [
    "ls"
   ]
  },
  {
   "cell_type": "code",
   "execution_count": null,
   "id": "d48d8387",
   "metadata": {
    "vscode": {
     "languageId": "shellscript"
    }
   },
   "outputs": [
    {
     "name": "stdout",
     "output_type": "stream",
     "text": [
      "* \u001b[32mmaster\u001b[m\n"
     ]
    }
   ],
   "source": [
    "!git branch"
   ]
  },
  {
   "cell_type": "code",
   "execution_count": null,
   "id": "1fca243c",
   "metadata": {
    "vscode": {
     "languageId": "shellscript"
    }
   },
   "outputs": [
    {
     "name": "stdout",
     "output_type": "stream",
     "text": [
      "* \u001b[33m5aefc0d\u001b[m\u001b[33m (\u001b[m\u001b[1;36mHEAD\u001b[m\u001b[33m -> \u001b[m\u001b[1;32mmaster\u001b[m\u001b[33m, \u001b[m\u001b[1;31morigin/master\u001b[m\u001b[33m, \u001b[m\u001b[1;31morigin/HEAD\u001b[m\u001b[33m)\u001b[m add master-01 file\n",
      "* \u001b[33mf9fd4aa\u001b[m add README\n"
     ]
    }
   ],
   "source": [
    "!git log --oneline --all --graph"
   ]
  },
  {
   "cell_type": "code",
   "execution_count": null,
   "id": "f8de1af3",
   "metadata": {
    "vscode": {
     "languageId": "shellscript"
    }
   },
   "outputs": [
    {
     "name": "stdout",
     "output_type": "stream",
     "text": [
      "On branch master\n",
      "Your branch is up to date with 'origin/master'.\n",
      "\n",
      "nothing to commit, working tree clean\n"
     ]
    }
   ],
   "source": [
    "!git status"
   ]
  },
  {
   "cell_type": "code",
   "execution_count": null,
   "id": "d24f111a",
   "metadata": {
    "vscode": {
     "languageId": "shellscript"
    }
   },
   "outputs": [
    {
     "name": "stdout",
     "output_type": "stream",
     "text": [
      "This file is on the master branch.\n"
     ]
    }
   ],
   "source": [
    "cat master-01.md"
   ]
  },
  {
   "cell_type": "code",
   "execution_count": null,
   "id": "8fe7cf3e",
   "metadata": {
    "vscode": {
     "languageId": "shellscript"
    }
   },
   "outputs": [],
   "source": [
    "!echo >> master-01.md\n",
    "!echo \"This is my first edit!\" >> master-01.md"
   ]
  },
  {
   "cell_type": "code",
   "execution_count": null,
   "id": "65c7de29",
   "metadata": {
    "vscode": {
     "languageId": "shellscript"
    }
   },
   "outputs": [
    {
     "name": "stdout",
     "output_type": "stream",
     "text": [
      "This file is on the master branch.\n",
      "\n",
      "This is my first edit!\n"
     ]
    }
   ],
   "source": [
    "cat master-01.md"
   ]
  },
  {
   "cell_type": "code",
   "execution_count": null,
   "id": "030f6b04",
   "metadata": {
    "vscode": {
     "languageId": "shellscript"
    }
   },
   "outputs": [],
   "source": [
    "!echo \"This is the second file on master branch\" >> master-02.md"
   ]
  },
  {
   "cell_type": "code",
   "execution_count": null,
   "id": "3bcc01aa",
   "metadata": {
    "vscode": {
     "languageId": "shellscript"
    }
   },
   "outputs": [],
   "source": [
    "!git add ."
   ]
  },
  {
   "cell_type": "code",
   "execution_count": null,
   "id": "0700db35",
   "metadata": {
    "vscode": {
     "languageId": "shellscript"
    }
   },
   "outputs": [
    {
     "name": "stdout",
     "output_type": "stream",
     "text": [
      "[master e246b4c] my first commit on master\n",
      " 2 files changed, 3 insertions(+)\n",
      " create mode 100644 master-02.md\n"
     ]
    }
   ],
   "source": [
    "!git commit -m \"my first commit on master\""
   ]
  },
  {
   "cell_type": "markdown",
   "id": "ad3b3057",
   "metadata": {},
   "source": [
    "# Pushing changes"
   ]
  },
  {
   "cell_type": "code",
   "execution_count": null,
   "id": "6b728169",
   "metadata": {
    "vscode": {
     "languageId": "shellscript"
    }
   },
   "outputs": [
    {
     "name": "stdout",
     "output_type": "stream",
     "text": [
      "On branch master\n",
      "Your branch is ahead of 'origin/master' by 1 commit.\n",
      "  (use \"git push\" to publish your local commits)\n",
      "\n",
      "nothing to commit, working tree clean\n"
     ]
    }
   ],
   "source": [
    "!git status"
   ]
  },
  {
   "cell_type": "code",
   "execution_count": null,
   "id": "6ca6c254",
   "metadata": {
    "vscode": {
     "languageId": "shellscript"
    }
   },
   "outputs": [
    {
     "name": "stdout",
     "output_type": "stream",
     "text": [
      "Enumerating objects: 6, done.\n",
      "Counting objects: 100% (6/6), done.\n",
      "Delta compression using up to 4 threads\n",
      "Compressing objects: 100% (3/3), done.\n",
      "Writing objects: 100% (4/4), 407 bytes | 407.00 KiB/s, done.\n",
      "Total 4 (delta 0), reused 0 (delta 0), pack-reused 0\n",
      "To github.com:v1TrAy/working-with-remotes.git\n",
      "   5aefc0d..e246b4c  master -> master\n"
     ]
    }
   ],
   "source": [
    "!git push origin"
   ]
  },
  {
   "cell_type": "code",
   "execution_count": null,
   "id": "c8990b35",
   "metadata": {
    "vscode": {
     "languageId": "shellscript"
    }
   },
   "outputs": [
    {
     "name": "stdout",
     "output_type": "stream",
     "text": [
      "\u001b[33mcommit e246b4ccfc61bd1af00d324579d64eeaeea71fe1\u001b[m\u001b[33m (\u001b[m\u001b[1;36mHEAD\u001b[m\u001b[33m -> \u001b[m\u001b[1;32mmaster\u001b[m\u001b[33m, \u001b[m\u001b[1;31morigin/master\u001b[m\u001b[33m, \u001b[m\u001b[1;31morigin/HEAD\u001b[m\u001b[33m)\u001b[m\n",
      "Author: v1TrAy <v1TrAy@gmail.com>\n",
      "Date:   Wed Apr 23 09:52:02 2025 +0330\n",
      "\n",
      "    my first commit on master\n",
      "\n",
      "\u001b[33mcommit 5aefc0d3e05b291f5ea22ca75800c08880b5312c\u001b[m\n",
      "Author: George Cloney <george@i-love-git.com>\n",
      "Date:   Thu Apr 1 21:19:14 2021 -0400\n",
      "\n",
      "    add master-01 file\n",
      "\n",
      "\u001b[33mcommit f9fd4aafd256574e92362a35dc7406e24c025f42\u001b[m\n",
      "Author: George Cloney <george@i-love-git.com>\n",
      "Date:   Thu Apr 1 12:20:38 2021 -0400\n",
      "\n",
      "    add README\n"
     ]
    }
   ],
   "source": [
    "!git log"
   ]
  },
  {
   "cell_type": "code",
   "execution_count": null,
   "id": "6cfb1bf2",
   "metadata": {
    "vscode": {
     "languageId": "shellscript"
    }
   },
   "outputs": [
    {
     "name": "stdout",
     "output_type": "stream",
     "text": [
      "origin\n"
     ]
    }
   ],
   "source": [
    "!git remote"
   ]
  },
  {
   "cell_type": "markdown",
   "id": "ef6aa7b5",
   "metadata": {},
   "source": [
    "# Public vs private commits"
   ]
  },
  {
   "cell_type": "code",
   "execution_count": null,
   "id": "3f8d5ce4",
   "metadata": {
    "vscode": {
     "languageId": "shellscript"
    }
   },
   "outputs": [
    {
     "name": "stdout",
     "output_type": "stream",
     "text": [
      "On branch master\n",
      "Your branch is up to date with 'origin/master'.\n",
      "\n",
      "nothing to commit, working tree clean\n"
     ]
    }
   ],
   "source": [
    "!git status"
   ]
  },
  {
   "cell_type": "code",
   "execution_count": null,
   "id": "2bc6d6a0",
   "metadata": {
    "vscode": {
     "languageId": "shellscript"
    }
   },
   "outputs": [],
   "source": [
    "!git branch  feat-a"
   ]
  },
  {
   "cell_type": "code",
   "execution_count": null,
   "id": "69e660ba",
   "metadata": {
    "vscode": {
     "languageId": "shellscript"
    }
   },
   "outputs": [
    {
     "name": "stdout",
     "output_type": "stream",
     "text": [
      "Switched to branch 'feat-a'\n"
     ]
    }
   ],
   "source": [
    "!git switch feat-a"
   ]
  },
  {
   "cell_type": "code",
   "execution_count": null,
   "id": "fd53fd51",
   "metadata": {
    "vscode": {
     "languageId": "shellscript"
    }
   },
   "outputs": [],
   "source": [
    "!echo \"This file is on the feat-a branch.\" >> feat-a-01.md"
   ]
  },
  {
   "cell_type": "code",
   "execution_count": null,
   "id": "2c3f4934",
   "metadata": {
    "vscode": {
     "languageId": "shellscript"
    }
   },
   "outputs": [],
   "source": [
    "!git add ."
   ]
  },
  {
   "cell_type": "code",
   "execution_count": null,
   "id": "6cc7a1d8",
   "metadata": {
    "vscode": {
     "languageId": "shellscript"
    }
   },
   "outputs": [
    {
     "name": "stdout",
     "output_type": "stream",
     "text": [
      "[feat-a 9488d1f] my first commit on feat-a\n",
      " 1 file changed, 1 insertion(+)\n",
      " create mode 100644 feat-a-01.md\n"
     ]
    }
   ],
   "source": [
    "!git commit -m \"my first commit on feat-a\""
   ]
  },
  {
   "cell_type": "code",
   "execution_count": null,
   "id": "4fe621e9",
   "metadata": {
    "vscode": {
     "languageId": "shellscript"
    }
   },
   "outputs": [
    {
     "name": "stdout",
     "output_type": "stream",
     "text": [
      "Switched to branch 'master'\n",
      "Your branch is up to date with 'origin/master'.\n"
     ]
    }
   ],
   "source": [
    "!git switch master"
   ]
  },
  {
   "cell_type": "code",
   "execution_count": null,
   "id": "63713150",
   "metadata": {
    "vscode": {
     "languageId": "shellscript"
    }
   },
   "outputs": [],
   "source": [
    "!echo \"This is the third file on the master branch.\" >> master-03.md"
   ]
  },
  {
   "cell_type": "code",
   "execution_count": null,
   "id": "5fccde2c",
   "metadata": {
    "vscode": {
     "languageId": "shellscript"
    }
   },
   "outputs": [],
   "source": [
    "!git add ."
   ]
  },
  {
   "cell_type": "code",
   "execution_count": null,
   "id": "36f3ff4f",
   "metadata": {
    "vscode": {
     "languageId": "shellscript"
    }
   },
   "outputs": [
    {
     "name": "stdout",
     "output_type": "stream",
     "text": [
      "[master bb862be] my second commit on master\n",
      " 1 file changed, 1 insertion(+)\n",
      " create mode 100644 master-03.md\n"
     ]
    }
   ],
   "source": [
    "!git commit -m \"my second commit on master\""
   ]
  },
  {
   "cell_type": "code",
   "execution_count": null,
   "id": "b6830e70",
   "metadata": {
    "vscode": {
     "languageId": "shellscript"
    }
   },
   "outputs": [
    {
     "name": "stdout",
     "output_type": "stream",
     "text": [
      "On branch master\n",
      "Your branch is ahead of 'origin/master' by 1 commit.\n",
      "  (use \"git push\" to publish your local commits)\n",
      "\n",
      "nothing to commit, working tree clean\n"
     ]
    }
   ],
   "source": [
    "!git status"
   ]
  },
  {
   "cell_type": "code",
   "execution_count": null,
   "id": "fcc7a5d5",
   "metadata": {
    "vscode": {
     "languageId": "shellscript"
    }
   },
   "outputs": [
    {
     "name": "stdout",
     "output_type": "stream",
     "text": [
      "* \u001b[33mbb862be\u001b[m\u001b[33m (\u001b[m\u001b[1;36mHEAD\u001b[m\u001b[33m -> \u001b[m\u001b[1;32mmaster\u001b[m\u001b[33m)\u001b[m my second commit on master\n",
      "\u001b[31m|\u001b[m * \u001b[33m9488d1f\u001b[m\u001b[33m (\u001b[m\u001b[1;32mfeat-a\u001b[m\u001b[33m)\u001b[m my first commit on feat-a\n",
      "\u001b[31m|\u001b[m\u001b[31m/\u001b[m  \n",
      "* \u001b[33me246b4c\u001b[m\u001b[33m (\u001b[m\u001b[1;31morigin/master\u001b[m\u001b[33m, \u001b[m\u001b[1;31morigin/HEAD\u001b[m\u001b[33m)\u001b[m my first commit on master\n",
      "* \u001b[33m5aefc0d\u001b[m add master-01 file\n",
      "* \u001b[33mf9fd4aa\u001b[m add README\n"
     ]
    }
   ],
   "source": [
    "!git log --all --oneline --graph "
   ]
  },
  {
   "cell_type": "code",
   "execution_count": null,
   "id": "8347ee0b",
   "metadata": {
    "vscode": {
     "languageId": "shellscript"
    }
   },
   "outputs": [
    {
     "name": "stdout",
     "output_type": "stream",
     "text": [
      "Enumerating objects: 4, done.\n",
      "Counting objects: 100% (4/4), done.\n",
      "Delta compression using up to 4 threads\n",
      "Compressing objects: 100% (2/2), done.\n",
      "Writing objects: 100% (3/3), 314 bytes | 314.00 KiB/s, done.\n",
      "Total 3 (delta 1), reused 0 (delta 0), pack-reused 0\n",
      "remote: Resolving deltas: 100% (1/1), completed with 1 local object.\u001b[K\n",
      "To github.com:v1TrAy/working-with-remotes.git\n",
      "   e246b4c..bb862be  master -> master\n"
     ]
    }
   ],
   "source": [
    "!git push"
   ]
  },
  {
   "cell_type": "code",
   "execution_count": null,
   "id": "e759fb46",
   "metadata": {
    "vscode": {
     "languageId": "shellscript"
    }
   },
   "outputs": [
    {
     "name": "stdout",
     "output_type": "stream",
     "text": [
      "fatal: You have not concluded your merge (MERGE_HEAD exists).\n",
      "Please, commit your changes before you merge.\n"
     ]
    }
   ],
   "source": [
    "!git merge feat-a"
   ]
  },
  {
   "cell_type": "code",
   "execution_count": null,
   "id": "0acacf83",
   "metadata": {
    "vscode": {
     "languageId": "shellscript"
    }
   },
   "outputs": [
    {
     "name": "stdout",
     "output_type": "stream",
     "text": [
      "On branch master\n",
      "Your branch is up to date with 'origin/master'.\n",
      "\n",
      "All conflicts fixed but you are still merging.\n",
      "  (use \"git commit\" to conclude merge)\n",
      "\n",
      "Changes to be committed:\n",
      "\t\u001b[32mnew file:   feat-a-01.md\u001b[m\n",
      "\n"
     ]
    }
   ],
   "source": [
    "!git status"
   ]
  },
  {
   "cell_type": "code",
   "execution_count": null,
   "id": "974ea7a3",
   "metadata": {
    "vscode": {
     "languageId": "shellscript"
    }
   },
   "outputs": [
    {
     "name": "stdout",
     "output_type": "stream",
     "text": [
      "[master c3db875] merge\n"
     ]
    }
   ],
   "source": [
    "!git commit -m \"merge\""
   ]
  },
  {
   "cell_type": "code",
   "execution_count": null,
   "id": "b7314e44",
   "metadata": {
    "vscode": {
     "languageId": "shellscript"
    }
   },
   "outputs": [
    {
     "name": "stdout",
     "output_type": "stream",
     "text": [
      "Already up to date.\n"
     ]
    }
   ],
   "source": [
    "!git merge feat-a"
   ]
  },
  {
   "cell_type": "code",
   "execution_count": null,
   "id": "6afeda48",
   "metadata": {
    "vscode": {
     "languageId": "shellscript"
    }
   },
   "outputs": [
    {
     "name": "stdout",
     "output_type": "stream",
     "text": [
      "On branch master\n",
      "Your branch is ahead of 'origin/master' by 2 commits.\n",
      "  (use \"git push\" to publish your local commits)\n",
      "\n",
      "nothing to commit, working tree clean\n"
     ]
    }
   ],
   "source": [
    "!git status"
   ]
  },
  {
   "cell_type": "code",
   "execution_count": null,
   "id": "316ad281",
   "metadata": {
    "vscode": {
     "languageId": "shellscript"
    }
   },
   "outputs": [
    {
     "name": "stdout",
     "output_type": "stream",
     "text": [
      "Enumerating objects: 7, done.\n",
      "Counting objects: 100% (7/7), done.\n",
      "Delta compression using up to 4 threads\n",
      "Compressing objects: 100% (4/4), done.\n",
      "Writing objects: 100% (5/5), 493 bytes | 493.00 KiB/s, done.\n",
      "Total 5 (delta 2), reused 0 (delta 0), pack-reused 0\n",
      "remote: Resolving deltas: 100% (2/2), completed with 1 local object.\u001b[K\n",
      "To github.com:v1TrAy/working-with-remotes.git\n",
      "   bb862be..c3db875  master -> master\n"
     ]
    }
   ],
   "source": [
    "!git push"
   ]
  },
  {
   "cell_type": "code",
   "execution_count": null,
   "id": "8c138473",
   "metadata": {
    "vscode": {
     "languageId": "shellscript"
    }
   },
   "outputs": [
    {
     "name": "stdout",
     "output_type": "stream",
     "text": [
      "*   \u001b[33mc3db875\u001b[m\u001b[33m (\u001b[m\u001b[1;36mHEAD\u001b[m\u001b[33m -> \u001b[m\u001b[1;32mmaster\u001b[m\u001b[33m, \u001b[m\u001b[1;31morigin/master\u001b[m\u001b[33m, \u001b[m\u001b[1;31morigin/HEAD\u001b[m\u001b[33m)\u001b[m merge\n",
      "\u001b[31m|\u001b[m\u001b[32m\\\u001b[m  \n",
      "\u001b[31m|\u001b[m * \u001b[33m9488d1f\u001b[m\u001b[33m (\u001b[m\u001b[1;32mfeat-a\u001b[m\u001b[33m)\u001b[m my first commit on feat-a\n",
      "* \u001b[32m|\u001b[m \u001b[33mbb862be\u001b[m my second commit on master\n",
      "\u001b[32m|\u001b[m\u001b[32m/\u001b[m  \n",
      "* \u001b[33me246b4c\u001b[m my first commit on master\n",
      "* \u001b[33m5aefc0d\u001b[m add master-01 file\n",
      "* \u001b[33mf9fd4aa\u001b[m add README\n"
     ]
    }
   ],
   "source": [
    "!git log --all --oneline --graph "
   ]
  },
  {
   "cell_type": "code",
   "execution_count": null,
   "id": "4fee51cc",
   "metadata": {
    "vscode": {
     "languageId": "shellscript"
    }
   },
   "outputs": [
    {
     "name": "stdout",
     "output_type": "stream",
     "text": [
      "Deleted branch feat-a (was 9488d1f).\n"
     ]
    }
   ],
   "source": [
    "!git branch -d feat-a"
   ]
  },
  {
   "cell_type": "markdown",
   "id": "78a54268",
   "metadata": {},
   "source": [
    "# Pushing local branches"
   ]
  },
  {
   "cell_type": "code",
   "execution_count": null,
   "id": "839ed413",
   "metadata": {
    "vscode": {
     "languageId": "shellscript"
    }
   },
   "outputs": [
    {
     "name": "stdout",
     "output_type": "stream",
     "text": [
      "* \u001b[32mmaster\u001b[m\n"
     ]
    }
   ],
   "source": [
    "!git branch"
   ]
  },
  {
   "cell_type": "code",
   "execution_count": null,
   "id": "c2ea031c",
   "metadata": {
    "vscode": {
     "languageId": "shellscript"
    }
   },
   "outputs": [],
   "source": [
    "!git branch feat-b"
   ]
  },
  {
   "cell_type": "code",
   "execution_count": null,
   "id": "e6a74220",
   "metadata": {
    "vscode": {
     "languageId": "shellscript"
    }
   },
   "outputs": [
    {
     "name": "stdout",
     "output_type": "stream",
     "text": [
      "Switched to branch 'feat-b'\n"
     ]
    }
   ],
   "source": [
    "!git switch feat-b"
   ]
  },
  {
   "cell_type": "code",
   "execution_count": null,
   "id": "0d68b572",
   "metadata": {
    "vscode": {
     "languageId": "shellscript"
    }
   },
   "outputs": [],
   "source": [
    "!echo \"This file is on the feat-b branch.\" > feat-b-01.md"
   ]
  },
  {
   "cell_type": "code",
   "execution_count": null,
   "id": "29e53717",
   "metadata": {
    "vscode": {
     "languageId": "shellscript"
    }
   },
   "outputs": [],
   "source": [
    "!git add ."
   ]
  },
  {
   "cell_type": "code",
   "execution_count": null,
   "id": "24013f2e",
   "metadata": {
    "vscode": {
     "languageId": "shellscript"
    }
   },
   "outputs": [
    {
     "name": "stdout",
     "output_type": "stream",
     "text": [
      "[feat-b 5d5998e] my first commit on feat-b\n",
      " 1 file changed, 1 insertion(+)\n",
      " create mode 100644 feat-b-01.md\n"
     ]
    }
   ],
   "source": [
    "!git commit -m \"my first commit on feat-b\""
   ]
  },
  {
   "cell_type": "code",
   "execution_count": null,
   "id": "2cb09467",
   "metadata": {
    "vscode": {
     "languageId": "shellscript"
    }
   },
   "outputs": [
    {
     "name": "stdout",
     "output_type": "stream",
     "text": [
      "fatal: The current branch feat-b has no upstream branch.\n",
      "To push the current branch and set the remote as upstream, use\n",
      "\n",
      "    git push --set-upstream origin feat-b\n",
      "\n",
      "To have this happen automatically for branches without a tracking\n",
      "upstream, see 'push.autoSetupRemote' in 'git help config'.\n",
      "\n"
     ]
    }
   ],
   "source": [
    "!git push"
   ]
  },
  {
   "cell_type": "markdown",
   "id": "55599ff5",
   "metadata": {},
   "source": [
    "### Push branch and set upstream (typo: should be --set-upstream or -u)"
   ]
  },
  {
   "cell_type": "code",
   "execution_count": null,
   "id": "7df89f86",
   "metadata": {
    "vscode": {
     "languageId": "shellscript"
    }
   },
   "outputs": [
    {
     "name": "stdout",
     "output_type": "stream",
     "text": [
      "Enumerating objects: 4, done.\n",
      "Counting objects: 100% (4/4), done.\n",
      "Delta compression using up to 4 threads\n",
      "Compressing objects: 100% (2/2), done.\n",
      "Writing objects: 100% (3/3), 308 bytes | 308.00 KiB/s, done.\n",
      "Total 3 (delta 1), reused 0 (delta 0), pack-reused 0\n",
      "remote: Resolving deltas: 100% (1/1), completed with 1 local object.\u001b[K\n",
      "remote: \n",
      "remote: Create a pull request for 'feat-b' on GitHub by visiting:\u001b[K\n",
      "remote:      https://github.com/v1TrAy/working-with-remotes/pull/new/feat-b\u001b[K\n",
      "remote: \n",
      "To github.com:v1TrAy/working-with-remotes.git\n",
      " * [new branch]      feat-b -> feat-b\n",
      "branch 'feat-b' set up to track 'origin/feat-b'.\n"
     ]
    }
   ],
   "source": [
    "!git push -u origin feat-b"
   ]
  },
  {
   "cell_type": "code",
   "execution_count": null,
   "id": "e411bdc7",
   "metadata": {
    "vscode": {
     "languageId": "shellscript"
    }
   },
   "outputs": [
    {
     "name": "stdout",
     "output_type": "stream",
     "text": [
      "Switched to branch 'master'\n",
      "Your branch is up to date with 'origin/master'.\n"
     ]
    }
   ],
   "source": [
    "!git switch master"
   ]
  },
  {
   "cell_type": "code",
   "execution_count": null,
   "id": "d5ab21ef",
   "metadata": {
    "vscode": {
     "languageId": "shellscript"
    }
   },
   "outputs": [],
   "source": [
    "!echo \"This is the fourth file on the master branch\" > master-04.md"
   ]
  },
  {
   "cell_type": "code",
   "execution_count": null,
   "id": "5b05d349",
   "metadata": {
    "vscode": {
     "languageId": "shellscript"
    }
   },
   "outputs": [],
   "source": [
    "!git add ."
   ]
  },
  {
   "cell_type": "code",
   "execution_count": null,
   "id": "f5f6ee1e",
   "metadata": {
    "vscode": {
     "languageId": "shellscript"
    }
   },
   "outputs": [
    {
     "name": "stdout",
     "output_type": "stream",
     "text": [
      "[master 27e21e3] my third commit on master\n",
      " 1 file changed, 1 insertion(+)\n",
      " create mode 100644 master-04.md\n"
     ]
    }
   ],
   "source": [
    "!git commit -m \"my third commit on master\""
   ]
  },
  {
   "cell_type": "code",
   "execution_count": null,
   "id": "16f215e6",
   "metadata": {
    "vscode": {
     "languageId": "shellscript"
    }
   },
   "outputs": [
    {
     "name": "stdout",
     "output_type": "stream",
     "text": [
      "Enumerating objects: 4, done.\n",
      "Counting objects: 100% (4/4), done.\n",
      "Delta compression using up to 4 threads\n",
      "Compressing objects: 100% (2/2), done.\n",
      "Writing objects: 100% (3/3), 317 bytes | 317.00 KiB/s, done.\n",
      "Total 3 (delta 1), reused 0 (delta 0), pack-reused 0\n",
      "remote: Resolving deltas: 100% (1/1), completed with 1 local object.\u001b[K\n",
      "To github.com:v1TrAy/working-with-remotes.git\n",
      "   c3db875..27e21e3  master -> master\n"
     ]
    }
   ],
   "source": [
    "!git push"
   ]
  },
  {
   "cell_type": "code",
   "execution_count": null,
   "id": "a5c15a3a",
   "metadata": {
    "vscode": {
     "languageId": "shellscript"
    }
   },
   "outputs": [
    {
     "name": "stdout",
     "output_type": "stream",
     "text": [
      "* \u001b[33m27e21e3\u001b[m\u001b[33m (\u001b[m\u001b[1;36mHEAD\u001b[m\u001b[33m -> \u001b[m\u001b[1;32mmaster\u001b[m\u001b[33m, \u001b[m\u001b[1;31morigin/master\u001b[m\u001b[33m, \u001b[m\u001b[1;31morigin/HEAD\u001b[m\u001b[33m)\u001b[m my third commit on master\n",
      "\u001b[31m|\u001b[m * \u001b[33m5d5998e\u001b[m\u001b[33m (\u001b[m\u001b[1;31morigin/feat-b\u001b[m\u001b[33m, \u001b[m\u001b[1;32mfeat-b\u001b[m\u001b[33m)\u001b[m my first commit on feat-b\n",
      "\u001b[31m|\u001b[m\u001b[31m/\u001b[m  \n",
      "*   \u001b[33mc3db875\u001b[m merge\n",
      "\u001b[33m|\u001b[m\u001b[34m\\\u001b[m  \n",
      "\u001b[33m|\u001b[m * \u001b[33m9488d1f\u001b[m my first commit on feat-a\n",
      "* \u001b[34m|\u001b[m \u001b[33mbb862be\u001b[m my second commit on master\n",
      "\u001b[34m|\u001b[m\u001b[34m/\u001b[m  \n",
      "* \u001b[33me246b4c\u001b[m my first commit on master\n",
      "* \u001b[33m5aefc0d\u001b[m add master-01 file\n",
      "* \u001b[33mf9fd4aa\u001b[m add README\n"
     ]
    }
   ],
   "source": [
    "!git log --oneline --all --graph"
   ]
  },
  {
   "cell_type": "markdown",
   "id": "26caef7f",
   "metadata": {},
   "source": [
    "# Merging branches: option 2 (pull requests)"
   ]
  },
  {
   "cell_type": "markdown",
   "id": "576834ae",
   "metadata": {},
   "source": [
    "## How to Create a Pull Request\n",
    "\n",
    "### ✅ Option 1: Use the Pull Request link shown after pushing\n",
    "After pushing a new branch, GitHub provides a direct link to create a pull request.  \n",
    "Example:\n",
    "\n",
    "https://github.com/v1tray/working-with-remotes/pull/new/feat-b\n",
    "\n",
    "\n",
    "Click the link to go directly to the PR creation page.\n",
    "\n",
    "---\n",
    "\n",
    "### ✅ Option 2: Use the GitHub homepage prompt\n",
    "Right after pushing, go to the GitHub repo page.  \n",
    "You’ll often see a prompt at the top offering to create a pull request.  \n",
    "Click the button to continue.\n",
    "\n",
    "---\n",
    "\n",
    "### ✅ Option 3: Use the \"Pull requests\" tab manually\n",
    "Go to your repository on GitHub.  \n",
    "Click the **Pull requests** tab at the top.  \n",
    "Then click **New pull request**.\n",
    "\n",
    "---\n",
    "\n",
    "## 📌 What is a Pull Request?\n",
    "\n",
    "Pull requests are a safe way to propose changes to the `main` branch.\n",
    "\n",
    "Instead of pushing changes directly (which could interfere with other people's work), pull requests add a review step in between.\n",
    "\n",
    "They allow others to:\n",
    "\n",
    "- View your changes\n",
    "- Leave comments or suggestions\n",
    "- Approve or request modifications\n",
    "\n",
    "Think of it as a queue of suggested changes to the main branch.\n",
    "\n",
    "> 🔹 **Use pull requests for collaboration.**  \n",
    "> 🔹 **If you're working alone, it's fine to merge directly.**\n",
    "\n",
    "---\n"
   ]
  },
  {
   "cell_type": "markdown",
   "id": "b87e369b",
   "metadata": {},
   "source": [
    "### Download latest changes from remote"
   ]
  },
  {
   "cell_type": "code",
   "execution_count": null,
   "id": "7c4492db",
   "metadata": {
    "vscode": {
     "languageId": "shellscript"
    }
   },
   "outputs": [
    {
     "name": "stdout",
     "output_type": "stream",
     "text": [
      "remote: Enumerating objects: 2, done.\u001b[K\n",
      "remote: Counting objects: 100% (2/2), done.\u001b[K\n",
      "remote: Compressing objects: 100% (2/2), done.\u001b[K\n",
      "remote: Total 2 (delta 0), reused 0 (delta 0), pack-reused 0 (from 0)\u001b[K\n",
      "Unpacking objects: 100% (2/2), 1.08 KiB | 1.08 MiB/s, done.\n",
      "From github.com:v1TrAy/working-with-remotes\n",
      "   27e21e3..1b64acd  master     -> origin/master\n"
     ]
    }
   ],
   "source": [
    "!git fetch"
   ]
  },
  {
   "cell_type": "code",
   "execution_count": null,
   "id": "4a562ed9",
   "metadata": {
    "vscode": {
     "languageId": "shellscript"
    }
   },
   "outputs": [
    {
     "name": "stdout",
     "output_type": "stream",
     "text": [
      "*   \u001b[33m1b64acd\u001b[m\u001b[33m (\u001b[m\u001b[1;31morigin/master\u001b[m\u001b[33m, \u001b[m\u001b[1;31morigin/HEAD\u001b[m\u001b[33m)\u001b[m Merge pull request #1 from v1TrAy/feat-b\n",
      "\u001b[31m|\u001b[m\u001b[32m\\\u001b[m  \n",
      "\u001b[31m|\u001b[m * \u001b[33m5d5998e\u001b[m\u001b[33m (\u001b[m\u001b[1;31morigin/feat-b\u001b[m\u001b[33m, \u001b[m\u001b[1;32mfeat-b\u001b[m\u001b[33m)\u001b[m my first commit on feat-b\n",
      "* \u001b[32m|\u001b[m \u001b[33m27e21e3\u001b[m\u001b[33m (\u001b[m\u001b[1;36mHEAD\u001b[m\u001b[33m -> \u001b[m\u001b[1;32mmaster\u001b[m\u001b[33m)\u001b[m my third commit on master\n",
      "\u001b[32m|\u001b[m\u001b[32m/\u001b[m  \n",
      "*   \u001b[33mc3db875\u001b[m merge\n",
      "\u001b[33m|\u001b[m\u001b[34m\\\u001b[m  \n",
      "\u001b[33m|\u001b[m * \u001b[33m9488d1f\u001b[m my first commit on feat-a\n",
      "* \u001b[34m|\u001b[m \u001b[33mbb862be\u001b[m my second commit on master\n",
      "\u001b[34m|\u001b[m\u001b[34m/\u001b[m  \n",
      "* \u001b[33me246b4c\u001b[m my first commit on master\n",
      "* \u001b[33m5aefc0d\u001b[m add master-01 file\n",
      "* \u001b[33mf9fd4aa\u001b[m add README\n"
     ]
    }
   ],
   "source": [
    "!git log --oneline --all --graph"
   ]
  }
 ],
 "metadata": {
  "kernelspec": {
   "display_name": "Python 3",
   "language": "python",
   "name": "python3"
  },
  "language_info": {
   "codemirror_mode": {
    "name": "ipython",
    "version": 3
   },
   "file_extension": ".py",
   "mimetype": "text/x-python",
   "name": "python",
   "nbconvert_exporter": "python",
   "pygments_lexer": "ipython3",
   "version": "3.12.3"
  }
 },
 "nbformat": 4,
 "nbformat_minor": 5
}
