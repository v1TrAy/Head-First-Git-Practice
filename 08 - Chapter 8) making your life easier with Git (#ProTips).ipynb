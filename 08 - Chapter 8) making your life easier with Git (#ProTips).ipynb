{
 "cells": [
  {
   "cell_type": "markdown",
   "id": "bc9801c2",
   "metadata": {},
   "source": [
    "# Chapter 8 - making your life easier with Git (#ProTips)"
   ]
  },
  {
   "cell_type": "markdown",
   "id": "e1fbc55d",
   "metadata": {},
   "source": [
    "# Global .gitconfig file"
   ]
  },
  {
   "cell_type": "code",
   "execution_count": null,
   "id": "b232bbd9",
   "metadata": {
    "vscode": {
     "languageId": "shellscript"
    }
   },
   "outputs": [
    {
     "name": "stdout",
     "output_type": "stream",
     "text": [
      "/home/amin\n"
     ]
    }
   ],
   "source": [
    "cd ~"
   ]
  },
  {
   "cell_type": "code",
   "execution_count": null,
   "id": "9b985b58",
   "metadata": {
    "vscode": {
     "languageId": "shellscript"
    }
   },
   "outputs": [
    {
     "name": "stdout",
     "output_type": "stream",
     "text": [
      "\u001b[0m\u001b[01;34malpha-cli\u001b[0m/                   \u001b[01;34mMusic\u001b[0m/\n",
      ".bash_history                \u001b[01;34mmyenv\u001b[0m/\n",
      ".bash_logout                 \u001b[01;34m.oh-my-zsh\u001b[0m/\n",
      ".bashrc                      \u001b[01;34mPictures\u001b[0m/\n",
      "\u001b[01;34m.cache\u001b[0m/                      \u001b[01;34m.pki\u001b[0m/\n",
      "\u001b[01;34mClean\u001b[0m/                       .profile\n",
      "\u001b[01;34m.config\u001b[0m/                     \u001b[01;34mPublic\u001b[0m/\n",
      "\u001b[01;34mDesktop\u001b[0m/                     .python_history\n",
      "\u001b[01;34mdiamol\u001b[0m/                      remove_execution_count.py\n",
      "\u001b[01;34m.docker\u001b[0m/                     .shell.pre-oh-my-zsh\n",
      "\u001b[01;34mdocker-in-a-month-practice\u001b[0m/  \u001b[01;34msnap\u001b[0m/\n",
      "\u001b[01;34mDocuments\u001b[0m/                   \u001b[01;34m.ssh\u001b[0m/\n",
      "\u001b[01;34m.dotnet\u001b[0m/                     .sudo_as_admin_successful\n",
      "\u001b[01;34mDownloads\u001b[0m/                   \u001b[01;34mTemplates\u001b[0m/\n",
      "\u001b[01;34m.fonts\u001b[0m/                      \u001b[01;34mterminal-profile\u001b[0m/\n",
      ".gitconfig                   \u001b[01;34mVideos\u001b[0m/\n",
      "\u001b[01;34m.gnupg\u001b[0m/                      .viminfo\n",
      "\u001b[01;34mHeadFirstGit\u001b[0m/                \u001b[01;34m.vscode\u001b[0m/\n",
      "\u001b[01;34mhead-first-git-2022-01-02\u001b[0m/   .wget-hsts\n",
      "\u001b[01;34m.ipynb_checkpoints\u001b[0m/          .zcompdump\n",
      "\u001b[01;34m.ipython\u001b[0m/                    .zcompdump-amin-5.9\n",
      "\u001b[01;34m.jupyter\u001b[0m/                    .zcompdump-amin-5.9.zwc\n",
      ".lesshst                     .zsh_history\n",
      "\u001b[01;34m.local\u001b[0m/                      .zshrc\n"
     ]
    }
   ],
   "source": [
    "ls -A"
   ]
  },
  {
   "cell_type": "code",
   "execution_count": null,
   "id": "dc879cb1",
   "metadata": {
    "vscode": {
     "languageId": "shellscript"
    }
   },
   "outputs": [
    {
     "name": "stdout",
     "output_type": "stream",
     "text": [
      "[user]\n",
      "\tname = v1TrAy\n",
      "\temail = v1TrAy@gmail.com\n"
     ]
    }
   ],
   "source": [
    "cat .gitconfig"
   ]
  },
  {
   "cell_type": "markdown",
   "id": "1852f042",
   "metadata": {},
   "source": [
    "### Show all Git configuration settings"
   ]
  },
  {
   "cell_type": "code",
   "execution_count": null,
   "id": "7ac3d84c",
   "metadata": {
    "vscode": {
     "languageId": "shellscript"
    }
   },
   "outputs": [
    {
     "name": "stdout",
     "output_type": "stream",
     "text": [
      "user.name=v1TrAy\n",
      "user.email=v1TrAy@gmail.com\n"
     ]
    }
   ],
   "source": [
    "!git config --list"
   ]
  },
  {
   "cell_type": "markdown",
   "id": "f6b75c4d",
   "metadata": {},
   "source": [
    "# Project-specific Git configuration"
   ]
  },
  {
   "cell_type": "markdown",
   "id": "88bf3dea",
   "metadata": {},
   "source": [
    "## git config is ```--local``` by default — use ```--global``` for global settings\n"
   ]
  },
  {
   "cell_type": "code",
   "execution_count": null,
   "id": "cfb91f58",
   "metadata": {
    "vscode": {
     "languageId": "shellscript"
    }
   },
   "outputs": [
    {
     "data": {
      "text/plain": [
       "'/home/amin'"
      ]
     },
     "execution_count": 9,
     "metadata": {},
     "output_type": "execute_result"
    }
   ],
   "source": [
    "pwd"
   ]
  },
  {
   "cell_type": "code",
   "execution_count": null,
   "id": "fc6984a1",
   "metadata": {
    "vscode": {
     "languageId": "shellscript"
    }
   },
   "outputs": [],
   "source": [
    "mkdir spec-proj"
   ]
  },
  {
   "cell_type": "code",
   "execution_count": null,
   "id": "614f5540",
   "metadata": {
    "vscode": {
     "languageId": "shellscript"
    }
   },
   "outputs": [
    {
     "name": "stdout",
     "output_type": "stream",
     "text": [
      "/home/amin/spec-proj\n"
     ]
    }
   ],
   "source": [
    "cd spec-proj"
   ]
  },
  {
   "cell_type": "code",
   "execution_count": null,
   "id": "724df7fa",
   "metadata": {
    "vscode": {
     "languageId": "shellscript"
    }
   },
   "outputs": [
    {
     "name": "stdout",
     "output_type": "stream",
     "text": [
      "\u001b[33mhint: Using 'master' as the name for the initial branch. This default branch name\u001b[m\n",
      "\u001b[33mhint: is subject to change. To configure the initial branch name to use in all\u001b[m\n",
      "\u001b[33mhint: of your new repositories, which will suppress this warning, call:\u001b[m\n",
      "\u001b[33mhint: \u001b[m\n",
      "\u001b[33mhint: \tgit config --global init.defaultBranch <name>\u001b[m\n",
      "\u001b[33mhint: \u001b[m\n",
      "\u001b[33mhint: Names commonly chosen instead of 'master' are 'main', 'trunk' and\u001b[m\n",
      "\u001b[33mhint: 'development'. The just-created branch can be renamed via this command:\u001b[m\n",
      "\u001b[33mhint: \u001b[m\n",
      "\u001b[33mhint: \tgit branch -m <name>\u001b[m\n",
      "Initialized empty Git repository in /home/amin/spec-proj/.git/\n"
     ]
    }
   ],
   "source": [
    "!git init"
   ]
  },
  {
   "cell_type": "markdown",
   "id": "6f303979",
   "metadata": {},
   "source": [
    "### Some local settings"
   ]
  },
  {
   "cell_type": "code",
   "execution_count": null,
   "id": "527e1a67",
   "metadata": {
    "vscode": {
     "languageId": "shellscript"
    }
   },
   "outputs": [],
   "source": [
    "!git config --local user.name \"Tester\""
   ]
  },
  {
   "cell_type": "code",
   "execution_count": null,
   "id": "7b0c8f5e",
   "metadata": {
    "vscode": {
     "languageId": "shellscript"
    }
   },
   "outputs": [],
   "source": [
    "!git config --local user.email \"tester@gmail.com\""
   ]
  },
  {
   "cell_type": "code",
   "execution_count": null,
   "id": "32e4835a",
   "metadata": {
    "vscode": {
     "languageId": "shellscript"
    }
   },
   "outputs": [
    {
     "name": "stdout",
     "output_type": "stream",
     "text": [
      "[core]\n",
      "\trepositoryformatversion = 0\n",
      "\tfilemode = true\n",
      "\tbare = false\n",
      "\tlogallrefupdates = true\n",
      "[user]\n",
      "\tname = Tester\n",
      "\temail = tester@gmail.com\n"
     ]
    }
   ],
   "source": [
    "cat .git/config"
   ]
  },
  {
   "cell_type": "code",
   "execution_count": null,
   "id": "0d7e575a",
   "metadata": {
    "vscode": {
     "languageId": "shellscript"
    }
   },
   "outputs": [
    {
     "name": "stdout",
     "output_type": "stream",
     "text": [
      "user.name=v1TrAy\n",
      "user.email=v1TrAy@gmail.com\n",
      "core.repositoryformatversion=0\n",
      "core.filemode=true\n",
      "core.bare=false\n",
      "core.logallrefupdates=true\n",
      "user.name=Tester\n",
      "user.email=tester@gmail.com\n"
     ]
    }
   ],
   "source": [
    "!git config --list"
   ]
  },
  {
   "cell_type": "markdown",
   "id": "c8735fb2",
   "metadata": {},
   "source": [
    "##  Git won’t show errors for typos — it just adds whatever you type"
   ]
  },
  {
   "cell_type": "code",
   "execution_count": null,
   "id": "dfed12f6",
   "metadata": {
    "vscode": {
     "languageId": "shellscript"
    }
   },
   "outputs": [],
   "source": [
    "!git config --local user.nam \"Fedor\""
   ]
  },
  {
   "cell_type": "code",
   "execution_count": null,
   "id": "a148d09c",
   "metadata": {
    "vscode": {
     "languageId": "shellscript"
    }
   },
   "outputs": [
    {
     "name": "stdout",
     "output_type": "stream",
     "text": [
      "[core]\n",
      "\trepositoryformatversion = 0\n",
      "\tfilemode = true\n",
      "\tbare = false\n",
      "\tlogallrefupdates = true\n",
      "[user]\n",
      "\tname = Tester\n",
      "\temail = tester@gmail.com\n",
      "\tnam = Fedor\n"
     ]
    }
   ],
   "source": [
    "cat .git/config"
   ]
  },
  {
   "cell_type": "markdown",
   "id": "0d8ada68",
   "metadata": {},
   "source": [
    "## Delete a config"
   ]
  },
  {
   "cell_type": "code",
   "execution_count": null,
   "id": "c03dcd7f",
   "metadata": {
    "vscode": {
     "languageId": "shellscript"
    }
   },
   "outputs": [],
   "source": [
    "!git config --unset user.nam"
   ]
  },
  {
   "cell_type": "code",
   "execution_count": null,
   "id": "3b811b52",
   "metadata": {
    "vscode": {
     "languageId": "shellscript"
    }
   },
   "outputs": [
    {
     "name": "stdout",
     "output_type": "stream",
     "text": [
      "[core]\n",
      "\trepositoryformatversion = 0\n",
      "\tfilemode = true\n",
      "\tbare = false\n",
      "\tlogallrefupdates = true\n",
      "[user]\n",
      "\tname = Tester\n",
      "\temail = tester@gmail.com\n"
     ]
    }
   ],
   "source": [
    "cat .git/config"
   ]
  },
  {
   "cell_type": "markdown",
   "id": "018694f5",
   "metadata": {},
   "source": [
    "# Listing your Git configuration"
   ]
  },
  {
   "cell_type": "markdown",
   "id": "b3a8a358",
   "metadata": {},
   "source": [
    "### Show all Git configuration settings (local + global)"
   ]
  },
  {
   "cell_type": "code",
   "execution_count": null,
   "id": "1627579a",
   "metadata": {
    "vscode": {
     "languageId": "shellscript"
    }
   },
   "outputs": [
    {
     "name": "stdout",
     "output_type": "stream",
     "text": [
      "user.name=v1TrAy\n",
      "user.email=v1TrAy@gmail.com\n",
      "core.repositoryformatversion=0\n",
      "core.filemode=true\n",
      "core.bare=false\n",
      "core.logallrefupdates=true\n",
      "user.name=Tester\n",
      "user.email=tester@gmail.com\n"
     ]
    }
   ],
   "source": [
    "!git config --list"
   ]
  },
  {
   "cell_type": "markdown",
   "id": "a39dfd32",
   "metadata": {},
   "source": [
    "### Show config with file origin paths"
   ]
  },
  {
   "cell_type": "code",
   "execution_count": null,
   "id": "38b8301c",
   "metadata": {
    "vscode": {
     "languageId": "shellscript"
    }
   },
   "outputs": [
    {
     "name": "stdout",
     "output_type": "stream",
     "text": [
      "file:/home/amin/.gitconfig\tuser.name=v1TrAy\n",
      "file:/home/amin/.gitconfig\tuser.email=v1TrAy@gmail.com\n",
      "file:.git/config\tcore.repositoryformatversion=0\n",
      "file:.git/config\tcore.filemode=true\n",
      "file:.git/config\tcore.bare=false\n",
      "file:.git/config\tcore.logallrefupdates=true\n",
      "file:.git/config\tuser.name=Tester\n",
      "file:.git/config\tuser.email=tester@gmail.com\n"
     ]
    }
   ],
   "source": [
    "!git config --list --show-origin"
   ]
  },
  {
   "cell_type": "markdown",
   "id": "01964e8f",
   "metadata": {},
   "source": [
    "# Sharpen your pencil"
   ]
  },
  {
   "cell_type": "code",
   "execution_count": null,
   "id": "cd9c782b",
   "metadata": {
    "vscode": {
     "languageId": "shellscript"
    }
   },
   "outputs": [
    {
     "name": "stdout",
     "output_type": "stream",
     "text": [
      "/home/amin/HeadFirstGit/HeadFirstGit-Samples\n"
     ]
    }
   ],
   "source": [
    "cd /home/amin/HeadFirstGit/HeadFirstGit-Samples"
   ]
  },
  {
   "cell_type": "code",
   "execution_count": null,
   "id": "f01f66db",
   "metadata": {
    "vscode": {
     "languageId": "shellscript"
    }
   },
   "outputs": [],
   "source": [
    "mkdir ch08"
   ]
  },
  {
   "cell_type": "code",
   "execution_count": null,
   "id": "9be3e4ef",
   "metadata": {
    "vscode": {
     "languageId": "shellscript"
    }
   },
   "outputs": [
    {
     "name": "stdout",
     "output_type": "stream",
     "text": [
      "/home/amin/HeadFirstGit/HeadFirstGit-Samples/ch08\n"
     ]
    }
   ],
   "source": [
    "cd ch08"
   ]
  },
  {
   "cell_type": "code",
   "execution_count": null,
   "id": "caa615de",
   "metadata": {
    "vscode": {
     "languageId": "shellscript"
    }
   },
   "outputs": [],
   "source": [
    "mkdir a-head-above"
   ]
  },
  {
   "cell_type": "code",
   "execution_count": null,
   "id": "825c21d2",
   "metadata": {
    "vscode": {
     "languageId": "shellscript"
    }
   },
   "outputs": [
    {
     "name": "stdout",
     "output_type": "stream",
     "text": [
      "/home/amin/HeadFirstGit/HeadFirstGit-Samples/ch08/a-head-above\n"
     ]
    }
   ],
   "source": [
    "cd a-head-above"
   ]
  },
  {
   "cell_type": "code",
   "execution_count": null,
   "id": "93ad34be",
   "metadata": {
    "vscode": {
     "languageId": "shellscript"
    }
   },
   "outputs": [
    {
     "name": "stdout",
     "output_type": "stream",
     "text": [
      "\u001b[33mhint: Using 'master' as the name for the initial branch. This default branch name\u001b[m\n",
      "\u001b[33mhint: is subject to change. To configure the initial branch name to use in all\u001b[m\n",
      "\u001b[33mhint: of your new repositories, which will suppress this warning, call:\u001b[m\n",
      "\u001b[33mhint: \u001b[m\n",
      "\u001b[33mhint: \tgit config --global init.defaultBranch <name>\u001b[m\n",
      "\u001b[33mhint: \u001b[m\n",
      "\u001b[33mhint: Names commonly chosen instead of 'master' are 'main', 'trunk' and\u001b[m\n",
      "\u001b[33mhint: 'development'. The just-created branch can be renamed via this command:\u001b[m\n",
      "\u001b[33mhint: \u001b[m\n",
      "\u001b[33mhint: \tgit branch -m <name>\u001b[m\n",
      "Initialized empty Git repository in /home/amin/HeadFirstGit/HeadFirstGit-Samples/ch08/a-head-above/.git/\n"
     ]
    }
   ],
   "source": [
    "!git init "
   ]
  },
  {
   "cell_type": "code",
   "execution_count": null,
   "id": "ed0f9f41",
   "metadata": {
    "vscode": {
     "languageId": "shellscript"
    }
   },
   "outputs": [],
   "source": [
    "!git config --local user.name hmmmm"
   ]
  },
  {
   "cell_type": "code",
   "execution_count": null,
   "id": "764ee373",
   "metadata": {
    "vscode": {
     "languageId": "shellscript"
    }
   },
   "outputs": [
    {
     "name": "stdout",
     "output_type": "stream",
     "text": [
      "file:/home/amin/.gitconfig\tuser.name=v1TrAy\n",
      "file:/home/amin/.gitconfig\tuser.email=v1TrAy@gmail.com\n",
      "file:.git/config\tcore.repositoryformatversion=0\n",
      "file:.git/config\tcore.filemode=true\n",
      "file:.git/config\tcore.bare=false\n",
      "file:.git/config\tcore.logallrefupdates=true\n",
      "file:.git/config\tuser.name=hmmmm\n"
     ]
    }
   ],
   "source": [
    "!git config --list --show-origin"
   ]
  },
  {
   "cell_type": "code",
   "execution_count": null,
   "id": "d43eed59",
   "metadata": {
    "vscode": {
     "languageId": "shellscript"
    }
   },
   "outputs": [
    {
     "name": "stdout",
     "output_type": "stream",
     "text": [
      "Writing README.md\n"
     ]
    }
   ],
   "source": [
    "%%writefile README.md\n",
    "# Make our life easier with Git\n",
    "\n",
    "1. You can override the global configuration on a per-repository basis"
   ]
  },
  {
   "cell_type": "code",
   "execution_count": null,
   "id": "13e154c4",
   "metadata": {
    "vscode": {
     "languageId": "shellscript"
    }
   },
   "outputs": [],
   "source": [
    "!git add README.md"
   ]
  },
  {
   "cell_type": "code",
   "execution_count": null,
   "id": "be928c5d",
   "metadata": {
    "vscode": {
     "languageId": "shellscript"
    }
   },
   "outputs": [
    {
     "name": "stdout",
     "output_type": "stream",
     "text": [
      "[master (root-commit) aec1a20] docs: add a README file\n",
      " 1 file changed, 3 insertions(+)\n",
      " create mode 100644 README.md\n"
     ]
    }
   ],
   "source": [
    "!git commit -m \"docs: add a README file\""
   ]
  },
  {
   "cell_type": "code",
   "execution_count": null,
   "id": "e5951599",
   "metadata": {
    "vscode": {
     "languageId": "shellscript"
    }
   },
   "outputs": [
    {
     "name": "stdout",
     "output_type": "stream",
     "text": [
      "\u001b[33mcommit aec1a2097bd0fed165c289440472aba7926ea45d\u001b[m\u001b[33m (\u001b[m\u001b[1;36mHEAD\u001b[m\u001b[33m -> \u001b[m\u001b[1;32mmaster\u001b[m\u001b[33m)\u001b[m\n",
      "Author: hmmmm <v1TrAy@gmail.com>\n",
      "Date:   Sun May 11 11:23:39 2025 +0330\n",
      "\n",
      "    docs: add a README file\n"
     ]
    }
   ],
   "source": [
    "!git log"
   ]
  },
  {
   "cell_type": "markdown",
   "id": "ffb0ab0f",
   "metadata": {},
   "source": [
    "# Git aliases"
   ]
  },
  {
   "cell_type": "markdown",
   "id": "422f6061",
   "metadata": {},
   "source": [
    "### Create global alias loga for a detailed log view"
   ]
  },
  {
   "cell_type": "code",
   "execution_count": null,
   "id": "26dbd835",
   "metadata": {
    "vscode": {
     "languageId": "shellscript"
    }
   },
   "outputs": [],
   "source": [
    "!git config --global alias.loga \"log --oneline --graph --all\""
   ]
  },
  {
   "cell_type": "code",
   "execution_count": null,
   "id": "08c1fb7c",
   "metadata": {
    "vscode": {
     "languageId": "shellscript"
    }
   },
   "outputs": [
    {
     "name": "stdout",
     "output_type": "stream",
     "text": [
      "* \u001b[33maec1a20\u001b[m\u001b[33m (\u001b[m\u001b[1;36mHEAD\u001b[m\u001b[33m -> \u001b[m\u001b[1;32mmaster\u001b[m\u001b[33m)\u001b[m docs: add a README file\n"
     ]
    }
   ],
   "source": [
    "!git loga"
   ]
  },
  {
   "cell_type": "code",
   "execution_count": null,
   "id": "7b354130",
   "metadata": {
    "vscode": {
     "languageId": "shellscript"
    }
   },
   "outputs": [
    {
     "name": "stdout",
     "output_type": "stream",
     "text": [
      "file:/home/amin/.gitconfig\tuser.name=v1TrAy\n",
      "file:/home/amin/.gitconfig\tuser.email=v1TrAy@gmail.com\n",
      "file:/home/amin/.gitconfig\talias.loga=log --oneline --graph --all\n",
      "file:.git/config\tcore.repositoryformatversion=0\n",
      "file:.git/config\tcore.filemode=true\n",
      "file:.git/config\tcore.bare=false\n",
      "file:.git/config\tcore.logallrefupdates=true\n",
      "file:.git/config\tuser.name=hmmmm\n"
     ]
    }
   ],
   "source": [
    "!git config --list --show-origin"
   ]
  },
  {
   "cell_type": "code",
   "execution_count": null,
   "id": "dafe07b3",
   "metadata": {
    "vscode": {
     "languageId": "shellscript"
    }
   },
   "outputs": [],
   "source": [
    "!git config --global alias.aliases \"config --list --show-origin\""
   ]
  },
  {
   "cell_type": "code",
   "execution_count": null,
   "id": "e18140d1",
   "metadata": {
    "vscode": {
     "languageId": "shellscript"
    }
   },
   "outputs": [
    {
     "name": "stdout",
     "output_type": "stream",
     "text": [
      "file:/home/amin/.gitconfig\tuser.name=v1TrAy\n",
      "file:/home/amin/.gitconfig\tuser.email=v1TrAy@gmail.com\n",
      "file:/home/amin/.gitconfig\talias.loga=log --oneline --graph --all\n",
      "file:/home/amin/.gitconfig\talias.aliases=config --list --show-origin\n",
      "file:.git/config\tcore.repositoryformatversion=0\n",
      "file:.git/config\tcore.filemode=true\n",
      "file:.git/config\tcore.bare=false\n",
      "file:.git/config\tcore.logallrefupdates=true\n",
      "file:.git/config\tuser.name=hmmmm\n"
     ]
    }
   ],
   "source": [
    "!git aliases"
   ]
  },
  {
   "cell_type": "markdown",
   "id": "ef9a9b5a",
   "metadata": {},
   "source": [
    "# ```.gitignore```"
   ]
  },
  {
   "cell_type": "code",
   "execution_count": null,
   "id": "c8ea51c1",
   "metadata": {
    "vscode": {
     "languageId": "shellscript"
    }
   },
   "outputs": [],
   "source": [
    "!touch .gitignore"
   ]
  },
  {
   "cell_type": "code",
   "execution_count": null,
   "id": "b7eaa18d",
   "metadata": {
    "vscode": {
     "languageId": "shellscript"
    }
   },
   "outputs": [],
   "source": [
    "!touch ignore.txt"
   ]
  },
  {
   "cell_type": "code",
   "execution_count": null,
   "id": "f389255a",
   "metadata": {
    "vscode": {
     "languageId": "shellscript"
    }
   },
   "outputs": [],
   "source": [
    "echo \"ignore.txt\" > .gitignore"
   ]
  },
  {
   "cell_type": "code",
   "execution_count": null,
   "id": "9c08dada",
   "metadata": {
    "vscode": {
     "languageId": "shellscript"
    }
   },
   "outputs": [
    {
     "name": "stdout",
     "output_type": "stream",
     "text": [
      "On branch master\n",
      "Untracked files:\n",
      "  (use \"git add <file>...\" to include in what will be committed)\n",
      "\t\u001b[31m.gitignore\u001b[m\n",
      "\n",
      "nothing added to commit but untracked files present (use \"git add\" to track)\n"
     ]
    }
   ],
   "source": [
    "!git status"
   ]
  },
  {
   "cell_type": "code",
   "execution_count": null,
   "id": "14e79028",
   "metadata": {
    "vscode": {
     "languageId": "shellscript"
    }
   },
   "outputs": [],
   "source": [
    "!git add ."
   ]
  },
  {
   "cell_type": "code",
   "execution_count": null,
   "id": "78e2d860",
   "metadata": {
    "vscode": {
     "languageId": "shellscript"
    }
   },
   "outputs": [
    {
     "name": "stdout",
     "output_type": "stream",
     "text": [
      "[master a353c6e] chore: add .gitignore file\n",
      " 1 file changed, 1 insertion(+)\n",
      " create mode 100644 .gitignore\n"
     ]
    }
   ],
   "source": [
    "!git commit -m \"chore: add .gitignore file\""
   ]
  },
  {
   "cell_type": "markdown",
   "id": "b45c5d6e",
   "metadata": {},
   "source": [
    "# Write meaningful commit messages"
   ]
  },
  {
   "cell_type": "markdown",
   "id": "3191e716",
   "metadata": {},
   "source": [
    "## Commit Message Guidelines\n",
    "\n",
    "1. **Use the imperative mood**  \n",
    "\n",
    "   Write your commit messages as if you're commanding the computer to perform an action.  \n",
    "\n",
    "### ✅ Correct Examples:\n",
    "- `update documentation`\n",
    "- `fix intermittent login bug`\n",
    "\n",
    "### ❌ Avoid:\n",
    "- `updated documentation`\n",
    "- `fixes login bug`\n",
    "\n",
    "Using the imperative mood makes your commit history clearer and more consistent.\n",
    "\n",
    "\n",
    "\n",
    "2. **Avoid using the `-m` or `--message` flag** \n",
    "\n",
    "   Instead of writing commit messages directly in the command line using `-m`, just run:  \n",
    "   ```bash\n",
    "   git commit\n",
    "\n",
    "3. **Focus on the \"why\", not the \"how\" or \"what\"**  \n",
    "\n",
    "   The most valuable commit messages explain the reason behind a change, not just what was done or how it was implemented.  \n",
    "   While it may not always be possible, try to answer: _Why was this change necessary?_\n",
    "\n",
    "4. **Keep the first line concise**  \n",
    "\n",
    "   The first line of your commit message acts as the summary (or header).  \n",
    "   It’s what shows up when using commands like:\n",
    "\n",
    "   ```bash\n",
    "   git log --oneline\n",
    "   ```\n",
    "\n",
    "   Make it short, direct, and meaningful.\n",
    "\n",
    "---\n",
    "\n",
    "Writing thoughtful commit messages improves project history, team communication, and long-term maintainability.\n"
   ]
  },
  {
   "cell_type": "markdown",
   "id": "0632a1c1",
   "metadata": {},
   "source": [
    "# The anatomy of a good commit message:\n",
    "## Headers"
   ]
  },
  {
   "cell_type": "markdown",
   "id": "f9491a45",
   "metadata": {},
   "source": [
    "### Conventional Commit Types\n",
    "\n",
    "Use the following prefixes to keep your commit messages consistent and meaningful:\n",
    "\n",
    "- **feat:** Use this when introducing a new feature or enhancement.  \n",
    "  _Example: `feat: add dark mode toggle`_\n",
    "\n",
    "- **fix:** Use this when fixing a bug.  \n",
    "  _Example: `fix: correct header alignment issue on mobile`_\n",
    "\n",
    "- **docs:** Use this to describe any documentation change.  \n",
    "  _Example: `docs: update README with installation steps`_\n",
    "\n",
    "- **chore:** Use this for changes that affect project tooling or non-production code.  \n",
    "  _Example: `chore: update Git hooks configuration`_\n",
    "\n",
    "- **test:** Use this when you introduce or modify tests.  \n",
    "  _Example: `test: add unit tests for login component`_"
   ]
  },
  {
   "cell_type": "markdown",
   "id": "793c4e74",
   "metadata": {},
   "source": [
    "## Body"
   ]
  },
  {
   "cell_type": "markdown",
   "id": "a6a076b5",
   "metadata": {},
   "source": [
    "## Writing Good Commit Message Bodies\n",
    "\n",
    "While a well-written header is a great start, sometimes a single line isn’t enough. That’s when the **body** of a commit message becomes useful.\n",
    "\n",
    "### Key Rule\n",
    "- Always separate the header and the body with a **blank line**.\n",
    "\n",
    "### General Guidelines\n",
    "- Use free-form text—write as much or as little as needed.\n",
    "- Use **hyphens (`-`)** for lists instead of asterisks (`*`) to stay consistent with Markdown style.\n",
    "- Leave a **blank line between paragraphs** if writing multiple ones.\n",
    "\n",
    "### What to Include in the Body\n",
    "- Explanation of **why** the change was made.\n",
    "- **Details about the implementation** or chosen approach.\n",
    "- **Links** to relevant documentation, blog posts, or issues.\n",
    "- **Notes about testing**, especially for complex or non-standard test setups.\n",
    "- Any other context that would help future readers understand the commit.\n",
    "\n",
    "### Example\n",
    "```text\n",
    "feat: update CSS style names to be consistent (#6174)\n",
    "\n",
    "- Aligns the names for all CSS classes to be in line with our spec\n",
    "- Ensures camel-case styling throughout for consistency\n",
    "```\n",
    "\n",
    "### Bonus Tip\n",
    "If you make a typo or mistake in your commit, use:\n",
    "\n",
    "```bash\n",
    "git commit --amend\n",
    "```\n",
    "\n",
    "This lets you fix the last commit message before pushing your changes.\n",
    "\n",
    "---\n",
    "\n",
    "Writing informative commit bodies helps others (and your future self) understand your work better and maintain the project more effectively.\n",
    "\n",
    "\n",
    "https://www.conventionalcommits.org/en/v1.0.0/"
   ]
  },
  {
   "cell_type": "markdown",
   "id": "594a0704",
   "metadata": {},
   "source": [
    "# Create helpful branch names"
   ]
  },
  {
   "cell_type": "markdown",
   "id": "669a284e",
   "metadata": {},
   "source": [
    "## Branch Naming Guidelines\n",
    "\n",
    "Branch names are just as important as commit messages—they tell the story of your work. A clear, consistent naming strategy helps both you and your collaborators understand the purpose and origin of a branch at a glance.\n",
    "\n",
    "### Recommended Format\n",
    "```\n",
    "<initials>/<ticket-number>/<short-description>\n",
    "```\n",
    "\n",
    "### Example\n",
    "```\n",
    "rg/1618/remove-typos-in-documentation\n",
    "```\n",
    "\n",
    "### Breakdown\n",
    "- **Initials** (`rg`): Prefix the branch with your initials to indicate ownership. This makes it easier to identify who created the branch when listing all branches:\n",
    "  ```bash\n",
    "  git branch -a\n",
    "  ```\n",
    "\n",
    "- **Ticket Number** (`1618`): Include the task or issue number, if available. This provides quick reference to the task and makes it easier to track context while working:\n",
    "  ```bash\n",
    "  git status\n",
    "  # On branch rg/1618/remove-typos-in-documentation\n",
    "  ```\n",
    "\n",
    "- **Short Description** (`remove-typos-in-documentation`): Use a clear, concise task description:\n",
    "  - Lowercase only\n",
    "  - Replace spaces with hyphens\n",
    "  - Remove unnecessary words\n",
    "\n",
    "### Benefits\n",
    "- Keeps branches easy to read and navigate\n",
    "- Helps team members identify branch purpose and owner quickly\n",
    "- Improves integration with tools like GitHub, GitLab, and ticketing systems\n",
    "\n",
    "### Final Tip\n",
    "Naming is hard—but being consistent makes it easier. A naming strategy like this will save time, reduce confusion, and make collaboration smoother.\n",
    "\n",
    "---\n",
    "\n",
    "Good names tell better stories"
   ]
  },
  {
   "cell_type": "markdown",
   "id": "df304fa8",
   "metadata": {},
   "source": [
    "# git GUI \n",
    "\n",
    "1- https://www.sourcetreeapp.com\n",
    "\n",
    "2- https://desktop.github.com\n",
    "\n",
    "3- https://marketplace.visualstudio.com/items?itemName=eamodio.gitlens\n"
   ]
  }
 ],
 "metadata": {
  "kernelspec": {
   "display_name": "Python 3",
   "language": "python",
   "name": "python3"
  },
  "language_info": {
   "codemirror_mode": {
    "name": "ipython",
    "version": 3
   },
   "file_extension": ".py",
   "mimetype": "text/x-python",
   "name": "python",
   "nbconvert_exporter": "python",
   "pygments_lexer": "ipython3",
   "version": "3.12.3"
  }
 },
 "nbformat": 4,
 "nbformat_minor": 5
}
