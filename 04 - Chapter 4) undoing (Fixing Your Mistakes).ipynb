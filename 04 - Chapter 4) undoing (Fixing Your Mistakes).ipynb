{
 "cells": [
  {
   "cell_type": "markdown",
   "id": "9ba3d1e5",
   "metadata": {},
   "source": [
    "# An error in judgment\n"
   ]
  },
  {
   "cell_type": "code",
   "execution_count": null,
   "id": "01b01b5e",
   "metadata": {
    "vscode": {
     "languageId": "shellscript"
    }
   },
   "outputs": [
    {
     "name": "stdout",
     "output_type": "stream",
     "text": [
      "/home/amin/HeadFirstGit/headfirst-git-download/chapter04/gitanjali-aref-step-1\n"
     ]
    },
    {
     "name": "stderr",
     "output_type": "stream",
     "text": [
      "/usr/lib/python3/dist-packages/IPython/core/magics/osm.py:417: UserWarning: using dhist requires you to install the `pickleshare` library.\n",
      "  self.shell.db['dhist'] = compress_dhist(dhist)[-100:]\n"
     ]
    }
   ],
   "source": [
    "cd /home/amin/HeadFirstGit/headfirst-git-download/chapter04/gitanjali-aref-step-1"
   ]
  },
  {
   "cell_type": "code",
   "execution_count": null,
   "id": "387a59ad",
   "metadata": {
    "vscode": {
     "languageId": "shellscript"
    }
   },
   "outputs": [
    {
     "name": "stdout",
     "output_type": "stream",
     "text": [
      "* \u001b[33m8d704f8\u001b[m\u001b[33m (\u001b[m\u001b[1;36mHEAD\u001b[m\u001b[33m -> \u001b[m\u001b[1;32mmaster\u001b[m\u001b[33m)\u001b[m first cut at invitation card\n",
      "* \u001b[33m6e16680\u001b[m initial set of guests and gift registry\n"
     ]
    }
   ],
   "source": [
    "!git log --all --oneline --graph"
   ]
  },
  {
   "cell_type": "code",
   "execution_count": null,
   "id": "b4ca57c8",
   "metadata": {
    "vscode": {
     "languageId": "shellscript"
    }
   },
   "outputs": [],
   "source": []
  },
  {
   "cell_type": "code",
   "execution_count": null,
   "id": "184a9fc0",
   "metadata": {
    "vscode": {
     "languageId": "shellscript"
    }
   },
   "outputs": [],
   "source": [
    "!git diff"
   ]
  },
  {
   "cell_type": "markdown",
   "id": "83fc8a09",
   "metadata": {},
   "source": [
    "# Exercise"
   ]
  },
  {
   "cell_type": "code",
   "execution_count": null,
   "id": "185ea168",
   "metadata": {
    "vscode": {
     "languageId": "shellscript"
    }
   },
   "outputs": [
    {
     "name": "stdout",
     "output_type": "stream",
     "text": [
      "/home/amin/HeadFirstGit/headfirst-git-download/chapter04/gitanjali-aref-step-2\n"
     ]
    }
   ],
   "source": [
    "%cd ../gitanjali-aref-step-2"
   ]
  },
  {
   "cell_type": "code",
   "execution_count": null,
   "id": "f91bea90",
   "metadata": {
    "vscode": {
     "languageId": "shellscript"
    }
   },
   "outputs": [
    {
     "name": "stdout",
     "output_type": "stream",
     "text": [
      "On branch master\n",
      "Changes not staged for commit:\n",
      "  (use \"git add <file>...\" to update what will be committed)\n",
      "  (use \"git restore <file>...\" to discard changes in working directory)\n",
      "\t\u001b[31mmodified:   invitation-card.md\u001b[m\n",
      "\n",
      "no changes added to commit (use \"git add\" and/or \"git commit -a\")\n"
     ]
    }
   ],
   "source": [
    "!git status"
   ]
  },
  {
   "cell_type": "code",
   "execution_count": null,
   "id": "8a03d61f",
   "metadata": {
    "vscode": {
     "languageId": "shellscript"
    }
   },
   "outputs": [
    {
     "name": "stdout",
     "output_type": "stream",
     "text": [
      "\u001b[1mdiff --git a/invitation-card.md b/invitation-card.md\u001b[m\n",
      "\u001b[1mindex 003927e..cbe8de9 100644\u001b[m\n",
      "\u001b[1m--- a/invitation-card.md\u001b[m\n",
      "\u001b[1m+++ b/invitation-card.md\u001b[m\n",
      "\u001b[36m@@ -8,6 +8,6 @@\u001b[m\n",
      " \u001b[m\n",
      "     Gitanjali & Aref\u001b[m\n",
      " \u001b[m\n",
      "\u001b[31m-Saturday, June 25th\u001b[m\n",
      "\u001b[32m+\u001b[m\u001b[32mSaturday, July 3rd\u001b[m\n",
      " \u001b[m\n",
      "\u001b[31m-R.S.V.P to Trinity by June 1st\u001b[m\n",
      "\u001b[32m+\u001b[m\u001b[32mR.S.V.P to Trinity by June 7th\u001b[m\n"
     ]
    }
   ],
   "source": [
    "!git diff"
   ]
  },
  {
   "cell_type": "code",
   "execution_count": null,
   "id": "ff12fbd8",
   "metadata": {
    "vscode": {
     "languageId": "shellscript"
    }
   },
   "outputs": [],
   "source": [
    "!git restore invitation-card.md"
   ]
  },
  {
   "cell_type": "code",
   "execution_count": null,
   "id": "dd1e8f9b",
   "metadata": {
    "vscode": {
     "languageId": "shellscript"
    }
   },
   "outputs": [
    {
     "name": "stdout",
     "output_type": "stream",
     "text": [
      "On branch master\n",
      "nothing to commit, working tree clean\n"
     ]
    }
   ],
   "source": [
    "!git status"
   ]
  },
  {
   "cell_type": "markdown",
   "id": "d293e150",
   "metadata": {},
   "source": [
    "# Undoing changes to the index"
   ]
  },
  {
   "cell_type": "code",
   "execution_count": null,
   "id": "242fb91e",
   "metadata": {
    "vscode": {
     "languageId": "shellscript"
    }
   },
   "outputs": [
    {
     "name": "stdout",
     "output_type": "stream",
     "text": [
      "/home/amin/HeadFirstGit/headfirst-git-download/chapter04/gitanjali-aref-step-3\n"
     ]
    }
   ],
   "source": [
    "cd ../gitanjali-aref-step-3"
   ]
  },
  {
   "cell_type": "code",
   "execution_count": null,
   "id": "e6c9d151",
   "metadata": {
    "vscode": {
     "languageId": "shellscript"
    }
   },
   "outputs": [
    {
     "name": "stdout",
     "output_type": "stream",
     "text": [
      "On branch master\n",
      "Changes to be committed:\n",
      "  (use \"git restore --staged <file>...\" to unstage)\n",
      "\t\u001b[32mmodified:   invitation-card.md\u001b[m\n",
      "\n"
     ]
    }
   ],
   "source": [
    "!git status"
   ]
  },
  {
   "cell_type": "code",
   "execution_count": null,
   "id": "94a0f2c4",
   "metadata": {
    "vscode": {
     "languageId": "shellscript"
    }
   },
   "outputs": [
    {
     "name": "stdout",
     "output_type": "stream",
     "text": [
      "\u001b[1mdiff --git a/invitation-card.md b/invitation-card.md\u001b[m\n",
      "\u001b[1mindex 003927e..cbe8de9 100644\u001b[m\n",
      "\u001b[1m--- a/invitation-card.md\u001b[m\n",
      "\u001b[1m+++ b/invitation-card.md\u001b[m\n",
      "\u001b[36m@@ -8,6 +8,6 @@\u001b[m\n",
      " \u001b[m\n",
      "     Gitanjali & Aref\u001b[m\n",
      " \u001b[m\n",
      "\u001b[31m-Saturday, June 25th\u001b[m\n",
      "\u001b[32m+\u001b[m\u001b[32mSaturday, July 3rd\u001b[m\n",
      " \u001b[m\n",
      "\u001b[31m-R.S.V.P to Trinity by June 1st\u001b[m\n",
      "\u001b[32m+\u001b[m\u001b[32mR.S.V.P to Trinity by June 7th\u001b[m\n"
     ]
    }
   ],
   "source": [
    "!git diff --staged"
   ]
  },
  {
   "cell_type": "code",
   "execution_count": null,
   "id": "4ac8e55c",
   "metadata": {
    "vscode": {
     "languageId": "shellscript"
    }
   },
   "outputs": [],
   "source": [
    "!git restore --staged invitation-card.md"
   ]
  },
  {
   "cell_type": "code",
   "execution_count": null,
   "id": "9d1e2c4c",
   "metadata": {
    "vscode": {
     "languageId": "shellscript"
    }
   },
   "outputs": [
    {
     "name": "stdout",
     "output_type": "stream",
     "text": [
      "On branch master\n",
      "Changes not staged for commit:\n",
      "  (use \"git add <file>...\" to update what will be committed)\n",
      "  (use \"git restore <file>...\" to discard changes in working directory)\n",
      "\t\u001b[31mmodified:   invitation-card.md\u001b[m\n",
      "\n",
      "no changes added to commit (use \"git add\" and/or \"git commit -a\")\n"
     ]
    }
   ],
   "source": [
    "!git status"
   ]
  },
  {
   "cell_type": "markdown",
   "id": "22603f3a",
   "metadata": {},
   "source": [
    "# Removing tracked files"
   ]
  },
  {
   "cell_type": "code",
   "execution_count": null,
   "id": "b3ca2d9f",
   "metadata": {
    "vscode": {
     "languageId": "shellscript"
    }
   },
   "outputs": [
    {
     "name": "stdout",
     "output_type": "stream",
     "text": [
      "/home/amin/HeadFirstGit/headfirst-git-download/chapter04/gitanjali-aref-step-4\n"
     ]
    }
   ],
   "source": [
    "cd ../gitanjali-aref-step-4"
   ]
  },
  {
   "cell_type": "code",
   "execution_count": null,
   "id": "2d49a07c",
   "metadata": {
    "vscode": {
     "languageId": "shellscript"
    }
   },
   "outputs": [
    {
     "name": "stdout",
     "output_type": "stream",
     "text": [
      "gift-registry.md  guest-list.md  invitation-card.md\n"
     ]
    }
   ],
   "source": [
    "ls"
   ]
  },
  {
   "cell_type": "markdown",
   "id": "0b7230d4",
   "metadata": {},
   "source": [
    "### Remove tracked files from index & working directory"
   ]
  },
  {
   "cell_type": "code",
   "execution_count": null,
   "id": "0eec8727",
   "metadata": {
    "vscode": {
     "languageId": "shellscript"
    }
   },
   "outputs": [
    {
     "name": "stdout",
     "output_type": "stream",
     "text": [
      "On branch master\n",
      "nothing to commit, working tree clean\n"
     ]
    }
   ],
   "source": [
    "!git status"
   ]
  },
  {
   "cell_type": "code",
   "execution_count": null,
   "id": "42dd376c",
   "metadata": {
    "vscode": {
     "languageId": "shellscript"
    }
   },
   "outputs": [
    {
     "name": "stdout",
     "output_type": "stream",
     "text": [
      "rm 'gift-registry.md'\n"
     ]
    }
   ],
   "source": [
    "!git rm gift-registry.md"
   ]
  },
  {
   "cell_type": "code",
   "execution_count": null,
   "id": "92cb4add",
   "metadata": {
    "vscode": {
     "languageId": "shellscript"
    }
   },
   "outputs": [
    {
     "name": "stdout",
     "output_type": "stream",
     "text": [
      "On branch master\n",
      "Changes to be committed:\n",
      "  (use \"git restore --staged <file>...\" to unstage)\n",
      "\t\u001b[32mdeleted:    gift-registry.md\u001b[m\n",
      "\n"
     ]
    }
   ],
   "source": [
    "!git status"
   ]
  },
  {
   "cell_type": "code",
   "execution_count": null,
   "id": "54f97af0",
   "metadata": {
    "vscode": {
     "languageId": "shellscript"
    }
   },
   "outputs": [
    {
     "name": "stdout",
     "output_type": "stream",
     "text": [
      "guest-list.md  invitation-card.md\n"
     ]
    }
   ],
   "source": [
    "ls"
   ]
  },
  {
   "cell_type": "code",
   "execution_count": null,
   "id": "5a13a1fb",
   "metadata": {
    "vscode": {
     "languageId": "shellscript"
    }
   },
   "outputs": [
    {
     "name": "stdout",
     "output_type": "stream",
     "text": [
      "[master ca2bd22] delete gift registry\n",
      " 1 file changed, 6 deletions(-)\n",
      " delete mode 100644 gift-registry.md\n"
     ]
    }
   ],
   "source": [
    "!git commit -m \"delete gift registry\""
   ]
  },
  {
   "cell_type": "markdown",
   "id": "4a17128b",
   "metadata": {},
   "source": [
    "## Recursively remove tracked files/directories"
   ]
  },
  {
   "cell_type": "code",
   "execution_count": null,
   "id": "3d9b29ac",
   "metadata": {
    "vscode": {
     "languageId": "shellscript"
    }
   },
   "outputs": [],
   "source": [
    "git rm -r "
   ]
  },
  {
   "cell_type": "markdown",
   "id": "9c41648f",
   "metadata": {},
   "source": [
    "# Renaming (or moving) files\n"
   ]
  },
  {
   "cell_type": "code",
   "execution_count": null,
   "id": "d0b720b1",
   "metadata": {
    "vscode": {
     "languageId": "shellscript"
    }
   },
   "outputs": [
    {
     "name": "stdout",
     "output_type": "stream",
     "text": [
      "guest-list.md  invitation-card.md\n"
     ]
    }
   ],
   "source": [
    "ls"
   ]
  },
  {
   "cell_type": "code",
   "execution_count": null,
   "id": "151268a0",
   "metadata": {
    "vscode": {
     "languageId": "shellscript"
    }
   },
   "outputs": [],
   "source": [
    "!git mv guest-list.md guests-list.md"
   ]
  },
  {
   "cell_type": "code",
   "execution_count": null,
   "id": "48dbd5e7",
   "metadata": {
    "vscode": {
     "languageId": "shellscript"
    }
   },
   "outputs": [
    {
     "name": "stdout",
     "output_type": "stream",
     "text": [
      "guests-list.md  invitation-card.md\n"
     ]
    }
   ],
   "source": [
    "ls"
   ]
  },
  {
   "cell_type": "code",
   "execution_count": null,
   "id": "879ce38b",
   "metadata": {
    "vscode": {
     "languageId": "shellscript"
    }
   },
   "outputs": [
    {
     "name": "stdout",
     "output_type": "stream",
     "text": [
      "On branch master\n",
      "Changes to be committed:\n",
      "  (use \"git restore --staged <file>...\" to unstage)\n",
      "\t\u001b[32mrenamed:    guest-list.md -> guests-list.md\u001b[m\n",
      "\n"
     ]
    }
   ],
   "source": [
    "!git status"
   ]
  },
  {
   "cell_type": "markdown",
   "id": "57d5422f",
   "metadata": {},
   "source": [
    "# Editing commit messages"
   ]
  },
  {
   "cell_type": "code",
   "execution_count": null,
   "id": "7c637ae2",
   "metadata": {
    "vscode": {
     "languageId": "shellscript"
    }
   },
   "outputs": [
    {
     "name": "stdout",
     "output_type": "stream",
     "text": [
      "/home/amin/HeadFirstGit/headfirst-git-download/chapter04/gitanjali-aref-step-5\n"
     ]
    }
   ],
   "source": [
    "cd ../gitanjali-aref-step-5"
   ]
  },
  {
   "cell_type": "code",
   "execution_count": null,
   "id": "333e1ce8",
   "metadata": {
    "vscode": {
     "languageId": "shellscript"
    }
   },
   "outputs": [
    {
     "name": "stdout",
     "output_type": "stream",
     "text": [
      "* \u001b[32mcamping-trip\u001b[m\n",
      "  master\u001b[m\n"
     ]
    }
   ],
   "source": [
    "!git branch"
   ]
  },
  {
   "cell_type": "code",
   "execution_count": null,
   "id": "df3d894e",
   "metadata": {
    "vscode": {
     "languageId": "shellscript"
    }
   },
   "outputs": [
    {
     "name": "stdout",
     "output_type": "stream",
     "text": [
      "* \u001b[33mefa799d\u001b[m\u001b[33m (\u001b[m\u001b[1;36mHEAD\u001b[m\u001b[33m -> \u001b[m\u001b[1;32mcamping-trip\u001b[m\u001b[33m)\u001b[m final outdoors plan\n",
      "* \u001b[33m8d704f8\u001b[m\u001b[33m (\u001b[m\u001b[1;32mmaster\u001b[m\u001b[33m)\u001b[m first cut at invitation card\n",
      "* \u001b[33m6e16680\u001b[m initial set of guests and gift registry\n"
     ]
    }
   ],
   "source": [
    "!git log --oneline --all --graph"
   ]
  },
  {
   "cell_type": "code",
   "execution_count": null,
   "id": "5334fb8a",
   "metadata": {
    "vscode": {
     "languageId": "shellscript"
    }
   },
   "outputs": [
    {
     "name": "stdout",
     "output_type": "stream",
     "text": [
      "On branch camping-trip\n",
      "nothing to commit, working tree clean\n"
     ]
    }
   ],
   "source": [
    "! git status"
   ]
  },
  {
   "cell_type": "markdown",
   "id": "84b211c7",
   "metadata": {},
   "source": [
    "### Amend last commit with new message"
   ]
  },
  {
   "cell_type": "code",
   "execution_count": null,
   "id": "a0753855",
   "metadata": {
    "vscode": {
     "languageId": "shellscript"
    }
   },
   "outputs": [
    {
     "name": "stdout",
     "output_type": "stream",
     "text": [
      "[camping-trip bfceb32] initial outdoors plan\n",
      " Date: Sat Mar 13 14:48:54 2021 -0500\n",
      " 1 file changed, 17 insertions(+)\n",
      " create mode 100644 outdoor-supplies.md\n"
     ]
    }
   ],
   "source": [
    "!git commit --amend -m \"initial outdoors plan\""
   ]
  },
  {
   "cell_type": "code",
   "execution_count": null,
   "id": "bfdc43c8",
   "metadata": {
    "vscode": {
     "languageId": "shellscript"
    }
   },
   "outputs": [
    {
     "name": "stdout",
     "output_type": "stream",
     "text": [
      "* \u001b[33mbfceb32\u001b[m\u001b[33m (\u001b[m\u001b[1;36mHEAD\u001b[m\u001b[33m -> \u001b[m\u001b[1;32mcamping-trip\u001b[m\u001b[33m)\u001b[m initial outdoors plan\n",
      "* \u001b[33m8d704f8\u001b[m\u001b[33m (\u001b[m\u001b[1;32mmaster\u001b[m\u001b[33m)\u001b[m first cut at invitation card\n",
      "* \u001b[33m6e16680\u001b[m initial set of guests and gift registry\n"
     ]
    }
   ],
   "source": [
    "!git log --oneline --all --graph"
   ]
  },
  {
   "cell_type": "markdown",
   "id": "803d17a6",
   "metadata": {},
   "source": [
    "# Renaming branches\n"
   ]
  },
  {
   "cell_type": "code",
   "execution_count": null,
   "id": "5bd4ac09",
   "metadata": {
    "vscode": {
     "languageId": "shellscript"
    }
   },
   "outputs": [
    {
     "name": "stdout",
     "output_type": "stream",
     "text": [
      "/home/amin/HeadFirstGit/headfirst-git-download/chapter04/gitanjali-aref-step-6\n"
     ]
    }
   ],
   "source": [
    "cd ../gitanjali-aref-step-6"
   ]
  },
  {
   "cell_type": "code",
   "execution_count": null,
   "id": "92273557",
   "metadata": {
    "vscode": {
     "languageId": "shellscript"
    }
   },
   "outputs": [
    {
     "name": "stdout",
     "output_type": "stream",
     "text": [
      "* \u001b[32mcamping-trip\u001b[m\n",
      "  master\u001b[m\n"
     ]
    }
   ],
   "source": [
    "!git branch"
   ]
  },
  {
   "cell_type": "markdown",
   "id": "a6f81a16",
   "metadata": {},
   "source": [
    "### Rename current branch"
   ]
  },
  {
   "cell_type": "code",
   "execution_count": null,
   "id": "c432a82c",
   "metadata": {
    "vscode": {
     "languageId": "shellscript"
    }
   },
   "outputs": [],
   "source": [
    "!git branch -m glamping-trip"
   ]
  },
  {
   "cell_type": "markdown",
   "id": "dec00f87",
   "metadata": {},
   "source": [
    "### Rename branch without switching "
   ]
  },
  {
   "cell_type": "code",
   "execution_count": null,
   "id": "d984e41a",
   "metadata": {
    "vscode": {
     "languageId": "shellscript"
    }
   },
   "outputs": [],
   "source": [
    "!git branch -m camping-trip glamping-trip"
   ]
  },
  {
   "cell_type": "code",
   "execution_count": null,
   "id": "17e9ca44",
   "metadata": {
    "vscode": {
     "languageId": "shellscript"
    }
   },
   "outputs": [
    {
     "name": "stdout",
     "output_type": "stream",
     "text": [
      "* \u001b[32mglamping-trip\u001b[m\n",
      "  master\u001b[m\n"
     ]
    }
   ],
   "source": [
    "!git branch"
   ]
  },
  {
   "cell_type": "markdown",
   "id": "775bbb92",
   "metadata": {},
   "source": [
    "## Renaming without switching"
   ]
  },
  {
   "cell_type": "code",
   "execution_count": null,
   "id": "94ea958c",
   "metadata": {
    "vscode": {
     "languageId": "shellscript"
    }
   },
   "outputs": [],
   "source": [
    "!git branch -m master main"
   ]
  },
  {
   "cell_type": "code",
   "execution_count": null,
   "id": "94cb0178",
   "metadata": {
    "vscode": {
     "languageId": "shellscript"
    }
   },
   "outputs": [
    {
     "name": "stdout",
     "output_type": "stream",
     "text": [
      "* \u001b[32mglamping-trip\u001b[m\n",
      "  main\u001b[m\n"
     ]
    }
   ],
   "source": [
    "!git branch"
   ]
  },
  {
   "cell_type": "markdown",
   "id": "05eef1a3",
   "metadata": {},
   "source": [
    "# Making alternative plans"
   ]
  },
  {
   "cell_type": "code",
   "execution_count": null,
   "id": "36ca21c4",
   "metadata": {
    "vscode": {
     "languageId": "shellscript"
    }
   },
   "outputs": [
    {
     "name": "stdout",
     "output_type": "stream",
     "text": [
      "/home/amin/HeadFirstGit/headfirst-git-download/chapter04/gitanjali-aref-step-7\n"
     ]
    }
   ],
   "source": [
    "%cd ../gitanjali-aref-step-7"
   ]
  },
  {
   "cell_type": "code",
   "execution_count": null,
   "id": "9093c4b2",
   "metadata": {
    "vscode": {
     "languageId": "shellscript"
    }
   },
   "outputs": [
    {
     "name": "stdout",
     "output_type": "stream",
     "text": [
      "* \u001b[32mboardgame-night\u001b[m\n",
      "  glamping-trip\u001b[m\n",
      "  main\u001b[m\n"
     ]
    }
   ],
   "source": [
    "!git branch"
   ]
  },
  {
   "cell_type": "code",
   "execution_count": null,
   "id": "4a27cf95",
   "metadata": {
    "vscode": {
     "languageId": "shellscript"
    }
   },
   "outputs": [
    {
     "name": "stdout",
     "output_type": "stream",
     "text": [
      "* \u001b[33m39107a6\u001b[m\u001b[33m (\u001b[m\u001b[1;36mHEAD\u001b[m\u001b[33m -> \u001b[m\u001b[1;32mboardgame-night\u001b[m\u001b[33m)\u001b[m add games and list potential boardgame night venues\n",
      "* \u001b[33m3e3e847\u001b[m initial boardgame planning\n",
      "\u001b[31m|\u001b[m * \u001b[33mcf5e718\u001b[m\u001b[33m (\u001b[m\u001b[1;32mglamping-trip\u001b[m\u001b[33m)\u001b[m initial outdoors plan\n",
      "\u001b[31m|\u001b[m\u001b[31m/\u001b[m  \n",
      "* \u001b[33m8d704f8\u001b[m\u001b[33m (\u001b[m\u001b[1;32mmain\u001b[m\u001b[33m)\u001b[m first cut at invitation card\n",
      "* \u001b[33m6e16680\u001b[m initial set of guests and gift registry\n"
     ]
    }
   ],
   "source": [
    "!git log --oneline --all --graph"
   ]
  },
  {
   "cell_type": "code",
   "execution_count": null,
   "id": "03921c79",
   "metadata": {
    "vscode": {
     "languageId": "shellscript"
    }
   },
   "outputs": [
    {
     "name": "stdout",
     "output_type": "stream",
     "text": [
      "\u001b[1mdiff --git a/boardgame-venues.md b/boardgame-venues.md\u001b[m\n",
      "\u001b[1mnew file mode 100644\u001b[m\n",
      "\u001b[1mindex 0000000..c3684a0\u001b[m\n",
      "\u001b[1m--- /dev/null\u001b[m\n",
      "\u001b[1m+++ b/boardgame-venues.md\u001b[m\n",
      "\u001b[36m@@ -0,0 +1,6 @@\u001b[m\n",
      "\u001b[32m+\u001b[m\u001b[32m# A list of potential game-cafe venues for board-game night\u001b[m\n",
      "\u001b[32m+\u001b[m\n",
      "\u001b[32m+\u001b[m\u001b[32m- Winner's Game Cafe\u001b[m\u001b[41m \u001b[m\n",
      "\u001b[32m+\u001b[m\u001b[32m- Rogues and Rangers Tavern\u001b[m\u001b[41m \u001b[m\n",
      "\u001b[32m+\u001b[m\u001b[32m- Natural 20 Games & Coffee\u001b[m\n",
      "\u001b[32m+\u001b[m\u001b[32m- Bottleship Gaming Bar\u001b[m\n",
      "\u001b[1mdiff --git a/indoor-party.md b/indoor-party.md\u001b[m\n",
      "\u001b[1mindex 2064ec5..6ca6def 100644\u001b[m\n",
      "\u001b[1m--- a/indoor-party.md\u001b[m\n",
      "\u001b[1m+++ b/indoor-party.md\u001b[m\n",
      "\u001b[36m@@ -16,5 +16,6 @@\u001b[m \u001b[mHere are just a few of the games we can play:\u001b[m\n",
      " * Exploding Kittens\u001b[m\n",
      " \u001b[m\n",
      " Feel free to bring your favorite games.\u001b[m\n",
      "\u001b[32m+\u001b[m\u001b[32mVenue decision will probably happen at the roll of a 20-sided die!\u001b[m\n",
      " \u001b[m\n",
      " And remember, as long as we are together, we're all winners.\u001b[m\n"
     ]
    }
   ],
   "source": [
    "!git diff 3e3e847 39107a6"
   ]
  },
  {
   "cell_type": "markdown",
   "id": "201b4e42",
   "metadata": {},
   "source": [
    "# The role of HEAD\n"
   ]
  },
  {
   "cell_type": "markdown",
   "id": "ea168089",
   "metadata": {},
   "source": [
    "**HEAD refers to the most recent commit on the branch you're currently on.**"
   ]
  },
  {
   "cell_type": "code",
   "execution_count": null,
   "id": "f6267814",
   "metadata": {
    "vscode": {
     "languageId": "shellscript"
    }
   },
   "outputs": [
    {
     "name": "stdout",
     "output_type": "stream",
     "text": [
      "/home/amin/HeadFirstGit/headfirst-git-download/chapter04/gitanjali-aref-step-7\n"
     ]
    }
   ],
   "source": [
    "cd ../gitanjali-aref-step-7"
   ]
  },
  {
   "cell_type": "code",
   "execution_count": null,
   "id": "e3bfcb13",
   "metadata": {
    "vscode": {
     "languageId": "shellscript"
    }
   },
   "outputs": [
    {
     "name": "stdout",
     "output_type": "stream",
     "text": [
      "* \u001b[33m39107a6\u001b[m\u001b[33m (\u001b[m\u001b[1;36mHEAD\u001b[m\u001b[33m -> \u001b[m\u001b[1;32mboardgame-night\u001b[m\u001b[33m)\u001b[m add games and list potential boardgame night venues\n",
      "* \u001b[33m3e3e847\u001b[m initial boardgame planning\n",
      "\u001b[31m|\u001b[m * \u001b[33mcf5e718\u001b[m\u001b[33m (\u001b[m\u001b[1;32mglamping-trip\u001b[m\u001b[33m)\u001b[m initial outdoors plan\n",
      "\u001b[31m|\u001b[m\u001b[31m/\u001b[m  \n",
      "* \u001b[33m8d704f8\u001b[m\u001b[33m (\u001b[m\u001b[1;32mmain\u001b[m\u001b[33m)\u001b[m first cut at invitation card\n",
      "* \u001b[33m6e16680\u001b[m initial set of guests and gift registry\n"
     ]
    }
   ],
   "source": [
    "!git log --graph --oneline --all"
   ]
  },
  {
   "cell_type": "code",
   "execution_count": null,
   "id": "6106b302",
   "metadata": {
    "vscode": {
     "languageId": "shellscript"
    }
   },
   "outputs": [
    {
     "name": "stdout",
     "output_type": "stream",
     "text": [
      "Switched to branch 'glamping-trip'\n"
     ]
    }
   ],
   "source": [
    "!git switch glamping-trip"
   ]
  },
  {
   "cell_type": "code",
   "execution_count": null,
   "id": "02f83b39",
   "metadata": {
    "vscode": {
     "languageId": "shellscript"
    }
   },
   "outputs": [
    {
     "name": "stdout",
     "output_type": "stream",
     "text": [
      "* \u001b[33m39107a6\u001b[m\u001b[33m (\u001b[m\u001b[1;32mboardgame-night\u001b[m\u001b[33m)\u001b[m add games and list potential boardgame night venues\n",
      "* \u001b[33m3e3e847\u001b[m initial boardgame planning\n",
      "\u001b[31m|\u001b[m * \u001b[33mcf5e718\u001b[m\u001b[33m (\u001b[m\u001b[1;36mHEAD\u001b[m\u001b[33m -> \u001b[m\u001b[1;32mglamping-trip\u001b[m\u001b[33m)\u001b[m initial outdoors plan\n",
      "\u001b[31m|\u001b[m\u001b[31m/\u001b[m  \n",
      "* \u001b[33m8d704f8\u001b[m\u001b[33m (\u001b[m\u001b[1;32mmain\u001b[m\u001b[33m)\u001b[m first cut at invitation card\n",
      "* \u001b[33m6e16680\u001b[m initial set of guests and gift registry\n"
     ]
    }
   ],
   "source": [
    "!git log --graph --oneline --all"
   ]
  },
  {
   "cell_type": "code",
   "execution_count": null,
   "id": "186ef94d",
   "metadata": {
    "vscode": {
     "languageId": "shellscript"
    }
   },
   "outputs": [
    {
     "name": "stdout",
     "output_type": "stream",
     "text": [
      "Switched to branch 'main'\n",
      "* \u001b[33m39107a6\u001b[m\u001b[33m (\u001b[m\u001b[1;32mboardgame-night\u001b[m\u001b[33m)\u001b[m add games and list potential boardgame night venues\n",
      "* \u001b[33m3e3e847\u001b[m initial boardgame planning\n",
      "\u001b[31m|\u001b[m * \u001b[33mcf5e718\u001b[m\u001b[33m (\u001b[m\u001b[1;32mglamping-trip\u001b[m\u001b[33m)\u001b[m initial outdoors plan\n",
      "\u001b[31m|\u001b[m\u001b[31m/\u001b[m  \n",
      "* \u001b[33m8d704f8\u001b[m\u001b[33m (\u001b[m\u001b[1;36mHEAD\u001b[m\u001b[33m -> \u001b[m\u001b[1;32mmain\u001b[m\u001b[33m)\u001b[m first cut at invitation card\n",
      "* \u001b[33m6e16680\u001b[m initial set of guests and gift registry\n"
     ]
    }
   ],
   "source": [
    "!git switch main\n",
    "!git log --graph --oneline --all"
   ]
  },
  {
   "cell_type": "markdown",
   "id": "ad37a758",
   "metadata": {},
   "source": [
    "# Referencing commits using HEAD\n"
   ]
  },
  {
   "cell_type": "code",
   "execution_count": null,
   "id": "6693ddbf",
   "metadata": {
    "vscode": {
     "languageId": "shellscript"
    }
   },
   "outputs": [
    {
     "name": "stdout",
     "output_type": "stream",
     "text": [
      "Switched to branch 'boardgame-night'\n"
     ]
    }
   ],
   "source": [
    "!git switch boardgame-night"
   ]
  },
  {
   "cell_type": "code",
   "execution_count": null,
   "id": "d1529b42",
   "metadata": {
    "vscode": {
     "languageId": "shellscript"
    }
   },
   "outputs": [
    {
     "name": "stdout",
     "output_type": "stream",
     "text": [
      "\u001b[1mdiff --git a/boardgame-venues.md b/boardgame-venues.md\u001b[m\n",
      "\u001b[1mdeleted file mode 100644\u001b[m\n",
      "\u001b[1mindex c3684a0..0000000\u001b[m\n",
      "\u001b[1m--- a/boardgame-venues.md\u001b[m\n",
      "\u001b[1m+++ /dev/null\u001b[m\n",
      "\u001b[36m@@ -1,6 +0,0 @@\u001b[m\n",
      "\u001b[31m-# A list of potential game-cafe venues for board-game night\u001b[m\n",
      "\u001b[31m-\u001b[m\n",
      "\u001b[31m-- Winner's Game Cafe \u001b[m\n",
      "\u001b[31m-- Rogues and Rangers Tavern \u001b[m\n",
      "\u001b[31m-- Natural 20 Games & Coffee\u001b[m\n",
      "\u001b[31m-- Bottleship Gaming Bar\u001b[m\n",
      "\u001b[1mdiff --git a/indoor-party.md b/indoor-party.md\u001b[m\n",
      "\u001b[1mdeleted file mode 100644\u001b[m\n",
      "\u001b[1mindex 6ca6def..0000000\u001b[m\n",
      "\u001b[1m--- a/indoor-party.md\u001b[m\n",
      "\u001b[1m+++ /dev/null\u001b[m\n",
      "\u001b[36m@@ -1,21 +0,0 @@\u001b[m\n",
      "\u001b[31m-# Love always wins!\u001b[m\n",
      "\u001b[31m-\u001b[m\n",
      "\u001b[31m-It's an engagement party for Gitanjali and Aref!\u001b[m\n",
      "\u001b[31m-Join us for a board-game night full of unlimited fun, food and drinks.\u001b[m\n",
      "\u001b[31m-\u001b[m\n",
      "\u001b[31m-Here are just a few of the games we can play:\u001b[m\n",
      "\u001b[31m-\u001b[m\n",
      "\u001b[31m-* Settlers of Catan\u001b[m\n",
      "\u001b[31m-* Splendor\u001b[m\n",
      "\u001b[31m-* Azul\u001b[m\n",
      "\u001b[31m-* Carcassonne\u001b[m\n",
      "\u001b[31m-* Scattergories\u001b[m\n",
      "\u001b[31m-* Munchkin\u001b[m\n",
      "\u001b[31m-* Apples to Apples\u001b[m\n",
      "\u001b[31m-* Dragonwood\u001b[m\n",
      "\u001b[31m-* Exploding Kittens\u001b[m\n",
      "\u001b[31m-\u001b[m\n",
      "\u001b[31m-Feel free to bring your favorite games.\u001b[m\n",
      "\u001b[31m-Venue decision will probably happen at the roll of a 20-sided die!\u001b[m\n",
      "\u001b[31m-\u001b[m\n",
      "\u001b[31m-And remember, as long as we are together, we're all winners.\u001b[m\n",
      "\u001b[1mdiff --git a/invitation-card.md b/invitation-card.md\u001b[m\n",
      "\u001b[1mdeleted file mode 100644\u001b[m\n",
      "\u001b[1mindex 003927e..0000000\u001b[m\n",
      "\u001b[1m--- a/invitation-card.md\u001b[m\n",
      "\u001b[1m+++ /dev/null\u001b[m\n",
      "\u001b[36m@@ -1,13 +0,0 @@\u001b[m\n",
      "\u001b[31m-# Rings just got real!\u001b[m\n",
      "\u001b[31m-\u001b[m\n",
      "\u001b[31m-  Please join us for an\u001b[m\n",
      "\u001b[31m-\u001b[m\n",
      "\u001b[31m-    Engagement Party\u001b[m\n",
      "\u001b[31m-\u001b[m\n",
      "\u001b[31m-      in honor of\u001b[m\n",
      "\u001b[31m-\u001b[m\n",
      "\u001b[31m-    Gitanjali & Aref\u001b[m\n",
      "\u001b[31m-\u001b[m\n",
      "\u001b[31m-Saturday, June 25th\u001b[m\n",
      "\u001b[31m-\u001b[m\n",
      "\u001b[31m-R.S.V.P to Trinity by June 1st\u001b[m\n"
     ]
    }
   ],
   "source": [
    "!git diff HEAD HEAD~2^1"
   ]
  },
  {
   "cell_type": "markdown",
   "id": "94e653eb",
   "metadata": {},
   "source": [
    "# Undoing commits\n"
   ]
  },
  {
   "cell_type": "markdown",
   "id": "c716e63d",
   "metadata": {},
   "source": [
    "### `git reset` Summary\n",
    "\n",
    "`git reset` moves `HEAD` to a specified commit and can optionally affect the index and working directory:\n",
    "\n",
    "- **`--soft`**  \n",
    "  Moves `HEAD` only. Keeps changes staged and in the working directory.  \n",
    "  → Useful to undo a commit without losing your work.\n",
    "\n",
    "- **`--mixed`** (default)  \n",
    "  Moves `HEAD` and resets the index. Working directory remains unchanged.  \n",
    "  → Unstages changes but keeps them.\n",
    "\n",
    "- **`--hard`**  \n",
    "  Resets `HEAD`, index, and working directory.  \n",
    "  → All uncommitted changes are lost.\n",
    "\n",
    "#### Example: Commit B after A, now trying to undo B\n",
    "\n",
    "| Mode       | Working Dir | Index | Object DB |\n",
    "|------------|-------------|--------|------------|\n",
    "| Default    | B           | B      | B          |\n",
    "| `--soft`   | B           | B      | A          |\n",
    "| `--mixed`  | B           | A      | A          |\n",
    "| `--hard`   | A           | A      | A          |\n",
    "\n",
    " `--hard` completely removes B\n"
   ]
  },
  {
   "cell_type": "code",
   "execution_count": null,
   "id": "66b2fc07",
   "metadata": {
    "vscode": {
     "languageId": "shellscript"
    }
   },
   "outputs": [
    {
     "name": "stdout",
     "output_type": "stream",
     "text": [
      "* \u001b[32mboardgame-night\u001b[m\n",
      "  glamping-trip\u001b[m\n",
      "  main\u001b[m\n"
     ]
    }
   ],
   "source": [
    "!git branch"
   ]
  },
  {
   "cell_type": "code",
   "execution_count": null,
   "id": "d4d8b3b5",
   "metadata": {
    "vscode": {
     "languageId": "shellscript"
    }
   },
   "outputs": [
    {
     "name": "stdout",
     "output_type": "stream",
     "text": [
      "Unstaged changes after reset:\n",
      "M\tindoor-party.md\n"
     ]
    }
   ],
   "source": [
    "!git reset HEAD~1"
   ]
  },
  {
   "cell_type": "code",
   "execution_count": null,
   "id": "656333d3",
   "metadata": {
    "vscode": {
     "languageId": "shellscript"
    }
   },
   "outputs": [
    {
     "name": "stdout",
     "output_type": "stream",
     "text": [
      "On branch boardgame-night\n",
      "Changes not staged for commit:\n",
      "  (use \"git add <file>...\" to update what will be committed)\n",
      "  (use \"git restore <file>...\" to discard changes in working directory)\n",
      "\t\u001b[31mmodified:   indoor-party.md\u001b[m\n",
      "\n",
      "Untracked files:\n",
      "  (use \"git add <file>...\" to include in what will be committed)\n",
      "\t\u001b[31mboardgame-venues.md\u001b[m\n",
      "\n",
      "no changes added to commit (use \"git add\" and/or \"git commit -a\")\n"
     ]
    }
   ],
   "source": [
    "!git status"
   ]
  },
  {
   "cell_type": "code",
   "execution_count": null,
   "id": "67465aeb",
   "metadata": {
    "vscode": {
     "languageId": "shellscript"
    }
   },
   "outputs": [],
   "source": [
    "!git restore indoor-party.md"
   ]
  },
  {
   "cell_type": "code",
   "execution_count": null,
   "id": "53ec0cf4",
   "metadata": {
    "vscode": {
     "languageId": "shellscript"
    }
   },
   "outputs": [
    {
     "name": "stdout",
     "output_type": "stream",
     "text": [
      "On branch boardgame-night\n",
      "Untracked files:\n",
      "  (use \"git add <file>...\" to include in what will be committed)\n",
      "\t\u001b[31mboardgame-venues.md\u001b[m\n",
      "\n",
      "nothing added to commit but untracked files present (use \"git add\" to track)\n"
     ]
    }
   ],
   "source": [
    "!git status"
   ]
  },
  {
   "cell_type": "code",
   "execution_count": null,
   "id": "e19baecf",
   "metadata": {
    "vscode": {
     "languageId": "shellscript"
    }
   },
   "outputs": [],
   "source": [
    "!rm boardgame-venues.md"
   ]
  },
  {
   "cell_type": "code",
   "execution_count": null,
   "id": "b9f143c9",
   "metadata": {
    "vscode": {
     "languageId": "shellscript"
    }
   },
   "outputs": [
    {
     "name": "stdout",
     "output_type": "stream",
     "text": [
      "On branch boardgame-night\n",
      "nothing to commit, working tree clean\n"
     ]
    }
   ],
   "source": [
    "!git status"
   ]
  },
  {
   "cell_type": "code",
   "execution_count": null,
   "id": "fe232e0c",
   "metadata": {
    "vscode": {
     "languageId": "shellscript"
    }
   },
   "outputs": [
    {
     "name": "stdout",
     "output_type": "stream",
     "text": [
      "* \u001b[33m3e3e847\u001b[m\u001b[33m (\u001b[m\u001b[1;36mHEAD\u001b[m\u001b[33m -> \u001b[m\u001b[1;32mboardgame-night\u001b[m\u001b[33m)\u001b[m initial boardgame planning\n",
      "\u001b[31m|\u001b[m * \u001b[33mcf5e718\u001b[m\u001b[33m (\u001b[m\u001b[1;32mglamping-trip\u001b[m\u001b[33m)\u001b[m initial outdoors plan\n",
      "\u001b[31m|\u001b[m\u001b[31m/\u001b[m  \n",
      "* \u001b[33m8d704f8\u001b[m\u001b[33m (\u001b[m\u001b[1;32mmain\u001b[m\u001b[33m)\u001b[m first cut at invitation card\n",
      "* \u001b[33m6e16680\u001b[m initial set of guests and gift registry\n"
     ]
    }
   ],
   "source": [
    "!git log --graph --oneline --all"
   ]
  },
  {
   "cell_type": "markdown",
   "id": "c8e9f45e",
   "metadata": {},
   "source": [
    "# Reverting commits\n",
    "> `git reset` moves your current `HEAD` to a **target commit**, while `git revert` acts on the **commit you specify**, creating a new one that reverses its changes.\n",
    "\n",
    "**reset = \"go to that commit\"**\n",
    "\n",
    "**revert = \"undo this specific commit\"**"
   ]
  },
  {
   "cell_type": "code",
   "execution_count": null,
   "id": "e3b17bfe",
   "metadata": {
    "vscode": {
     "languageId": "shellscript"
    }
   },
   "outputs": [
    {
     "name": "stdout",
     "output_type": "stream",
     "text": [
      "/home/amin/HeadFirstGit/headfirst-git-download/chapter04/gitanjali-aref-step-8\n"
     ]
    }
   ],
   "source": [
    "cd ../gitanjali-aref-step-8"
   ]
  },
  {
   "cell_type": "code",
   "execution_count": null,
   "id": "a356ad76",
   "metadata": {
    "vscode": {
     "languageId": "shellscript"
    }
   },
   "outputs": [
    {
     "name": "stdout",
     "output_type": "stream",
     "text": [
      "* \u001b[32mboardgame-night\u001b[m\n",
      "  glamping-trip\u001b[m\n",
      "  main\u001b[m\n"
     ]
    }
   ],
   "source": [
    "!git branch"
   ]
  },
  {
   "cell_type": "code",
   "execution_count": null,
   "id": "e6d5d888",
   "metadata": {
    "vscode": {
     "languageId": "shellscript"
    }
   },
   "outputs": [
    {
     "name": "stdout",
     "output_type": "stream",
     "text": [
      "On branch boardgame-night\n",
      "nothing to commit, working tree clean\n"
     ]
    }
   ],
   "source": [
    "!git status"
   ]
  },
  {
   "cell_type": "code",
   "execution_count": null,
   "id": "8fa6b244",
   "metadata": {
    "vscode": {
     "languageId": "shellscript"
    }
   },
   "outputs": [
    {
     "name": "stdout",
     "output_type": "stream",
     "text": [
      "* \u001b[33m39107a6\u001b[m\u001b[33m (\u001b[m\u001b[1;36mHEAD\u001b[m\u001b[33m -> \u001b[m\u001b[1;32mboardgame-night\u001b[m\u001b[33m)\u001b[m add games and list potential boardgame night venues\n",
      "* \u001b[33m3e3e847\u001b[m initial boardgame planning\n",
      "\u001b[31m|\u001b[m * \u001b[33mcf5e718\u001b[m\u001b[33m (\u001b[m\u001b[1;32mglamping-trip\u001b[m\u001b[33m)\u001b[m initial outdoors plan\n",
      "\u001b[31m|\u001b[m\u001b[31m/\u001b[m  \n",
      "* \u001b[33m8d704f8\u001b[m\u001b[33m (\u001b[m\u001b[1;32mmain\u001b[m\u001b[33m)\u001b[m first cut at invitation card\n",
      "* \u001b[33m6e16680\u001b[m initial set of guests and gift registry\n"
     ]
    }
   ],
   "source": [
    "!git log --oneline --graph --all"
   ]
  },
  {
   "cell_type": "code",
   "execution_count": null,
   "id": "0e0faf64",
   "metadata": {
    "vscode": {
     "languageId": "shellscript"
    }
   },
   "outputs": [
    {
     "name": "stdout",
     "output_type": "stream",
     "text": [
      "error: your local changes would be overwritten by revert.\n",
      "\u001b[33mhint: commit your changes or stash them to proceed.\u001b[m\n",
      "fatal: revert failed\n"
     ]
    }
   ],
   "source": [
    "!git revert HEAD "
   ]
  },
  {
   "cell_type": "code",
   "execution_count": null,
   "id": "2902feb1",
   "metadata": {
    "vscode": {
     "languageId": "shellscript"
    }
   },
   "outputs": [
    {
     "name": "stdout",
     "output_type": "stream",
     "text": [
      "* \u001b[33m0736447\u001b[m\u001b[33m (\u001b[m\u001b[1;36mHEAD\u001b[m\u001b[33m -> \u001b[m\u001b[1;32mboardgame-night\u001b[m\u001b[33m)\u001b[m Undo\n",
      "* \u001b[33m39107a6\u001b[m add games and list potential boardgame night venues\n",
      "* \u001b[33m3e3e847\u001b[m initial boardgame planning\n",
      "\u001b[31m|\u001b[m * \u001b[33mcf5e718\u001b[m\u001b[33m (\u001b[m\u001b[1;32mglamping-trip\u001b[m\u001b[33m)\u001b[m initial outdoors plan\n",
      "\u001b[31m|\u001b[m\u001b[31m/\u001b[m  \n",
      "* \u001b[33m8d704f8\u001b[m\u001b[33m (\u001b[m\u001b[1;32mmain\u001b[m\u001b[33m)\u001b[m first cut at invitation card\n",
      "* \u001b[33m6e16680\u001b[m initial set of guests and gift registry\n"
     ]
    }
   ],
   "source": [
    "!git log --oneline --graph --all"
   ]
  },
  {
   "cell_type": "code",
   "execution_count": null,
   "id": "fa2425fe",
   "metadata": {
    "vscode": {
     "languageId": "shellscript"
    }
   },
   "outputs": [
    {
     "name": "stdout",
     "output_type": "stream",
     "text": [
      "On branch boardgame-night\n",
      "nothing to commit, working tree clean\n"
     ]
    }
   ],
   "source": [
    "!git status"
   ]
  }
 ],
 "metadata": {
  "kernelspec": {
   "display_name": "Python 3",
   "language": "python",
   "name": "python3"
  },
  "language_info": {
   "codemirror_mode": {
    "name": "ipython",
    "version": 3
   },
   "file_extension": ".py",
   "mimetype": "text/x-python",
   "name": "python",
   "nbconvert_exporter": "python",
   "pygments_lexer": "ipython3",
   "version": "3.12.3"
  }
 },
 "nbformat": 4,
 "nbformat_minor": 5
}
