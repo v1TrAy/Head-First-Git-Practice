{
 "cells": [
  {
   "cell_type": "markdown",
   "id": "9ba3d1e5",
   "metadata": {},
   "source": [
    "# An error in judgment\n"
   ]
  },
  {
   "cell_type": "code",
   "execution_count": 2,
   "id": "01b01b5e",
   "metadata": {
    "vscode": {
     "languageId": "shellscript"
    }
   },
   "outputs": [
    {
     "name": "stdout",
     "output_type": "stream",
     "text": [
      "/home/amin/HeadFirstGit/headfirst-git-download/chapter04/gitanjali-aref-step-1\n"
     ]
    }
   ],
   "source": [
    "cd /home/amin/HeadFirstGit/headfirst-git-download/chapter04/gitanjali-aref-step-1"
   ]
  },
  {
   "cell_type": "code",
   "execution_count": 3,
   "id": "387a59ad",
   "metadata": {
    "vscode": {
     "languageId": "shellscript"
    }
   },
   "outputs": [
    {
     "name": "stdout",
     "output_type": "stream",
     "text": [
      "* \u001b[33m8d704f8\u001b[m\u001b[33m (\u001b[m\u001b[1;36mHEAD\u001b[m\u001b[33m -> \u001b[m\u001b[1;32mmaster\u001b[m\u001b[33m)\u001b[m first cut at invitation card\n",
      "* \u001b[33m6e16680\u001b[m initial set of guests and gift registry\n"
     ]
    }
   ],
   "source": [
    "!git log --all --oneline --graph"
   ]
  },
  {
   "cell_type": "code",
   "execution_count": null,
   "id": "b4ca57c8",
   "metadata": {
    "vscode": {
     "languageId": "shellscript"
    }
   },
   "outputs": [],
   "source": []
  },
  {
   "cell_type": "code",
   "execution_count": 4,
   "id": "184a9fc0",
   "metadata": {
    "vscode": {
     "languageId": "shellscript"
    }
   },
   "outputs": [],
   "source": [
    "!git diff"
   ]
  },
  {
   "cell_type": "markdown",
   "id": "83fc8a09",
   "metadata": {},
   "source": [
    "# Exercise"
   ]
  },
  {
   "cell_type": "code",
   "execution_count": 5,
   "id": "185ea168",
   "metadata": {
    "vscode": {
     "languageId": "shellscript"
    }
   },
   "outputs": [
    {
     "name": "stdout",
     "output_type": "stream",
     "text": [
      "/home/amin/HeadFirstGit/headfirst-git-download/chapter04/gitanjali-aref-step-2\n"
     ]
    }
   ],
   "source": [
    "%cd ../gitanjali-aref-step-2"
   ]
  },
  {
   "cell_type": "code",
   "execution_count": 6,
   "id": "f91bea90",
   "metadata": {
    "vscode": {
     "languageId": "shellscript"
    }
   },
   "outputs": [
    {
     "name": "stdout",
     "output_type": "stream",
     "text": [
      "On branch master\n",
      "Changes not staged for commit:\n",
      "  (use \"git add <file>...\" to update what will be committed)\n",
      "  (use \"git restore <file>...\" to discard changes in working directory)\n",
      "\t\u001b[31mmodified:   invitation-card.md\u001b[m\n",
      "\n",
      "no changes added to commit (use \"git add\" and/or \"git commit -a\")\n"
     ]
    }
   ],
   "source": [
    "!git status"
   ]
  },
  {
   "cell_type": "code",
   "execution_count": 7,
   "id": "8a03d61f",
   "metadata": {
    "vscode": {
     "languageId": "shellscript"
    }
   },
   "outputs": [
    {
     "name": "stdout",
     "output_type": "stream",
     "text": [
      "\u001b[1mdiff --git a/invitation-card.md b/invitation-card.md\u001b[m\n",
      "\u001b[1mindex 003927e..cbe8de9 100644\u001b[m\n",
      "\u001b[1m--- a/invitation-card.md\u001b[m\n",
      "\u001b[1m+++ b/invitation-card.md\u001b[m\n",
      "\u001b[36m@@ -8,6 +8,6 @@\u001b[m\n",
      " \u001b[m\n",
      "     Gitanjali & Aref\u001b[m\n",
      " \u001b[m\n",
      "\u001b[31m-Saturday, June 25th\u001b[m\n",
      "\u001b[32m+\u001b[m\u001b[32mSaturday, July 3rd\u001b[m\n",
      " \u001b[m\n",
      "\u001b[31m-R.S.V.P to Trinity by June 1st\u001b[m\n",
      "\u001b[32m+\u001b[m\u001b[32mR.S.V.P to Trinity by June 7th\u001b[m\n"
     ]
    }
   ],
   "source": [
    "!git diff"
   ]
  },
  {
   "cell_type": "code",
   "execution_count": 8,
   "id": "ff12fbd8",
   "metadata": {
    "vscode": {
     "languageId": "shellscript"
    }
   },
   "outputs": [],
   "source": [
    "!git restore invitation-card.md"
   ]
  },
  {
   "cell_type": "code",
   "execution_count": 9,
   "id": "dd1e8f9b",
   "metadata": {
    "vscode": {
     "languageId": "shellscript"
    }
   },
   "outputs": [
    {
     "name": "stdout",
     "output_type": "stream",
     "text": [
      "On branch master\n",
      "nothing to commit, working tree clean\n"
     ]
    }
   ],
   "source": [
    "!git status"
   ]
  },
  {
   "cell_type": "markdown",
   "id": "d293e150",
   "metadata": {},
   "source": [
    "# Undoing changes to the index"
   ]
  },
  {
   "cell_type": "code",
   "execution_count": 10,
   "id": "242fb91e",
   "metadata": {
    "vscode": {
     "languageId": "shellscript"
    }
   },
   "outputs": [
    {
     "name": "stdout",
     "output_type": "stream",
     "text": [
      "/home/amin/HeadFirstGit/headfirst-git-download/chapter04/gitanjali-aref-step-3\n"
     ]
    }
   ],
   "source": [
    "cd ../gitanjali-aref-step-3"
   ]
  },
  {
   "cell_type": "code",
   "execution_count": 11,
   "id": "e6c9d151",
   "metadata": {
    "vscode": {
     "languageId": "shellscript"
    }
   },
   "outputs": [
    {
     "name": "stdout",
     "output_type": "stream",
     "text": [
      "On branch master\n",
      "Changes to be committed:\n",
      "  (use \"git restore --staged <file>...\" to unstage)\n",
      "\t\u001b[32mmodified:   invitation-card.md\u001b[m\n",
      "\n"
     ]
    }
   ],
   "source": [
    "!git status"
   ]
  },
  {
   "cell_type": "code",
   "execution_count": 13,
   "id": "94a0f2c4",
   "metadata": {
    "vscode": {
     "languageId": "shellscript"
    }
   },
   "outputs": [
    {
     "name": "stdout",
     "output_type": "stream",
     "text": [
      "\u001b[1mdiff --git a/invitation-card.md b/invitation-card.md\u001b[m\n",
      "\u001b[1mindex 003927e..cbe8de9 100644\u001b[m\n",
      "\u001b[1m--- a/invitation-card.md\u001b[m\n",
      "\u001b[1m+++ b/invitation-card.md\u001b[m\n",
      "\u001b[36m@@ -8,6 +8,6 @@\u001b[m\n",
      " \u001b[m\n",
      "     Gitanjali & Aref\u001b[m\n",
      " \u001b[m\n",
      "\u001b[31m-Saturday, June 25th\u001b[m\n",
      "\u001b[32m+\u001b[m\u001b[32mSaturday, July 3rd\u001b[m\n",
      " \u001b[m\n",
      "\u001b[31m-R.S.V.P to Trinity by June 1st\u001b[m\n",
      "\u001b[32m+\u001b[m\u001b[32mR.S.V.P to Trinity by June 7th\u001b[m\n"
     ]
    }
   ],
   "source": [
    "!git diff --staged"
   ]
  },
  {
   "cell_type": "code",
   "execution_count": 14,
   "id": "4ac8e55c",
   "metadata": {
    "vscode": {
     "languageId": "shellscript"
    }
   },
   "outputs": [],
   "source": [
    "!git restore --staged invitation-card.md"
   ]
  },
  {
   "cell_type": "code",
   "execution_count": 15,
   "id": "9d1e2c4c",
   "metadata": {
    "vscode": {
     "languageId": "shellscript"
    }
   },
   "outputs": [
    {
     "name": "stdout",
     "output_type": "stream",
     "text": [
      "On branch master\n",
      "Changes not staged for commit:\n",
      "  (use \"git add <file>...\" to update what will be committed)\n",
      "  (use \"git restore <file>...\" to discard changes in working directory)\n",
      "\t\u001b[31mmodified:   invitation-card.md\u001b[m\n",
      "\n",
      "no changes added to commit (use \"git add\" and/or \"git commit -a\")\n"
     ]
    }
   ],
   "source": [
    "!git status"
   ]
  },
  {
   "cell_type": "markdown",
   "id": "22603f3a",
   "metadata": {},
   "source": [
    "# Removing tracked files"
   ]
  },
  {
   "cell_type": "code",
   "execution_count": 16,
   "id": "b3ca2d9f",
   "metadata": {
    "vscode": {
     "languageId": "shellscript"
    }
   },
   "outputs": [
    {
     "name": "stdout",
     "output_type": "stream",
     "text": [
      "/home/amin/HeadFirstGit/headfirst-git-download/chapter04/gitanjali-aref-step-4\n"
     ]
    }
   ],
   "source": [
    "cd ../gitanjali-aref-step-4"
   ]
  },
  {
   "cell_type": "code",
   "execution_count": 17,
   "id": "2d49a07c",
   "metadata": {
    "vscode": {
     "languageId": "shellscript"
    }
   },
   "outputs": [
    {
     "name": "stdout",
     "output_type": "stream",
     "text": [
      "gift-registry.md  guest-list.md  invitation-card.md\n"
     ]
    }
   ],
   "source": [
    "ls"
   ]
  },
  {
   "cell_type": "markdown",
   "id": "0b7230d4",
   "metadata": {},
   "source": [
    "### Remove tracked files from index & working directory"
   ]
  },
  {
   "cell_type": "code",
   "execution_count": 18,
   "id": "0eec8727",
   "metadata": {
    "vscode": {
     "languageId": "shellscript"
    }
   },
   "outputs": [
    {
     "name": "stdout",
     "output_type": "stream",
     "text": [
      "On branch master\n",
      "nothing to commit, working tree clean\n"
     ]
    }
   ],
   "source": [
    "!git status"
   ]
  },
  {
   "cell_type": "code",
   "execution_count": 19,
   "id": "42dd376c",
   "metadata": {
    "vscode": {
     "languageId": "shellscript"
    }
   },
   "outputs": [
    {
     "name": "stdout",
     "output_type": "stream",
     "text": [
      "rm 'gift-registry.md'\n"
     ]
    }
   ],
   "source": [
    "!git rm gift-registry.md"
   ]
  },
  {
   "cell_type": "code",
   "execution_count": 20,
   "id": "92cb4add",
   "metadata": {
    "vscode": {
     "languageId": "shellscript"
    }
   },
   "outputs": [
    {
     "name": "stdout",
     "output_type": "stream",
     "text": [
      "On branch master\n",
      "Changes to be committed:\n",
      "  (use \"git restore --staged <file>...\" to unstage)\n",
      "\t\u001b[32mdeleted:    gift-registry.md\u001b[m\n",
      "\n"
     ]
    }
   ],
   "source": [
    "!git status"
   ]
  },
  {
   "cell_type": "code",
   "execution_count": 21,
   "id": "54f97af0",
   "metadata": {
    "vscode": {
     "languageId": "shellscript"
    }
   },
   "outputs": [
    {
     "name": "stdout",
     "output_type": "stream",
     "text": [
      "guest-list.md  invitation-card.md\n"
     ]
    }
   ],
   "source": [
    "ls"
   ]
  },
  {
   "cell_type": "code",
   "execution_count": 22,
   "id": "5a13a1fb",
   "metadata": {
    "vscode": {
     "languageId": "shellscript"
    }
   },
   "outputs": [
    {
     "name": "stdout",
     "output_type": "stream",
     "text": [
      "[master ca2bd22] delete gift registry\n",
      " 1 file changed, 6 deletions(-)\n",
      " delete mode 100644 gift-registry.md\n"
     ]
    }
   ],
   "source": [
    "!git commit -m \"delete gift registry\""
   ]
  },
  {
   "cell_type": "markdown",
   "id": "4a17128b",
   "metadata": {},
   "source": [
    "## Recursively remove tracked files/directories"
   ]
  },
  {
   "cell_type": "code",
   "execution_count": null,
   "id": "3d9b29ac",
   "metadata": {
    "vscode": {
     "languageId": "shellscript"
    }
   },
   "outputs": [],
   "source": [
    "git rm -r "
   ]
  },
  {
   "cell_type": "markdown",
   "id": "9c41648f",
   "metadata": {},
   "source": [
    "# Renaming (or moving) files\n"
   ]
  },
  {
   "cell_type": "code",
   "execution_count": 5,
   "id": "d0b720b1",
   "metadata": {
    "vscode": {
     "languageId": "shellscript"
    }
   },
   "outputs": [
    {
     "name": "stdout",
     "output_type": "stream",
     "text": [
      "guest-list.md  invitation-card.md\n"
     ]
    }
   ],
   "source": [
    "ls"
   ]
  },
  {
   "cell_type": "code",
   "execution_count": 6,
   "id": "151268a0",
   "metadata": {
    "vscode": {
     "languageId": "shellscript"
    }
   },
   "outputs": [],
   "source": [
    "!git mv guest-list.md guests-list.md"
   ]
  },
  {
   "cell_type": "code",
   "execution_count": 7,
   "id": "48dbd5e7",
   "metadata": {
    "vscode": {
     "languageId": "shellscript"
    }
   },
   "outputs": [
    {
     "name": "stdout",
     "output_type": "stream",
     "text": [
      "guests-list.md  invitation-card.md\n"
     ]
    }
   ],
   "source": [
    "ls"
   ]
  },
  {
   "cell_type": "code",
   "execution_count": 8,
   "id": "879ce38b",
   "metadata": {
    "vscode": {
     "languageId": "shellscript"
    }
   },
   "outputs": [
    {
     "name": "stdout",
     "output_type": "stream",
     "text": [
      "On branch master\n",
      "Changes to be committed:\n",
      "  (use \"git restore --staged <file>...\" to unstage)\n",
      "\t\u001b[32mrenamed:    guest-list.md -> guests-list.md\u001b[m\n",
      "\n"
     ]
    }
   ],
   "source": [
    "!git status"
   ]
  },
  {
   "cell_type": "markdown",
   "id": "57d5422f",
   "metadata": {},
   "source": [
    "# Editing commit messages"
   ]
  },
  {
   "cell_type": "code",
   "execution_count": null,
   "id": "7c637ae2",
   "metadata": {
    "vscode": {
     "languageId": "shellscript"
    }
   },
   "outputs": [],
   "source": []
  }
 ],
 "metadata": {
  "kernelspec": {
   "display_name": "Python 3",
   "language": "python",
   "name": "python3"
  },
  "language_info": {
   "codemirror_mode": {
    "name": "ipython",
    "version": 3
   },
   "file_extension": ".py",
   "mimetype": "text/x-python",
   "name": "python",
   "nbconvert_exporter": "python",
   "pygments_lexer": "ipython3",
   "version": "3.12.3"
  }
 },
 "nbformat": 4,
 "nbformat_minor": 5
}
