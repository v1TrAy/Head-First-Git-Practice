{
 "cells": [
  {
   "cell_type": "markdown",
   "id": "36b84279",
   "metadata": {},
   "source": [
    "# Branching an 80s diner"
   ]
  },
  {
   "cell_type": "code",
   "execution_count": 5,
   "id": "4bb66607",
   "metadata": {
    "vscode": {
     "languageId": "shellscript"
    }
   },
   "outputs": [
    {
     "name": "stdout",
     "output_type": "stream",
     "text": [
      "/home/amin/HeadFirstGit/HeadFirstGit-Samples\n"
     ]
    }
   ],
   "source": [
    "cd /home/amin/HeadFirstGit/HeadFirstGit-Samples"
   ]
  },
  {
   "cell_type": "code",
   "execution_count": 12,
   "id": "f78de9fc",
   "metadata": {
    "vscode": {
     "languageId": "shellscript"
    }
   },
   "outputs": [],
   "source": [
    "mkdir 80s-diner"
   ]
  },
  {
   "cell_type": "code",
   "execution_count": 6,
   "id": "50da3d14",
   "metadata": {
    "vscode": {
     "languageId": "shellscript"
    }
   },
   "outputs": [
    {
     "name": "stdout",
     "output_type": "stream",
     "text": [
      "/home/amin/HeadFirstGit/HeadFirstGit-Samples/80s-diner\n"
     ]
    }
   ],
   "source": [
    "cd 80s-diner"
   ]
  },
  {
   "cell_type": "code",
   "execution_count": 14,
   "id": "64f013b0",
   "metadata": {
    "vscode": {
     "languageId": "shellscript"
    }
   },
   "outputs": [
    {
     "name": "stdout",
     "output_type": "stream",
     "text": [
      "\u001b[33mhint: Using 'master' as the name for the initial branch. This default branch name\u001b[m\n",
      "\u001b[33mhint: is subject to change. To configure the initial branch name to use in all\u001b[m\n",
      "\u001b[33mhint: of your new repositories, which will suppress this warning, call:\u001b[m\n",
      "\u001b[33mhint: \u001b[m\n",
      "\u001b[33mhint: \tgit config --global init.defaultBranch <name>\u001b[m\n",
      "\u001b[33mhint: \u001b[m\n",
      "\u001b[33mhint: Names commonly chosen instead of 'master' are 'main', 'trunk' and\u001b[m\n",
      "\u001b[33mhint: 'development'. The just-created branch can be renamed via this command:\u001b[m\n",
      "\u001b[33mhint: \u001b[m\n",
      "\u001b[33mhint: \tgit branch -m <name>\u001b[m\n",
      "Initialized empty Git repository in /home/amin/HeadFirstGit/HeadFirstGit-Samples/80s-diner/.git/\n"
     ]
    }
   ],
   "source": [
    "!git init"
   ]
  },
  {
   "cell_type": "markdown",
   "id": "196d97a4",
   "metadata": {},
   "source": [
    "### Copy menu.md"
   ]
  },
  {
   "cell_type": "code",
   "execution_count": 1,
   "id": "f6715f0d",
   "metadata": {
    "vscode": {
     "languageId": "shellscript"
    }
   },
   "outputs": [],
   "source": [
    "cp /home/amin/HeadFirstGit/headfirst-git-download/chapter02/menu.md /home/amin/HeadFirstGit/HeadFirstGit-Samples/80s-diner"
   ]
  },
  {
   "cell_type": "code",
   "execution_count": 8,
   "id": "a115f1c8",
   "metadata": {
    "vscode": {
     "languageId": "shellscript"
    }
   },
   "outputs": [],
   "source": [
    "!git add menu.md"
   ]
  },
  {
   "cell_type": "code",
   "execution_count": 9,
   "id": "045d7689",
   "metadata": {
    "vscode": {
     "languageId": "shellscript"
    }
   },
   "outputs": [
    {
     "name": "stdout",
     "output_type": "stream",
     "text": [
      "[master (root-commit) d5afaf6] add the main menu\n",
      " 1 file changed, 10 insertions(+)\n",
      " create mode 100644 menu.md\n"
     ]
    }
   ],
   "source": [
    "!git commit -m \"add the main menu\""
   ]
  },
  {
   "cell_type": "code",
   "execution_count": 10,
   "id": "050199f0",
   "metadata": {
    "vscode": {
     "languageId": "shellscript"
    }
   },
   "outputs": [
    {
     "name": "stdout",
     "output_type": "stream",
     "text": [
      "On branch master\n",
      "nothing to commit, working tree clean\n"
     ]
    }
   ],
   "source": [
    "!git status"
   ]
  },
  {
   "cell_type": "markdown",
   "id": "993324b8",
   "metadata": {},
   "source": [
    "# Adding branches"
   ]
  },
  {
   "cell_type": "markdown",
   "id": "afb530da",
   "metadata": {},
   "source": [
    "### Create new branch"
   ]
  },
  {
   "cell_type": "code",
   "execution_count": 12,
   "id": "c515ef8e",
   "metadata": {
    "vscode": {
     "languageId": "shellscript"
    }
   },
   "outputs": [],
   "source": [
    "!git branch my-first-branch\n"
   ]
  },
  {
   "cell_type": "markdown",
   "id": "1b4e66c4",
   "metadata": {},
   "source": [
    "### Create and switch to branch"
   ]
  },
  {
   "cell_type": "code",
   "execution_count": 23,
   "id": "aa767b40",
   "metadata": {
    "vscode": {
     "languageId": "shellscript"
    }
   },
   "outputs": [
    {
     "name": "stdout",
     "output_type": "stream",
     "text": [
      "fatal: a branch named 'my-first-branch' already exists\n"
     ]
    }
   ],
   "source": [
    "!git switch -c my-first-branch"
   ]
  },
  {
   "cell_type": "markdown",
   "id": "b7f03f95",
   "metadata": {},
   "source": [
    "### List branches"
   ]
  },
  {
   "cell_type": "code",
   "execution_count": 13,
   "id": "49940111",
   "metadata": {
    "vscode": {
     "languageId": "shellscript"
    }
   },
   "outputs": [
    {
     "name": "stdout",
     "output_type": "stream",
     "text": [
      "* \u001b[32mmaster\u001b[m\n",
      "  my-first-branch\u001b[m\n"
     ]
    }
   ],
   "source": [
    "!git branch"
   ]
  },
  {
   "cell_type": "markdown",
   "id": "2de4b417",
   "metadata": {},
   "source": [
    "###  Switch to branch"
   ]
  },
  {
   "cell_type": "markdown",
   "id": "a7a0b385",
   "metadata": {},
   "source": [
    "### New "
   ]
  },
  {
   "cell_type": "code",
   "execution_count": 14,
   "id": "2bf1678e",
   "metadata": {
    "vscode": {
     "languageId": "shellscript"
    }
   },
   "outputs": [
    {
     "name": "stdout",
     "output_type": "stream",
     "text": [
      "Switched to branch 'my-first-branch'\n"
     ]
    }
   ],
   "source": [
    "!git switch my-first-branch"
   ]
  },
  {
   "cell_type": "markdown",
   "id": "a08f7470",
   "metadata": {},
   "source": [
    "#### Old"
   ]
  },
  {
   "cell_type": "code",
   "execution_count": 19,
   "id": "46422e3d",
   "metadata": {
    "vscode": {
     "languageId": "shellscript"
    }
   },
   "outputs": [
    {
     "name": "stdout",
     "output_type": "stream",
     "text": [
      "Switched to branch 'my-first-branch'\n"
     ]
    }
   ],
   "source": [
    "!git checkout my-first-branch"
   ]
  },
  {
   "cell_type": "code",
   "execution_count": 20,
   "id": "4fd0929c",
   "metadata": {
    "vscode": {
     "languageId": "shellscript"
    }
   },
   "outputs": [
    {
     "name": "stdout",
     "output_type": "stream",
     "text": [
      "  master\u001b[m\n",
      "* \u001b[32mmy-first-branch\u001b[m\n"
     ]
    }
   ],
   "source": [
    "!git branch"
   ]
  },
  {
   "cell_type": "markdown",
   "id": "d44a4cfa",
   "metadata": {},
   "source": [
    "# Creating a spooky fall menu"
   ]
  },
  {
   "cell_type": "code",
   "execution_count": 24,
   "id": "bfb154cd",
   "metadata": {
    "vscode": {
     "languageId": "shellscript"
    }
   },
   "outputs": [],
   "source": [
    "!git branch add-fall-menu"
   ]
  },
  {
   "cell_type": "code",
   "execution_count": 25,
   "id": "7e22e6b5",
   "metadata": {
    "vscode": {
     "languageId": "shellscript"
    }
   },
   "outputs": [
    {
     "name": "stdout",
     "output_type": "stream",
     "text": [
      "Switched to branch 'add-fall-menu'\n"
     ]
    }
   ],
   "source": [
    "!git switch add-fall-menu"
   ]
  },
  {
   "cell_type": "code",
   "execution_count": 26,
   "id": "6678d532",
   "metadata": {
    "vscode": {
     "languageId": "shellscript"
    }
   },
   "outputs": [
    {
     "name": "stdout",
     "output_type": "stream",
     "text": [
      "* \u001b[32madd-fall-menu\u001b[m\n",
      "  master\u001b[m\n",
      "  my-first-branch\u001b[m\n"
     ]
    }
   ],
   "source": [
    "!git branch"
   ]
  },
  {
   "cell_type": "markdown",
   "id": "6c972a6d",
   "metadata": {},
   "source": [
    "### Copy fall-menu"
   ]
  },
  {
   "cell_type": "code",
   "execution_count": 28,
   "id": "12693151",
   "metadata": {
    "vscode": {
     "languageId": "shellscript"
    }
   },
   "outputs": [],
   "source": [
    "cp /home/amin/HeadFirstGit/headfirst-git-download/chapter02/fall-menu.md /home/amin/HeadFirstGit/HeadFirstGit-Samples/80s-diner"
   ]
  },
  {
   "cell_type": "code",
   "execution_count": 36,
   "id": "67f0f694",
   "metadata": {
    "vscode": {
     "languageId": "shellscript"
    }
   },
   "outputs": [
    {
     "name": "stdout",
     "output_type": "stream",
     "text": [
      "# Fall Menu\n",
      "\n",
      "## Oat Busters Breakfast Bowl\n",
      "Deliciously spooky steel-cut oats with stewed pumpkin, warm spices, and candied pecans. This nutritious dish won’t come back to haunt you.\n",
      "\n",
      "## The Texas Coleslaw Massacre\n",
      "Slow-cooked Texas-style pulled pork, served with fresh rolls and plenty of our housemade coleslaw. Dangerously good.\n",
      "\n",
      "## Beetlejuice Bellini\n",
      "Start your “day-O” with our creepy twist on the classic brunch cocktail: a peach-banana blend spiked with prosecco. Guaranteed to exorcise your hangover.\n"
     ]
    }
   ],
   "source": [
    "cat fall-menu.md"
   ]
  },
  {
   "cell_type": "code",
   "execution_count": 29,
   "id": "09ee8447",
   "metadata": {
    "vscode": {
     "languageId": "shellscript"
    }
   },
   "outputs": [],
   "source": [
    "!git add fall-menu.md"
   ]
  },
  {
   "cell_type": "code",
   "execution_count": 30,
   "id": "23f206fb",
   "metadata": {
    "vscode": {
     "languageId": "shellscript"
    }
   },
   "outputs": [
    {
     "name": "stdout",
     "output_type": "stream",
     "text": [
      "[add-fall-menu 384b5d2] add the fall menu\n",
      " 1 file changed, 10 insertions(+)\n",
      " create mode 100644 fall-menu.md\n"
     ]
    }
   ],
   "source": [
    "!git commit -m \"add the fall menu\""
   ]
  },
  {
   "cell_type": "code",
   "execution_count": 31,
   "id": "c593487b",
   "metadata": {
    "vscode": {
     "languageId": "shellscript"
    }
   },
   "outputs": [
    {
     "name": "stdout",
     "output_type": "stream",
     "text": [
      "On branch add-fall-menu\n",
      "nothing to commit, working tree clean\n"
     ]
    }
   ],
   "source": [
    "!git status"
   ]
  },
  {
   "cell_type": "markdown",
   "id": "e213bac4",
   "metadata": {},
   "source": [
    "### Change name of the menu to The Graveyard Shif"
   ]
  },
  {
   "cell_type": "code",
   "execution_count": 37,
   "id": "9cea0bae",
   "metadata": {
    "vscode": {
     "languageId": "shellscript"
    }
   },
   "outputs": [
    {
     "name": "stdout",
     "output_type": "stream",
     "text": [
      "# The Graveyard Shif\n",
      "\n",
      "## Oat Busters Breakfast Bowl\n",
      "Deliciously spooky steel-cut oats with stewed pumpkin, warm spices, and candied pecans. This nutritious dish won’t come back to haunt you.\n",
      "\n",
      "## The Texas Coleslaw Massacre\n",
      "Slow-cooked Texas-style pulled pork, served with fresh rolls and plenty of our housemade coleslaw. Dangerously good.\n",
      "\n",
      "## Beetlejuice Bellini\n",
      "Start your “day-O” with our creepy twist on the classic brunch cocktail: a peach-banana blend spiked with prosecco. Guaranteed to exorcise your hangover.\n"
     ]
    }
   ],
   "source": [
    "cat fall-menu.md"
   ]
  },
  {
   "cell_type": "code",
   "execution_count": 38,
   "id": "c82ae2c2",
   "metadata": {
    "vscode": {
     "languageId": "shellscript"
    }
   },
   "outputs": [
    {
     "name": "stdout",
     "output_type": "stream",
     "text": [
      "On branch add-fall-menu\n",
      "Changes not staged for commit:\n",
      "  (use \"git add <file>...\" to update what will be committed)\n",
      "  (use \"git restore <file>...\" to discard changes in working directory)\n",
      "\t\u001b[31mmodified:   fall-menu.md\u001b[m\n",
      "\n",
      "no changes added to commit (use \"git add\" and/or \"git commit -a\")\n"
     ]
    }
   ],
   "source": [
    "!git status"
   ]
  },
  {
   "cell_type": "code",
   "execution_count": 40,
   "id": "453e9d17",
   "metadata": {
    "vscode": {
     "languageId": "shellscript"
    }
   },
   "outputs": [],
   "source": [
    "!git add fall-menu.md"
   ]
  },
  {
   "cell_type": "code",
   "execution_count": 41,
   "id": "667128a3",
   "metadata": {
    "vscode": {
     "languageId": "shellscript"
    }
   },
   "outputs": [
    {
     "name": "stdout",
     "output_type": "stream",
     "text": [
      "[add-fall-menu 07dc8f9] update heading\n",
      " 1 file changed, 1 insertion(+), 1 deletion(-)\n"
     ]
    }
   ],
   "source": [
    "!git commit -m \"update heading\""
   ]
  },
  {
   "cell_type": "code",
   "execution_count": 42,
   "id": "571856a2",
   "metadata": {
    "vscode": {
     "languageId": "shellscript"
    }
   },
   "outputs": [
    {
     "name": "stdout",
     "output_type": "stream",
     "text": [
      "On branch add-fall-menu\n",
      "nothing to commit, working tree clean\n"
     ]
    }
   ],
   "source": [
    "!git status"
   ]
  },
  {
   "cell_type": "markdown",
   "id": "9bab75e6",
   "metadata": {},
   "source": [
    "### Check the files in each branch"
   ]
  },
  {
   "cell_type": "code",
   "execution_count": 44,
   "id": "38f32d58",
   "metadata": {
    "vscode": {
     "languageId": "shellscript"
    }
   },
   "outputs": [
    {
     "name": "stdout",
     "output_type": "stream",
     "text": [
      "* \u001b[32madd-fall-menu\u001b[m\n",
      "  master\u001b[m\n",
      "  my-first-branch\u001b[m\n"
     ]
    }
   ],
   "source": [
    "!git branch"
   ]
  },
  {
   "cell_type": "markdown",
   "id": "8812be68",
   "metadata": {},
   "source": [
    "#### add-fall-menu"
   ]
  },
  {
   "cell_type": "code",
   "execution_count": 45,
   "id": "75aa4b0f",
   "metadata": {
    "vscode": {
     "languageId": "shellscript"
    }
   },
   "outputs": [
    {
     "name": "stdout",
     "output_type": "stream",
     "text": [
      "fall-menu.md  menu.md\n"
     ]
    }
   ],
   "source": [
    "ls"
   ]
  },
  {
   "cell_type": "code",
   "execution_count": 51,
   "id": "cb947563",
   "metadata": {
    "vscode": {
     "languageId": "shellscript"
    }
   },
   "outputs": [
    {
     "name": "stdout",
     "output_type": "stream",
     "text": [
      "Switched to branch 'master'\n"
     ]
    }
   ],
   "source": [
    "!git switch master"
   ]
  },
  {
   "cell_type": "markdown",
   "id": "b3245caa",
   "metadata": {},
   "source": [
    "#### master"
   ]
  },
  {
   "cell_type": "code",
   "execution_count": 55,
   "id": "3bd25720",
   "metadata": {
    "vscode": {
     "languageId": "shellscript"
    }
   },
   "outputs": [
    {
     "name": "stdout",
     "output_type": "stream",
     "text": [
      "menu.md\n"
     ]
    }
   ],
   "source": [
    "ls"
   ]
  },
  {
   "cell_type": "code",
   "execution_count": 56,
   "id": "ab9234e3",
   "metadata": {
    "vscode": {
     "languageId": "shellscript"
    }
   },
   "outputs": [
    {
     "data": {
      "text/plain": [
       "'/home/amin/HeadFirstGit/HeadFirstGit-Samples/80s-diner'"
      ]
     },
     "execution_count": 56,
     "metadata": {},
     "output_type": "execute_result"
    }
   ],
   "source": [
    "pwd"
   ]
  },
  {
   "cell_type": "markdown",
   "id": "26339aea",
   "metadata": {},
   "source": [
    "# Switch back to the master branch before branching"
   ]
  },
  {
   "cell_type": "code",
   "execution_count": 61,
   "id": "023bcf2e",
   "metadata": {
    "vscode": {
     "languageId": "shellscript"
    }
   },
   "outputs": [
    {
     "name": "stdout",
     "output_type": "stream",
     "text": [
      "Already on 'master'\n"
     ]
    }
   ],
   "source": [
    "!git switch master"
   ]
  },
  {
   "cell_type": "code",
   "execution_count": 62,
   "id": "cfc901f4",
   "metadata": {
    "vscode": {
     "languageId": "shellscript"
    }
   },
   "outputs": [],
   "source": [
    "!git branch add-thurs-menu"
   ]
  },
  {
   "cell_type": "code",
   "execution_count": 63,
   "id": "39ea5a53",
   "metadata": {
    "vscode": {
     "languageId": "shellscript"
    }
   },
   "outputs": [
    {
     "name": "stdout",
     "output_type": "stream",
     "text": [
      "Switched to branch 'add-thurs-menu'\n"
     ]
    }
   ],
   "source": [
    "!git switch add-thurs-menu"
   ]
  },
  {
   "cell_type": "code",
   "execution_count": 64,
   "id": "fde1786e",
   "metadata": {
    "vscode": {
     "languageId": "shellscript"
    }
   },
   "outputs": [
    {
     "name": "stdout",
     "output_type": "stream",
     "text": [
      "  add-fall-menu\u001b[m\n",
      "* \u001b[32madd-thurs-menu\u001b[m\n",
      "  master\u001b[m\n",
      "  my-first-branch\u001b[m\n"
     ]
    }
   ],
   "source": [
    "!git branch"
   ]
  },
  {
   "cell_type": "markdown",
   "id": "7b004b5a",
   "metadata": {},
   "source": [
    "### Copy thursdays-menu"
   ]
  },
  {
   "cell_type": "code",
   "execution_count": 66,
   "id": "6db4094a",
   "metadata": {
    "vscode": {
     "languageId": "shellscript"
    }
   },
   "outputs": [],
   "source": [
    "cp /home/amin/HeadFirstGit/headfirst-git-download/chapter02/thursdays-menu.md /home/amin/HeadFirstGit/HeadFirstGit-Samples/80s-diner"
   ]
  },
  {
   "cell_type": "code",
   "execution_count": 67,
   "id": "dd4f8d13",
   "metadata": {
    "vscode": {
     "languageId": "shellscript"
    }
   },
   "outputs": [
    {
     "name": "stdout",
     "output_type": "stream",
     "text": [
      "# Throwback Thursdays\n",
      "\n",
      "## The Breakfast Club Sandwich\n",
      "A club that breaks the rules: ham, bacon, turkey, and tomato plus a fried egg, all between layers of toast.\n",
      "\n",
      "## Footloose Burger\n",
      "A juicy grilled Black Angus quarter-pounder with American cheese and plenty of bacon.\n",
      "\n",
      "## Fried Green Tomatoes\n",
      "OK, it’s from 1991, but we bet you can’t resist these tart, juicy slices of cornmeal-crusted Southern bliss.\n"
     ]
    }
   ],
   "source": [
    "cat thursdays-menu.md"
   ]
  },
  {
   "cell_type": "code",
   "execution_count": 68,
   "id": "b12a6a8f",
   "metadata": {
    "vscode": {
     "languageId": "shellscript"
    }
   },
   "outputs": [],
   "source": [
    "!git add thursdays-menu.md"
   ]
  },
  {
   "cell_type": "code",
   "execution_count": 69,
   "id": "8f17c90e",
   "metadata": {
    "vscode": {
     "languageId": "shellscript"
    }
   },
   "outputs": [
    {
     "name": "stdout",
     "output_type": "stream",
     "text": [
      "[add-thurs-menu 16880d8] add thursdays menu\n",
      " 1 file changed, 10 insertions(+)\n",
      " create mode 100644 thursdays-menu.md\n"
     ]
    }
   ],
   "source": [
    "!git commit -m \"add thursdays menu\"\n"
   ]
  },
  {
   "cell_type": "code",
   "execution_count": 70,
   "id": "30c97ab9",
   "metadata": {
    "vscode": {
     "languageId": "shellscript"
    }
   },
   "outputs": [
    {
     "name": "stdout",
     "output_type": "stream",
     "text": [
      "On branch add-thurs-menu\n",
      "nothing to commit, working tree clean\n"
     ]
    }
   ],
   "source": [
    "!git status"
   ]
  },
  {
   "cell_type": "code",
   "execution_count": 71,
   "id": "1cca4cd1",
   "metadata": {
    "vscode": {
     "languageId": "shellscript"
    }
   },
   "outputs": [
    {
     "name": "stdout",
     "output_type": "stream",
     "text": [
      "\u001b[33mcommit 16880d810ee57205df99e03a037e59e04a862bcb\u001b[m\u001b[33m (\u001b[m\u001b[1;36mHEAD\u001b[m\u001b[33m -> \u001b[m\u001b[1;32madd-thurs-menu\u001b[m\u001b[33m)\u001b[m\n",
      "Author: v1TrAy <v1TrAy@gmail.com>\n",
      "Date:   Mon Apr 14 14:07:33 2025 +0330\n",
      "\n",
      "    add thursdays menu\n",
      "\n",
      "\u001b[33mcommit d5afaf6cdfd1e3dd62a8ba389e99b6373ba1eea6\u001b[m\u001b[33m (\u001b[m\u001b[1;32mmy-first-branch\u001b[m\u001b[33m, \u001b[m\u001b[1;32mmaster\u001b[m\u001b[33m)\u001b[m\n",
      "Author: v1TrAy <v1TrAy@gmail.com>\n",
      "Date:   Mon Apr 14 12:27:42 2025 +0330\n",
      "\n",
      "    add the main menu\n"
     ]
    }
   ],
   "source": [
    "!git log"
   ]
  },
  {
   "cell_type": "code",
   "execution_count": 72,
   "id": "9c532398",
   "metadata": {
    "vscode": {
     "languageId": "shellscript"
    }
   },
   "outputs": [
    {
     "name": "stdout",
     "output_type": "stream",
     "text": [
      "menu.md  thursdays-menu.md\n"
     ]
    }
   ],
   "source": [
    "ls"
   ]
  },
  {
   "cell_type": "code",
   "execution_count": 73,
   "id": "0a5b9bde",
   "metadata": {
    "vscode": {
     "languageId": "shellscript"
    }
   },
   "outputs": [
    {
     "data": {
      "text/plain": [
       "'/home/amin/HeadFirstGit/HeadFirstGit-Samples/80s-diner'"
      ]
     },
     "execution_count": 73,
     "metadata": {},
     "output_type": "execute_result"
    }
   ],
   "source": [
    "pwd"
   ]
  },
  {
   "cell_type": "markdown",
   "id": "34b210e2",
   "metadata": {},
   "source": [
    "## Using Git Help"
   ]
  },
  {
   "cell_type": "markdown",
   "id": "184de0e7",
   "metadata": {},
   "source": [
    "###  Detailed help"
   ]
  },
  {
   "cell_type": "code",
   "execution_count": 5,
   "id": "ca3f69fb",
   "metadata": {
    "vscode": {
     "languageId": "shellscript"
    }
   },
   "outputs": [
    {
     "name": "stdout",
     "output_type": "stream",
     "text": [
      "\u001b[4mGIT-BRANCH\u001b[24m(1)                     Git Manual                     \u001b[4mGIT-BRANCH\u001b[24m(1)\n",
      "\n",
      "\u001b[1mNAME\u001b[0m\n",
      "       git-branch - List, create, or delete branches\n",
      "\n",
      "\u001b[1mSYNOPSIS\u001b[0m\n",
      "       \u001b[4mgit\u001b[24m \u001b[4mbranch\u001b[24m [--color[=<when>] | --no-color] [--show-current]\n",
      "               [-v [--abbrev=<n> | --no-abbrev]]\n",
      "               [--column[=<options>] | --no-column] [--sort=<key>]\n",
      "               [--merged [<commit>]] [--no-merged [<commit>]]\n",
      "               [--contains [<commit>]] [--no-contains [<commit>]]\n",
      "               [--points-at <object>] [--format=<format>]\n",
      "               [(-r | --remotes) | (-a | --all)]\n",
      "               [--list] [<pattern>...]\n",
      "       \u001b[4mgit\u001b[24m \u001b[4mbranch\u001b[24m [--track[=(direct|inherit)] | --no-track] [-f]\n",
      "               [--recurse-submodules] <branchname> [<start-point>]\n",
      "       \u001b[4mgit\u001b[24m \u001b[4mbranch\u001b[24m (--set-upstream-to=<upstream> | -u <upstream>) [<branchname>]\n",
      "       \u001b[4mgit\u001b[24m \u001b[4mbranch\u001b[24m --unset-upstream [<branchname>]\n",
      "       \u001b[4mgit\u001b[24m \u001b[4mbranch\u001b[24m (-m | -M) [<oldbranch>] <newbranch>\n",
      "       \u001b[4mgit\u001b[24m \u001b[4mbranch\u001b[24m (-c | -C) [<oldbranch>] <newbranch>\n",
      "       \u001b[4mgit\u001b[24m \u001b[4mbranch\u001b[24m (-d | -D) [-r] <branchname>...\n",
      "       \u001b[4mgit\u001b[24m \u001b[4mbranch\u001b[24m --edit-description [<branchname>]\n",
      "\n",
      "\u001b[1mDESCRIPTION\u001b[0m\n",
      "       If \u001b[1m--list \u001b[22mis given, or if there are no non-option arguments, existing\n",
      "       branches are listed; the current branch will be highlighted in green\n",
      "       and marked with an asterisk. Any branches checked out in linked\n",
      "       worktrees will be highlighted in cyan and marked with a plus sign.\n",
      "       Option \u001b[1m-r \u001b[22mcauses the remote-tracking branches to be listed, and option\n",
      "       \u001b[1m-a \u001b[22mshows both local and remote branches.\n",
      "\n",
      "       If a \u001b[1m<pattern> \u001b[22mis given, it is used as a shell wildcard to restrict the\n",
      "       output to matching branches. If multiple patterns are given, a branch\n",
      "       is shown if it matches any of the patterns.\n",
      "\n",
      "       Note that when providing a \u001b[1m<pattern>\u001b[22m, you must use \u001b[1m--list\u001b[22m; otherwise\n",
      "       the command may be interpreted as branch creation.\n",
      "\n",
      "       With \u001b[1m--contains\u001b[22m, shows only the branches that contain the named commit\n",
      "       (in other words, the branches whose tip commits are descendants of the\n",
      "       named commit), \u001b[1m--no-contains \u001b[22minverts it. With \u001b[1m--merged\u001b[22m, only branches\n",
      "       merged into the named commit (i.e. the branches whose tip commits are\n",
      "       reachable from the named commit) will be listed. With \u001b[1m--no-merged \u001b[22monly\n",
      "       branches not merged into the named commit will be listed. If the\n",
      "       <commit> argument is missing it defaults to \u001b[1mHEAD \u001b[22m(i.e. the tip of the\n",
      "       current branch).\n",
      "\n",
      "       The command’s second form creates a new branch head named <branchname>\n",
      "       which points to the current \u001b[1mHEAD\u001b[22m, or <start-point> if given. As a\n",
      "       special case, for <start-point>, you may use \u001b[1m\"A...B\" \u001b[22mas a shortcut for\n",
      "       the merge base of \u001b[1mA \u001b[22mand \u001b[1mB \u001b[22mif there is exactly one merge base. You can\n",
      "       leave out at most one of \u001b[1mA \u001b[22mand \u001b[1mB\u001b[22m, in which case it defaults to \u001b[1mHEAD\u001b[22m.\n",
      "\n",
      "       Note that this will create the new branch, but it will not switch the\n",
      "       working tree to it; use \"git switch <newbranch>\" to switch to the new\n",
      "       branch.\n",
      "\n",
      "       When a local branch is started off a remote-tracking branch, Git sets\n",
      "       up the branch (specifically the \u001b[1mbranch.<name>.remote \u001b[22mand\n",
      "       \u001b[1mbranch.<name>.merge \u001b[22mconfiguration entries) so that \u001b[4mgit\u001b[24m \u001b[4mpull\u001b[24m will\n",
      "       appropriately merge from the remote-tracking branch. This behavior may\n",
      "       be changed via the global \u001b[1mbranch.autoSetupMerge \u001b[22mconfiguration flag.\n",
      "       That setting can be overridden by using the \u001b[1m--track \u001b[22mand \u001b[1m--no-track\u001b[0m\n",
      "       options, and changed later using \u001b[1mgit branch --set-upstream-to\u001b[22m.\n",
      "\n",
      "       With a \u001b[1m-m \u001b[22mor \u001b[1m-M \u001b[22moption, <oldbranch> will be renamed to <newbranch>. If\n",
      "       <oldbranch> had a corresponding reflog, it is renamed to match\n",
      "       <newbranch>, and a reflog entry is created to remember the branch\n",
      "       renaming. If <newbranch> exists, -M must be used to force the rename to\n",
      "       happen.\n",
      "\n",
      "       The \u001b[1m-c \u001b[22mand \u001b[1m-C \u001b[22moptions have the exact same semantics as \u001b[1m-m \u001b[22mand \u001b[1m-M\u001b[22m,\n",
      "       except instead of the branch being renamed, it will be copied to a new\n",
      "       name, along with its config and reflog.\n",
      "\n",
      "       With a \u001b[1m-d \u001b[22mor \u001b[1m-D \u001b[22moption, \u001b[1m<branchname> \u001b[22mwill be deleted. You may specify\n",
      "       more than one branch for deletion. If the branch currently has a reflog\n",
      "       then the reflog will also be deleted.\n",
      "\n",
      "       Use \u001b[1m-r \u001b[22mtogether with \u001b[1m-d \u001b[22mto delete remote-tracking branches. Note, that\n",
      "       it only makes sense to delete remote-tracking branches if they no\n",
      "       longer exist in the remote repository or if \u001b[4mgit\u001b[24m \u001b[4mfetch\u001b[24m was configured\n",
      "       not to fetch them again. See also the \u001b[4mprune\u001b[24m subcommand of \u001b[1mgit-remote\u001b[22m(1)\n",
      "       for a way to clean up all obsolete remote-tracking branches.\n",
      "\n",
      "\u001b[1mOPTIONS\u001b[0m\n",
      "       -d, --delete\n",
      "           Delete a branch. The branch must be fully merged in its upstream\n",
      "           branch, or in \u001b[1mHEAD \u001b[22mif no upstream was set with \u001b[1m--track \u001b[22mor\n",
      "           \u001b[1m--set-upstream-to\u001b[22m.\n",
      "\n",
      "       -D\n",
      "           Shortcut for \u001b[1m--delete --force\u001b[22m.\n",
      "\n",
      "       --create-reflog\n",
      "           Create the branch’s reflog. This activates recording of all changes\n",
      "           made to the branch ref, enabling use of date based sha1 expressions\n",
      "           such as \"<branchname>@{yesterday}\". Note that in non-bare\n",
      "           repositories, reflogs are usually enabled by default by the\n",
      "           \u001b[1mcore.logAllRefUpdates \u001b[22mconfig option. The negated form\n",
      "           \u001b[1m--no-create-reflog \u001b[22monly overrides an earlier \u001b[1m--create-reflog\u001b[22m, but\n",
      "           currently does not negate the setting of \u001b[1mcore.logAllRefUpdates\u001b[22m.\n",
      "\n",
      "       -f, --force\n",
      "           Reset <branchname> to <start-point>, even if <branchname> exists\n",
      "           already. Without \u001b[1m-f\u001b[22m, \u001b[4mgit\u001b[24m \u001b[4mbranch\u001b[24m refuses to change an existing\n",
      "           branch. In combination with \u001b[1m-d \u001b[22m(or \u001b[1m--delete\u001b[22m), allow deleting the\n",
      "           branch irrespective of its merged status, or whether it even points\n",
      "           to a valid commit. In combination with \u001b[1m-m \u001b[22m(or \u001b[1m--move\u001b[22m), allow\n",
      "           renaming the branch even if the new branch name already exists, the\n",
      "           same applies for \u001b[1m-c \u001b[22m(or \u001b[1m--copy\u001b[22m).\n",
      "\n",
      "           Note that \u001b[4mgit\u001b[24m \u001b[4mbranch\u001b[24m \u001b[4m-f\u001b[24m \u001b[4m<branchname>\u001b[24m \u001b[4m[<start-point>]\u001b[24m, even with \u001b[4m-f\u001b[24m,\n",
      "           refuses to change an existing branch \u001b[1m<branchname> \u001b[22mthat is checked\n",
      "           out in another worktree linked to the same repository.\n",
      "\n",
      "       -m, --move\n",
      "           Move/rename a branch, together with its config and reflog.\n",
      "\n",
      "       -M\n",
      "           Shortcut for \u001b[1m--move --force\u001b[22m.\n",
      "\n",
      "       -c, --copy\n",
      "           Copy a branch, together with its config and reflog.\n",
      "\n",
      "       -C\n",
      "           Shortcut for \u001b[1m--copy --force\u001b[22m.\n",
      "\n",
      "       --color[=<when>]\n",
      "           Color branches to highlight current, local, and remote-tracking\n",
      "           branches. The value must be always (the default), never, or auto.\n",
      "\n",
      "       --no-color\n",
      "           Turn off branch colors, even when the configuration file gives the\n",
      "           default to color output. Same as \u001b[1m--color=never\u001b[22m.\n",
      "\n",
      "       -i, --ignore-case\n",
      "           Sorting and filtering branches are case insensitive.\n",
      "\n",
      "       --omit-empty\n",
      "           Do not print a newline after formatted refs where the format\n",
      "           expands to the empty string.\n",
      "\n",
      "       --column[=<options>], --no-column\n",
      "           Display branch listing in columns. See configuration variable\n",
      "           \u001b[1mcolumn.branch \u001b[22mfor option syntax.  \u001b[1m--column \u001b[22mand \u001b[1m--no-column \u001b[22mwithout\n",
      "           options are equivalent to \u001b[4malways\u001b[24m and \u001b[4mnever\u001b[24m respectively.\n",
      "\n",
      "           This option is only applicable in non-verbose mode.\n",
      "\n",
      "       -r, --remotes\n",
      "           List or delete (if used with -d) the remote-tracking branches.\n",
      "           Combine with \u001b[1m--list \u001b[22mto match the optional pattern(s).\n",
      "\n",
      "       -a, --all\n",
      "           List both remote-tracking branches and local branches. Combine with\n",
      "           \u001b[1m--list \u001b[22mto match optional pattern(s).\n",
      "\n",
      "       -l, --list\n",
      "           List branches. With optional \u001b[1m<pattern>...\u001b[22m, e.g.  \u001b[1mgit branch --list\u001b[0m\n",
      "           \u001b[1m'maint-*'\u001b[22m, list only the branches that match the pattern(s).\n",
      "\n",
      "       --show-current\n",
      "           Print the name of the current branch. In detached HEAD state,\n",
      "           nothing is printed.\n",
      "\n",
      "       -v, -vv, --verbose\n",
      "           When in list mode, show sha1 and commit subject line for each head,\n",
      "           along with relationship to upstream branch (if any). If given\n",
      "           twice, print the path of the linked worktree (if any) and the name\n",
      "           of the upstream branch, as well (see also \u001b[1mgit remote show\u001b[0m\n",
      "           \u001b[1m<remote>\u001b[22m). Note that the current worktree’s HEAD will not have its\n",
      "           path printed (it will always be your current directory).\n",
      "\n",
      "       -q, --quiet\n",
      "           Be more quiet when creating or deleting a branch, suppressing\n",
      "           non-error messages.\n",
      "\n",
      "       --abbrev=<n>\n",
      "           In the verbose listing that show the commit object name, show the\n",
      "           shortest prefix that is at least \u001b[4m<n>\u001b[24m hexdigits long that uniquely\n",
      "           refers the object. The default value is 7 and can be overridden by\n",
      "           the \u001b[1mcore.abbrev \u001b[22mconfig option.\n",
      "\n",
      "       --no-abbrev\n",
      "           Display the full sha1s in the output listing rather than\n",
      "           abbreviating them.\n",
      "\n",
      "       -t, --track[=(direct|inherit)]\n",
      "           When creating a new branch, set up \u001b[1mbranch.<name>.remote \u001b[22mand\n",
      "           \u001b[1mbranch.<name>.merge \u001b[22mconfiguration entries to set \"upstream\"\n",
      "           tracking configuration for the new branch. This configuration will\n",
      "           tell git to show the relationship between the two branches in \u001b[1mgit\u001b[0m\n",
      "           \u001b[1mstatus \u001b[22mand \u001b[1mgit branch -v\u001b[22m. Furthermore, it directs \u001b[1mgit pull \u001b[22mwithout\n",
      "           arguments to pull from the upstream when the new branch is checked\n",
      "           out.\n",
      "\n",
      "           The exact upstream branch is chosen depending on the optional\n",
      "           argument: \u001b[1m-t\u001b[22m, \u001b[1m--track\u001b[22m, or \u001b[1m--track=direct \u001b[22mmeans to use the\n",
      "           start-point branch itself as the upstream; \u001b[1m--track=inherit \u001b[22mmeans to\n",
      "           copy the upstream configuration of the start-point branch.\n",
      "\n",
      "           The branch.autoSetupMerge configuration variable specifies how \u001b[1mgit\u001b[0m\n",
      "           \u001b[1mswitch\u001b[22m, \u001b[1mgit checkout \u001b[22mand \u001b[1mgit branch \u001b[22mshould behave when neither\n",
      "           \u001b[1m--track \u001b[22mnor \u001b[1m--no-track \u001b[22mare specified:\n",
      "\n",
      "           The default option, \u001b[1mtrue\u001b[22m, behaves as though \u001b[1m--track=direct \u001b[22mwere\n",
      "           given whenever the start-point is a remote-tracking branch.  \u001b[1mfalse\u001b[0m\n",
      "           behaves as if \u001b[1m--no-track \u001b[22mwere given.  \u001b[1malways \u001b[22mbehaves as though\n",
      "           \u001b[1m--track=direct \u001b[22mwere given.  \u001b[1minherit \u001b[22mbehaves as though\n",
      "           \u001b[1m--track=inherit \u001b[22mwere given.  \u001b[1msimple \u001b[22mbehaves as though\n",
      "           \u001b[1m--track=direct \u001b[22mwere given only when the start-point is a\n",
      "           remote-tracking branch and the new branch has the same name as the\n",
      "           remote branch.\n",
      "\n",
      "           See \u001b[1mgit-pull\u001b[22m(1) and \u001b[1mgit-config\u001b[22m(1) for additional discussion on how\n",
      "           the \u001b[1mbranch.<name>.remote \u001b[22mand \u001b[1mbranch.<name>.merge \u001b[22moptions are used.\n",
      "\n",
      "       --no-track\n",
      "           Do not set up \"upstream\" configuration, even if the\n",
      "           branch.autoSetupMerge configuration variable is set.\n",
      "\n",
      "       --recurse-submodules\n",
      "           THIS OPTION IS EXPERIMENTAL! Causes the current command to recurse\n",
      "           into submodules if \u001b[1msubmodule.propagateBranches \u001b[22mis enabled. See\n",
      "           \u001b[1msubmodule.propagateBranches \u001b[22min \u001b[1mgit-config\u001b[22m(1). Currently, only\n",
      "           branch creation is supported.\n",
      "\n",
      "           When used in branch creation, a new branch <branchname> will be\n",
      "           created in the superproject and all of the submodules in the\n",
      "           superproject’s <start-point>. In submodules, the branch will point\n",
      "           to the submodule commit in the superproject’s <start-point> but the\n",
      "           branch’s tracking information will be set up based on the\n",
      "           submodule’s branches and remotes e.g.  \u001b[1mgit branch\u001b[0m\n",
      "           \u001b[1m--recurse-submodules topic origin/main \u001b[22mwill create the submodule\n",
      "           branch \"topic\" that points to the submodule commit in the\n",
      "           superproject’s \"origin/main\", but tracks the submodule’s\n",
      "           \"origin/main\".\n",
      "\n",
      "       --set-upstream\n",
      "           As this option had confusing syntax, it is no longer supported.\n",
      "           Please use \u001b[1m--track \u001b[22mor \u001b[1m--set-upstream-to \u001b[22minstead.\n",
      "\n",
      "       -u <upstream>, --set-upstream-to=<upstream>\n",
      "           Set up <branchname>'s tracking information so <upstream> is\n",
      "           considered <branchname>'s upstream branch. If no <branchname> is\n",
      "           specified, then it defaults to the current branch.\n",
      "\n",
      "       --unset-upstream\n",
      "           Remove the upstream information for <branchname>. If no branch is\n",
      "           specified it defaults to the current branch.\n",
      "\n",
      "       --edit-description\n",
      "           Open an editor and edit the text to explain what the branch is for,\n",
      "           to be used by various other commands (e.g.  \u001b[1mformat-patch\u001b[22m,\n",
      "           \u001b[1mrequest-pull\u001b[22m, and \u001b[1mmerge \u001b[22m(if enabled)). Multi-line explanations may\n",
      "           be used.\n",
      "\n",
      "       --contains [<commit>]\n",
      "           Only list branches which contain the specified commit (HEAD if not\n",
      "           specified). Implies \u001b[1m--list\u001b[22m.\n",
      "\n",
      "       --no-contains [<commit>]\n",
      "           Only list branches which don’t contain the specified commit (HEAD\n",
      "           if not specified). Implies \u001b[1m--list\u001b[22m.\n",
      "\n",
      "       --merged [<commit>]\n",
      "           Only list branches whose tips are reachable from the specified\n",
      "           commit (HEAD if not specified). Implies \u001b[1m--list\u001b[22m.\n",
      "\n",
      "       --no-merged [<commit>]\n",
      "           Only list branches whose tips are not reachable from the specified\n",
      "           commit (HEAD if not specified). Implies \u001b[1m--list\u001b[22m.\n",
      "\n",
      "       <branchname>\n",
      "           The name of the branch to create or delete. The new branch name\n",
      "           must pass all checks defined by \u001b[1mgit-check-ref-format\u001b[22m(1). Some of\n",
      "           these checks may restrict the characters allowed in a branch name.\n",
      "\n",
      "       <start-point>\n",
      "           The new branch head will point to this commit. It may be given as a\n",
      "           branch name, a commit-id, or a tag. If this option is omitted, the\n",
      "           current HEAD will be used instead.\n",
      "\n",
      "       <oldbranch>\n",
      "           The name of an existing branch to rename.\n",
      "\n",
      "       <newbranch>\n",
      "           The new name for an existing branch. The same restrictions as for\n",
      "           <branchname> apply.\n",
      "\n",
      "       --sort=<key>\n",
      "           Sort based on the key given. Prefix \u001b[1m- \u001b[22mto sort in descending order\n",
      "           of the value. You may use the --sort=<key> option multiple times,\n",
      "           in which case the last key becomes the primary key. The keys\n",
      "           supported are the same as those in \u001b[1mgit for-each-ref\u001b[22m. Sort order\n",
      "           defaults to the value configured for the \u001b[1mbranch.sort \u001b[22mvariable if it\n",
      "           exists, or to sorting based on the full refname (including \u001b[1mrefs/...\u001b[0m\n",
      "           prefix). This lists detached HEAD (if present) first, then local\n",
      "           branches and finally remote-tracking branches. See \u001b[1mgit-config\u001b[22m(1).\n",
      "\n",
      "       --points-at <object>\n",
      "           Only list branches of the given object.\n",
      "\n",
      "       --format <format>\n",
      "           A string that interpolates \u001b[1m%(fieldname) \u001b[22mfrom a branch ref being\n",
      "           shown and the object it points at. The format is the same as that\n",
      "           of \u001b[1mgit-for-each-ref\u001b[22m(1).\n",
      "\n",
      "\u001b[1mCONFIGURATION\u001b[0m\n",
      "       \u001b[1mpager.branch \u001b[22mis only respected when listing branches, i.e., when \u001b[1m--list\u001b[0m\n",
      "       is used or implied. The default is to use a pager. See \u001b[1mgit-config\u001b[22m(1).\n",
      "\n",
      "       Everything above this line in this section isn’t included from the \u001b[1mgit-\u001b[0m\n",
      "       \u001b[1mconfig\u001b[22m(1) documentation. The content that follows is the same as what’s\n",
      "       found there:\n",
      "\n",
      "       branch.autoSetupMerge\n",
      "           Tells \u001b[4mgit\u001b[24m \u001b[4mbranch\u001b[24m, \u001b[4mgit\u001b[24m \u001b[4mswitch\u001b[24m and \u001b[4mgit\u001b[24m \u001b[4mcheckout\u001b[24m to set up new\n",
      "           branches so that \u001b[1mgit-pull\u001b[22m(1) will appropriately merge from the\n",
      "           starting point branch. Note that even if this option is not set,\n",
      "           this behavior can be chosen per-branch using the \u001b[1m--track \u001b[22mand\n",
      "           \u001b[1m--no-track \u001b[22moptions. The valid settings are: \u001b[1mfalse \u001b[22m— no automatic\n",
      "           setup is done; \u001b[1mtrue \u001b[22m— automatic setup is done when the starting\n",
      "           point is a remote-tracking branch; \u001b[1malways \u001b[22m—  automatic setup is\n",
      "           done when the starting point is either a local branch or\n",
      "           remote-tracking branch; \u001b[1minherit \u001b[22m— if the starting point has a\n",
      "           tracking configuration, it is copied to the new branch; \u001b[1msimple \u001b[22m—\n",
      "           automatic setup is done only when the starting point is a\n",
      "           remote-tracking branch and the new branch has the same name as the\n",
      "           remote branch. This option defaults to true.\n",
      "\n",
      "       branch.autoSetupRebase\n",
      "           When a new branch is created with \u001b[4mgit\u001b[24m \u001b[4mbranch\u001b[24m, \u001b[4mgit\u001b[24m \u001b[4mswitch\u001b[24m or \u001b[4mgit\u001b[0m\n",
      "           \u001b[4mcheckout\u001b[24m that tracks another branch, this variable tells Git to set\n",
      "           up pull to rebase instead of merge (see \"branch.<name>.rebase\").\n",
      "           When \u001b[1mnever\u001b[22m, rebase is never automatically set to true. When \u001b[1mlocal\u001b[22m,\n",
      "           rebase is set to true for tracked branches of other local branches.\n",
      "           When \u001b[1mremote\u001b[22m, rebase is set to true for tracked branches of\n",
      "           remote-tracking branches. When \u001b[1malways\u001b[22m, rebase will be set to true\n",
      "           for all tracking branches. See \"branch.autoSetupMerge\" for details\n",
      "           on how to set up a branch to track another branch. This option\n",
      "           defaults to never.\n",
      "\n",
      "       branch.sort\n",
      "           This variable controls the sort ordering of branches when displayed\n",
      "           by \u001b[1mgit-branch\u001b[22m(1). Without the \"--sort=<value>\" option provided, the\n",
      "           value of this variable will be used as the default. See \u001b[1mgit-for-\u001b[0m\n",
      "           \u001b[1meach-ref\u001b[22m(1) field names for valid values.\n",
      "\n",
      "       branch.<name>.remote\n",
      "           When on branch <name>, it tells \u001b[4mgit\u001b[24m \u001b[4mfetch\u001b[24m and \u001b[4mgit\u001b[24m \u001b[4mpush\u001b[24m which remote\n",
      "           to fetch from or push to. The remote to push to may be overridden\n",
      "           with \u001b[1mremote.pushDefault \u001b[22m(for all branches). The remote to push to,\n",
      "           for the current branch, may be further overridden by\n",
      "           \u001b[1mbranch.<name>.pushRemote\u001b[22m. If no remote is configured, or if you are\n",
      "           not on any branch and there is more than one remote defined in the\n",
      "           repository, it defaults to \u001b[1morigin \u001b[22mfor fetching and\n",
      "           \u001b[1mremote.pushDefault \u001b[22mfor pushing. Additionally, \u001b[1m.  \u001b[22m(a period) is the\n",
      "           current local repository (a dot-repository), see\n",
      "           \u001b[1mbranch.<name>.merge\u001b[22m's final note below.\n",
      "\n",
      "       branch.<name>.pushRemote\n",
      "           When on branch <name>, it overrides \u001b[1mbranch.<name>.remote \u001b[22mfor\n",
      "           pushing. It also overrides \u001b[1mremote.pushDefault \u001b[22mfor pushing from\n",
      "           branch <name>. When you pull from one place (e.g. your upstream)\n",
      "           and push to another place (e.g. your own publishing repository),\n",
      "           you would want to set \u001b[1mremote.pushDefault \u001b[22mto specify the remote to\n",
      "           push to for all branches, and use this option to override it for a\n",
      "           specific branch.\n",
      "\n",
      "       branch.<name>.merge\n",
      "           Defines, together with branch.<name>.remote, the upstream branch\n",
      "           for the given branch. It tells \u001b[4mgit\u001b[24m \u001b[4mfetch\u001b[24m/\u001b[4mgit\u001b[24m \u001b[4mpull\u001b[24m/\u001b[4mgit\u001b[24m \u001b[4mrebase\u001b[24m which\n",
      "           branch to merge and can also affect \u001b[4mgit\u001b[24m \u001b[4mpush\u001b[24m (see push.default).\n",
      "           When in branch <name>, it tells \u001b[4mgit\u001b[24m \u001b[4mfetch\u001b[24m the default refspec to be\n",
      "           marked for merging in FETCH_HEAD. The value is handled like the\n",
      "           remote part of a refspec, and must match a ref which is fetched\n",
      "           from the remote given by \"branch.<name>.remote\". The merge\n",
      "           information is used by \u001b[4mgit\u001b[24m \u001b[4mpull\u001b[24m (which first calls \u001b[4mgit\u001b[24m \u001b[4mfetch\u001b[24m) to\n",
      "           lookup the default branch for merging. Without this option, \u001b[4mgit\u001b[0m\n",
      "           \u001b[4mpull\u001b[24m defaults to merge the first refspec fetched. Specify multiple\n",
      "           values to get an octopus merge. If you wish to setup \u001b[4mgit\u001b[24m \u001b[4mpull\u001b[24m so\n",
      "           that it merges into <name> from another branch in the local\n",
      "           repository, you can point branch.<name>.merge to the desired\n",
      "           branch, and use the relative path setting \u001b[1m.  \u001b[22m(a period) for\n",
      "           branch.<name>.remote.\n",
      "\n",
      "       branch.<name>.mergeOptions\n",
      "           Sets default options for merging into branch <name>. The syntax and\n",
      "           supported options are the same as those of \u001b[1mgit-merge\u001b[22m(1), but option\n",
      "           values containing whitespace characters are currently not\n",
      "           supported.\n",
      "\n",
      "       branch.<name>.rebase\n",
      "           When true, rebase the branch <name> on top of the fetched branch,\n",
      "           instead of merging the default branch from the default remote when\n",
      "           \"git pull\" is run. See \"pull.rebase\" for doing this in a non\n",
      "           branch-specific manner.\n",
      "\n",
      "           When \u001b[1mmerges \u001b[22m(or just \u001b[4mm\u001b[24m), pass the \u001b[1m--rebase-merges \u001b[22moption to \u001b[4mgit\u001b[0m\n",
      "           \u001b[4mrebase\u001b[24m so that the local merge commits are included in the rebase\n",
      "           (see \u001b[1mgit-rebase\u001b[22m(1) for details).\n",
      "\n",
      "           When the value is \u001b[1minteractive \u001b[22m(or just \u001b[4mi\u001b[24m), the rebase is run in\n",
      "           interactive mode.\n",
      "\n",
      "           \u001b[1mNOTE\u001b[22m: this is a possibly dangerous operation; do \u001b[1mnot \u001b[22muse it unless\n",
      "           you understand the implications (see \u001b[1mgit-rebase\u001b[22m(1) for details).\n",
      "\n",
      "       branch.<name>.description\n",
      "           Branch description, can be edited with \u001b[1mgit branch\u001b[0m\n",
      "           \u001b[1m--edit-description\u001b[22m. Branch description is automatically added to\n",
      "           the format-patch cover letter or request-pull summary.\n",
      "\n",
      "\u001b[1mEXAMPLES\u001b[0m\n",
      "       Start development from a known tag\n",
      "\n",
      "               $ git clone git://git.kernel.org/pub/scm/.../linux-2.6 my2.6\n",
      "               $ cd my2.6\n",
      "               $ git branch my2.6.14 v2.6.14   \u001b[1m(1)\u001b[0m\n",
      "               $ git switch my2.6.14\n",
      "\n",
      "            \u001b[1m1. \u001b[22mThis step and the next one could be combined into a single\n",
      "               step with \"checkout -b my2.6.14 v2.6.14\".\n",
      "\n",
      "       Delete an unneeded branch\n",
      "\n",
      "               $ git clone git://git.kernel.org/.../git.git my.git\n",
      "               $ cd my.git\n",
      "               $ git branch -d -r origin/todo origin/html origin/man   \u001b[1m(1)\u001b[0m\n",
      "               $ git branch -D test                                    \u001b[1m(2)\u001b[0m\n",
      "\n",
      "            \u001b[1m1. \u001b[22mDelete the remote-tracking branches \"todo\", \"html\" and\n",
      "               \"man\". The next \u001b[4mfetch\u001b[24m or \u001b[4mpull\u001b[24m will create them again\n",
      "               unless you configure them not to. See \u001b[1mgit-fetch\u001b[22m(1).\n",
      "            \u001b[1m2. \u001b[22mDelete the \"test\" branch even if the \"master\" branch (or\n",
      "               whichever branch is currently checked out) does not have\n",
      "               all commits from the test branch.\n",
      "\n",
      "       Listing branches from a specific remote\n",
      "\n",
      "               $ git branch -r -l '<remote>/<pattern>'                 \u001b[1m(1)\u001b[0m\n",
      "               $ git for-each-ref 'refs/remotes/<remote>/<pattern>'    \u001b[1m(2)\u001b[0m\n",
      "\n",
      "            \u001b[1m1. \u001b[22mUsing \u001b[1m-a \u001b[22mwould conflate <remote> with any local branches\n",
      "               you happen to have been prefixed with the same <remote>\n",
      "               pattern.\n",
      "            \u001b[1m2. for-each-ref \u001b[22mcan take a wide range of options. See \u001b[1mgit-\u001b[0m\n",
      "               \u001b[1mfor-each-ref\u001b[22m(1)\n",
      "\n",
      "       Patterns will normally need quoting.\n",
      "\n",
      "\u001b[1mNOTES\u001b[0m\n",
      "       If you are creating a branch that you want to switch to immediately, it\n",
      "       is easier to use the \"git switch\" command with its \u001b[1m-c \u001b[22moption to do the\n",
      "       same thing with a single command.\n",
      "\n",
      "       The options \u001b[1m--contains\u001b[22m, \u001b[1m--no-contains\u001b[22m, \u001b[1m--merged \u001b[22mand \u001b[1m--no-merged \u001b[22mserve\n",
      "       four related but different purposes:\n",
      "\n",
      "       •   \u001b[1m--contains <commit> \u001b[22mis used to find all branches which will need\n",
      "           special attention if <commit> were to be rebased or amended, since\n",
      "           those branches contain the specified <commit>.\n",
      "\n",
      "       •   \u001b[1m--no-contains <commit> \u001b[22mis the inverse of that, i.e. branches that\n",
      "           don’t contain the specified <commit>.\n",
      "\n",
      "       •   \u001b[1m--merged \u001b[22mis used to find all branches which can be safely deleted,\n",
      "           since those branches are fully contained by HEAD.\n",
      "\n",
      "       •   \u001b[1m--no-merged \u001b[22mis used to find branches which are candidates for\n",
      "           merging into HEAD, since those branches are not fully contained by\n",
      "           HEAD.\n",
      "\n",
      "       When combining multiple \u001b[1m--contains \u001b[22mand \u001b[1m--no-contains \u001b[22mfilters, only\n",
      "       references that contain at least one of the \u001b[1m--contains \u001b[22mcommits and\n",
      "       contain none of the \u001b[1m--no-contains \u001b[22mcommits are shown.\n",
      "\n",
      "       When combining multiple \u001b[1m--merged \u001b[22mand \u001b[1m--no-merged \u001b[22mfilters, only\n",
      "       references that are reachable from at least one of the \u001b[1m--merged \u001b[22mcommits\n",
      "       and from none of the \u001b[1m--no-merged \u001b[22mcommits are shown.\n",
      "\n",
      "\u001b[1mSEE ALSO\u001b[0m\n",
      "       \u001b[1mgit-check-ref-format\u001b[22m(1), \u001b[1mgit-fetch\u001b[22m(1), \u001b[1mgit-remote\u001b[22m(1), \u001b[34m\u001b[1m“Understanding\u001b[0m\n",
      "       \u001b[1m\u001b[34mhistory: What is a branch?”\u001b[0m\u001b[1m\u001b[22m[1] in the Git User’s Manual.\n",
      "\n",
      "\u001b[1mGIT\u001b[0m\n",
      "       Part of the \u001b[1mgit\u001b[22m(1) suite\n",
      "\n",
      "\u001b[1mNOTES\u001b[0m\n",
      "        1. “Understanding history: What is a branch?”\n",
      "           file:///usr/share/doc/git/html/user-manual.html#what-is-a-branch\n",
      "\n",
      "Git 2.43.0                        01/13/2025                     \u001b[4mGIT-BRANCH\u001b[24m(1)\n"
     ]
    }
   ],
   "source": [
    "!git branch --help"
   ]
  },
  {
   "cell_type": "code",
   "execution_count": 7,
   "id": "a636e0d1",
   "metadata": {
    "vscode": {
     "languageId": "shellscript"
    }
   },
   "outputs": [
    {
     "name": "stdout",
     "output_type": "stream",
     "text": [
      "\u001b[4mGIT-BRANCH\u001b[24m(1)                     Git Manual                     \u001b[4mGIT-BRANCH\u001b[24m(1)\n",
      "\n",
      "\u001b[1mNAME\u001b[0m\n",
      "       git-branch - List, create, or delete branches\n",
      "\n",
      "\u001b[1mSYNOPSIS\u001b[0m\n",
      "       \u001b[4mgit\u001b[24m \u001b[4mbranch\u001b[24m [--color[=<when>] | --no-color] [--show-current]\n",
      "               [-v [--abbrev=<n> | --no-abbrev]]\n",
      "               [--column[=<options>] | --no-column] [--sort=<key>]\n",
      "               [--merged [<commit>]] [--no-merged [<commit>]]\n",
      "               [--contains [<commit>]] [--no-contains [<commit>]]\n",
      "               [--points-at <object>] [--format=<format>]\n",
      "               [(-r | --remotes) | (-a | --all)]\n",
      "               [--list] [<pattern>...]\n",
      "       \u001b[4mgit\u001b[24m \u001b[4mbranch\u001b[24m [--track[=(direct|inherit)] | --no-track] [-f]\n",
      "               [--recurse-submodules] <branchname> [<start-point>]\n",
      "       \u001b[4mgit\u001b[24m \u001b[4mbranch\u001b[24m (--set-upstream-to=<upstream> | -u <upstream>) [<branchname>]\n",
      "       \u001b[4mgit\u001b[24m \u001b[4mbranch\u001b[24m --unset-upstream [<branchname>]\n",
      "       \u001b[4mgit\u001b[24m \u001b[4mbranch\u001b[24m (-m | -M) [<oldbranch>] <newbranch>\n",
      "       \u001b[4mgit\u001b[24m \u001b[4mbranch\u001b[24m (-c | -C) [<oldbranch>] <newbranch>\n",
      "       \u001b[4mgit\u001b[24m \u001b[4mbranch\u001b[24m (-d | -D) [-r] <branchname>...\n",
      "       \u001b[4mgit\u001b[24m \u001b[4mbranch\u001b[24m --edit-description [<branchname>]\n",
      "\n",
      "\u001b[1mDESCRIPTION\u001b[0m\n",
      "       If \u001b[1m--list \u001b[22mis given, or if there are no non-option arguments, existing\n",
      "       branches are listed; the current branch will be highlighted in green\n",
      "       and marked with an asterisk. Any branches checked out in linked\n",
      "       worktrees will be highlighted in cyan and marked with a plus sign.\n",
      "       Option \u001b[1m-r \u001b[22mcauses the remote-tracking branches to be listed, and option\n",
      "       \u001b[1m-a \u001b[22mshows both local and remote branches.\n",
      "\n",
      "       If a \u001b[1m<pattern> \u001b[22mis given, it is used as a shell wildcard to restrict the\n",
      "       output to matching branches. If multiple patterns are given, a branch\n",
      "       is shown if it matches any of the patterns.\n",
      "\n",
      "       Note that when providing a \u001b[1m<pattern>\u001b[22m, you must use \u001b[1m--list\u001b[22m; otherwise\n",
      "       the command may be interpreted as branch creation.\n",
      "\n",
      "       With \u001b[1m--contains\u001b[22m, shows only the branches that contain the named commit\n",
      "       (in other words, the branches whose tip commits are descendants of the\n",
      "       named commit), \u001b[1m--no-contains \u001b[22minverts it. With \u001b[1m--merged\u001b[22m, only branches\n",
      "       merged into the named commit (i.e. the branches whose tip commits are\n",
      "       reachable from the named commit) will be listed. With \u001b[1m--no-merged \u001b[22monly\n",
      "       branches not merged into the named commit will be listed. If the\n",
      "       <commit> argument is missing it defaults to \u001b[1mHEAD \u001b[22m(i.e. the tip of the\n",
      "       current branch).\n",
      "\n",
      "       The command’s second form creates a new branch head named <branchname>\n",
      "       which points to the current \u001b[1mHEAD\u001b[22m, or <start-point> if given. As a\n",
      "       special case, for <start-point>, you may use \u001b[1m\"A...B\" \u001b[22mas a shortcut for\n",
      "       the merge base of \u001b[1mA \u001b[22mand \u001b[1mB \u001b[22mif there is exactly one merge base. You can\n",
      "       leave out at most one of \u001b[1mA \u001b[22mand \u001b[1mB\u001b[22m, in which case it defaults to \u001b[1mHEAD\u001b[22m.\n",
      "\n",
      "       Note that this will create the new branch, but it will not switch the\n",
      "       working tree to it; use \"git switch <newbranch>\" to switch to the new\n",
      "       branch.\n",
      "\n",
      "       When a local branch is started off a remote-tracking branch, Git sets\n",
      "       up the branch (specifically the \u001b[1mbranch.<name>.remote \u001b[22mand\n",
      "       \u001b[1mbranch.<name>.merge \u001b[22mconfiguration entries) so that \u001b[4mgit\u001b[24m \u001b[4mpull\u001b[24m will\n",
      "       appropriately merge from the remote-tracking branch. This behavior may\n",
      "       be changed via the global \u001b[1mbranch.autoSetupMerge \u001b[22mconfiguration flag.\n",
      "       That setting can be overridden by using the \u001b[1m--track \u001b[22mand \u001b[1m--no-track\u001b[0m\n",
      "       options, and changed later using \u001b[1mgit branch --set-upstream-to\u001b[22m.\n",
      "\n",
      "       With a \u001b[1m-m \u001b[22mor \u001b[1m-M \u001b[22moption, <oldbranch> will be renamed to <newbranch>. If\n",
      "       <oldbranch> had a corresponding reflog, it is renamed to match\n",
      "       <newbranch>, and a reflog entry is created to remember the branch\n",
      "       renaming. If <newbranch> exists, -M must be used to force the rename to\n",
      "       happen.\n",
      "\n",
      "       The \u001b[1m-c \u001b[22mand \u001b[1m-C \u001b[22moptions have the exact same semantics as \u001b[1m-m \u001b[22mand \u001b[1m-M\u001b[22m,\n",
      "       except instead of the branch being renamed, it will be copied to a new\n",
      "       name, along with its config and reflog.\n",
      "\n",
      "       With a \u001b[1m-d \u001b[22mor \u001b[1m-D \u001b[22moption, \u001b[1m<branchname> \u001b[22mwill be deleted. You may specify\n",
      "       more than one branch for deletion. If the branch currently has a reflog\n",
      "       then the reflog will also be deleted.\n",
      "\n",
      "       Use \u001b[1m-r \u001b[22mtogether with \u001b[1m-d \u001b[22mto delete remote-tracking branches. Note, that\n",
      "       it only makes sense to delete remote-tracking branches if they no\n",
      "       longer exist in the remote repository or if \u001b[4mgit\u001b[24m \u001b[4mfetch\u001b[24m was configured\n",
      "       not to fetch them again. See also the \u001b[4mprune\u001b[24m subcommand of \u001b[1mgit-remote\u001b[22m(1)\n",
      "       for a way to clean up all obsolete remote-tracking branches.\n",
      "\n",
      "\u001b[1mOPTIONS\u001b[0m\n",
      "       -d, --delete\n",
      "           Delete a branch. The branch must be fully merged in its upstream\n",
      "           branch, or in \u001b[1mHEAD \u001b[22mif no upstream was set with \u001b[1m--track \u001b[22mor\n",
      "           \u001b[1m--set-upstream-to\u001b[22m.\n",
      "\n",
      "       -D\n",
      "           Shortcut for \u001b[1m--delete --force\u001b[22m.\n",
      "\n",
      "       --create-reflog\n",
      "           Create the branch’s reflog. This activates recording of all changes\n",
      "           made to the branch ref, enabling use of date based sha1 expressions\n",
      "           such as \"<branchname>@{yesterday}\". Note that in non-bare\n",
      "           repositories, reflogs are usually enabled by default by the\n",
      "           \u001b[1mcore.logAllRefUpdates \u001b[22mconfig option. The negated form\n",
      "           \u001b[1m--no-create-reflog \u001b[22monly overrides an earlier \u001b[1m--create-reflog\u001b[22m, but\n",
      "           currently does not negate the setting of \u001b[1mcore.logAllRefUpdates\u001b[22m.\n",
      "\n",
      "       -f, --force\n",
      "           Reset <branchname> to <start-point>, even if <branchname> exists\n",
      "           already. Without \u001b[1m-f\u001b[22m, \u001b[4mgit\u001b[24m \u001b[4mbranch\u001b[24m refuses to change an existing\n",
      "           branch. In combination with \u001b[1m-d \u001b[22m(or \u001b[1m--delete\u001b[22m), allow deleting the\n",
      "           branch irrespective of its merged status, or whether it even points\n",
      "           to a valid commit. In combination with \u001b[1m-m \u001b[22m(or \u001b[1m--move\u001b[22m), allow\n",
      "           renaming the branch even if the new branch name already exists, the\n",
      "           same applies for \u001b[1m-c \u001b[22m(or \u001b[1m--copy\u001b[22m).\n",
      "\n",
      "           Note that \u001b[4mgit\u001b[24m \u001b[4mbranch\u001b[24m \u001b[4m-f\u001b[24m \u001b[4m<branchname>\u001b[24m \u001b[4m[<start-point>]\u001b[24m, even with \u001b[4m-f\u001b[24m,\n",
      "           refuses to change an existing branch \u001b[1m<branchname> \u001b[22mthat is checked\n",
      "           out in another worktree linked to the same repository.\n",
      "\n",
      "       -m, --move\n",
      "           Move/rename a branch, together with its config and reflog.\n",
      "\n",
      "       -M\n",
      "           Shortcut for \u001b[1m--move --force\u001b[22m.\n",
      "\n",
      "       -c, --copy\n",
      "           Copy a branch, together with its config and reflog.\n",
      "\n",
      "       -C\n",
      "           Shortcut for \u001b[1m--copy --force\u001b[22m.\n",
      "\n",
      "       --color[=<when>]\n",
      "           Color branches to highlight current, local, and remote-tracking\n",
      "           branches. The value must be always (the default), never, or auto.\n",
      "\n",
      "       --no-color\n",
      "           Turn off branch colors, even when the configuration file gives the\n",
      "           default to color output. Same as \u001b[1m--color=never\u001b[22m.\n",
      "\n",
      "       -i, --ignore-case\n",
      "           Sorting and filtering branches are case insensitive.\n",
      "\n",
      "       --omit-empty\n",
      "           Do not print a newline after formatted refs where the format\n",
      "           expands to the empty string.\n",
      "\n",
      "       --column[=<options>], --no-column\n",
      "           Display branch listing in columns. See configuration variable\n",
      "           \u001b[1mcolumn.branch \u001b[22mfor option syntax.  \u001b[1m--column \u001b[22mand \u001b[1m--no-column \u001b[22mwithout\n",
      "           options are equivalent to \u001b[4malways\u001b[24m and \u001b[4mnever\u001b[24m respectively.\n",
      "\n",
      "           This option is only applicable in non-verbose mode.\n",
      "\n",
      "       -r, --remotes\n",
      "           List or delete (if used with -d) the remote-tracking branches.\n",
      "           Combine with \u001b[1m--list \u001b[22mto match the optional pattern(s).\n",
      "\n",
      "       -a, --all\n",
      "           List both remote-tracking branches and local branches. Combine with\n",
      "           \u001b[1m--list \u001b[22mto match optional pattern(s).\n",
      "\n",
      "       -l, --list\n",
      "           List branches. With optional \u001b[1m<pattern>...\u001b[22m, e.g.  \u001b[1mgit branch --list\u001b[0m\n",
      "           \u001b[1m'maint-*'\u001b[22m, list only the branches that match the pattern(s).\n",
      "\n",
      "       --show-current\n",
      "           Print the name of the current branch. In detached HEAD state,\n",
      "           nothing is printed.\n",
      "\n",
      "       -v, -vv, --verbose\n",
      "           When in list mode, show sha1 and commit subject line for each head,\n",
      "           along with relationship to upstream branch (if any). If given\n",
      "           twice, print the path of the linked worktree (if any) and the name\n",
      "           of the upstream branch, as well (see also \u001b[1mgit remote show\u001b[0m\n",
      "           \u001b[1m<remote>\u001b[22m). Note that the current worktree’s HEAD will not have its\n",
      "           path printed (it will always be your current directory).\n",
      "\n",
      "       -q, --quiet\n",
      "           Be more quiet when creating or deleting a branch, suppressing\n",
      "           non-error messages.\n",
      "\n",
      "       --abbrev=<n>\n",
      "           In the verbose listing that show the commit object name, show the\n",
      "           shortest prefix that is at least \u001b[4m<n>\u001b[24m hexdigits long that uniquely\n",
      "           refers the object. The default value is 7 and can be overridden by\n",
      "           the \u001b[1mcore.abbrev \u001b[22mconfig option.\n",
      "\n",
      "       --no-abbrev\n",
      "           Display the full sha1s in the output listing rather than\n",
      "           abbreviating them.\n",
      "\n",
      "       -t, --track[=(direct|inherit)]\n",
      "           When creating a new branch, set up \u001b[1mbranch.<name>.remote \u001b[22mand\n",
      "           \u001b[1mbranch.<name>.merge \u001b[22mconfiguration entries to set \"upstream\"\n",
      "           tracking configuration for the new branch. This configuration will\n",
      "           tell git to show the relationship between the two branches in \u001b[1mgit\u001b[0m\n",
      "           \u001b[1mstatus \u001b[22mand \u001b[1mgit branch -v\u001b[22m. Furthermore, it directs \u001b[1mgit pull \u001b[22mwithout\n",
      "           arguments to pull from the upstream when the new branch is checked\n",
      "           out.\n",
      "\n",
      "           The exact upstream branch is chosen depending on the optional\n",
      "           argument: \u001b[1m-t\u001b[22m, \u001b[1m--track\u001b[22m, or \u001b[1m--track=direct \u001b[22mmeans to use the\n",
      "           start-point branch itself as the upstream; \u001b[1m--track=inherit \u001b[22mmeans to\n",
      "           copy the upstream configuration of the start-point branch.\n",
      "\n",
      "           The branch.autoSetupMerge configuration variable specifies how \u001b[1mgit\u001b[0m\n",
      "           \u001b[1mswitch\u001b[22m, \u001b[1mgit checkout \u001b[22mand \u001b[1mgit branch \u001b[22mshould behave when neither\n",
      "           \u001b[1m--track \u001b[22mnor \u001b[1m--no-track \u001b[22mare specified:\n",
      "\n",
      "           The default option, \u001b[1mtrue\u001b[22m, behaves as though \u001b[1m--track=direct \u001b[22mwere\n",
      "           given whenever the start-point is a remote-tracking branch.  \u001b[1mfalse\u001b[0m\n",
      "           behaves as if \u001b[1m--no-track \u001b[22mwere given.  \u001b[1malways \u001b[22mbehaves as though\n",
      "           \u001b[1m--track=direct \u001b[22mwere given.  \u001b[1minherit \u001b[22mbehaves as though\n",
      "           \u001b[1m--track=inherit \u001b[22mwere given.  \u001b[1msimple \u001b[22mbehaves as though\n",
      "           \u001b[1m--track=direct \u001b[22mwere given only when the start-point is a\n",
      "           remote-tracking branch and the new branch has the same name as the\n",
      "           remote branch.\n",
      "\n",
      "           See \u001b[1mgit-pull\u001b[22m(1) and \u001b[1mgit-config\u001b[22m(1) for additional discussion on how\n",
      "           the \u001b[1mbranch.<name>.remote \u001b[22mand \u001b[1mbranch.<name>.merge \u001b[22moptions are used.\n",
      "\n",
      "       --no-track\n",
      "           Do not set up \"upstream\" configuration, even if the\n",
      "           branch.autoSetupMerge configuration variable is set.\n",
      "\n",
      "       --recurse-submodules\n",
      "           THIS OPTION IS EXPERIMENTAL! Causes the current command to recurse\n",
      "           into submodules if \u001b[1msubmodule.propagateBranches \u001b[22mis enabled. See\n",
      "           \u001b[1msubmodule.propagateBranches \u001b[22min \u001b[1mgit-config\u001b[22m(1). Currently, only\n",
      "           branch creation is supported.\n",
      "\n",
      "           When used in branch creation, a new branch <branchname> will be\n",
      "           created in the superproject and all of the submodules in the\n",
      "           superproject’s <start-point>. In submodules, the branch will point\n",
      "           to the submodule commit in the superproject’s <start-point> but the\n",
      "           branch’s tracking information will be set up based on the\n",
      "           submodule’s branches and remotes e.g.  \u001b[1mgit branch\u001b[0m\n",
      "           \u001b[1m--recurse-submodules topic origin/main \u001b[22mwill create the submodule\n",
      "           branch \"topic\" that points to the submodule commit in the\n",
      "           superproject’s \"origin/main\", but tracks the submodule’s\n",
      "           \"origin/main\".\n",
      "\n",
      "       --set-upstream\n",
      "           As this option had confusing syntax, it is no longer supported.\n",
      "           Please use \u001b[1m--track \u001b[22mor \u001b[1m--set-upstream-to \u001b[22minstead.\n",
      "\n",
      "       -u <upstream>, --set-upstream-to=<upstream>\n",
      "           Set up <branchname>'s tracking information so <upstream> is\n",
      "           considered <branchname>'s upstream branch. If no <branchname> is\n",
      "           specified, then it defaults to the current branch.\n",
      "\n",
      "       --unset-upstream\n",
      "           Remove the upstream information for <branchname>. If no branch is\n",
      "           specified it defaults to the current branch.\n",
      "\n",
      "       --edit-description\n",
      "           Open an editor and edit the text to explain what the branch is for,\n",
      "           to be used by various other commands (e.g.  \u001b[1mformat-patch\u001b[22m,\n",
      "           \u001b[1mrequest-pull\u001b[22m, and \u001b[1mmerge \u001b[22m(if enabled)). Multi-line explanations may\n",
      "           be used.\n",
      "\n",
      "       --contains [<commit>]\n",
      "           Only list branches which contain the specified commit (HEAD if not\n",
      "           specified). Implies \u001b[1m--list\u001b[22m.\n",
      "\n",
      "       --no-contains [<commit>]\n",
      "           Only list branches which don’t contain the specified commit (HEAD\n",
      "           if not specified). Implies \u001b[1m--list\u001b[22m.\n",
      "\n",
      "       --merged [<commit>]\n",
      "           Only list branches whose tips are reachable from the specified\n",
      "           commit (HEAD if not specified). Implies \u001b[1m--list\u001b[22m.\n",
      "\n",
      "       --no-merged [<commit>]\n",
      "           Only list branches whose tips are not reachable from the specified\n",
      "           commit (HEAD if not specified). Implies \u001b[1m--list\u001b[22m.\n",
      "\n",
      "       <branchname>\n",
      "           The name of the branch to create or delete. The new branch name\n",
      "           must pass all checks defined by \u001b[1mgit-check-ref-format\u001b[22m(1). Some of\n",
      "           these checks may restrict the characters allowed in a branch name.\n",
      "\n",
      "       <start-point>\n",
      "           The new branch head will point to this commit. It may be given as a\n",
      "           branch name, a commit-id, or a tag. If this option is omitted, the\n",
      "           current HEAD will be used instead.\n",
      "\n",
      "       <oldbranch>\n",
      "           The name of an existing branch to rename.\n",
      "\n",
      "       <newbranch>\n",
      "           The new name for an existing branch. The same restrictions as for\n",
      "           <branchname> apply.\n",
      "\n",
      "       --sort=<key>\n",
      "           Sort based on the key given. Prefix \u001b[1m- \u001b[22mto sort in descending order\n",
      "           of the value. You may use the --sort=<key> option multiple times,\n",
      "           in which case the last key becomes the primary key. The keys\n",
      "           supported are the same as those in \u001b[1mgit for-each-ref\u001b[22m. Sort order\n",
      "           defaults to the value configured for the \u001b[1mbranch.sort \u001b[22mvariable if it\n",
      "           exists, or to sorting based on the full refname (including \u001b[1mrefs/...\u001b[0m\n",
      "           prefix). This lists detached HEAD (if present) first, then local\n",
      "           branches and finally remote-tracking branches. See \u001b[1mgit-config\u001b[22m(1).\n",
      "\n",
      "       --points-at <object>\n",
      "           Only list branches of the given object.\n",
      "\n",
      "       --format <format>\n",
      "           A string that interpolates \u001b[1m%(fieldname) \u001b[22mfrom a branch ref being\n",
      "           shown and the object it points at. The format is the same as that\n",
      "           of \u001b[1mgit-for-each-ref\u001b[22m(1).\n",
      "\n",
      "\u001b[1mCONFIGURATION\u001b[0m\n",
      "       \u001b[1mpager.branch \u001b[22mis only respected when listing branches, i.e., when \u001b[1m--list\u001b[0m\n",
      "       is used or implied. The default is to use a pager. See \u001b[1mgit-config\u001b[22m(1).\n",
      "\n",
      "       Everything above this line in this section isn’t included from the \u001b[1mgit-\u001b[0m\n",
      "       \u001b[1mconfig\u001b[22m(1) documentation. The content that follows is the same as what’s\n",
      "       found there:\n",
      "\n",
      "       branch.autoSetupMerge\n",
      "           Tells \u001b[4mgit\u001b[24m \u001b[4mbranch\u001b[24m, \u001b[4mgit\u001b[24m \u001b[4mswitch\u001b[24m and \u001b[4mgit\u001b[24m \u001b[4mcheckout\u001b[24m to set up new\n",
      "           branches so that \u001b[1mgit-pull\u001b[22m(1) will appropriately merge from the\n",
      "           starting point branch. Note that even if this option is not set,\n",
      "           this behavior can be chosen per-branch using the \u001b[1m--track \u001b[22mand\n",
      "           \u001b[1m--no-track \u001b[22moptions. The valid settings are: \u001b[1mfalse \u001b[22m— no automatic\n",
      "           setup is done; \u001b[1mtrue \u001b[22m— automatic setup is done when the starting\n",
      "           point is a remote-tracking branch; \u001b[1malways \u001b[22m—  automatic setup is\n",
      "           done when the starting point is either a local branch or\n",
      "           remote-tracking branch; \u001b[1minherit \u001b[22m— if the starting point has a\n",
      "           tracking configuration, it is copied to the new branch; \u001b[1msimple \u001b[22m—\n",
      "           automatic setup is done only when the starting point is a\n",
      "           remote-tracking branch and the new branch has the same name as the\n",
      "           remote branch. This option defaults to true.\n",
      "\n",
      "       branch.autoSetupRebase\n",
      "           When a new branch is created with \u001b[4mgit\u001b[24m \u001b[4mbranch\u001b[24m, \u001b[4mgit\u001b[24m \u001b[4mswitch\u001b[24m or \u001b[4mgit\u001b[0m\n",
      "           \u001b[4mcheckout\u001b[24m that tracks another branch, this variable tells Git to set\n",
      "           up pull to rebase instead of merge (see \"branch.<name>.rebase\").\n",
      "           When \u001b[1mnever\u001b[22m, rebase is never automatically set to true. When \u001b[1mlocal\u001b[22m,\n",
      "           rebase is set to true for tracked branches of other local branches.\n",
      "           When \u001b[1mremote\u001b[22m, rebase is set to true for tracked branches of\n",
      "           remote-tracking branches. When \u001b[1malways\u001b[22m, rebase will be set to true\n",
      "           for all tracking branches. See \"branch.autoSetupMerge\" for details\n",
      "           on how to set up a branch to track another branch. This option\n",
      "           defaults to never.\n",
      "\n",
      "       branch.sort\n",
      "           This variable controls the sort ordering of branches when displayed\n",
      "           by \u001b[1mgit-branch\u001b[22m(1). Without the \"--sort=<value>\" option provided, the\n",
      "           value of this variable will be used as the default. See \u001b[1mgit-for-\u001b[0m\n",
      "           \u001b[1meach-ref\u001b[22m(1) field names for valid values.\n",
      "\n",
      "       branch.<name>.remote\n",
      "           When on branch <name>, it tells \u001b[4mgit\u001b[24m \u001b[4mfetch\u001b[24m and \u001b[4mgit\u001b[24m \u001b[4mpush\u001b[24m which remote\n",
      "           to fetch from or push to. The remote to push to may be overridden\n",
      "           with \u001b[1mremote.pushDefault \u001b[22m(for all branches). The remote to push to,\n",
      "           for the current branch, may be further overridden by\n",
      "           \u001b[1mbranch.<name>.pushRemote\u001b[22m. If no remote is configured, or if you are\n",
      "           not on any branch and there is more than one remote defined in the\n",
      "           repository, it defaults to \u001b[1morigin \u001b[22mfor fetching and\n",
      "           \u001b[1mremote.pushDefault \u001b[22mfor pushing. Additionally, \u001b[1m.  \u001b[22m(a period) is the\n",
      "           current local repository (a dot-repository), see\n",
      "           \u001b[1mbranch.<name>.merge\u001b[22m's final note below.\n",
      "\n",
      "       branch.<name>.pushRemote\n",
      "           When on branch <name>, it overrides \u001b[1mbranch.<name>.remote \u001b[22mfor\n",
      "           pushing. It also overrides \u001b[1mremote.pushDefault \u001b[22mfor pushing from\n",
      "           branch <name>. When you pull from one place (e.g. your upstream)\n",
      "           and push to another place (e.g. your own publishing repository),\n",
      "           you would want to set \u001b[1mremote.pushDefault \u001b[22mto specify the remote to\n",
      "           push to for all branches, and use this option to override it for a\n",
      "           specific branch.\n",
      "\n",
      "       branch.<name>.merge\n",
      "           Defines, together with branch.<name>.remote, the upstream branch\n",
      "           for the given branch. It tells \u001b[4mgit\u001b[24m \u001b[4mfetch\u001b[24m/\u001b[4mgit\u001b[24m \u001b[4mpull\u001b[24m/\u001b[4mgit\u001b[24m \u001b[4mrebase\u001b[24m which\n",
      "           branch to merge and can also affect \u001b[4mgit\u001b[24m \u001b[4mpush\u001b[24m (see push.default).\n",
      "           When in branch <name>, it tells \u001b[4mgit\u001b[24m \u001b[4mfetch\u001b[24m the default refspec to be\n",
      "           marked for merging in FETCH_HEAD. The value is handled like the\n",
      "           remote part of a refspec, and must match a ref which is fetched\n",
      "           from the remote given by \"branch.<name>.remote\". The merge\n",
      "           information is used by \u001b[4mgit\u001b[24m \u001b[4mpull\u001b[24m (which first calls \u001b[4mgit\u001b[24m \u001b[4mfetch\u001b[24m) to\n",
      "           lookup the default branch for merging. Without this option, \u001b[4mgit\u001b[0m\n",
      "           \u001b[4mpull\u001b[24m defaults to merge the first refspec fetched. Specify multiple\n",
      "           values to get an octopus merge. If you wish to setup \u001b[4mgit\u001b[24m \u001b[4mpull\u001b[24m so\n",
      "           that it merges into <name> from another branch in the local\n",
      "           repository, you can point branch.<name>.merge to the desired\n",
      "           branch, and use the relative path setting \u001b[1m.  \u001b[22m(a period) for\n",
      "           branch.<name>.remote.\n",
      "\n",
      "       branch.<name>.mergeOptions\n",
      "           Sets default options for merging into branch <name>. The syntax and\n",
      "           supported options are the same as those of \u001b[1mgit-merge\u001b[22m(1), but option\n",
      "           values containing whitespace characters are currently not\n",
      "           supported.\n",
      "\n",
      "       branch.<name>.rebase\n",
      "           When true, rebase the branch <name> on top of the fetched branch,\n",
      "           instead of merging the default branch from the default remote when\n",
      "           \"git pull\" is run. See \"pull.rebase\" for doing this in a non\n",
      "           branch-specific manner.\n",
      "\n",
      "           When \u001b[1mmerges \u001b[22m(or just \u001b[4mm\u001b[24m), pass the \u001b[1m--rebase-merges \u001b[22moption to \u001b[4mgit\u001b[0m\n",
      "           \u001b[4mrebase\u001b[24m so that the local merge commits are included in the rebase\n",
      "           (see \u001b[1mgit-rebase\u001b[22m(1) for details).\n",
      "\n",
      "           When the value is \u001b[1minteractive \u001b[22m(or just \u001b[4mi\u001b[24m), the rebase is run in\n",
      "           interactive mode.\n",
      "\n",
      "           \u001b[1mNOTE\u001b[22m: this is a possibly dangerous operation; do \u001b[1mnot \u001b[22muse it unless\n",
      "           you understand the implications (see \u001b[1mgit-rebase\u001b[22m(1) for details).\n",
      "\n",
      "       branch.<name>.description\n",
      "           Branch description, can be edited with \u001b[1mgit branch\u001b[0m\n",
      "           \u001b[1m--edit-description\u001b[22m. Branch description is automatically added to\n",
      "           the format-patch cover letter or request-pull summary.\n",
      "\n",
      "\u001b[1mEXAMPLES\u001b[0m\n",
      "       Start development from a known tag\n",
      "\n",
      "               $ git clone git://git.kernel.org/pub/scm/.../linux-2.6 my2.6\n",
      "               $ cd my2.6\n",
      "               $ git branch my2.6.14 v2.6.14   \u001b[1m(1)\u001b[0m\n",
      "               $ git switch my2.6.14\n",
      "\n",
      "            \u001b[1m1. \u001b[22mThis step and the next one could be combined into a single\n",
      "               step with \"checkout -b my2.6.14 v2.6.14\".\n",
      "\n",
      "       Delete an unneeded branch\n",
      "\n",
      "               $ git clone git://git.kernel.org/.../git.git my.git\n",
      "               $ cd my.git\n",
      "               $ git branch -d -r origin/todo origin/html origin/man   \u001b[1m(1)\u001b[0m\n",
      "               $ git branch -D test                                    \u001b[1m(2)\u001b[0m\n",
      "\n",
      "            \u001b[1m1. \u001b[22mDelete the remote-tracking branches \"todo\", \"html\" and\n",
      "               \"man\". The next \u001b[4mfetch\u001b[24m or \u001b[4mpull\u001b[24m will create them again\n",
      "               unless you configure them not to. See \u001b[1mgit-fetch\u001b[22m(1).\n",
      "            \u001b[1m2. \u001b[22mDelete the \"test\" branch even if the \"master\" branch (or\n",
      "               whichever branch is currently checked out) does not have\n",
      "               all commits from the test branch.\n",
      "\n",
      "       Listing branches from a specific remote\n",
      "\n",
      "               $ git branch -r -l '<remote>/<pattern>'                 \u001b[1m(1)\u001b[0m\n",
      "               $ git for-each-ref 'refs/remotes/<remote>/<pattern>'    \u001b[1m(2)\u001b[0m\n",
      "\n",
      "            \u001b[1m1. \u001b[22mUsing \u001b[1m-a \u001b[22mwould conflate <remote> with any local branches\n",
      "               you happen to have been prefixed with the same <remote>\n",
      "               pattern.\n",
      "            \u001b[1m2. for-each-ref \u001b[22mcan take a wide range of options. See \u001b[1mgit-\u001b[0m\n",
      "               \u001b[1mfor-each-ref\u001b[22m(1)\n",
      "\n",
      "       Patterns will normally need quoting.\n",
      "\n",
      "\u001b[1mNOTES\u001b[0m\n",
      "       If you are creating a branch that you want to switch to immediately, it\n",
      "       is easier to use the \"git switch\" command with its \u001b[1m-c \u001b[22moption to do the\n",
      "       same thing with a single command.\n",
      "\n",
      "       The options \u001b[1m--contains\u001b[22m, \u001b[1m--no-contains\u001b[22m, \u001b[1m--merged \u001b[22mand \u001b[1m--no-merged \u001b[22mserve\n",
      "       four related but different purposes:\n",
      "\n",
      "       •   \u001b[1m--contains <commit> \u001b[22mis used to find all branches which will need\n",
      "           special attention if <commit> were to be rebased or amended, since\n",
      "           those branches contain the specified <commit>.\n",
      "\n",
      "       •   \u001b[1m--no-contains <commit> \u001b[22mis the inverse of that, i.e. branches that\n",
      "           don’t contain the specified <commit>.\n",
      "\n",
      "       •   \u001b[1m--merged \u001b[22mis used to find all branches which can be safely deleted,\n",
      "           since those branches are fully contained by HEAD.\n",
      "\n",
      "       •   \u001b[1m--no-merged \u001b[22mis used to find branches which are candidates for\n",
      "           merging into HEAD, since those branches are not fully contained by\n",
      "           HEAD.\n",
      "\n",
      "       When combining multiple \u001b[1m--contains \u001b[22mand \u001b[1m--no-contains \u001b[22mfilters, only\n",
      "       references that contain at least one of the \u001b[1m--contains \u001b[22mcommits and\n",
      "       contain none of the \u001b[1m--no-contains \u001b[22mcommits are shown.\n",
      "\n",
      "       When combining multiple \u001b[1m--merged \u001b[22mand \u001b[1m--no-merged \u001b[22mfilters, only\n",
      "       references that are reachable from at least one of the \u001b[1m--merged \u001b[22mcommits\n",
      "       and from none of the \u001b[1m--no-merged \u001b[22mcommits are shown.\n",
      "\n",
      "\u001b[1mSEE ALSO\u001b[0m\n",
      "       \u001b[1mgit-check-ref-format\u001b[22m(1), \u001b[1mgit-fetch\u001b[22m(1), \u001b[1mgit-remote\u001b[22m(1), \u001b[34m\u001b[1m“Understanding\u001b[0m\n",
      "       \u001b[1m\u001b[34mhistory: What is a branch?”\u001b[0m\u001b[1m\u001b[22m[1] in the Git User’s Manual.\n",
      "\n",
      "\u001b[1mGIT\u001b[0m\n",
      "       Part of the \u001b[1mgit\u001b[22m(1) suite\n",
      "\n",
      "\u001b[1mNOTES\u001b[0m\n",
      "        1. “Understanding history: What is a branch?”\n",
      "           file:///usr/share/doc/git/html/user-manual.html#what-is-a-branch\n",
      "\n",
      "Git 2.43.0                        01/13/2025                     \u001b[4mGIT-BRANCH\u001b[24m(1)\n"
     ]
    }
   ],
   "source": [
    "!git help branch"
   ]
  },
  {
   "cell_type": "markdown",
   "id": "13657e5a",
   "metadata": {},
   "source": [
    "### Shorter Help"
   ]
  },
  {
   "cell_type": "code",
   "execution_count": 6,
   "id": "0b24c32c",
   "metadata": {
    "vscode": {
     "languageId": "shellscript"
    }
   },
   "outputs": [
    {
     "name": "stdout",
     "output_type": "stream",
     "text": [
      "usage: git branch [<options>] [-r | -a] [--merged] [--no-merged]\n",
      "   or: git branch [<options>] [-f] [--recurse-submodules] <branch-name> [<start-point>]\n",
      "   or: git branch [<options>] [-l] [<pattern>...]\n",
      "   or: git branch [<options>] [-r] (-d | -D) <branch-name>...\n",
      "   or: git branch [<options>] (-m | -M) [<old-branch>] <new-branch>\n",
      "   or: git branch [<options>] (-c | -C) [<old-branch>] <new-branch>\n",
      "   or: git branch [<options>] [-r | -a] [--points-at]\n",
      "   or: git branch [<options>] [-r | -a] [--format]\n",
      "\n",
      "Generic options\n",
      "    -v, --[no-]verbose    show hash and subject, give twice for upstream branch\n",
      "    -q, --[no-]quiet      suppress informational messages\n",
      "    -t, --[no-]track[=(direct|inherit)]\n",
      "                          set branch tracking configuration\n",
      "    -u, --[no-]set-upstream-to <upstream>\n",
      "                          change the upstream info\n",
      "    --[no-]unset-upstream unset the upstream info\n",
      "    --[no-]color[=<when>] use colored output\n",
      "    -r, --remotes         act on remote-tracking branches\n",
      "    --contains <commit>   print only branches that contain the commit\n",
      "    --no-contains <commit>\n",
      "                          print only branches that don't contain the commit\n",
      "    --[no-]abbrev[=<n>]   use <n> digits to display object names\n",
      "\n",
      "Specific git-branch actions:\n",
      "    -a, --all             list both remote-tracking and local branches\n",
      "    -d, --[no-]delete     delete fully merged branch\n",
      "    -D                    delete branch (even if not merged)\n",
      "    -m, --[no-]move       move/rename a branch and its reflog\n",
      "    -M                    move/rename a branch, even if target exists\n",
      "    --[no-]omit-empty     do not output a newline after empty formatted refs\n",
      "    -c, --[no-]copy       copy a branch and its reflog\n",
      "    -C                    copy a branch, even if target exists\n",
      "    -l, --[no-]list       list branch names\n",
      "    --[no-]show-current   show current branch name\n",
      "    --[no-]create-reflog  create the branch's reflog\n",
      "    --[no-]edit-description\n",
      "                          edit the description for the branch\n",
      "    -f, --[no-]force      force creation, move/rename, deletion\n",
      "    --merged <commit>     print only branches that are merged\n",
      "    --no-merged <commit>  print only branches that are not merged\n",
      "    --[no-]column[=<style>]\n",
      "                          list branches in columns\n",
      "    --[no-]sort <key>     field name to sort on\n",
      "    --[no-]points-at <object>\n",
      "                          print only branches of the object\n",
      "    -i, --[no-]ignore-case\n",
      "                          sorting and filtering are case insensitive\n",
      "    --[no-]recurse-submodules\n",
      "                          recurse through submodules\n",
      "    --[no-]format <format>\n",
      "                          format to use for the output\n",
      "\n"
     ]
    }
   ],
   "source": [
    "!git branch -h"
   ]
  },
  {
   "cell_type": "markdown",
   "id": "27c54cee",
   "metadata": {},
   "source": [
    "### List branches with last commit"
   ]
  },
  {
   "cell_type": "code",
   "execution_count": 8,
   "id": "5857eaac",
   "metadata": {
    "vscode": {
     "languageId": "shellscript"
    }
   },
   "outputs": [
    {
     "name": "stdout",
     "output_type": "stream",
     "text": [
      "  add-fall-menu  \u001b[m 07dc8f9 update heading\n",
      "* \u001b[32madd-thurs-menu \u001b[m 16880d8 add thursdays menu\n",
      "  master         \u001b[m d5afaf6 add the main menu\n",
      "  my-first-branch\u001b[m d5afaf6 add the main menu\n"
     ]
    }
   ],
   "source": [
    "!git branch -v"
   ]
  },
  {
   "cell_type": "markdown",
   "id": "2a769b54",
   "metadata": {},
   "source": [
    "# Merging"
   ]
  },
  {
   "cell_type": "code",
   "execution_count": 10,
   "id": "98287f6b",
   "metadata": {
    "vscode": {
     "languageId": "shellscript"
    }
   },
   "outputs": [
    {
     "name": "stdout",
     "output_type": "stream",
     "text": [
      "Switched to branch 'master'\n"
     ]
    }
   ],
   "source": [
    "!git switch master"
   ]
  },
  {
   "cell_type": "markdown",
   "id": "b9ddba3f",
   "metadata": {},
   "source": [
    "### Merge branch into current"
   ]
  },
  {
   "cell_type": "code",
   "execution_count": 11,
   "id": "6feafad3",
   "metadata": {
    "vscode": {
     "languageId": "shellscript"
    }
   },
   "outputs": [
    {
     "name": "stdout",
     "output_type": "stream",
     "text": [
      "Updating d5afaf6..07dc8f9\n",
      "Fast-forward\n",
      " fall-menu.md | 10 \u001b[32m++++++++++\u001b[m\n",
      " 1 file changed, 10 insertions(+)\n",
      " create mode 100644 fall-menu.md\n"
     ]
    }
   ],
   "source": [
    "!git merge add-fall-menu"
   ]
  },
  {
   "cell_type": "code",
   "execution_count": 12,
   "id": "9f23dabc",
   "metadata": {
    "vscode": {
     "languageId": "shellscript"
    }
   },
   "outputs": [
    {
     "name": "stdout",
     "output_type": "stream",
     "text": [
      "fall-menu.md  menu.md\n"
     ]
    }
   ],
   "source": [
    "ls"
   ]
  },
  {
   "cell_type": "code",
   "execution_count": 13,
   "id": "05b9761e",
   "metadata": {
    "vscode": {
     "languageId": "shellscript"
    }
   },
   "outputs": [
    {
     "name": "stdout",
     "output_type": "stream",
     "text": [
      "  add-fall-menu  \u001b[m 07dc8f9 update heading\n",
      "  add-thurs-menu \u001b[m 16880d8 add thursdays menu\n",
      "* \u001b[32mmaster         \u001b[m 07dc8f9 update heading\n",
      "  my-first-branch\u001b[m d5afaf6 add the main menu\n"
     ]
    }
   ],
   "source": [
    "!git branch -v"
   ]
  },
  {
   "cell_type": "code",
   "execution_count": 10,
   "id": "b3ee1844",
   "metadata": {
    "vscode": {
     "languageId": "shellscript"
    }
   },
   "outputs": [
    {
     "name": "stdout",
     "output_type": "stream",
     "text": [
      "Switched to branch 'add-fall-menu'\n"
     ]
    }
   ],
   "source": [
    "!git switch add-fall-menu "
   ]
  },
  {
   "cell_type": "code",
   "execution_count": 11,
   "id": "30b314ee",
   "metadata": {
    "vscode": {
     "languageId": "shellscript"
    }
   },
   "outputs": [
    {
     "name": "stdout",
     "output_type": "stream",
     "text": [
      "Already up to date.\n"
     ]
    }
   ],
   "source": [
    "!git merge master"
   ]
  },
  {
   "cell_type": "code",
   "execution_count": 13,
   "id": "069cb4b4",
   "metadata": {
    "vscode": {
     "languageId": "shellscript"
    }
   },
   "outputs": [],
   "source": [
    "!git config --global core.editor"
   ]
  },
  {
   "cell_type": "markdown",
   "id": "a7e4656a",
   "metadata": {},
   "source": [
    "## Merge thursday branch"
   ]
  },
  {
   "cell_type": "code",
   "execution_count": 23,
   "id": "68d8bdfc",
   "metadata": {
    "vscode": {
     "languageId": "shellscript"
    }
   },
   "outputs": [
    {
     "name": "stdout",
     "output_type": "stream",
     "text": [
      "A\tthursdays-menu.md\n",
      "Already on 'master'\n"
     ]
    }
   ],
   "source": [
    "!git switch master"
   ]
  },
  {
   "cell_type": "code",
   "execution_count": 22,
   "id": "7221112e",
   "metadata": {
    "vscode": {
     "languageId": "shellscript"
    }
   },
   "outputs": [
    {
     "name": "stdout",
     "output_type": "stream",
     "text": [
      "  add-fall-menu\u001b[m\n",
      "  add-thurs-menu\u001b[m\n",
      "* \u001b[32mmaster\u001b[m\n",
      "  my-first-branch\u001b[m\n"
     ]
    }
   ],
   "source": [
    "!git branch"
   ]
  },
  {
   "cell_type": "code",
   "execution_count": 35,
   "id": "b2580d39",
   "metadata": {
    "vscode": {
     "languageId": "shellscript"
    }
   },
   "outputs": [
    {
     "name": "stdout",
     "output_type": "stream",
     "text": [
      "error: Your local changes to the following files would be overwritten by merge:\n",
      "  thursdays-menu.md\n",
      "Merge with strategy ort failed.\n"
     ]
    }
   ],
   "source": [
    "!git merge add-thurs-menu"
   ]
  },
  {
   "cell_type": "code",
   "execution_count": 37,
   "id": "3d618fab",
   "metadata": {
    "vscode": {
     "languageId": "shellscript"
    }
   },
   "outputs": [
    {
     "name": "stdout",
     "output_type": "stream",
     "text": [
      "On branch master\n",
      "Changes to be committed:\n",
      "  (use \"git restore --staged <file>...\" to unstage)\n",
      "\t\u001b[32mnew file:   thursdays-menu.md\u001b[m\n",
      "\n"
     ]
    }
   ],
   "source": [
    "!git status"
   ]
  },
  {
   "cell_type": "code",
   "execution_count": 39,
   "id": "e9d35bb0",
   "metadata": {
    "vscode": {
     "languageId": "shellscript"
    }
   },
   "outputs": [
    {
     "name": "stdout",
     "output_type": "stream",
     "text": [
      "[master b943544] merge thurs and main\n",
      " 1 file changed, 10 insertions(+)\n",
      " create mode 100644 thursdays-menu.md\n"
     ]
    }
   ],
   "source": [
    "!git commit -m \"merge thurs and main\""
   ]
  },
  {
   "cell_type": "code",
   "execution_count": 40,
   "id": "b9ae30d6",
   "metadata": {
    "vscode": {
     "languageId": "shellscript"
    }
   },
   "outputs": [
    {
     "name": "stdout",
     "output_type": "stream",
     "text": [
      "fall-menu.md  menu.md  thursdays-menu.md\n"
     ]
    }
   ],
   "source": [
    "ls"
   ]
  },
  {
   "cell_type": "markdown",
   "id": "c5be910e",
   "metadata": {},
   "source": [
    "# Merge conflicts"
   ]
  },
  {
   "cell_type": "code",
   "execution_count": 115,
   "id": "ebe94f0e",
   "metadata": {
    "vscode": {
     "languageId": "shellscript"
    }
   },
   "outputs": [
    {
     "name": "stdout",
     "output_type": "stream",
     "text": [
      "/home/amin/HeadFirstGit/HeadFirstGit-Samples\n"
     ]
    }
   ],
   "source": [
    "cd /home/amin/HeadFirstGit/HeadFirstGit-Samples"
   ]
  },
  {
   "cell_type": "code",
   "execution_count": 117,
   "id": "eadb8549",
   "metadata": {
    "vscode": {
     "languageId": "shellscript"
    }
   },
   "outputs": [],
   "source": [
    "mkdir fight"
   ]
  },
  {
   "cell_type": "code",
   "execution_count": 118,
   "id": "fbe609e0",
   "metadata": {
    "vscode": {
     "languageId": "shellscript"
    }
   },
   "outputs": [
    {
     "name": "stdout",
     "output_type": "stream",
     "text": [
      "/home/amin/HeadFirstGit/HeadFirstGit-Samples/fight\n"
     ]
    }
   ],
   "source": [
    "cd fight"
   ]
  },
  {
   "cell_type": "code",
   "execution_count": 119,
   "id": "30254fb8",
   "metadata": {
    "vscode": {
     "languageId": "shellscript"
    }
   },
   "outputs": [
    {
     "name": "stdout",
     "output_type": "stream",
     "text": [
      "\u001b[33mhint: Using 'master' as the name for the initial branch. This default branch name\u001b[m\n",
      "\u001b[33mhint: is subject to change. To configure the initial branch name to use in all\u001b[m\n",
      "\u001b[33mhint: of your new repositories, which will suppress this warning, call:\u001b[m\n",
      "\u001b[33mhint: \u001b[m\n",
      "\u001b[33mhint: \tgit config --global init.defaultBranch <name>\u001b[m\n",
      "\u001b[33mhint: \u001b[m\n",
      "\u001b[33mhint: Names commonly chosen instead of 'master' are 'main', 'trunk' and\u001b[m\n",
      "\u001b[33mhint: 'development'. The just-created branch can be renamed via this command:\u001b[m\n",
      "\u001b[33mhint: \u001b[m\n",
      "\u001b[33mhint: \tgit branch -m <name>\u001b[m\n",
      "Initialized empty Git repository in /home/amin/HeadFirstGit/HeadFirstGit-Samples/fight/.git/\n"
     ]
    }
   ],
   "source": [
    "!git init"
   ]
  },
  {
   "cell_type": "code",
   "execution_count": 120,
   "id": "a6c56b1b",
   "metadata": {
    "vscode": {
     "languageId": "shellscript"
    }
   },
   "outputs": [],
   "source": [
    "!echo \"# Master the what?\" > info.md"
   ]
  },
  {
   "cell_type": "code",
   "execution_count": 121,
   "id": "66a52d41",
   "metadata": {
    "vscode": {
     "languageId": "shellscript"
    }
   },
   "outputs": [],
   "source": [
    "!git add info.md"
   ]
  },
  {
   "cell_type": "code",
   "execution_count": 122,
   "id": "0cb45017",
   "metadata": {
    "vscode": {
     "languageId": "shellscript"
    }
   },
   "outputs": [
    {
     "name": "stdout",
     "output_type": "stream",
     "text": [
      "[master (root-commit) 5baa063] add info\n",
      " 1 file changed, 1 insertion(+)\n",
      " create mode 100644 info.md\n"
     ]
    }
   ],
   "source": [
    "!git commit -m \"add info\""
   ]
  },
  {
   "cell_type": "code",
   "execution_count": 123,
   "id": "05df068f",
   "metadata": {
    "vscode": {
     "languageId": "shellscript"
    }
   },
   "outputs": [],
   "source": [
    "!git branch clash"
   ]
  },
  {
   "cell_type": "code",
   "execution_count": 124,
   "id": "c5c7b7e6",
   "metadata": {
    "vscode": {
     "languageId": "shellscript"
    }
   },
   "outputs": [
    {
     "name": "stdout",
     "output_type": "stream",
     "text": [
      "Switched to branch 'clash'\n"
     ]
    }
   ],
   "source": [
    "!git switch clash"
   ]
  },
  {
   "cell_type": "code",
   "execution_count": 125,
   "id": "960c7e71",
   "metadata": {
    "vscode": {
     "languageId": "shellscript"
    }
   },
   "outputs": [],
   "source": [
    "!echo \"# Master the loser\" > info.md"
   ]
  },
  {
   "cell_type": "code",
   "execution_count": 126,
   "id": "977c5c32",
   "metadata": {
    "vscode": {
     "languageId": "shellscript"
    }
   },
   "outputs": [],
   "source": [
    "!git add info.md"
   ]
  },
  {
   "cell_type": "code",
   "execution_count": 127,
   "id": "72b4c113",
   "metadata": {
    "vscode": {
     "languageId": "shellscript"
    }
   },
   "outputs": [
    {
     "name": "stdout",
     "output_type": "stream",
     "text": [
      "[clash 6b6d0e8] add last info\n",
      " 1 file changed, 1 insertion(+), 1 deletion(-)\n"
     ]
    }
   ],
   "source": [
    "!git commit -m \"add last info\""
   ]
  },
  {
   "cell_type": "code",
   "execution_count": 128,
   "id": "5e230ae3",
   "metadata": {
    "vscode": {
     "languageId": "shellscript"
    }
   },
   "outputs": [
    {
     "name": "stdout",
     "output_type": "stream",
     "text": [
      "Switched to branch 'master'\n"
     ]
    }
   ],
   "source": [
    "!git switch master"
   ]
  },
  {
   "cell_type": "code",
   "execution_count": 129,
   "id": "1258fe33",
   "metadata": {
    "vscode": {
     "languageId": "shellscript"
    }
   },
   "outputs": [],
   "source": [
    "!echo \"# Master the winner\" > info.md"
   ]
  },
  {
   "cell_type": "code",
   "execution_count": 131,
   "id": "1455570b",
   "metadata": {
    "vscode": {
     "languageId": "shellscript"
    }
   },
   "outputs": [],
   "source": [
    "!git add info.md"
   ]
  },
  {
   "cell_type": "code",
   "execution_count": 132,
   "id": "90a560a2",
   "metadata": {
    "vscode": {
     "languageId": "shellscript"
    }
   },
   "outputs": [
    {
     "name": "stdout",
     "output_type": "stream",
     "text": [
      "[master 1bca684] add final info\n",
      " 1 file changed, 1 insertion(+), 1 deletion(-)\n"
     ]
    }
   ],
   "source": [
    "!git commit -m \"add final info\""
   ]
  },
  {
   "cell_type": "code",
   "execution_count": 133,
   "id": "623bffeb",
   "metadata": {
    "vscode": {
     "languageId": "shellscript"
    }
   },
   "outputs": [
    {
     "name": "stdout",
     "output_type": "stream",
     "text": [
      "Auto-merging info.md\n",
      "CONFLICT (content): Merge conflict in info.md\n",
      "Automatic merge failed; fix conflicts and then commit the result.\n"
     ]
    }
   ],
   "source": [
    "!git merge clash "
   ]
  },
  {
   "cell_type": "code",
   "execution_count": 134,
   "id": "1f3c0d06",
   "metadata": {
    "vscode": {
     "languageId": "shellscript"
    }
   },
   "outputs": [
    {
     "name": "stdout",
     "output_type": "stream",
     "text": [
      "On branch master\n",
      "You have unmerged paths.\n",
      "  (fix conflicts and run \"git commit\")\n",
      "  (use \"git merge --abort\" to abort the merge)\n",
      "\n",
      "Unmerged paths:\n",
      "  (use \"git add <file>...\" to mark resolution)\n",
      "\t\u001b[31mboth modified:   info.md\u001b[m\n",
      "\n",
      "no changes added to commit (use \"git add\" and/or \"git commit -a\")\n"
     ]
    }
   ],
   "source": [
    "!git status"
   ]
  },
  {
   "cell_type": "code",
   "execution_count": 135,
   "id": "4e4a2e54",
   "metadata": {
    "vscode": {
     "languageId": "shellscript"
    }
   },
   "outputs": [
    {
     "name": "stdout",
     "output_type": "stream",
     "text": [
      "<<<<<<< HEAD\n",
      "# Master the winner\n",
      "=======\n",
      "# Master the loser\n",
      ">>>>>>> clash\n"
     ]
    }
   ],
   "source": [
    "cat info.md"
   ]
  },
  {
   "cell_type": "markdown",
   "id": "719e1403",
   "metadata": {},
   "source": [
    "## Dealing with the merge conflict"
   ]
  },
  {
   "cell_type": "code",
   "execution_count": 136,
   "id": "0a0eb99d",
   "metadata": {
    "vscode": {
     "languageId": "shellscript"
    }
   },
   "outputs": [],
   "source": [
    "!echo \"# Master the winner \\n# Master the loser\" > info.md"
   ]
  },
  {
   "cell_type": "code",
   "execution_count": 137,
   "id": "9963fe0b",
   "metadata": {
    "vscode": {
     "languageId": "shellscript"
    }
   },
   "outputs": [],
   "source": [
    "!git add info.md"
   ]
  },
  {
   "cell_type": "code",
   "execution_count": 138,
   "id": "ff5dd78d",
   "metadata": {
    "vscode": {
     "languageId": "shellscript"
    }
   },
   "outputs": [
    {
     "name": "stdout",
     "output_type": "stream",
     "text": [
      "[master b8940f1]  merge winner & loser\n"
     ]
    }
   ],
   "source": [
    "!git commit -m \" merge winner & loser\""
   ]
  },
  {
   "cell_type": "code",
   "execution_count": 139,
   "id": "861d8258",
   "metadata": {
    "vscode": {
     "languageId": "shellscript"
    }
   },
   "outputs": [
    {
     "name": "stdout",
     "output_type": "stream",
     "text": [
      "On branch master\n",
      "nothing to commit, working tree clean\n"
     ]
    }
   ],
   "source": [
    "!git status"
   ]
  },
  {
   "cell_type": "markdown",
   "id": "5531b336",
   "metadata": {},
   "source": [
    "# Merge Example"
   ]
  },
  {
   "cell_type": "code",
   "execution_count": 141,
   "id": "e7abfa42",
   "metadata": {
    "vscode": {
     "languageId": "shellscript"
    }
   },
   "outputs": [
    {
     "name": "stdout",
     "output_type": "stream",
     "text": [
      "/home/amin/HeadFirstGit/HeadFirstGit-Samples\n"
     ]
    }
   ],
   "source": [
    "cd .."
   ]
  },
  {
   "cell_type": "code",
   "execution_count": 147,
   "id": "cc529625",
   "metadata": {
    "vscode": {
     "languageId": "shellscript"
    }
   },
   "outputs": [],
   "source": [
    "mkdir loving-git"
   ]
  },
  {
   "cell_type": "code",
   "execution_count": 148,
   "id": "c3b0e424",
   "metadata": {
    "vscode": {
     "languageId": "shellscript"
    }
   },
   "outputs": [
    {
     "name": "stdout",
     "output_type": "stream",
     "text": [
      "/home/amin/HeadFirstGit/HeadFirstGit-Samples/loving-git\n"
     ]
    }
   ],
   "source": [
    "cd loving-git"
   ]
  },
  {
   "cell_type": "code",
   "execution_count": 150,
   "id": "070d70b7",
   "metadata": {
    "vscode": {
     "languageId": "shellscript"
    }
   },
   "outputs": [],
   "source": [
    "!echo \"# Tribute to Git\" > tribute.md"
   ]
  },
  {
   "cell_type": "code",
   "execution_count": 153,
   "id": "7fae6c2a",
   "metadata": {
    "vscode": {
     "languageId": "shellscript"
    }
   },
   "outputs": [],
   "source": [
    "!git add tribute.md"
   ]
  },
  {
   "cell_type": "code",
   "execution_count": 154,
   "id": "243df617",
   "metadata": {
    "vscode": {
     "languageId": "shellscript"
    }
   },
   "outputs": [
    {
     "name": "stdout",
     "output_type": "stream",
     "text": [
      "[master (root-commit) 18f2973] A\n",
      " 1 file changed, 1 insertion(+)\n",
      " create mode 100644 tribute.md\n"
     ]
    }
   ],
   "source": [
    "!git commit -m \"A\""
   ]
  },
  {
   "cell_type": "code",
   "execution_count": 155,
   "id": "115441d9",
   "metadata": {
    "vscode": {
     "languageId": "shellscript"
    }
   },
   "outputs": [
    {
     "name": "stdout",
     "output_type": "stream",
     "text": [
      "Switched to a new branch 'improvisation'\n"
     ]
    }
   ],
   "source": [
    "!git switch -c improvisation"
   ]
  },
  {
   "cell_type": "code",
   "execution_count": 156,
   "id": "d518d6ac",
   "metadata": {
    "vscode": {
     "languageId": "shellscript"
    }
   },
   "outputs": [
    {
     "name": "stdout",
     "output_type": "stream",
     "text": [
      "* \u001b[32mimprovisation\u001b[m\n",
      "  master\u001b[m\n"
     ]
    }
   ],
   "source": [
    "!git branch"
   ]
  },
  {
   "cell_type": "code",
   "execution_count": 157,
   "id": "ddf556e6",
   "metadata": {
    "vscode": {
     "languageId": "shellscript"
    }
   },
   "outputs": [],
   "source": [
    "!echo -e \"# Tribute to Git\\n\\\n",
    "There's a version control tool called Git\\n\\\n",
    "For software it's an excellent fit\\n\\\n",
    "If your attitude ranges\\n\\\n",
    "Feel free to make changes\\n\\\n",
    "Since you've got a great tracking kit.\" > tribute.md"
   ]
  },
  {
   "cell_type": "code",
   "execution_count": 159,
   "id": "d757e6a8",
   "metadata": {
    "vscode": {
     "languageId": "shellscript"
    }
   },
   "outputs": [
    {
     "name": "stdout",
     "output_type": "stream",
     "text": [
      "[improvisation 5c9ac07] B\n",
      " 1 file changed, 5 insertions(+)\n"
     ]
    }
   ],
   "source": [
    "!git add tribute.md\n",
    "!git commit -m \"B\""
   ]
  },
  {
   "cell_type": "code",
   "execution_count": 160,
   "id": "2be1790a",
   "metadata": {
    "vscode": {
     "languageId": "shellscript"
    }
   },
   "outputs": [
    {
     "name": "stdout",
     "output_type": "stream",
     "text": [
      "Switched to branch 'master'\n"
     ]
    }
   ],
   "source": [
    "!git switch master"
   ]
  },
  {
   "cell_type": "code",
   "execution_count": 161,
   "id": "8e9133ec",
   "metadata": {
    "vscode": {
     "languageId": "shellscript"
    }
   },
   "outputs": [],
   "source": [
    "!echo -e \"# Tribute to Git\\n\\\n",
    "There's a version control tool called Git\\n\\\n",
    "When you feel like you just want to quit\\n\\\n",
    "Go and try something new\\n\\\n",
    "You can track what you do\\n\\\n",
    "Since you've got a great tracking kit.\" > tribute.md"
   ]
  },
  {
   "cell_type": "code",
   "execution_count": 162,
   "id": "78cab7f7",
   "metadata": {
    "vscode": {
     "languageId": "shellscript"
    }
   },
   "outputs": [
    {
     "name": "stdout",
     "output_type": "stream",
     "text": [
      "[master 1ae684d] C\n",
      " 1 file changed, 5 insertions(+)\n"
     ]
    }
   ],
   "source": [
    "!git add tribute.md\n",
    "!git commit -m \"C\""
   ]
  },
  {
   "cell_type": "code",
   "execution_count": 163,
   "id": "f8a8a235",
   "metadata": {
    "vscode": {
     "languageId": "shellscript"
    }
   },
   "outputs": [
    {
     "name": "stdout",
     "output_type": "stream",
     "text": [
      "Auto-merging tribute.md\n",
      "CONFLICT (content): Merge conflict in tribute.md\n",
      "Automatic merge failed; fix conflicts and then commit the result.\n"
     ]
    }
   ],
   "source": [
    "!git merge improvisation"
   ]
  },
  {
   "cell_type": "code",
   "execution_count": 164,
   "id": "886de632",
   "metadata": {
    "vscode": {
     "languageId": "shellscript"
    }
   },
   "outputs": [
    {
     "name": "stdout",
     "output_type": "stream",
     "text": [
      "On branch master\n",
      "You have unmerged paths.\n",
      "  (fix conflicts and run \"git commit\")\n",
      "  (use \"git merge --abort\" to abort the merge)\n",
      "\n",
      "Unmerged paths:\n",
      "  (use \"git add <file>...\" to mark resolution)\n",
      "\t\u001b[31mboth modified:   tribute.md\u001b[m\n",
      "\n",
      "no changes added to commit (use \"git add\" and/or \"git commit -a\")\n"
     ]
    }
   ],
   "source": [
    "!git status"
   ]
  },
  {
   "cell_type": "code",
   "execution_count": 165,
   "id": "dcc7acef",
   "metadata": {
    "vscode": {
     "languageId": "shellscript"
    }
   },
   "outputs": [],
   "source": [
    "!echo -e \"# Tribute to Git\\n\\\n",
    "There's a version control tool called Git\\n\\\n",
    "When you feel like you just want to quit\\n\\\n",
    "Go and try something new\\n\\\n",
    "You can track what you do\\n\\\n",
    "For software it's an excellent fit\\n\\\n",
    "If your attitude ranges\\n\\\n",
    "Feel free to make changes\\n\\\n",
    "Since you've got a great tracking kit.\" > tribute.md"
   ]
  },
  {
   "cell_type": "code",
   "execution_count": 166,
   "id": "afb2051e",
   "metadata": {
    "vscode": {
     "languageId": "shellscript"
    }
   },
   "outputs": [
    {
     "name": "stdout",
     "output_type": "stream",
     "text": [
      "[master 609c922] Merge solution\n"
     ]
    }
   ],
   "source": [
    "!git add tribute.md\n",
    "!git commit -m \"Merge solution\""
   ]
  },
  {
   "cell_type": "code",
   "execution_count": 168,
   "id": "8b811b9f",
   "metadata": {
    "vscode": {
     "languageId": "shellscript"
    }
   },
   "outputs": [
    {
     "name": "stdout",
     "output_type": "stream",
     "text": [
      "\u001b[33mcommit 609c922c092151211916a539b70468669d459411\u001b[m\u001b[33m (\u001b[m\u001b[1;36mHEAD\u001b[m\u001b[33m -> \u001b[m\u001b[1;32mmaster\u001b[m\u001b[33m)\u001b[m\n",
      "Merge: 1ae684d 5c9ac07\n",
      "Author: v1TrAy <v1TrAy@gmail.com>\n",
      "Date:   Tue Apr 15 11:32:33 2025 +0330\n",
      "\n",
      "    Merge solution\n",
      "\n",
      "\u001b[33mcommit 1ae684deecbf7681d99ad763673210f00acd5461\u001b[m\n",
      "Author: v1TrAy <v1TrAy@gmail.com>\n",
      "Date:   Tue Apr 15 11:27:56 2025 +0330\n",
      "\n",
      "    C\n",
      "\n",
      "\u001b[33mcommit 5c9ac0776fa8c07f85fe646a7651b0095dc8f2db\u001b[m\u001b[33m (\u001b[m\u001b[1;32mimprovisation\u001b[m\u001b[33m)\u001b[m\n",
      "Author: v1TrAy <v1TrAy@gmail.com>\n",
      "Date:   Tue Apr 15 11:26:10 2025 +0330\n",
      "\n",
      "    B\n",
      "\n",
      "\u001b[33mcommit 18f29733f5731f70010047f3d50a274b1e4a56ed\u001b[m\n",
      "Author: v1TrAy <v1TrAy@gmail.com>\n",
      "Date:   Tue Apr 15 11:17:23 2025 +0330\n",
      "\n",
      "    A\n"
     ]
    }
   ],
   "source": [
    "!git log"
   ]
  },
  {
   "cell_type": "markdown",
   "id": "3599126d",
   "metadata": {},
   "source": [
    "# Cleaning up (merged) branches\n"
   ]
  },
  {
   "cell_type": "code",
   "execution_count": 169,
   "id": "1831eb45",
   "metadata": {
    "vscode": {
     "languageId": "shellscript"
    }
   },
   "outputs": [
    {
     "name": "stdout",
     "output_type": "stream",
     "text": [
      "/home/amin/HeadFirstGit/HeadFirstGit-Samples/80s-diner\n"
     ]
    }
   ],
   "source": [
    "cd ../80s-diner"
   ]
  },
  {
   "cell_type": "code",
   "execution_count": 170,
   "id": "3031311d",
   "metadata": {
    "vscode": {
     "languageId": "shellscript"
    }
   },
   "outputs": [
    {
     "name": "stdout",
     "output_type": "stream",
     "text": [
      "  add-fall-menu\u001b[m\n",
      "  add-thurs-menu\u001b[m\n",
      "* \u001b[32mmaster\u001b[m\n",
      "  my-first-branch\u001b[m\n"
     ]
    }
   ],
   "source": [
    "!git branch"
   ]
  },
  {
   "cell_type": "code",
   "execution_count": 171,
   "id": "3ed90a08",
   "metadata": {
    "vscode": {
     "languageId": "shellscript"
    }
   },
   "outputs": [
    {
     "name": "stdout",
     "output_type": "stream",
     "text": [
      "Deleted branch add-fall-menu (was 07dc8f9).\n"
     ]
    }
   ],
   "source": [
    "!git branch -d add-fall-menu"
   ]
  },
  {
   "cell_type": "code",
   "execution_count": 173,
   "id": "c44e980c",
   "metadata": {
    "vscode": {
     "languageId": "shellscript"
    }
   },
   "outputs": [
    {
     "name": "stdout",
     "output_type": "stream",
     "text": [
      "Deleted branch add-thurs-menu (was 16880d8).\n"
     ]
    }
   ],
   "source": [
    "!git branch -D add-thurs-menu"
   ]
  },
  {
   "cell_type": "code",
   "execution_count": 175,
   "id": "c76fcfe5",
   "metadata": {
    "vscode": {
     "languageId": "shellscript"
    }
   },
   "outputs": [
    {
     "name": "stdout",
     "output_type": "stream",
     "text": [
      "Deleted branch my-first-branch (was d5afaf6).\n"
     ]
    }
   ],
   "source": [
    "!git branch -d   my-first-branch"
   ]
  },
  {
   "cell_type": "code",
   "execution_count": 176,
   "id": "9b2fad85",
   "metadata": {
    "vscode": {
     "languageId": "shellscript"
    }
   },
   "outputs": [
    {
     "name": "stdout",
     "output_type": "stream",
     "text": [
      "* \u001b[32mmaster\u001b[m\n"
     ]
    }
   ],
   "source": [
    "!git branch"
   ]
  },
  {
   "cell_type": "markdown",
   "id": "50951e15",
   "metadata": {},
   "source": [
    "## Restoring a Branch (Create branch from specific commit)\n"
   ]
  },
  {
   "cell_type": "code",
   "execution_count": 179,
   "id": "27271c91",
   "metadata": {
    "vscode": {
     "languageId": "shellscript"
    }
   },
   "outputs": [],
   "source": [
    "!git branch my-first-branch d5afaf6"
   ]
  },
  {
   "cell_type": "code",
   "execution_count": 180,
   "id": "55780c71",
   "metadata": {
    "vscode": {
     "languageId": "shellscript"
    }
   },
   "outputs": [
    {
     "name": "stdout",
     "output_type": "stream",
     "text": [
      "* \u001b[32mmaster\u001b[m\n",
      "  my-first-branch\u001b[m\n"
     ]
    }
   ],
   "source": [
    "!git branch"
   ]
  }
 ],
 "metadata": {
  "kernelspec": {
   "display_name": "Python 3",
   "language": "python",
   "name": "python3"
  },
  "language_info": {
   "codemirror_mode": {
    "name": "ipython",
    "version": 3
   },
   "file_extension": ".py",
   "mimetype": "text/x-python",
   "name": "python",
   "nbconvert_exporter": "python",
   "pygments_lexer": "ipython3",
   "version": "3.12.3"
  }
 },
 "nbformat": 4,
 "nbformat_minor": 5
}
