{
 "cells": [
  {
   "cell_type": "markdown",
   "id": "ddbf91ea",
   "metadata": {},
   "source": [
    "# Recipe example"
   ]
  },
  {
   "cell_type": "code",
   "execution_count": 3,
   "id": "d5ed4a41",
   "metadata": {
    "vscode": {
     "languageId": "shellscript"
    }
   },
   "outputs": [
    {
     "name": "stdout",
     "output_type": "stream",
     "text": [
      "/home/amin/HeadFirstGit/headfirst-git-download/chapter03/recipes\n"
     ]
    }
   ],
   "source": [
    "cd /home/amin/HeadFirstGit/headfirst-git-download/chapter03/recipes"
   ]
  },
  {
   "cell_type": "code",
   "execution_count": 4,
   "id": "0afbddd1",
   "metadata": {
    "vscode": {
     "languageId": "shellscript"
    }
   },
   "outputs": [
    {
     "name": "stdout",
     "output_type": "stream",
     "text": [
      "On branch spicy-version\n",
      "nothing to commit, working tree clean\n"
     ]
    }
   ],
   "source": [
    "!git status\n"
   ]
  },
  {
   "cell_type": "code",
   "execution_count": 5,
   "id": "30456e23",
   "metadata": {
    "vscode": {
     "languageId": "shellscript"
    }
   },
   "outputs": [
    {
     "name": "stdout",
     "output_type": "stream",
     "text": [
      "  different-base\u001b[m\n",
      "  master\u001b[m\n",
      "* \u001b[32mspicy-version\u001b[m\n"
     ]
    }
   ],
   "source": [
    "!git branch"
   ]
  },
  {
   "cell_type": "markdown",
   "id": "39f21544",
   "metadata": {},
   "source": [
    "# Visualize history"
   ]
  },
  {
   "cell_type": "code",
   "execution_count": 6,
   "id": "4086dd90",
   "metadata": {
    "vscode": {
     "languageId": "shellscript"
    }
   },
   "outputs": [
    {
     "name": "stdout",
     "output_type": "stream",
     "text": [
      "\u001b[33mcommit 8d670e93e297b126fc0466caf37c0033b6c018ab\u001b[m\u001b[33m (\u001b[m\u001b[1;36mHEAD\u001b[m\u001b[33m -> \u001b[m\u001b[1;32mspicy-version\u001b[m\u001b[33m)\u001b[m\n",
      "Author: Rosemary Berry <headchef@80s-diner.com>\n",
      "Date:   Mon Mar 15 18:52:50 2021 -0400\n",
      "\n",
      "    update recipe name\n",
      "\n",
      "\u001b[33mcommit 4cca5a7b3225a88c2df12bd157f5877bc3dded9e\u001b[m\n",
      "Author: Rosemary Berry <headchef@80s-diner.com>\n",
      "Date:   Mon Feb 15 17:24:41 2021 -0500\n",
      "\n",
      "    make it spicy\n",
      "\n",
      "\u001b[33mcommit 5db2b68c4cf2699e89fe1b526a7e4a171d83b2ef\u001b[m\u001b[33m (\u001b[m\u001b[1;32mmaster\u001b[m\u001b[33m)\u001b[m\n",
      "Author: Rosemary Berry <headchef@80s-diner.com>\n",
      "Date:   Sat Jan 2 19:22:59 2021 -0500\n",
      "\n",
      "    first attempt\n"
     ]
    }
   ],
   "source": [
    "!git log"
   ]
  },
  {
   "cell_type": "code",
   "execution_count": 7,
   "id": "10566678",
   "metadata": {
    "vscode": {
     "languageId": "shellscript"
    }
   },
   "outputs": [
    {
     "name": "stdout",
     "output_type": "stream",
     "text": [
      "Switched to branch 'different-base'\n",
      "\u001b[33mcommit 0065b8a0b8d6d4f2efc864c09437f8f5aa0b9773\u001b[m\u001b[33m (\u001b[m\u001b[1;36mHEAD\u001b[m\u001b[33m -> \u001b[m\u001b[1;32mdifferent-base\u001b[m\u001b[33m)\u001b[m\n",
      "Author: Rosemary Berry <headchef@80s-diner.com>\n",
      "Date:   Tue Jan 12 03:28:44 2021 -0500\n",
      "\n",
      "    cut down salt\n",
      "\n",
      "\u001b[33mcommit 549e0da551c2a6427fb7b281093702cb449261ed\u001b[m\n",
      "Author: Rosemary Berry <headchef@80s-diner.com>\n",
      "Date:   Fri Jan 8 23:04:50 2021 -0500\n",
      "\n",
      "    use sour cream\n",
      "\n",
      "\u001b[33mcommit 5db2b68c4cf2699e89fe1b526a7e4a171d83b2ef\u001b[m\u001b[33m (\u001b[m\u001b[1;32mmaster\u001b[m\u001b[33m)\u001b[m\n",
      "Author: Rosemary Berry <headchef@80s-diner.com>\n",
      "Date:   Sat Jan 2 19:22:59 2021 -0500\n",
      "\n",
      "    first attempt\n"
     ]
    }
   ],
   "source": [
    "!git switch different-base\n",
    "!git log"
   ]
  },
  {
   "cell_type": "code",
   "execution_count": 8,
   "id": "3688350c",
   "metadata": {
    "vscode": {
     "languageId": "shellscript"
    }
   },
   "outputs": [
    {
     "name": "stdout",
     "output_type": "stream",
     "text": [
      "Switched to branch 'master'\n",
      "\u001b[33mcommit 5db2b68c4cf2699e89fe1b526a7e4a171d83b2ef\u001b[m\u001b[33m (\u001b[m\u001b[1;36mHEAD\u001b[m\u001b[33m -> \u001b[m\u001b[1;32mmaster\u001b[m\u001b[33m)\u001b[m\n",
      "Author: Rosemary Berry <headchef@80s-diner.com>\n",
      "Date:   Sat Jan 2 19:22:59 2021 -0500\n",
      "\n",
      "    first attempt\n"
     ]
    }
   ],
   "source": [
    "!git switch master\n",
    "!git log"
   ]
  },
  {
   "cell_type": "code",
   "execution_count": 9,
   "id": "732c9c67",
   "metadata": {
    "vscode": {
     "languageId": "shellscript"
    }
   },
   "outputs": [
    {
     "name": "stdout",
     "output_type": "stream",
     "text": [
      "Switched to branch 'spicy-version'\n"
     ]
    }
   ],
   "source": [
    "!git switch spicy-version"
   ]
  },
  {
   "cell_type": "markdown",
   "id": "2e792242",
   "metadata": {},
   "source": [
    "### commit logs with abbreviated hashes"
   ]
  },
  {
   "cell_type": "code",
   "execution_count": 10,
   "id": "d71530af",
   "metadata": {
    "vscode": {
     "languageId": "shellscript"
    }
   },
   "outputs": [
    {
     "name": "stdout",
     "output_type": "stream",
     "text": [
      "\u001b[33mcommit 8d670e9\u001b[m\u001b[33m (\u001b[m\u001b[1;36mHEAD\u001b[m\u001b[33m -> \u001b[m\u001b[1;32mspicy-version\u001b[m\u001b[33m)\u001b[m\n",
      "Author: Rosemary Berry <headchef@80s-diner.com>\n",
      "Date:   Mon Mar 15 18:52:50 2021 -0400\n",
      "\n",
      "    update recipe name\n",
      "\n",
      "\u001b[33mcommit 4cca5a7\u001b[m\n",
      "Author: Rosemary Berry <headchef@80s-diner.com>\n",
      "Date:   Mon Feb 15 17:24:41 2021 -0500\n",
      "\n",
      "    make it spicy\n",
      "\n",
      "\u001b[33mcommit 5db2b68\u001b[m\u001b[33m (\u001b[m\u001b[1;32mmaster\u001b[m\u001b[33m)\u001b[m\n",
      "Author: Rosemary Berry <headchef@80s-diner.com>\n",
      "Date:   Sat Jan 2 19:22:59 2021 -0500\n",
      "\n",
      "    first attempt\n"
     ]
    }
   ],
   "source": [
    "!git log --abbrev-commit"
   ]
  },
  {
   "cell_type": "markdown",
   "id": "e3e8f1e2",
   "metadata": {},
   "source": [
    "### Commit logs in one line format"
   ]
  },
  {
   "cell_type": "code",
   "execution_count": 11,
   "id": "fabac957",
   "metadata": {
    "vscode": {
     "languageId": "shellscript"
    }
   },
   "outputs": [
    {
     "name": "stdout",
     "output_type": "stream",
     "text": [
      "\u001b[33m8d670e93e297b126fc0466caf37c0033b6c018ab\u001b[m\u001b[33m (\u001b[m\u001b[1;36mHEAD\u001b[m\u001b[33m -> \u001b[m\u001b[1;32mspicy-version\u001b[m\u001b[33m)\u001b[m update recipe name\n",
      "\u001b[33m4cca5a7b3225a88c2df12bd157f5877bc3dded9e\u001b[m make it spicy\n",
      "\u001b[33m5db2b68c4cf2699e89fe1b526a7e4a171d83b2ef\u001b[m\u001b[33m (\u001b[m\u001b[1;32mmaster\u001b[m\u001b[33m)\u001b[m first attempt\n"
     ]
    }
   ],
   "source": [
    "!git log --pretty=oneline"
   ]
  },
  {
   "cell_type": "markdown",
   "id": "cdc09fa9",
   "metadata": {},
   "source": [
    "### commit logs in one line with abbreviated commit hashes"
   ]
  },
  {
   "cell_type": "code",
   "execution_count": 14,
   "id": "c1f9a200",
   "metadata": {
    "vscode": {
     "languageId": "shellscript"
    }
   },
   "outputs": [
    {
     "name": "stdout",
     "output_type": "stream",
     "text": [
      "\u001b[33m8d670e9\u001b[m\u001b[33m (\u001b[m\u001b[1;36mHEAD\u001b[m\u001b[33m -> \u001b[m\u001b[1;32mspicy-version\u001b[m\u001b[33m)\u001b[m update recipe name\n",
      "\u001b[33m4cca5a7\u001b[m make it spicy\n",
      "\u001b[33m5db2b68\u001b[m\u001b[33m (\u001b[m\u001b[1;32mmaster\u001b[m\u001b[33m)\u001b[m first attempt\n"
     ]
    }
   ],
   "source": [
    "!git log --pretty=oneline --abbrev-commit\n"
   ]
  },
  {
   "cell_type": "markdown",
   "id": "8de59672",
   "metadata": {},
   "source": [
    "### commit logs in abbreviated one-line format"
   ]
  },
  {
   "cell_type": "code",
   "execution_count": 12,
   "id": "f836cf18",
   "metadata": {
    "vscode": {
     "languageId": "shellscript"
    }
   },
   "outputs": [
    {
     "name": "stdout",
     "output_type": "stream",
     "text": [
      "\u001b[33m8d670e9\u001b[m\u001b[33m (\u001b[m\u001b[1;36mHEAD\u001b[m\u001b[33m -> \u001b[m\u001b[1;32mspicy-version\u001b[m\u001b[33m)\u001b[m update recipe name\n",
      "\u001b[33m4cca5a7\u001b[m make it spicy\n",
      "\u001b[33m5db2b68\u001b[m\u001b[33m (\u001b[m\u001b[1;32mmaster\u001b[m\u001b[33m)\u001b[m first attempt\n"
     ]
    }
   ],
   "source": [
    "!git log --oneline"
   ]
  },
  {
   "cell_type": "markdown",
   "id": "cdf65237",
   "metadata": {},
   "source": [
    "## More Practice"
   ]
  },
  {
   "cell_type": "code",
   "execution_count": 19,
   "id": "bd9540b2",
   "metadata": {
    "vscode": {
     "languageId": "shellscript"
    }
   },
   "outputs": [
    {
     "name": "stdout",
     "output_type": "stream",
     "text": [
      "Switched to branch 'different-base'\n"
     ]
    }
   ],
   "source": [
    "!git switch different-base"
   ]
  },
  {
   "cell_type": "code",
   "execution_count": 16,
   "id": "199c4723",
   "metadata": {
    "vscode": {
     "languageId": "shellscript"
    }
   },
   "outputs": [
    {
     "name": "stdout",
     "output_type": "stream",
     "text": [
      "\u001b[33m0065b8a\u001b[m\u001b[33m (\u001b[m\u001b[1;36mHEAD\u001b[m\u001b[33m -> \u001b[m\u001b[1;32mdifferent-base\u001b[m\u001b[33m)\u001b[m cut down salt\n",
      "\u001b[33m549e0da\u001b[m use sour cream\n",
      "\u001b[33m5db2b68\u001b[m\u001b[33m (\u001b[m\u001b[1;32mmaster\u001b[m\u001b[33m)\u001b[m first attempt\n"
     ]
    }
   ],
   "source": [
    "!git log --oneline"
   ]
  },
  {
   "cell_type": "code",
   "execution_count": 20,
   "id": "be1c6ee1",
   "metadata": {
    "vscode": {
     "languageId": "shellscript"
    }
   },
   "outputs": [
    {
     "name": "stdout",
     "output_type": "stream",
     "text": [
      "Switched to branch 'master'\n",
      "\u001b[33m5db2b68\u001b[m\u001b[33m (\u001b[m\u001b[1;36mHEAD\u001b[m\u001b[33m -> \u001b[m\u001b[1;32mmaster\u001b[m\u001b[33m)\u001b[m first attempt\n"
     ]
    }
   ],
   "source": [
    "!git switch master\n",
    "!git log --oneline"
   ]
  },
  {
   "cell_type": "markdown",
   "id": "4b7b256e",
   "metadata": {},
   "source": [
    "## Logging all branches"
   ]
  },
  {
   "cell_type": "code",
   "execution_count": 21,
   "id": "3284cd22",
   "metadata": {
    "vscode": {
     "languageId": "shellscript"
    }
   },
   "outputs": [
    {
     "name": "stdout",
     "output_type": "stream",
     "text": [
      "* \u001b[33m8d670e9\u001b[m\u001b[33m (\u001b[m\u001b[1;32mspicy-version\u001b[m\u001b[33m)\u001b[m update recipe name\n",
      "* \u001b[33m4cca5a7\u001b[m make it spicy\n",
      "\u001b[31m|\u001b[m * \u001b[33m0065b8a\u001b[m\u001b[33m (\u001b[m\u001b[1;32mdifferent-base\u001b[m\u001b[33m)\u001b[m cut down salt\n",
      "\u001b[31m|\u001b[m * \u001b[33m549e0da\u001b[m use sour cream\n",
      "\u001b[31m|\u001b[m\u001b[31m/\u001b[m  \n",
      "* \u001b[33m5db2b68\u001b[m\u001b[33m (\u001b[m\u001b[1;36mHEAD\u001b[m\u001b[33m -> \u001b[m\u001b[1;32mmaster\u001b[m\u001b[33m)\u001b[m first attempt\n"
     ]
    }
   ],
   "source": [
    "!git log --all --oneline --graph"
   ]
  },
  {
   "cell_type": "code",
   "execution_count": null,
   "id": "079dfb49",
   "metadata": {
    "vscode": {
     "languageId": "shellscript"
    }
   },
   "outputs": [
    {
     "name": "stdout",
     "output_type": "stream",
     "text": [
      "Switched to branch 'spicy-version'\n"
     ]
    }
   ],
   "source": [
    "!git switch spicy-version"
   ]
  },
  {
   "cell_type": "code",
   "execution_count": 8,
   "id": "53a69789",
   "metadata": {
    "vscode": {
     "languageId": "shellscript"
    }
   },
   "outputs": [
    {
     "name": "stdout",
     "output_type": "stream",
     "text": [
      "* \u001b[33m8d670e9\u001b[m\u001b[33m (\u001b[m\u001b[1;36mHEAD\u001b[m\u001b[33m -> \u001b[m\u001b[1;32mspicy-version\u001b[m\u001b[33m)\u001b[m update recipe name\n",
      "* \u001b[33m4cca5a7\u001b[m make it spicy\n",
      "\u001b[31m|\u001b[m * \u001b[33m0065b8a\u001b[m\u001b[33m (\u001b[m\u001b[1;32mdifferent-base\u001b[m\u001b[33m)\u001b[m cut down salt\n",
      "\u001b[31m|\u001b[m * \u001b[33m549e0da\u001b[m use sour cream\n",
      "\u001b[31m|\u001b[m\u001b[31m/\u001b[m  \n",
      "* \u001b[33m5db2b68\u001b[m\u001b[33m (\u001b[m\u001b[1;32mmaster\u001b[m\u001b[33m)\u001b[m first attempt\n"
     ]
    }
   ],
   "source": [
    "!git log --oneline --all --graph\n"
   ]
  },
  {
   "cell_type": "markdown",
   "id": "ccfeb196",
   "metadata": {},
   "source": [
    "# Visualizing file differences\n"
   ]
  },
  {
   "cell_type": "code",
   "execution_count": null,
   "id": "547b3683",
   "metadata": {
    "vscode": {
     "languageId": "shellscript"
    }
   },
   "outputs": [
    {
     "name": "stdout",
     "output_type": "stream",
     "text": [
      "/home/amin/HeadFirstGit/headfirst-git-download/chapter03/resume\n"
     ]
    }
   ],
   "source": [
    "cd ../resume"
   ]
  },
  {
   "cell_type": "code",
   "execution_count": 13,
   "id": "96ad1b20",
   "metadata": {
    "vscode": {
     "languageId": "shellscript"
    }
   },
   "outputs": [
    {
     "name": "stdout",
     "output_type": "stream",
     "text": [
      "* \u001b[33m8842246\u001b[m\u001b[33m (\u001b[m\u001b[1;32madd-skills\u001b[m\u001b[33m)\u001b[m add accomplishment\n",
      "* \u001b[33mc96d092\u001b[m add language\n",
      "\u001b[31m|\u001b[m * \u001b[33m38a7176\u001b[m\u001b[33m (\u001b[m\u001b[1;36mHEAD\u001b[m\u001b[33m -> \u001b[m\u001b[1;32medit-per-scotty\u001b[m\u001b[33m)\u001b[m update objective\n",
      "\u001b[31m|\u001b[m\u001b[31m/\u001b[m  \n",
      "* \u001b[33m1930f11\u001b[m\u001b[33m (\u001b[m\u001b[1;32mmaster\u001b[m\u001b[33m)\u001b[m basic resume outline\n"
     ]
    }
   ],
   "source": [
    "!git log --all --oneline --graph"
   ]
  },
  {
   "cell_type": "code",
   "execution_count": 14,
   "id": "93e75e34",
   "metadata": {
    "vscode": {
     "languageId": "shellscript"
    }
   },
   "outputs": [
    {
     "name": "stdout",
     "output_type": "stream",
     "text": [
      "# Brigitte Strek\n",
      "\n",
      "## Objective\n",
      "To leverage my language skills as Chief Communications Officer\n",
      "\n",
      "## Languages\n",
      "English (native)\n",
      "Romulan (beginner)\n",
      "\n",
      "## Education\n",
      "Starfleet Academy, San Francisco, CA\n",
      "Valedictorian, Class of 2018\n",
      "\n",
      "## Experience\n",
      "2018-2020, Federation Starship Atlantis - Communications Ensign\n",
      "\n",
      "Routed incoming subspace communications to the correct officer\n"
     ]
    }
   ],
   "source": [
    "!cat resume.md"
   ]
  },
  {
   "cell_type": "code",
   "execution_count": 15,
   "id": "1cff6b26",
   "metadata": {
    "vscode": {
     "languageId": "shellscript"
    }
   },
   "outputs": [
    {
     "name": "stdout",
     "output_type": "stream",
     "text": [
      "Overwriting resume.md\n"
     ]
    }
   ],
   "source": [
    "%%writefile resume.md\n",
    "# Brigitte Strek\n",
    "\n",
    "## Objective\n",
    "To leverage my language skills as Chief Communications Officer\n",
    "\n",
    "## Languages\n",
    "English (native)\n",
    "Klingon (fluent)\n",
    "\n",
    "## Education\n",
    "Starfleet Academy, San Francisco, CA\n",
    "Valedictorian, Class of 2018\n",
    "\n",
    "## Experience\n",
    "2018-2020, Federation Starship Atlantis - Communications Ensign\n",
    "\n",
    "Routed all incoming subspace communications to the correct officer"
   ]
  },
  {
   "cell_type": "code",
   "execution_count": 16,
   "id": "02f5da62",
   "metadata": {
    "vscode": {
     "languageId": "shellscript"
    }
   },
   "outputs": [
    {
     "name": "stdout",
     "output_type": "stream",
     "text": [
      "\u001b[1mdiff --git a/resume.md b/resume.md\u001b[m\n",
      "\u001b[1mindex 73d57b6..b179a00 100644\u001b[m\n",
      "\u001b[1m--- a/resume.md\u001b[m\n",
      "\u001b[1m+++ b/resume.md\u001b[m\n",
      "\u001b[36m@@ -5,7 +5,7 @@\u001b[m \u001b[mTo leverage my language skills as Chief Communications Officer\u001b[m\n",
      " \u001b[m\n",
      " ## Languages\u001b[m\n",
      " English (native)\u001b[m\n",
      "\u001b[31m-Romulan (beginner)\u001b[m\n",
      "\u001b[32m+\u001b[m\u001b[32mKlingon (fluent)\u001b[m\n",
      " \u001b[m\n",
      " ## Education\u001b[m\n",
      " Starfleet Academy, San Francisco, CA\u001b[m\n",
      "\u001b[36m@@ -14,4 +14,4 @@\u001b[m \u001b[mValedictorian, Class of 2018\u001b[m\n",
      " ## Experience\u001b[m\n",
      " 2018-2020, Federation Starship Atlantis - Communications Ensign\u001b[m\n",
      " \u001b[m\n",
      "\u001b[31m-Routed incoming subspace communications to the correct officer\u001b[m\n",
      "\u001b[32m+\u001b[m\u001b[32mRouted all incoming subspace communications to the correct officer\u001b[m\n"
     ]
    }
   ],
   "source": [
    "!git diff"
   ]
  },
  {
   "cell_type": "markdown",
   "id": "9a967844",
   "metadata": {},
   "source": [
    "### Show word-level differences in files"
   ]
  },
  {
   "cell_type": "code",
   "execution_count": 18,
   "id": "114a5080",
   "metadata": {
    "vscode": {
     "languageId": "shellscript"
    }
   },
   "outputs": [
    {
     "name": "stdout",
     "output_type": "stream",
     "text": [
      "\u001b[1mdiff --git a/resume.md b/resume.md\u001b[m\n",
      "\u001b[1mindex 73d57b6..b179a00 100644\u001b[m\n",
      "\u001b[1m--- a/resume.md\u001b[m\n",
      "\u001b[1m+++ b/resume.md\u001b[m\n",
      "\u001b[36m@@ -5,7 +5,7 @@\u001b[m \u001b[mTo leverage my language skills as Chief Communications Officer\u001b[m\n",
      "\n",
      "## Languages\u001b[m\n",
      "English (native)\u001b[m\n",
      "\u001b[31m[-Romulan (beginner)-]\u001b[m\u001b[32m{+Klingon (fluent)+}\u001b[m\n",
      "\n",
      "## Education\u001b[m\n",
      "Starfleet Academy, San Francisco, CA\u001b[m\n",
      "\u001b[36m@@ -14,4 +14,4 @@\u001b[m \u001b[mValedictorian, Class of 2018\u001b[m\n",
      "## Experience\u001b[m\n",
      "2018-2020, Federation Starship Atlantis - Communications Ensign\u001b[m\n",
      "\n",
      "Routed \u001b[32m{+all+}\u001b[m incoming subspace communications to the correct officer\n"
     ]
    }
   ],
   "source": [
    "!git diff --word-diff"
   ]
  },
  {
   "cell_type": "markdown",
   "id": "909ac080",
   "metadata": {},
   "source": [
    "# Sauce recipe edit"
   ]
  },
  {
   "cell_type": "code",
   "execution_count": 20,
   "id": "1a066830",
   "metadata": {
    "vscode": {
     "languageId": "shellscript"
    }
   },
   "outputs": [
    {
     "name": "stdout",
     "output_type": "stream",
     "text": [
      "/home/amin/HeadFirstGit/headfirst-git-download/chapter03/recipes\n"
     ]
    }
   ],
   "source": [
    "cd ../recipes"
   ]
  },
  {
   "cell_type": "code",
   "execution_count": 22,
   "id": "8a3a1e52",
   "metadata": {
    "vscode": {
     "languageId": "shellscript"
    }
   },
   "outputs": [
    {
     "name": "stdout",
     "output_type": "stream",
     "text": [
      "  different-base\u001b[m\n",
      "  master\u001b[m\n",
      "* \u001b[32mspicy-version\u001b[m\n"
     ]
    }
   ],
   "source": [
    "!git branch"
   ]
  },
  {
   "cell_type": "code",
   "execution_count": 23,
   "id": "1caf70da",
   "metadata": {
    "vscode": {
     "languageId": "shellscript"
    }
   },
   "outputs": [
    {
     "name": "stdout",
     "output_type": "stream",
     "text": [
      "# Spicy Green Mean Machine\n",
      "\n",
      "## Ingredients\n",
      "1/2 cup - Plain yogurt\n",
      "3-4 cloves - Garlic\n",
      "2 cups - Chopped cilantro\n",
      "1/4 cup - Olive oil\n",
      "1/4 cup - Lime juice\n",
      "1 pinch - Salt\n",
      "1 - Jalapeno, deseeded\n",
      "\n",
      "## Instructions\n",
      "Add all ingredients to a blender. Mix until smooth.\n"
     ]
    }
   ],
   "source": [
    "cat saucy.md"
   ]
  },
  {
   "cell_type": "code",
   "execution_count": 28,
   "id": "0529dbcd",
   "metadata": {
    "vscode": {
     "languageId": "shellscript"
    }
   },
   "outputs": [
    {
     "name": "stdout",
     "output_type": "stream",
     "text": [
      "Overwriting saucy.md\n"
     ]
    }
   ],
   "source": [
    "%%writefile saucy.md\n",
    "# Spicy Green Mean Machine\n",
    "\n",
    "## Ingredients\n",
    "1/2 cup - Plain yogurt\n",
    "3-4 cloves - Garlic\n",
    "2 cups - Chopped cilantro\n",
    "1/4 cup - Olive oil\n",
    "1/4 cup - Lime juice\n",
    "2 pinches - Salt\n",
    "2 - Jalapenos, deseeded\n",
    "\n",
    "## Instructions\n",
    "Add all ingredients to a blender. Mix until desired consistency."
   ]
  },
  {
   "cell_type": "code",
   "execution_count": 29,
   "id": "4894306a",
   "metadata": {
    "vscode": {
     "languageId": "shellscript"
    }
   },
   "outputs": [
    {
     "name": "stdout",
     "output_type": "stream",
     "text": [
      "\u001b[1mdiff --git a/saucy.md b/saucy.md\u001b[m\n",
      "\u001b[1mindex 20b7e5a..8d49c34 100644\u001b[m\n",
      "\u001b[1m--- a/saucy.md\u001b[m\n",
      "\u001b[1m+++ b/saucy.md\u001b[m\n",
      "\u001b[36m@@ -6,8 +6,8 @@\u001b[m\n",
      " 2 cups - Chopped cilantro\u001b[m\n",
      " 1/4 cup - Olive oil\u001b[m\n",
      " 1/4 cup - Lime juice\u001b[m\n",
      "\u001b[31m-1 pinch - Salt\u001b[m\n",
      "\u001b[31m-1 - Jalapeno, deseeded\u001b[m\n",
      "\u001b[32m+\u001b[m\u001b[32m2 pinches - Salt\u001b[m\n",
      "\u001b[32m+\u001b[m\u001b[32m2 - Jalapenos, deseeded\u001b[m\n",
      " \u001b[m\n",
      " ## Instructions\u001b[m\n",
      "\u001b[31m-Add all ingredients to a blender. Mix until smooth.\u001b[m\n",
      "\u001b[32m+\u001b[m\u001b[32mAdd all ingredients to a blender. Mix until desired consistency.\u001b[m\n"
     ]
    }
   ],
   "source": [
    "!git diff"
   ]
  },
  {
   "cell_type": "code",
   "execution_count": 30,
   "id": "cb3e6724",
   "metadata": {
    "vscode": {
     "languageId": "shellscript"
    }
   },
   "outputs": [
    {
     "name": "stdout",
     "output_type": "stream",
     "text": [
      "\u001b[1mdiff --git a/saucy.md b/saucy.md\u001b[m\n",
      "\u001b[1mindex 20b7e5a..8d49c34 100644\u001b[m\n",
      "\u001b[1m--- a/saucy.md\u001b[m\n",
      "\u001b[1m+++ b/saucy.md\u001b[m\n",
      "\u001b[36m@@ -6,8 +6,8 @@\u001b[m\n",
      "2 cups - Chopped cilantro\u001b[m\n",
      "1/4 cup - Olive oil\u001b[m\n",
      "1/4 cup - Lime juice\u001b[m\n",
      "\u001b[31m[-1 pinch-]\u001b[m\u001b[32m{+2 pinches+}\u001b[m - Salt\n",
      "\u001b[31m[-1-]\u001b[m\u001b[32m{+2+}\u001b[m - \u001b[31m[-Jalapeno,-]\u001b[m\u001b[32m{+Jalapenos,+}\u001b[m deseeded\n",
      "\n",
      "## Instructions\u001b[m\n",
      "Add all ingredients to a blender. Mix until \u001b[31m[-smooth.-]\u001b[m\u001b[32m{+desired consistency.+}\u001b[m\n"
     ]
    }
   ],
   "source": [
    "!git diff --word-diff"
   ]
  },
  {
   "cell_type": "markdown",
   "id": "89e3fc94",
   "metadata": {},
   "source": [
    "# Diffing staged changes"
   ]
  },
  {
   "cell_type": "code",
   "execution_count": 31,
   "id": "ccda1711",
   "metadata": {
    "vscode": {
     "languageId": "shellscript"
    }
   },
   "outputs": [
    {
     "name": "stdout",
     "output_type": "stream",
     "text": [
      "On branch spicy-version\n",
      "Changes not staged for commit:\n",
      "  (use \"git add <file>...\" to update what will be committed)\n",
      "  (use \"git restore <file>...\" to discard changes in working directory)\n",
      "\t\u001b[31mmodified:   saucy.md\u001b[m\n",
      "\n",
      "no changes added to commit (use \"git add\" and/or \"git commit -a\")\n"
     ]
    }
   ],
   "source": [
    "!git status"
   ]
  },
  {
   "cell_type": "code",
   "execution_count": 32,
   "id": "a0ddec72",
   "metadata": {
    "vscode": {
     "languageId": "shellscript"
    }
   },
   "outputs": [],
   "source": [
    "!git add saucy.md"
   ]
  },
  {
   "cell_type": "markdown",
   "id": "e5b25502",
   "metadata": {},
   "source": [
    "### Show staged changes"
   ]
  },
  {
   "cell_type": "code",
   "execution_count": 33,
   "id": "c15a2ec5",
   "metadata": {
    "vscode": {
     "languageId": "shellscript"
    }
   },
   "outputs": [
    {
     "name": "stdout",
     "output_type": "stream",
     "text": [
      "\u001b[1mdiff --git a/saucy.md b/saucy.md\u001b[m\n",
      "\u001b[1mindex 20b7e5a..8d49c34 100644\u001b[m\n",
      "\u001b[1m--- a/saucy.md\u001b[m\n",
      "\u001b[1m+++ b/saucy.md\u001b[m\n",
      "\u001b[36m@@ -6,8 +6,8 @@\u001b[m\n",
      " 2 cups - Chopped cilantro\u001b[m\n",
      " 1/4 cup - Olive oil\u001b[m\n",
      " 1/4 cup - Lime juice\u001b[m\n",
      "\u001b[31m-1 pinch - Salt\u001b[m\n",
      "\u001b[31m-1 - Jalapeno, deseeded\u001b[m\n",
      "\u001b[32m+\u001b[m\u001b[32m2 pinches - Salt\u001b[m\n",
      "\u001b[32m+\u001b[m\u001b[32m2 - Jalapenos, deseeded\u001b[m\n",
      " \u001b[m\n",
      " ## Instructions\u001b[m\n",
      "\u001b[31m-Add all ingredients to a blender. Mix until smooth.\u001b[m\n",
      "\u001b[32m+\u001b[m\u001b[32mAdd all ingredients to a blender. Mix until desired consistency.\u001b[m\n"
     ]
    }
   ],
   "source": [
    "!git diff --staged"
   ]
  },
  {
   "cell_type": "code",
   "execution_count": 34,
   "id": "13f512f7",
   "metadata": {
    "vscode": {
     "languageId": "shellscript"
    }
   },
   "outputs": [
    {
     "name": "stdout",
     "output_type": "stream",
     "text": [
      "[spicy-version b1d03ab] add punch\n",
      " 1 file changed, 3 insertions(+), 3 deletions(-)\n"
     ]
    }
   ],
   "source": [
    "!git commit -m \"add punch\""
   ]
  },
  {
   "cell_type": "code",
   "execution_count": 35,
   "id": "fa673359",
   "metadata": {
    "vscode": {
     "languageId": "shellscript"
    }
   },
   "outputs": [
    {
     "name": "stdout",
     "output_type": "stream",
     "text": [
      "On branch spicy-version\n",
      "nothing to commit, working tree clean\n"
     ]
    }
   ],
   "source": [
    "!git status"
   ]
  },
  {
   "cell_type": "markdown",
   "id": "78d98061",
   "metadata": {},
   "source": [
    "# Diffing branches\n"
   ]
  },
  {
   "cell_type": "code",
   "execution_count": 38,
   "id": "05f1421e",
   "metadata": {
    "vscode": {
     "languageId": "shellscript"
    }
   },
   "outputs": [
    {
     "name": "stdout",
     "output_type": "stream",
     "text": [
      "/home/amin/HeadFirstGit/headfirst-git-download/chapter03/resume\n"
     ]
    }
   ],
   "source": [
    "cd ../resume"
   ]
  },
  {
   "cell_type": "code",
   "execution_count": 39,
   "id": "b81e7658",
   "metadata": {
    "vscode": {
     "languageId": "shellscript"
    }
   },
   "outputs": [
    {
     "name": "stdout",
     "output_type": "stream",
     "text": [
      "* \u001b[33m8842246\u001b[m\u001b[33m (\u001b[m\u001b[1;32madd-skills\u001b[m\u001b[33m)\u001b[m add accomplishment\n",
      "* \u001b[33mc96d092\u001b[m add language\n",
      "\u001b[31m|\u001b[m * \u001b[33m38a7176\u001b[m\u001b[33m (\u001b[m\u001b[1;36mHEAD\u001b[m\u001b[33m -> \u001b[m\u001b[1;32medit-per-scotty\u001b[m\u001b[33m)\u001b[m update objective\n",
      "\u001b[31m|\u001b[m\u001b[31m/\u001b[m  \n",
      "* \u001b[33m1930f11\u001b[m\u001b[33m (\u001b[m\u001b[1;32mmaster\u001b[m\u001b[33m)\u001b[m basic resume outline\n"
     ]
    }
   ],
   "source": [
    "!git log --oneline --all --graph"
   ]
  },
  {
   "cell_type": "code",
   "execution_count": 40,
   "id": "869f64f9",
   "metadata": {
    "vscode": {
     "languageId": "shellscript"
    }
   },
   "outputs": [
    {
     "name": "stdout",
     "output_type": "stream",
     "text": [
      "\u001b[1mdiff --git a/resume.md b/resume.md\u001b[m\n",
      "\u001b[1mindex 73d57b6..e7dd8c4 100644\u001b[m\n",
      "\u001b[1m--- a/resume.md\u001b[m\n",
      "\u001b[1m+++ b/resume.md\u001b[m\n",
      "\u001b[36m@@ -1,11 +1,12 @@\u001b[m\n",
      " # Brigitte Strek\u001b[m\n",
      " \u001b[m\n",
      " ## Objective\u001b[m\n",
      "\u001b[31m-To leverage my language skills as Chief Communications Officer\u001b[m\n",
      "\u001b[32m+\u001b[m\u001b[32mTo leverage my skills as Chief Communications Officer\u001b[m\n",
      " \u001b[m\n",
      " ## Languages\u001b[m\n",
      " English (native)\u001b[m\n",
      " Romulan (beginner)\u001b[m\n",
      "\u001b[32m+\u001b[m\u001b[32m  * Azul\u001b[m\n",
      " \u001b[m\n",
      " ## Education\u001b[m\n",
      " Starfleet Academy, San Francisco, CA\u001b[m\n",
      "\u001b[36m@@ -15,3 +16,4 @@\u001b[m \u001b[mValedictorian, Class of 2018\u001b[m\n",
      " 2018-2020, Federation Starship Atlantis - Communications Ensign\u001b[m\n",
      " \u001b[m\n",
      " Routed incoming subspace communications to the correct officer\u001b[m\n",
      "\u001b[32m+\u001b[m\u001b[32m  Designed a new encryption algorithm to protect communications\u001b[m\n"
     ]
    }
   ],
   "source": [
    "!git diff edit-per-scotty add-skills"
   ]
  },
  {
   "cell_type": "code",
   "execution_count": 41,
   "id": "733589e0",
   "metadata": {
    "vscode": {
     "languageId": "shellscript"
    }
   },
   "outputs": [
    {
     "name": "stdout",
     "output_type": "stream",
     "text": [
      "\u001b[1mdiff --git a/resume.md b/resume.md\u001b[m\n",
      "\u001b[1mindex 73d57b6..e7dd8c4 100644\u001b[m\n",
      "\u001b[1m--- a/resume.md\u001b[m\n",
      "\u001b[1m+++ b/resume.md\u001b[m\n",
      "\u001b[36m@@ -1,11 +1,12 @@\u001b[m\n",
      "# Brigitte Strek\u001b[m\n",
      "\n",
      "## Objective\u001b[m\n",
      "To leverage my\u001b[31m[-language-]\u001b[m skills as Chief Communications Officer\n",
      "\n",
      "## Languages\u001b[m\n",
      "English (native)\u001b[m\n",
      "Romulan (beginner)\u001b[m\n",
      "  \u001b[32m{+* Azul+}\u001b[m\n",
      "\n",
      "## Education\u001b[m\n",
      "Starfleet Academy, San Francisco, CA\u001b[m\n",
      "\u001b[36m@@ -15,3 +16,4 @@\u001b[m \u001b[mValedictorian, Class of 2018\u001b[m\n",
      "2018-2020, Federation Starship Atlantis - Communications Ensign\u001b[m\n",
      "\n",
      "Routed incoming subspace communications to the correct officer\u001b[m\n",
      "  \u001b[32m{+Designed a new encryption algorithm to protect communications+}\u001b[m\n"
     ]
    }
   ],
   "source": [
    "!git diff edit-per-scotty add-skills --word-diff"
   ]
  },
  {
   "cell_type": "code",
   "execution_count": 42,
   "id": "fd46305f",
   "metadata": {
    "vscode": {
     "languageId": "shellscript"
    }
   },
   "outputs": [
    {
     "name": "stdout",
     "output_type": "stream",
     "text": [
      "\u001b[1mdiff --git a/resume.md b/resume.md\u001b[m\n",
      "\u001b[1mindex e7dd8c4..73d57b6 100644\u001b[m\n",
      "\u001b[1m--- a/resume.md\u001b[m\n",
      "\u001b[1m+++ b/resume.md\u001b[m\n",
      "\u001b[36m@@ -1,12 +1,11 @@\u001b[m\n",
      " # Brigitte Strek\u001b[m\n",
      " \u001b[m\n",
      " ## Objective\u001b[m\n",
      "\u001b[31m-To leverage my skills as Chief Communications Officer\u001b[m\n",
      "\u001b[32m+\u001b[m\u001b[32mTo leverage my language skills as Chief Communications Officer\u001b[m\n",
      " \u001b[m\n",
      " ## Languages\u001b[m\n",
      " English (native)\u001b[m\n",
      " Romulan (beginner)\u001b[m\n",
      "\u001b[31m-  * Azul\u001b[m\n",
      " \u001b[m\n",
      " ## Education\u001b[m\n",
      " Starfleet Academy, San Francisco, CA\u001b[m\n",
      "\u001b[36m@@ -16,4 +15,3 @@\u001b[m \u001b[mValedictorian, Class of 2018\u001b[m\n",
      " 2018-2020, Federation Starship Atlantis - Communications Ensign\u001b[m\n",
      " \u001b[m\n",
      " Routed incoming subspace communications to the correct officer\u001b[m\n",
      "\u001b[31m-  Designed a new encryption algorithm to protect communications\u001b[m\n"
     ]
    }
   ],
   "source": [
    "!git diff add-skills edit-per-scotty "
   ]
  },
  {
   "cell_type": "code",
   "execution_count": null,
   "id": "f07040af",
   "metadata": {
    "vscode": {
     "languageId": "shellscript"
    }
   },
   "outputs": [],
   "source": []
  }
 ],
 "metadata": {
  "kernelspec": {
   "display_name": "Python 3",
   "language": "python",
   "name": "python3"
  },
  "language_info": {
   "codemirror_mode": {
    "name": "ipython",
    "version": 3
   },
   "file_extension": ".py",
   "mimetype": "text/x-python",
   "name": "python",
   "nbconvert_exporter": "python",
   "pygments_lexer": "ipython3",
   "version": "3.12.3"
  }
 },
 "nbformat": 4,
 "nbformat_minor": 5
}
