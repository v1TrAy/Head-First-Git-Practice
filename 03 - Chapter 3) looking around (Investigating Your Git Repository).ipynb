{
 "cells": [
  {
   "cell_type": "markdown",
   "id": "ddbf91ea",
   "metadata": {},
   "source": [
    "# Recipe example"
   ]
  },
  {
   "cell_type": "code",
   "execution_count": 3,
   "id": "d5ed4a41",
   "metadata": {
    "vscode": {
     "languageId": "shellscript"
    }
   },
   "outputs": [
    {
     "name": "stdout",
     "output_type": "stream",
     "text": [
      "/home/amin/HeadFirstGit/headfirst-git-download/chapter03/recipes\n"
     ]
    }
   ],
   "source": [
    "cd /home/amin/HeadFirstGit/headfirst-git-download/chapter03/recipes"
   ]
  },
  {
   "cell_type": "code",
   "execution_count": 4,
   "id": "0afbddd1",
   "metadata": {
    "vscode": {
     "languageId": "shellscript"
    }
   },
   "outputs": [
    {
     "name": "stdout",
     "output_type": "stream",
     "text": [
      "On branch spicy-version\n",
      "nothing to commit, working tree clean\n"
     ]
    }
   ],
   "source": [
    "!git status\n"
   ]
  },
  {
   "cell_type": "code",
   "execution_count": 5,
   "id": "30456e23",
   "metadata": {
    "vscode": {
     "languageId": "shellscript"
    }
   },
   "outputs": [
    {
     "name": "stdout",
     "output_type": "stream",
     "text": [
      "  different-base\u001b[m\n",
      "  master\u001b[m\n",
      "* \u001b[32mspicy-version\u001b[m\n"
     ]
    }
   ],
   "source": [
    "!git branch"
   ]
  },
  {
   "cell_type": "markdown",
   "id": "39f21544",
   "metadata": {},
   "source": [
    "# Visualize history"
   ]
  },
  {
   "cell_type": "code",
   "execution_count": 6,
   "id": "4086dd90",
   "metadata": {
    "vscode": {
     "languageId": "shellscript"
    }
   },
   "outputs": [
    {
     "name": "stdout",
     "output_type": "stream",
     "text": [
      "\u001b[33mcommit 8d670e93e297b126fc0466caf37c0033b6c018ab\u001b[m\u001b[33m (\u001b[m\u001b[1;36mHEAD\u001b[m\u001b[33m -> \u001b[m\u001b[1;32mspicy-version\u001b[m\u001b[33m)\u001b[m\n",
      "Author: Rosemary Berry <headchef@80s-diner.com>\n",
      "Date:   Mon Mar 15 18:52:50 2021 -0400\n",
      "\n",
      "    update recipe name\n",
      "\n",
      "\u001b[33mcommit 4cca5a7b3225a88c2df12bd157f5877bc3dded9e\u001b[m\n",
      "Author: Rosemary Berry <headchef@80s-diner.com>\n",
      "Date:   Mon Feb 15 17:24:41 2021 -0500\n",
      "\n",
      "    make it spicy\n",
      "\n",
      "\u001b[33mcommit 5db2b68c4cf2699e89fe1b526a7e4a171d83b2ef\u001b[m\u001b[33m (\u001b[m\u001b[1;32mmaster\u001b[m\u001b[33m)\u001b[m\n",
      "Author: Rosemary Berry <headchef@80s-diner.com>\n",
      "Date:   Sat Jan 2 19:22:59 2021 -0500\n",
      "\n",
      "    first attempt\n"
     ]
    }
   ],
   "source": [
    "!git log"
   ]
  },
  {
   "cell_type": "code",
   "execution_count": 7,
   "id": "10566678",
   "metadata": {
    "vscode": {
     "languageId": "shellscript"
    }
   },
   "outputs": [
    {
     "name": "stdout",
     "output_type": "stream",
     "text": [
      "Switched to branch 'different-base'\n",
      "\u001b[33mcommit 0065b8a0b8d6d4f2efc864c09437f8f5aa0b9773\u001b[m\u001b[33m (\u001b[m\u001b[1;36mHEAD\u001b[m\u001b[33m -> \u001b[m\u001b[1;32mdifferent-base\u001b[m\u001b[33m)\u001b[m\n",
      "Author: Rosemary Berry <headchef@80s-diner.com>\n",
      "Date:   Tue Jan 12 03:28:44 2021 -0500\n",
      "\n",
      "    cut down salt\n",
      "\n",
      "\u001b[33mcommit 549e0da551c2a6427fb7b281093702cb449261ed\u001b[m\n",
      "Author: Rosemary Berry <headchef@80s-diner.com>\n",
      "Date:   Fri Jan 8 23:04:50 2021 -0500\n",
      "\n",
      "    use sour cream\n",
      "\n",
      "\u001b[33mcommit 5db2b68c4cf2699e89fe1b526a7e4a171d83b2ef\u001b[m\u001b[33m (\u001b[m\u001b[1;32mmaster\u001b[m\u001b[33m)\u001b[m\n",
      "Author: Rosemary Berry <headchef@80s-diner.com>\n",
      "Date:   Sat Jan 2 19:22:59 2021 -0500\n",
      "\n",
      "    first attempt\n"
     ]
    }
   ],
   "source": [
    "!git switch different-base\n",
    "!git log"
   ]
  },
  {
   "cell_type": "code",
   "execution_count": 8,
   "id": "3688350c",
   "metadata": {
    "vscode": {
     "languageId": "shellscript"
    }
   },
   "outputs": [
    {
     "name": "stdout",
     "output_type": "stream",
     "text": [
      "Switched to branch 'master'\n",
      "\u001b[33mcommit 5db2b68c4cf2699e89fe1b526a7e4a171d83b2ef\u001b[m\u001b[33m (\u001b[m\u001b[1;36mHEAD\u001b[m\u001b[33m -> \u001b[m\u001b[1;32mmaster\u001b[m\u001b[33m)\u001b[m\n",
      "Author: Rosemary Berry <headchef@80s-diner.com>\n",
      "Date:   Sat Jan 2 19:22:59 2021 -0500\n",
      "\n",
      "    first attempt\n"
     ]
    }
   ],
   "source": [
    "!git switch master\n",
    "!git log"
   ]
  },
  {
   "cell_type": "code",
   "execution_count": 9,
   "id": "732c9c67",
   "metadata": {
    "vscode": {
     "languageId": "shellscript"
    }
   },
   "outputs": [
    {
     "name": "stdout",
     "output_type": "stream",
     "text": [
      "Switched to branch 'spicy-version'\n"
     ]
    }
   ],
   "source": [
    "!git switch spicy-version"
   ]
  },
  {
   "cell_type": "markdown",
   "id": "2e792242",
   "metadata": {},
   "source": [
    "### commit logs with abbreviated hashes"
   ]
  },
  {
   "cell_type": "code",
   "execution_count": 10,
   "id": "d71530af",
   "metadata": {
    "vscode": {
     "languageId": "shellscript"
    }
   },
   "outputs": [
    {
     "name": "stdout",
     "output_type": "stream",
     "text": [
      "\u001b[33mcommit 8d670e9\u001b[m\u001b[33m (\u001b[m\u001b[1;36mHEAD\u001b[m\u001b[33m -> \u001b[m\u001b[1;32mspicy-version\u001b[m\u001b[33m)\u001b[m\n",
      "Author: Rosemary Berry <headchef@80s-diner.com>\n",
      "Date:   Mon Mar 15 18:52:50 2021 -0400\n",
      "\n",
      "    update recipe name\n",
      "\n",
      "\u001b[33mcommit 4cca5a7\u001b[m\n",
      "Author: Rosemary Berry <headchef@80s-diner.com>\n",
      "Date:   Mon Feb 15 17:24:41 2021 -0500\n",
      "\n",
      "    make it spicy\n",
      "\n",
      "\u001b[33mcommit 5db2b68\u001b[m\u001b[33m (\u001b[m\u001b[1;32mmaster\u001b[m\u001b[33m)\u001b[m\n",
      "Author: Rosemary Berry <headchef@80s-diner.com>\n",
      "Date:   Sat Jan 2 19:22:59 2021 -0500\n",
      "\n",
      "    first attempt\n"
     ]
    }
   ],
   "source": [
    "!git log --abbrev-commit"
   ]
  },
  {
   "cell_type": "markdown",
   "id": "e3e8f1e2",
   "metadata": {},
   "source": [
    "### Commit logs in one line format"
   ]
  },
  {
   "cell_type": "code",
   "execution_count": 11,
   "id": "fabac957",
   "metadata": {
    "vscode": {
     "languageId": "shellscript"
    }
   },
   "outputs": [
    {
     "name": "stdout",
     "output_type": "stream",
     "text": [
      "\u001b[33m8d670e93e297b126fc0466caf37c0033b6c018ab\u001b[m\u001b[33m (\u001b[m\u001b[1;36mHEAD\u001b[m\u001b[33m -> \u001b[m\u001b[1;32mspicy-version\u001b[m\u001b[33m)\u001b[m update recipe name\n",
      "\u001b[33m4cca5a7b3225a88c2df12bd157f5877bc3dded9e\u001b[m make it spicy\n",
      "\u001b[33m5db2b68c4cf2699e89fe1b526a7e4a171d83b2ef\u001b[m\u001b[33m (\u001b[m\u001b[1;32mmaster\u001b[m\u001b[33m)\u001b[m first attempt\n"
     ]
    }
   ],
   "source": [
    "!git log --pretty=oneline"
   ]
  },
  {
   "cell_type": "markdown",
   "id": "cdc09fa9",
   "metadata": {},
   "source": [
    "### commit logs in one line with abbreviated commit hashes"
   ]
  },
  {
   "cell_type": "code",
   "execution_count": 14,
   "id": "c1f9a200",
   "metadata": {
    "vscode": {
     "languageId": "shellscript"
    }
   },
   "outputs": [
    {
     "name": "stdout",
     "output_type": "stream",
     "text": [
      "\u001b[33m8d670e9\u001b[m\u001b[33m (\u001b[m\u001b[1;36mHEAD\u001b[m\u001b[33m -> \u001b[m\u001b[1;32mspicy-version\u001b[m\u001b[33m)\u001b[m update recipe name\n",
      "\u001b[33m4cca5a7\u001b[m make it spicy\n",
      "\u001b[33m5db2b68\u001b[m\u001b[33m (\u001b[m\u001b[1;32mmaster\u001b[m\u001b[33m)\u001b[m first attempt\n"
     ]
    }
   ],
   "source": [
    "!git log --pretty=oneline --abbrev-commit\n"
   ]
  },
  {
   "cell_type": "markdown",
   "id": "8de59672",
   "metadata": {},
   "source": [
    "### commit logs in abbreviated one-line format"
   ]
  },
  {
   "cell_type": "code",
   "execution_count": 12,
   "id": "f836cf18",
   "metadata": {
    "vscode": {
     "languageId": "shellscript"
    }
   },
   "outputs": [
    {
     "name": "stdout",
     "output_type": "stream",
     "text": [
      "\u001b[33m8d670e9\u001b[m\u001b[33m (\u001b[m\u001b[1;36mHEAD\u001b[m\u001b[33m -> \u001b[m\u001b[1;32mspicy-version\u001b[m\u001b[33m)\u001b[m update recipe name\n",
      "\u001b[33m4cca5a7\u001b[m make it spicy\n",
      "\u001b[33m5db2b68\u001b[m\u001b[33m (\u001b[m\u001b[1;32mmaster\u001b[m\u001b[33m)\u001b[m first attempt\n"
     ]
    }
   ],
   "source": [
    "!git log --oneline"
   ]
  },
  {
   "cell_type": "markdown",
   "id": "cdf65237",
   "metadata": {},
   "source": [
    "## More Practice"
   ]
  },
  {
   "cell_type": "code",
   "execution_count": 19,
   "id": "bd9540b2",
   "metadata": {
    "vscode": {
     "languageId": "shellscript"
    }
   },
   "outputs": [
    {
     "name": "stdout",
     "output_type": "stream",
     "text": [
      "Switched to branch 'different-base'\n"
     ]
    }
   ],
   "source": [
    "!git switch different-base"
   ]
  },
  {
   "cell_type": "code",
   "execution_count": 16,
   "id": "199c4723",
   "metadata": {
    "vscode": {
     "languageId": "shellscript"
    }
   },
   "outputs": [
    {
     "name": "stdout",
     "output_type": "stream",
     "text": [
      "\u001b[33m0065b8a\u001b[m\u001b[33m (\u001b[m\u001b[1;36mHEAD\u001b[m\u001b[33m -> \u001b[m\u001b[1;32mdifferent-base\u001b[m\u001b[33m)\u001b[m cut down salt\n",
      "\u001b[33m549e0da\u001b[m use sour cream\n",
      "\u001b[33m5db2b68\u001b[m\u001b[33m (\u001b[m\u001b[1;32mmaster\u001b[m\u001b[33m)\u001b[m first attempt\n"
     ]
    }
   ],
   "source": [
    "!git log --oneline"
   ]
  },
  {
   "cell_type": "code",
   "execution_count": 20,
   "id": "be1c6ee1",
   "metadata": {
    "vscode": {
     "languageId": "shellscript"
    }
   },
   "outputs": [
    {
     "name": "stdout",
     "output_type": "stream",
     "text": [
      "Switched to branch 'master'\n",
      "\u001b[33m5db2b68\u001b[m\u001b[33m (\u001b[m\u001b[1;36mHEAD\u001b[m\u001b[33m -> \u001b[m\u001b[1;32mmaster\u001b[m\u001b[33m)\u001b[m first attempt\n"
     ]
    }
   ],
   "source": [
    "!git switch master\n",
    "!git log --oneline"
   ]
  },
  {
   "cell_type": "markdown",
   "id": "4b7b256e",
   "metadata": {},
   "source": [
    "## Logging all branches"
   ]
  },
  {
   "cell_type": "code",
   "execution_count": 21,
   "id": "3284cd22",
   "metadata": {
    "vscode": {
     "languageId": "shellscript"
    }
   },
   "outputs": [
    {
     "name": "stdout",
     "output_type": "stream",
     "text": [
      "* \u001b[33m8d670e9\u001b[m\u001b[33m (\u001b[m\u001b[1;32mspicy-version\u001b[m\u001b[33m)\u001b[m update recipe name\n",
      "* \u001b[33m4cca5a7\u001b[m make it spicy\n",
      "\u001b[31m|\u001b[m * \u001b[33m0065b8a\u001b[m\u001b[33m (\u001b[m\u001b[1;32mdifferent-base\u001b[m\u001b[33m)\u001b[m cut down salt\n",
      "\u001b[31m|\u001b[m * \u001b[33m549e0da\u001b[m use sour cream\n",
      "\u001b[31m|\u001b[m\u001b[31m/\u001b[m  \n",
      "* \u001b[33m5db2b68\u001b[m\u001b[33m (\u001b[m\u001b[1;36mHEAD\u001b[m\u001b[33m -> \u001b[m\u001b[1;32mmaster\u001b[m\u001b[33m)\u001b[m first attempt\n"
     ]
    }
   ],
   "source": [
    "!git log --all --oneline --graph"
   ]
  }
 ],
 "metadata": {
  "kernelspec": {
   "display_name": "Python 3",
   "language": "python",
   "name": "python3"
  },
  "language_info": {
   "codemirror_mode": {
    "name": "ipython",
    "version": 3
   },
   "file_extension": ".py",
   "mimetype": "text/x-python",
   "name": "python",
   "nbconvert_exporter": "python",
   "pygments_lexer": "ipython3",
   "version": "3.12.3"
  }
 },
 "nbformat": 4,
 "nbformat_minor": 5
}
