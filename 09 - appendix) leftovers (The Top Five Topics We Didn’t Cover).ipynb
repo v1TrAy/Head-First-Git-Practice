{
 "cells": [
  {
   "cell_type": "markdown",
   "id": "bc9801c2",
   "metadata": {},
   "source": [
    "# appendix - leftovers (The Top Five Topics We Didn’t Cover)"
   ]
  },
  {
   "cell_type": "markdown",
   "id": "29ab98bf",
   "metadata": {},
   "source": [
    "# #1 Tags (remember me forever)"
   ]
  },
  {
   "cell_type": "markdown",
   "id": "046096c0",
   "metadata": {},
   "source": [
    "## Git Tags Overview\n",
    "\n",
    "Tags in Git are similar to branches: they are named references to commits. However, unlike branches, **tags never move**. Once created, a tag always points to the same commit.\n",
    "\n",
    "### Why Use Tags?\n",
    "- Mark significant commits (e.g., a release version like `v1.0.0`)\n",
    "- Highlight a fix for a major bug\n",
    "- Set a stable reference point in project history\n",
    "\n",
    "### Creating Tags\n",
    "```bash\n",
    "git tag v1.0.0\n",
    "```\n",
    "This tags the current commit (i.e., `HEAD`) with the name `v1.0.0`.\n",
    "\n",
    "To tag a specific commit:\n",
    "```bash\n",
    "git tag v2.0.0 049896f\n",
    "```\n",
    "\n",
    "### Naming Conventions\n",
    "- No spaces allowed\n",
    "- Hyphens (`-`) are preferred over underscores or spaces\n",
    "- Forward slashes (`/`) and periods (`.`) are allowed\n",
    "- Avoid using the same name for a tag and a branch\n",
    "- Use a prefix like `v` for version tags (e.g., `v1.2.3`)\n",
    "\n",
    "### Listing Tags\n",
    "```bash\n",
    "git tag -l\n",
    "```\n",
    "\n",
    "### Sharing Tags with Remotes\n",
    "Tags are part of your Git history and can be shared with others.\n",
    "\n",
    "To fetch all remote tags:\n",
    "```bash\n",
    "git fetch --tags\n",
    "```\n",
    "\n",
    "To push all local tags to a remote:\n",
    "```bash\n",
    "git push --tags\n",
    "```\n",
    "\n",
    "### Summary\n",
    "- Tags are immutable references to commits\n",
    "- Ideal for marking releases and important changes\n",
    "- Use consistent naming for clarity and collaboration\n",
    "\n",
    "By using tags wisely, you can make your Git history easier to navigate and more meaningful for your team."
   ]
  },
  {
   "cell_type": "code",
   "execution_count": 2,
   "id": "6aed4eac",
   "metadata": {
    "vscode": {
     "languageId": "shellscript"
    }
   },
   "outputs": [
    {
     "name": "stdout",
     "output_type": "stream",
     "text": [
      "/home/amin/HeadFirstGit/HeadFirstGit-Samples\n"
     ]
    }
   ],
   "source": [
    "cd /home/amin/HeadFirstGit/HeadFirstGit-Samples"
   ]
  },
  {
   "cell_type": "code",
   "execution_count": 3,
   "id": "7ed6bacd",
   "metadata": {
    "vscode": {
     "languageId": "shellscript"
    }
   },
   "outputs": [],
   "source": [
    "mkdir appendix"
   ]
  },
  {
   "cell_type": "code",
   "execution_count": 4,
   "id": "9188dc8f",
   "metadata": {
    "vscode": {
     "languageId": "shellscript"
    }
   },
   "outputs": [
    {
     "name": "stdout",
     "output_type": "stream",
     "text": [
      "/home/amin/HeadFirstGit/HeadFirstGit-Samples/appendix\n"
     ]
    }
   ],
   "source": [
    "cd appendix"
   ]
  },
  {
   "cell_type": "code",
   "execution_count": 5,
   "id": "351e9e90",
   "metadata": {
    "vscode": {
     "languageId": "shellscript"
    }
   },
   "outputs": [],
   "source": [
    "!touch test.txt"
   ]
  },
  {
   "cell_type": "code",
   "execution_count": 9,
   "id": "6ae989cf",
   "metadata": {
    "vscode": {
     "languageId": "shellscript"
    }
   },
   "outputs": [
    {
     "name": "stdout",
     "output_type": "stream",
     "text": [
      "Reinitialized existing Git repository in /home/amin/HeadFirstGit/HeadFirstGit-Samples/appendix/.git/\n"
     ]
    }
   ],
   "source": [
    "!git init"
   ]
  },
  {
   "cell_type": "code",
   "execution_count": 11,
   "id": "a82749af",
   "metadata": {
    "vscode": {
     "languageId": "shellscript"
    }
   },
   "outputs": [
    {
     "name": "stdout",
     "output_type": "stream",
     "text": [
      "On branch master\n",
      "nothing to commit, working tree clean\n"
     ]
    }
   ],
   "source": [
    "!git add .\n",
    "!git commit -m \"feat:add new feat\""
   ]
  },
  {
   "cell_type": "markdown",
   "id": "ef903b40",
   "metadata": {},
   "source": [
    "###  Create a new tag"
   ]
  },
  {
   "cell_type": "code",
   "execution_count": 12,
   "id": "9854ede9",
   "metadata": {
    "vscode": {
     "languageId": "shellscript"
    }
   },
   "outputs": [],
   "source": [
    "!git tag v1.0"
   ]
  },
  {
   "cell_type": "markdown",
   "id": "63ed71dc",
   "metadata": {},
   "source": [
    "###  List all tags"
   ]
  },
  {
   "cell_type": "code",
   "execution_count": 13,
   "id": "716fff3a",
   "metadata": {
    "vscode": {
     "languageId": "shellscript"
    }
   },
   "outputs": [
    {
     "name": "stdout",
     "output_type": "stream",
     "text": [
      "v1.0\n"
     ]
    }
   ],
   "source": [
    "!git tag --list"
   ]
  },
  {
   "cell_type": "markdown",
   "id": "29c767b1",
   "metadata": {},
   "source": [
    "# #2 Cherry-pick (copying commits)"
   ]
  },
  {
   "cell_type": "markdown",
   "id": "883b0bbe",
   "metadata": {},
   "source": [
    "## Using `git cherry-pick`\n",
    "\n",
    "Imagine you're working on a new feature and fix a bug in your branch. The fix is needed on the integration (e.g., `master`) branch, but you’re not ready to merge your feature branch yet. How can you transfer just that fix?\n",
    "\n",
    "### Option 1: Manual Cherry-Pick via New Branch\n",
    "1. Create a new branch from `master`\n",
    "2. Manually apply the fix\n",
    "3. Commit and open a pull request\n",
    "\n",
    "### Option 2: Use `git cherry-pick`\n",
    "A faster alternative is to use Git's `cherry-pick` command:\n",
    "\n",
    "```bash\n",
    "git checkout master\n",
    "git cherry-pick < commit-id >\n",
    "```\n",
    "This command replays the changes from the given commit on the current branch (`master`).\n",
    "\n",
    "### Important Notes\n",
    "- Cherry-picked commits **create a new commit ID** (because they have a new parent)\n",
    "- Conflicts can occur; resolve them like any merge conflict\n",
    "- Best used sparingly—**prefer merging branches** when possible\n",
    "- Helps avoid reapplying the same changes manually\n",
    "\n",
    "### Why Commit Hygiene Matters\n",
    "Organizing your work into meaningful, standalone commits (e.g., `fix:` type for bug fixes) makes it easier to cherry-pick when needed. This helps you:\n",
    "- Avoid rebasing or rewriting history\n",
    "- Reuse specific changes without merging the whole feature\n",
    "\n",
    "### Final Advice\n",
    "Cherry-picking is powerful, but overusing it can clutter your Git history. Only use it when merging isn’t an option. Your team’s workflow (e.g., using PRs or merge requests) should still be followed whenever possible.\n",
    "\n",
    "> 💡 Pro Tip: Use `git log` or Git GUIs to find the exact commit hash for cherry-picking.\n",
    "\n",
    "```bash\n",
    "git log --oneline\n",
    "```\n",
    "\n",
    "Use `git cherry-pick` responsibly to keep your history clean and your team’s workflow intact.\n"
   ]
  },
  {
   "cell_type": "code",
   "execution_count": null,
   "id": "95eabab1",
   "metadata": {
    "vscode": {
     "languageId": "shellscript"
    }
   },
   "outputs": [],
   "source": []
  },
  {
   "cell_type": "markdown",
   "id": "3ae855dc",
   "metadata": {},
   "source": [
    "# #3 Stashes (pseudo-commits)"
   ]
  },
  {
   "cell_type": "code",
   "execution_count": 15,
   "id": "d44a9928",
   "metadata": {
    "vscode": {
     "languageId": "shellscript"
    }
   },
   "outputs": [],
   "source": [
    "!git branch A"
   ]
  },
  {
   "cell_type": "code",
   "execution_count": 16,
   "id": "8bc4f974",
   "metadata": {
    "vscode": {
     "languageId": "shellscript"
    }
   },
   "outputs": [],
   "source": [
    "!git branch B"
   ]
  },
  {
   "cell_type": "code",
   "execution_count": 17,
   "id": "d0605912",
   "metadata": {
    "vscode": {
     "languageId": "shellscript"
    }
   },
   "outputs": [
    {
     "name": "stdout",
     "output_type": "stream",
     "text": [
      "Switched to branch 'A'\n"
     ]
    }
   ],
   "source": [
    "!git switch A"
   ]
  },
  {
   "cell_type": "code",
   "execution_count": 18,
   "id": "1ab556a2",
   "metadata": {
    "vscode": {
     "languageId": "shellscript"
    }
   },
   "outputs": [],
   "source": [
    "!touch news_tuff.txt"
   ]
  },
  {
   "cell_type": "code",
   "execution_count": 19,
   "id": "36146156",
   "metadata": {
    "vscode": {
     "languageId": "shellscript"
    }
   },
   "outputs": [
    {
     "name": "stdout",
     "output_type": "stream",
     "text": [
      "On branch A\n",
      "Untracked files:\n",
      "  (use \"git add <file>...\" to include in what will be committed)\n",
      "\t\u001b[31mnews_tuff.txt\u001b[m\n",
      "\n",
      "nothing added to commit but untracked files present (use \"git add\" to track)\n"
     ]
    }
   ],
   "source": [
    "!git status"
   ]
  },
  {
   "cell_type": "code",
   "execution_count": 20,
   "id": "b33b29bc",
   "metadata": {
    "vscode": {
     "languageId": "shellscript"
    }
   },
   "outputs": [],
   "source": [
    "!git add ."
   ]
  },
  {
   "cell_type": "markdown",
   "id": "1f2cee1b",
   "metadata": {},
   "source": [
    "### Save uncommitted changes"
   ]
  },
  {
   "cell_type": "code",
   "execution_count": 21,
   "id": "21fe3544",
   "metadata": {
    "vscode": {
     "languageId": "shellscript"
    }
   },
   "outputs": [
    {
     "name": "stdout",
     "output_type": "stream",
     "text": [
      "Saved working directory and index state WIP on A: 750735e feat:add new feat\n"
     ]
    }
   ],
   "source": [
    "!git stash"
   ]
  },
  {
   "cell_type": "code",
   "execution_count": 22,
   "id": "0a597185",
   "metadata": {
    "vscode": {
     "languageId": "shellscript"
    }
   },
   "outputs": [
    {
     "name": "stdout",
     "output_type": "stream",
     "text": [
      "Switched to branch 'B'\n"
     ]
    }
   ],
   "source": [
    "!git switch B"
   ]
  },
  {
   "cell_type": "code",
   "execution_count": 23,
   "id": "ffaa6cb1",
   "metadata": {
    "vscode": {
     "languageId": "shellscript"
    }
   },
   "outputs": [
    {
     "name": "stdout",
     "output_type": "stream",
     "text": [
      "On branch B\n",
      "nothing to commit, working tree clean\n"
     ]
    }
   ],
   "source": [
    "!git status"
   ]
  },
  {
   "cell_type": "markdown",
   "id": "bb26233f",
   "metadata": {},
   "source": [
    "### Apply stashed changes and restore index (staged files)"
   ]
  },
  {
   "cell_type": "code",
   "execution_count": 24,
   "id": "1c02d227",
   "metadata": {
    "vscode": {
     "languageId": "shellscript"
    }
   },
   "outputs": [
    {
     "name": "stdout",
     "output_type": "stream",
     "text": [
      "On branch B\n",
      "Changes to be committed:\n",
      "  (use \"git restore --staged <file>...\" to unstage)\n",
      "\t\u001b[32mnew file:   news_tuff.txt\u001b[m\n",
      "\n",
      "Dropped refs/stash@{0} (a90638e34a91fd5af1e36b66075509affdebe5c6)\n"
     ]
    }
   ],
   "source": [
    "!git stash pop --index"
   ]
  },
  {
   "cell_type": "code",
   "execution_count": 25,
   "id": "bfaa127c",
   "metadata": {
    "vscode": {
     "languageId": "shellscript"
    }
   },
   "outputs": [
    {
     "name": "stdout",
     "output_type": "stream",
     "text": [
      "[B 99e4bac] feat: add stashed files\n",
      " 1 file changed, 0 insertions(+), 0 deletions(-)\n",
      " create mode 100644 news_tuff.txt\n"
     ]
    }
   ],
   "source": [
    "!git commit -m \"feat: add stashed files\""
   ]
  },
  {
   "cell_type": "code",
   "execution_count": 27,
   "id": "0ca4a160",
   "metadata": {
    "vscode": {
     "languageId": "shellscript"
    }
   },
   "outputs": [
    {
     "name": "stdout",
     "output_type": "stream",
     "text": [
      "news_tuff.txt  test.txt\n"
     ]
    }
   ],
   "source": [
    "ls"
   ]
  },
  {
   "cell_type": "markdown",
   "id": "ab765109",
   "metadata": {},
   "source": [
    "# #4 reflog (reference log)"
   ]
  },
  {
   "cell_type": "code",
   "execution_count": 28,
   "id": "e9a935ed",
   "metadata": {
    "vscode": {
     "languageId": "shellscript"
    }
   },
   "outputs": [
    {
     "name": "stdout",
     "output_type": "stream",
     "text": [
      "\u001b[33m99e4bac\u001b[m\u001b[33m (\u001b[m\u001b[1;36mHEAD\u001b[m\u001b[33m -> \u001b[m\u001b[1;32mB\u001b[m\u001b[33m)\u001b[m HEAD@{0}: commit: feat: add stashed files\n",
      "\u001b[33m750735e\u001b[m\u001b[33m (\u001b[m\u001b[1;33mtag: \u001b[m\u001b[1;33mv1.0\u001b[m\u001b[33m, \u001b[m\u001b[1;32mmaster\u001b[m\u001b[33m, \u001b[m\u001b[1;32mA\u001b[m\u001b[33m)\u001b[m HEAD@{1}: reset: moving to HEAD\n",
      "\u001b[33m750735e\u001b[m\u001b[33m (\u001b[m\u001b[1;33mtag: \u001b[m\u001b[1;33mv1.0\u001b[m\u001b[33m, \u001b[m\u001b[1;32mmaster\u001b[m\u001b[33m, \u001b[m\u001b[1;32mA\u001b[m\u001b[33m)\u001b[m HEAD@{2}: checkout: moving from A to B\n",
      "\u001b[33m750735e\u001b[m\u001b[33m (\u001b[m\u001b[1;33mtag: \u001b[m\u001b[1;33mv1.0\u001b[m\u001b[33m, \u001b[m\u001b[1;32mmaster\u001b[m\u001b[33m, \u001b[m\u001b[1;32mA\u001b[m\u001b[33m)\u001b[m HEAD@{3}: reset: moving to HEAD\n",
      "\u001b[33m750735e\u001b[m\u001b[33m (\u001b[m\u001b[1;33mtag: \u001b[m\u001b[1;33mv1.0\u001b[m\u001b[33m, \u001b[m\u001b[1;32mmaster\u001b[m\u001b[33m, \u001b[m\u001b[1;32mA\u001b[m\u001b[33m)\u001b[m HEAD@{4}: checkout: moving from master to A\n",
      "\u001b[33m750735e\u001b[m\u001b[33m (\u001b[m\u001b[1;33mtag: \u001b[m\u001b[1;33mv1.0\u001b[m\u001b[33m, \u001b[m\u001b[1;32mmaster\u001b[m\u001b[33m, \u001b[m\u001b[1;32mA\u001b[m\u001b[33m)\u001b[m HEAD@{5}: commit (initial): feat:add new feat\n"
     ]
    }
   ],
   "source": [
    "!git reflog"
   ]
  },
  {
   "cell_type": "markdown",
   "id": "3ce8bc82",
   "metadata": {},
   "source": [
    "# #5 rebase (another way to merge)"
   ]
  },
  {
   "cell_type": "markdown",
   "id": "59d0e6ec",
   "metadata": {},
   "source": [
    "## Merging vs. Rebasing in Git\n",
    "\n",
    "Merging combines changes from one branch into another, usually creating a **merge commit** that reflects work from both branches. For example, merging a feature branch into `master` creates a new commit that joins their histories.\n",
    "\n",
    "Rebasing is an alternative to merging. It moves the entire feature branch to start from the latest commit on the target branch (e.g., `master`). This rewrites commit history by creating new commits with the same changes but different parent commits, resulting in a **linear history**.\n",
    "\n",
    "To rebase:\n",
    "```bash\n",
    "git checkout rg/feat-a\n",
    "git rebase master\n"
   ]
  }
 ],
 "metadata": {
  "kernelspec": {
   "display_name": "Python 3",
   "language": "python",
   "name": "python3"
  },
  "language_info": {
   "codemirror_mode": {
    "name": "ipython",
    "version": 3
   },
   "file_extension": ".py",
   "mimetype": "text/x-python",
   "name": "python",
   "nbconvert_exporter": "python",
   "pygments_lexer": "ipython3",
   "version": "3.12.3"
  }
 },
 "nbformat": 4,
 "nbformat_minor": 5
}
