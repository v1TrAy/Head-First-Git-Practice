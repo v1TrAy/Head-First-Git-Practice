{
 "cells": [
  {
   "cell_type": "markdown",
   "id": "bc9801c2",
   "metadata": {},
   "source": [
    "# Chapter 6 - collaborating with Git - part II (Go, Team, Go!)"
   ]
  },
  {
   "cell_type": "markdown",
   "id": "9ba3d1e5",
   "metadata": {},
   "source": [
    "# Making two clones"
   ]
  },
  {
   "cell_type": "code",
   "execution_count": null,
   "id": "b8da3a41",
   "metadata": {
    "vscode": {
     "languageId": "shellscript"
    }
   },
   "outputs": [
    {
     "name": "stdout",
     "output_type": "stream",
     "text": [
      "/home/amin/HeadFirstGit/HeadFirstGit-Samples/ch06\n"
     ]
    }
   ],
   "source": [
    "cd HeadFirstGit/HeadFirstGit-Samples/ch06"
   ]
  },
  {
   "cell_type": "markdown",
   "id": "60781d2f",
   "metadata": {},
   "source": [
    "### Addison's Clone"
   ]
  },
  {
   "cell_type": "code",
   "execution_count": null,
   "id": "2f544d8f",
   "metadata": {
    "vscode": {
     "languageId": "shellscript"
    }
   },
   "outputs": [
    {
     "name": "stdout",
     "output_type": "stream",
     "text": [
      "fatal: could not create work tree dir 'addisons-clone': No such file or directory\n"
     ]
    }
   ],
   "source": [
    "!git clone https://github.com/v1TrAy/hawtdawg-all-ears addisons-clone"
   ]
  },
  {
   "cell_type": "markdown",
   "id": "f7ef077b",
   "metadata": {},
   "source": [
    " ### Sangitas's clone"
   ]
  },
  {
   "cell_type": "code",
   "execution_count": null,
   "id": "4316cb7b",
   "metadata": {
    "vscode": {
     "languageId": "shellscript"
    }
   },
   "outputs": [
    {
     "name": "stdout",
     "output_type": "stream",
     "text": [
      "Cloning into 'sangitas-clone'...\n",
      "remote: Enumerating objects: 6, done.\u001b[K\n",
      "remote: Counting objects: 100% (1/1), done.\u001b[K\n",
      "remote: Total 6 (delta 0), reused 1 (delta 0), pack-reused 5 (from 1)\u001b[K\n",
      "Receiving objects: 100% (6/6), done.\n"
     ]
    }
   ],
   "source": [
    "!git clone https://github.com/v1TrAy/hawtdawg-all-ears sangitas-clone"
   ]
  },
  {
   "cell_type": "code",
   "execution_count": null,
   "id": "f419e940",
   "metadata": {
    "vscode": {
     "languageId": "shellscript"
    }
   },
   "outputs": [
    {
     "name": "stdout",
     "output_type": "stream",
     "text": [
      "/home/amin/HeadFirstGit/HeadFirstGit-Samples/ch06/addisons-clone\n"
     ]
    }
   ],
   "source": [
    "cd addisons-clone"
   ]
  },
  {
   "cell_type": "code",
   "execution_count": null,
   "id": "e2165fcf",
   "metadata": {
    "vscode": {
     "languageId": "shellscript"
    }
   },
   "outputs": [
    {
     "name": "stdout",
     "output_type": "stream",
     "text": [
      "* \u001b[33m32b1d92\u001b[m\u001b[33m (\u001b[m\u001b[1;36mHEAD\u001b[m\u001b[33m -> \u001b[m\u001b[1;32mmaster\u001b[m\u001b[33m, \u001b[m\u001b[1;31morigin/master\u001b[m\u001b[33m, \u001b[m\u001b[1;31morigin/HEAD\u001b[m\u001b[33m)\u001b[m add README\n"
     ]
    }
   ],
   "source": [
    "!git log --graph --oneline --all"
   ]
  },
  {
   "cell_type": "markdown",
   "id": "c642ab2d",
   "metadata": {},
   "source": [
    "# Player 1 (Addison) changes"
   ]
  },
  {
   "cell_type": "code",
   "execution_count": null,
   "id": "cab5c6e4",
   "metadata": {
    "vscode": {
     "languageId": "shellscript"
    }
   },
   "outputs": [],
   "source": [
    "!git branch addison-first-faq"
   ]
  },
  {
   "cell_type": "code",
   "execution_count": null,
   "id": "ee912827",
   "metadata": {
    "vscode": {
     "languageId": "shellscript"
    }
   },
   "outputs": [
    {
     "name": "stdout",
     "output_type": "stream",
     "text": [
      "  addison-first-faq\u001b[m\n",
      "* \u001b[32mmaster\u001b[m\n"
     ]
    }
   ],
   "source": [
    "!git branch"
   ]
  },
  {
   "cell_type": "code",
   "execution_count": null,
   "id": "eef114ed",
   "metadata": {
    "vscode": {
     "languageId": "shellscript"
    }
   },
   "outputs": [
    {
     "name": "stdout",
     "output_type": "stream",
     "text": [
      "Switched to branch 'addison-first-faq'\n"
     ]
    }
   ],
   "source": [
    "!git switch addison-first-faq"
   ]
  },
  {
   "cell_type": "code",
   "execution_count": null,
   "id": "91a6be01",
   "metadata": {
    "vscode": {
     "languageId": "shellscript"
    }
   },
   "outputs": [
    {
     "name": "stdout",
     "output_type": "stream",
     "text": [
      "Writing FAQ.md\n"
     ]
    }
   ],
   "source": [
    "%%writefile FAQ.md\n",
    "# FAQ\n",
    "\n",
    "## How many photos can I post?\n",
    " \n",
    "We know you want to show off your fabulous furry face, so we’ve given you space to upload up to 15 photos! \n",
    "\n",
    "For those who are camera-shy, we recommend posting at least one to bring your profile some attention. \n",
    "\n",
    "Showcase your best self—whether that means a fresh-from-the-groomer glamour shot or an action shot from your last game of fetch.\n"
   ]
  },
  {
   "cell_type": "code",
   "execution_count": null,
   "id": "c7d806e5",
   "metadata": {
    "vscode": {
     "languageId": "shellscript"
    }
   },
   "outputs": [],
   "source": [
    "!git add FAQ.md"
   ]
  },
  {
   "cell_type": "code",
   "execution_count": null,
   "id": "e2660f6d",
   "metadata": {
    "vscode": {
     "languageId": "shellscript"
    }
   },
   "outputs": [
    {
     "name": "stdout",
     "output_type": "stream",
     "text": [
      "[addison-first-faq 52005d2] addison’s first commit\n",
      " 1 file changed, 9 insertions(+)\n",
      " create mode 100644 FAQ.md\n"
     ]
    }
   ],
   "source": [
    "!git commit -m \"addison’s first commit\""
   ]
  },
  {
   "cell_type": "code",
   "execution_count": null,
   "id": "b508f5c9",
   "metadata": {
    "vscode": {
     "languageId": "shellscript"
    }
   },
   "outputs": [
    {
     "name": "stdout",
     "output_type": "stream",
     "text": [
      "* \u001b[33m52005d2\u001b[m\u001b[33m (\u001b[m\u001b[1;36mHEAD\u001b[m\u001b[33m -> \u001b[m\u001b[1;32maddison-first-faq\u001b[m\u001b[33m)\u001b[m addison’s first commit\n",
      "* \u001b[33m32b1d92\u001b[m\u001b[33m (\u001b[m\u001b[1;31morigin/master\u001b[m\u001b[33m, \u001b[m\u001b[1;31morigin/HEAD\u001b[m\u001b[33m, \u001b[m\u001b[1;32mmaster\u001b[m\u001b[33m)\u001b[m add README\n"
     ]
    }
   ],
   "source": [
    "!git log --graph --oneline --all"
   ]
  },
  {
   "cell_type": "markdown",
   "id": "d2fec2d4",
   "metadata": {},
   "source": [
    "## Merge into master"
   ]
  },
  {
   "cell_type": "code",
   "execution_count": null,
   "id": "8f5c7213",
   "metadata": {
    "vscode": {
     "languageId": "shellscript"
    }
   },
   "outputs": [
    {
     "name": "stdout",
     "output_type": "stream",
     "text": [
      "Switched to branch 'master'\n",
      "Your branch is up to date with 'origin/master'.\n"
     ]
    }
   ],
   "source": [
    "!git switch master"
   ]
  },
  {
   "cell_type": "code",
   "execution_count": null,
   "id": "ab1455b3",
   "metadata": {
    "vscode": {
     "languageId": "shellscript"
    }
   },
   "outputs": [
    {
     "name": "stdout",
     "output_type": "stream",
     "text": [
      "Updating 32b1d92..52005d2\n",
      "Fast-forward\n",
      " FAQ.md | 9 \u001b[32m+++++++++\u001b[m\n",
      " 1 file changed, 9 insertions(+)\n",
      " create mode 100644 FAQ.md\n"
     ]
    }
   ],
   "source": [
    "!git merge addison-first-faq"
   ]
  },
  {
   "cell_type": "code",
   "execution_count": null,
   "id": "3931df0b",
   "metadata": {
    "vscode": {
     "languageId": "shellscript"
    }
   },
   "outputs": [
    {
     "name": "stdout",
     "output_type": "stream",
     "text": [
      "On branch master\n",
      "Your branch is ahead of 'origin/master' by 1 commit.\n",
      "  (use \"git push\" to publish your local commits)\n",
      "\n",
      "nothing to commit, working tree clean\n"
     ]
    }
   ],
   "source": [
    "!git status"
   ]
  },
  {
   "cell_type": "code",
   "execution_count": null,
   "id": "296020cc",
   "metadata": {
    "vscode": {
     "languageId": "shellscript"
    }
   },
   "outputs": [
    {
     "name": "stdout",
     "output_type": "stream",
     "text": [
      "Enumerating objects: 4, done.\n",
      "Counting objects: 100% (4/4), done.\n",
      "Delta compression using up to 4 threads\n",
      "Compressing objects: 100% (3/3), done.\n",
      "Writing objects: 100% (3/3), 539 bytes | 539.00 KiB/s, done.\n",
      "Total 3 (delta 0), reused 0 (delta 0), pack-reused 0\n",
      "To github.com:v1TrAy/hawtdawg-all-ears\n",
      "   32b1d92..52005d2  master -> master\n"
     ]
    }
   ],
   "source": [
    "!git push"
   ]
  },
  {
   "cell_type": "code",
   "execution_count": null,
   "id": "e55e3b1c",
   "metadata": {
    "vscode": {
     "languageId": "shellscript"
    }
   },
   "outputs": [
    {
     "name": "stdout",
     "output_type": "stream",
     "text": [
      "Deleted branch addison-first-faq (was 52005d2).\n"
     ]
    }
   ],
   "source": [
    "!git branch -d rm"
   ]
  },
  {
   "cell_type": "code",
   "execution_count": null,
   "id": "1e6c6ce3",
   "metadata": {
    "vscode": {
     "languageId": "shellscript"
    }
   },
   "outputs": [
    {
     "name": "stdout",
     "output_type": "stream",
     "text": [
      "* \u001b[32mmaster\u001b[m\n"
     ]
    }
   ],
   "source": [
    "!git branch"
   ]
  },
  {
   "cell_type": "markdown",
   "id": "a091a89a",
   "metadata": {},
   "source": [
    "# Player 2 (Sangita) changes"
   ]
  },
  {
   "cell_type": "code",
   "execution_count": null,
   "id": "41db5f47",
   "metadata": {
    "vscode": {
     "languageId": "shellscript"
    }
   },
   "outputs": [
    {
     "name": "stdout",
     "output_type": "stream",
     "text": [
      "/home/amin/HeadFirstGit/HeadFirstGit-Samples/ch06/sangitas-clone\n"
     ]
    }
   ],
   "source": [
    "cd ../sangitas-clone"
   ]
  },
  {
   "cell_type": "code",
   "execution_count": null,
   "id": "a91470d7",
   "metadata": {
    "vscode": {
     "languageId": "shellscript"
    }
   },
   "outputs": [
    {
     "name": "stdout",
     "output_type": "stream",
     "text": [
      "* \u001b[32mmaster\u001b[m 52005d2 [\u001b[34morigin/master\u001b[m] addison’s first commit\n"
     ]
    }
   ],
   "source": [
    "!git branch -vv"
   ]
  },
  {
   "cell_type": "code",
   "execution_count": null,
   "id": "8916f563",
   "metadata": {
    "vscode": {
     "languageId": "shellscript"
    }
   },
   "outputs": [],
   "source": [
    "!git pull"
   ]
  },
  {
   "cell_type": "code",
   "execution_count": null,
   "id": "02d2c7c6",
   "metadata": {
    "vscode": {
     "languageId": "shellscript"
    }
   },
   "outputs": [
    {
     "name": "stdout",
     "output_type": "stream",
     "text": [
      "On branch master\n",
      "Your branch is up to date with 'origin/master'.\n",
      "\n",
      "nothing to commit, working tree clean\n"
     ]
    }
   ],
   "source": [
    "!git status"
   ]
  },
  {
   "cell_type": "markdown",
   "id": "f9caa1a5",
   "metadata": {},
   "source": [
    "# Player 1: Remote tracking branches "
   ]
  },
  {
   "cell_type": "code",
   "execution_count": null,
   "id": "402d0c39",
   "metadata": {
    "vscode": {
     "languageId": "shellscript"
    }
   },
   "outputs": [
    {
     "name": "stdout",
     "output_type": "stream",
     "text": [
      "/home/amin/HeadFirstGit/HeadFirstGit-Samples/ch06/addisons-clone\n"
     ]
    }
   ],
   "source": [
    "cd ../addisons-clone"
   ]
  },
  {
   "cell_type": "code",
   "execution_count": null,
   "id": "d62be5f5",
   "metadata": {
    "vscode": {
     "languageId": "shellscript"
    }
   },
   "outputs": [
    {
     "name": "stdout",
     "output_type": "stream",
     "text": [
      "* \u001b[32mmaster\u001b[m 52005d2 [\u001b[34morigin/master\u001b[m] addison’s first commit\n"
     ]
    }
   ],
   "source": [
    "!git branch -vv"
   ]
  },
  {
   "cell_type": "code",
   "execution_count": null,
   "id": "6d132f92",
   "metadata": {
    "vscode": {
     "languageId": "shellscript"
    }
   },
   "outputs": [],
   "source": [
    "!git branch addison-add-faqs"
   ]
  },
  {
   "cell_type": "code",
   "execution_count": null,
   "id": "e68da5f5",
   "metadata": {
    "vscode": {
     "languageId": "shellscript"
    }
   },
   "outputs": [
    {
     "name": "stdout",
     "output_type": "stream",
     "text": [
      "Switched to branch 'addison-add-faqs'\n"
     ]
    }
   ],
   "source": [
    "!git switch addison-add-faqs"
   ]
  },
  {
   "cell_type": "code",
   "execution_count": null,
   "id": "50f9ae30",
   "metadata": {
    "vscode": {
     "languageId": "shellscript"
    }
   },
   "outputs": [
    {
     "name": "stdout",
     "output_type": "stream",
     "text": [
      "Overwriting FAQ.md\n"
     ]
    }
   ],
   "source": [
    "%%writefile FAQ.md\n",
    "# FAQ\n",
    "\n",
    "## How many photos can I post?\n",
    " \n",
    "We know you want to show off your fabulous furry face, so we’ve given you space to upload up to 15 photos! \n",
    "For those who are camera-shy, we recommend posting at least one to bring your profile some attention. \n",
    "Showcase your best self—whether that means a fresh-from-the-groomer glamour shot or an action shot from your last game of fetch.\n",
    "\n",
    "## Where do I list my favorite treats?\n",
    " \n",
    "Open the Hawt Dawg app and click on \"Edit Profile.\" \n",
    "Scroll down to the section called \"Passions\" and tell potential mates and friends all about the treats and toys that make your tail wag. \n",
    "When you’re done, click “Save Changes” to show the world.\n"
   ]
  },
  {
   "cell_type": "code",
   "execution_count": null,
   "id": "1592c45d",
   "metadata": {
    "vscode": {
     "languageId": "shellscript"
    }
   },
   "outputs": [
    {
     "name": "stdout",
     "output_type": "stream",
     "text": [
      "[addison-add-faqs 7a5440b] add second FAQ\n",
      " 1 file changed, 6 insertions(+), 2 deletions(-)\n"
     ]
    }
   ],
   "source": [
    "!git add FAQ.md\n",
    "!git commit -m \"add second FAQ\""
   ]
  },
  {
   "cell_type": "code",
   "execution_count": null,
   "id": "307083bf",
   "metadata": {
    "vscode": {
     "languageId": "shellscript"
    }
   },
   "outputs": [
    {
     "name": "stdout",
     "output_type": "stream",
     "text": [
      "* \u001b[32maddison-add-faqs\u001b[m 7a5440b add second FAQ\n",
      "  master          \u001b[m 52005d2 [\u001b[34morigin/master\u001b[m] addison’s first commit\n"
     ]
    }
   ],
   "source": [
    "!git branch -vv"
   ]
  },
  {
   "cell_type": "code",
   "execution_count": null,
   "id": "eaa6f705",
   "metadata": {
    "vscode": {
     "languageId": "shellscript"
    }
   },
   "outputs": [
    {
     "name": "stdout",
     "output_type": "stream",
     "text": [
      "Enumerating objects: 5, done.\n",
      "Counting objects: 100% (5/5), done.\n",
      "Delta compression using up to 4 threads\n",
      "Compressing objects: 100% (3/3), done.\n",
      "Writing objects: 100% (3/3), 527 bytes | 527.00 KiB/s, done.\n",
      "Total 3 (delta 1), reused 0 (delta 0), pack-reused 0\n",
      "remote: Resolving deltas: 100% (1/1), completed with 1 local object.\u001b[K\n",
      "remote: \n",
      "remote: Create a pull request for 'addison-add-faqs' on GitHub by visiting:\u001b[K\n",
      "remote:      https://github.com/v1TrAy/hawtdawg-all-ears/pull/new/addison-add-faqs\u001b[K\n",
      "remote: \n",
      "To github.com:v1TrAy/hawtdawg-all-ears\n",
      " * [new branch]      addison-add-faqs -> addison-add-faqs\n",
      "branch 'addison-add-faqs' set up to track 'origin/addison-add-faqs'.\n"
     ]
    }
   ],
   "source": [
    "!git push -u origin addison-add-faqs"
   ]
  },
  {
   "cell_type": "code",
   "execution_count": null,
   "id": "6b32d3a4",
   "metadata": {
    "vscode": {
     "languageId": "shellscript"
    }
   },
   "outputs": [
    {
     "name": "stdout",
     "output_type": "stream",
     "text": [
      "* \u001b[32maddison-add-faqs\u001b[m 7a5440b [\u001b[34morigin/addison-add-faqs\u001b[m] add second FAQ\n",
      "  master          \u001b[m 52005d2 [\u001b[34morigin/master\u001b[m] addison’s first commit\n"
     ]
    }
   ],
   "source": [
    "!git branch -vv"
   ]
  },
  {
   "cell_type": "markdown",
   "id": "bdc96340",
   "metadata": {},
   "source": [
    "# Player 2: Remote tracking branches "
   ]
  },
  {
   "cell_type": "code",
   "execution_count": null,
   "id": "82e747bb",
   "metadata": {
    "vscode": {
     "languageId": "shellscript"
    }
   },
   "outputs": [
    {
     "name": "stdout",
     "output_type": "stream",
     "text": [
      "/home/amin/HeadFirstGit/HeadFirstGit-Samples/ch06/sangitas-clone\n"
     ]
    }
   ],
   "source": [
    "cd ../sangitas-clone"
   ]
  },
  {
   "cell_type": "code",
   "execution_count": null,
   "id": "19d9f255",
   "metadata": {
    "vscode": {
     "languageId": "shellscript"
    }
   },
   "outputs": [
    {
     "name": "stdout",
     "output_type": "stream",
     "text": [
      "* \u001b[32mmaster\u001b[m 52005d2 [\u001b[34morigin/master\u001b[m] addison’s first commit\n"
     ]
    }
   ],
   "source": [
    "!git branch -vv"
   ]
  },
  {
   "cell_type": "code",
   "execution_count": null,
   "id": "a671ff82",
   "metadata": {
    "vscode": {
     "languageId": "shellscript"
    }
   },
   "outputs": [
    {
     "name": "stdout",
     "output_type": "stream",
     "text": [
      "Switched to a new branch 'sangita-add-profile'\n"
     ]
    }
   ],
   "source": [
    "!git switch -c sangita-add-profile"
   ]
  },
  {
   "cell_type": "code",
   "execution_count": null,
   "id": "f910b685",
   "metadata": {
    "vscode": {
     "languageId": "shellscript"
    }
   },
   "outputs": [
    {
     "name": "stdout",
     "output_type": "stream",
     "text": [
      "Writing Profile.md\n"
     ]
    }
   ],
   "source": [
    "%%writefile Profile.md\n",
    "# Profile\n",
    "\n",
    "Name: **Roland H. Hermon**\n",
    "\n",
    "Age: **3**\n",
    "\n",
    "Breed: **Beagle**\n",
    "\n",
    "Location: **Philadelphia**"
   ]
  },
  {
   "cell_type": "code",
   "execution_count": null,
   "id": "93c30659",
   "metadata": {
    "vscode": {
     "languageId": "shellscript"
    }
   },
   "outputs": [
    {
     "name": "stdout",
     "output_type": "stream",
     "text": [
      "[sangita-add-profile bd5be66] add sample profile\n",
      " 1 file changed, 9 insertions(+)\n",
      " create mode 100644 Profile.md\n"
     ]
    }
   ],
   "source": [
    "!git add Profile.md\n",
    "!git commit -m \"add sample profile \""
   ]
  },
  {
   "cell_type": "code",
   "execution_count": null,
   "id": "39416d4f",
   "metadata": {
    "vscode": {
     "languageId": "shellscript"
    }
   },
   "outputs": [
    {
     "name": "stdout",
     "output_type": "stream",
     "text": [
      "  master             \u001b[m 52005d2 [\u001b[34morigin/master\u001b[m] addison’s first commit\n",
      "* \u001b[32msangita-add-profile\u001b[m bd5be66 add sample profile\n"
     ]
    }
   ],
   "source": [
    "!git branch -vv"
   ]
  },
  {
   "cell_type": "code",
   "execution_count": null,
   "id": "1b9576a8",
   "metadata": {
    "vscode": {
     "languageId": "shellscript"
    }
   },
   "outputs": [
    {
     "name": "stdout",
     "output_type": "stream",
     "text": [
      "fatal: The current branch sangita-add-profile has no upstream branch.\n",
      "To push the current branch and set the remote as upstream, use\n",
      "\n",
      "    git push --set-upstream origin sangita-add-profile\n",
      "\n",
      "To have this happen automatically for branches without a tracking\n",
      "upstream, see 'push.autoSetupRemote' in 'git help config'.\n",
      "\n"
     ]
    }
   ],
   "source": [
    "!git push"
   ]
  },
  {
   "cell_type": "code",
   "execution_count": null,
   "id": "c6fbfa09",
   "metadata": {
    "vscode": {
     "languageId": "shellscript"
    }
   },
   "outputs": [
    {
     "name": "stdout",
     "output_type": "stream",
     "text": [
      "Enumerating objects: 4, done.\n",
      "Counting objects: 100% (4/4), done.\n",
      "Delta compression using up to 4 threads\n",
      "Compressing objects: 100% (3/3), done.\n",
      "Writing objects: 100% (3/3), 386 bytes | 386.00 KiB/s, done.\n",
      "Total 3 (delta 0), reused 0 (delta 0), pack-reused 0\n",
      "remote: \n",
      "remote: Create a pull request for 'sangita-add-profile' on GitHub by visiting:\u001b[K\n",
      "remote:      https://github.com/v1TrAy/hawtdawg-all-ears/pull/new/sangita-add-profile\u001b[K\n",
      "remote: \n",
      "To github.com:v1TrAy/hawtdawg-all-ears.git\n",
      " * [new branch]      sangita-add-profile -> sangita-add-profile\n",
      "branch 'sangita-add-profile' set up to track 'origin/sangita-add-profile'.\n"
     ]
    }
   ],
   "source": [
    "!git push --set-upstream origin sangita-add-profile"
   ]
  },
  {
   "cell_type": "code",
   "execution_count": null,
   "id": "29bc3fed",
   "metadata": {
    "vscode": {
     "languageId": "shellscript"
    }
   },
   "outputs": [
    {
     "name": "stdout",
     "output_type": "stream",
     "text": [
      "  master             \u001b[m 52005d2 [\u001b[34morigin/master\u001b[m] addison’s first commit\n",
      "* \u001b[32msangita-add-profile\u001b[m bd5be66 [\u001b[34morigin/sangita-add-profile\u001b[m] add sample profile\n"
     ]
    }
   ],
   "source": [
    "!git branch -vv"
   ]
  },
  {
   "cell_type": "markdown",
   "id": "1460390f",
   "metadata": {},
   "source": [
    "# Difference Between `git pull` and `git fetch`\n",
    "\n",
    "Both `git pull` and `git fetch` are Git commands used to sync your local repository with changes from a remote repository. However, they work differently:\n",
    "\n",
    "### `git fetch`\n",
    "- **What it does**: Downloads new data from a remote repository, but does not automatically merge it into your current branch.\n",
    "\n",
    "- **How it works**: Fetching only retrieves updates (new commits, branches, tags, etc.) from the remote and stores them in your local repository's remote-tracking branches (e.g., `origin/main`). This allows you to inspect the changes before merging them into your local working branch.\n",
    "\n",
    "- **When to use**: Use `git fetch` when you want to check what's changed in the remote repository without affecting your local working directory.\n",
    "\n",
    "\n",
    "### `git pull`\n",
    "- **What it does**: Fetches changes from the remote repository and automatically merges them into your current branch.\n",
    "\n",
    "- **How it works**: `git pull` is essentially a combination of `git fetch` followed by a `git merge`. It fetches updates from the remote and merges them into the current branch in one step.\n",
    "\n",
    "- **When to use**: Use `git pull` when you're ready to integrate the changes from the remote repository into your local branch immediately.\n",
    "\n",
    "\n",
    "### Key Difference\n",
    "- `git fetch`: Only updates remote-tracking branches without modifying your working directory.\n",
    "\n",
    "- `git pull`: Updates remote-tracking branches and merges the changes into your current working branch."
   ]
  },
  {
   "cell_type": "markdown",
   "id": "cdf98b88",
   "metadata": {},
   "source": [
    "## Player 2 Fetch\n"
   ]
  },
  {
   "cell_type": "code",
   "execution_count": null,
   "id": "3b41bb42",
   "metadata": {
    "vscode": {
     "languageId": "shellscript"
    }
   },
   "outputs": [
    {
     "name": "stdout",
     "output_type": "stream",
     "text": [
      "remote: Enumerating objects: 5, done.\u001b[K\n",
      "remote: Counting objects: 100% (5/5), done.\u001b[K\n",
      "remote: Compressing objects: 100% (3/3), done.\u001b[K\n",
      "remote: Total 3 (delta 1), reused 2 (delta 0), pack-reused 0 (from 0)\u001b[K\n",
      "Unpacking objects: 100% (3/3), 507 bytes | 507.00 KiB/s, done.\n",
      "From github.com:v1TrAy/hawtdawg-all-ears\n",
      " * [new branch]      addison-add-faqs -> origin/addison-add-faqs\n"
     ]
    }
   ],
   "source": [
    "!git fetch"
   ]
  },
  {
   "cell_type": "code",
   "execution_count": null,
   "id": "9c33aa29",
   "metadata": {
    "vscode": {
     "languageId": "shellscript"
    }
   },
   "outputs": [
    {
     "name": "stdout",
     "output_type": "stream",
     "text": [
      "  master             \u001b[m 52005d2 [\u001b[34morigin/master\u001b[m] addison’s first commit\n",
      "* \u001b[32msangita-add-profile\u001b[m bd5be66 [\u001b[34morigin/sangita-add-profile\u001b[m] add sample profile\n"
     ]
    }
   ],
   "source": [
    "!git branch -vv"
   ]
  },
  {
   "cell_type": "code",
   "execution_count": null,
   "id": "0e45b265",
   "metadata": {
    "vscode": {
     "languageId": "shellscript"
    }
   },
   "outputs": [
    {
     "name": "stdout",
     "output_type": "stream",
     "text": [
      "  master\u001b[m\n",
      "* \u001b[32msangita-add-profile\u001b[m\n",
      "  \u001b[31mremotes/origin/HEAD\u001b[m -> origin/master\n",
      "  \u001b[31mremotes/origin/addison-add-faqs\u001b[m\n",
      "  \u001b[31mremotes/origin/master\u001b[m\n",
      "  \u001b[31mremotes/origin/sangita-add-profile\u001b[m\n"
     ]
    }
   ],
   "source": [
    "!git branch -a"
   ]
  },
  {
   "cell_type": "markdown",
   "id": "822f8371",
   "metadata": {},
   "source": [
    "## Player 2 Fetch"
   ]
  },
  {
   "cell_type": "code",
   "execution_count": null,
   "id": "c1a6070a",
   "metadata": {
    "vscode": {
     "languageId": "shellscript"
    }
   },
   "outputs": [
    {
     "name": "stdout",
     "output_type": "stream",
     "text": [
      "/home/amin/HeadFirstGit/HeadFirstGit-Samples/ch06/addisons-clone\n"
     ]
    }
   ],
   "source": [
    "cd ../addisons-clone"
   ]
  },
  {
   "cell_type": "code",
   "execution_count": null,
   "id": "2ba1f7e8",
   "metadata": {
    "vscode": {
     "languageId": "shellscript"
    }
   },
   "outputs": [
    {
     "name": "stdout",
     "output_type": "stream",
     "text": [
      "* \u001b[32maddison-add-faqs\u001b[m 7a5440b [\u001b[34morigin/addison-add-faqs\u001b[m] add second FAQ\n",
      "  master          \u001b[m 52005d2 [\u001b[34morigin/master\u001b[m] addison’s first commit\n"
     ]
    }
   ],
   "source": [
    "!git branch -vv"
   ]
  },
  {
   "cell_type": "code",
   "execution_count": null,
   "id": "7c6f684f",
   "metadata": {
    "vscode": {
     "languageId": "shellscript"
    }
   },
   "outputs": [
    {
     "name": "stdout",
     "output_type": "stream",
     "text": [
      "remote: Enumerating objects: 4, done.\u001b[K\n",
      "remote: Counting objects: 100% (4/4), done.\u001b[K\n",
      "remote: Compressing objects: 100% (3/3), done.\u001b[K\n",
      "remote: Total 3 (delta 0), reused 3 (delta 0), pack-reused 0 (from 0)\u001b[K\n",
      "Unpacking objects: 100% (3/3), 366 bytes | 366.00 KiB/s, done.\n",
      "From github.com:v1TrAy/hawtdawg-all-ears\n",
      " * [new branch]      sangita-add-profile -> origin/sangita-add-profile\n"
     ]
    }
   ],
   "source": [
    "!git fetch"
   ]
  },
  {
   "cell_type": "code",
   "execution_count": null,
   "id": "29299022",
   "metadata": {
    "vscode": {
     "languageId": "shellscript"
    }
   },
   "outputs": [
    {
     "name": "stdout",
     "output_type": "stream",
     "text": [
      "* \u001b[32maddison-add-faqs\u001b[m 7a5440b [\u001b[34morigin/addison-add-faqs\u001b[m] add second FAQ\n",
      "  master          \u001b[m 52005d2 [\u001b[34morigin/master\u001b[m] addison’s first commit\n"
     ]
    }
   ],
   "source": [
    "!git branch -vv"
   ]
  },
  {
   "cell_type": "code",
   "execution_count": null,
   "id": "0b63edcd",
   "metadata": {
    "vscode": {
     "languageId": "shellscript"
    }
   },
   "outputs": [
    {
     "name": "stdout",
     "output_type": "stream",
     "text": [
      "* \u001b[32maddison-add-faqs\u001b[m\n",
      "  master\u001b[m\n",
      "  \u001b[31mremotes/origin/HEAD\u001b[m -> origin/master\n",
      "  \u001b[31mremotes/origin/addison-add-faqs\u001b[m\n",
      "  \u001b[31mremotes/origin/master\u001b[m\n",
      "  \u001b[31mremotes/origin/sangita-add-profile\u001b[m\n"
     ]
    }
   ],
   "source": [
    "!git branch -a"
   ]
  }
 ],
 "metadata": {
  "kernelspec": {
   "display_name": "Python 3",
   "language": "python",
   "name": "python3"
  },
  "language_info": {
   "codemirror_mode": {
    "name": "ipython",
    "version": 3
   },
   "file_extension": ".py",
   "mimetype": "text/x-python",
   "name": "python",
   "nbconvert_exporter": "python",
   "pygments_lexer": "ipython3",
   "version": "3.12.3"
  }
 },
 "nbformat": 4,
 "nbformat_minor": 5
}
