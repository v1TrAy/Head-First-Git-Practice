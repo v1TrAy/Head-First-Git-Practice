{
 "cells": [
  {
   "cell_type": "markdown",
   "id": "bc9801c2",
   "metadata": {},
   "source": [
    "# Chapter 6 - collaborating with Git - part II (Go, Team, Go!)"
   ]
  },
  {
   "cell_type": "markdown",
   "id": "9ba3d1e5",
   "metadata": {},
   "source": [
    "# Making two clones"
   ]
  },
  {
   "cell_type": "code",
   "execution_count": null,
   "id": "b8da3a41",
   "metadata": {
    "vscode": {
     "languageId": "shellscript"
    }
   },
   "outputs": [
    {
     "name": "stdout",
     "output_type": "stream",
     "text": [
      "/home/amin/HeadFirstGit/HeadFirstGit-Samples/ch06\n"
     ]
    }
   ],
   "source": [
    "cd HeadFirstGit/HeadFirstGit-Samples/ch06"
   ]
  },
  {
   "cell_type": "markdown",
   "id": "60781d2f",
   "metadata": {},
   "source": [
    "### Addison's Clone"
   ]
  },
  {
   "cell_type": "code",
   "execution_count": null,
   "id": "2f544d8f",
   "metadata": {
    "vscode": {
     "languageId": "shellscript"
    }
   },
   "outputs": [
    {
     "name": "stdout",
     "output_type": "stream",
     "text": [
      "fatal: could not create work tree dir 'addisons-clone': No such file or directory\n"
     ]
    }
   ],
   "source": [
    "!git clone https://github.com/v1TrAy/hawtdawg-all-ears addisons-clone"
   ]
  },
  {
   "cell_type": "markdown",
   "id": "f7ef077b",
   "metadata": {},
   "source": [
    " ### Sangitas's clone"
   ]
  },
  {
   "cell_type": "code",
   "execution_count": null,
   "id": "4316cb7b",
   "metadata": {
    "vscode": {
     "languageId": "shellscript"
    }
   },
   "outputs": [
    {
     "name": "stdout",
     "output_type": "stream",
     "text": [
      "Cloning into 'sangitas-clone'...\n",
      "remote: Enumerating objects: 6, done.\u001b[K\n",
      "remote: Counting objects: 100% (1/1), done.\u001b[K\n",
      "remote: Total 6 (delta 0), reused 1 (delta 0), pack-reused 5 (from 1)\u001b[K\n",
      "Receiving objects: 100% (6/6), done.\n"
     ]
    }
   ],
   "source": [
    "!git clone https://github.com/v1TrAy/hawtdawg-all-ears sangitas-clone"
   ]
  },
  {
   "cell_type": "code",
   "execution_count": null,
   "id": "f419e940",
   "metadata": {
    "vscode": {
     "languageId": "shellscript"
    }
   },
   "outputs": [
    {
     "name": "stdout",
     "output_type": "stream",
     "text": [
      "/home/amin/HeadFirstGit/HeadFirstGit-Samples/ch06/addisons-clone\n"
     ]
    }
   ],
   "source": [
    "cd addisons-clone"
   ]
  },
  {
   "cell_type": "code",
   "execution_count": null,
   "id": "e2165fcf",
   "metadata": {
    "vscode": {
     "languageId": "shellscript"
    }
   },
   "outputs": [
    {
     "name": "stdout",
     "output_type": "stream",
     "text": [
      "* \u001b[33m32b1d92\u001b[m\u001b[33m (\u001b[m\u001b[1;36mHEAD\u001b[m\u001b[33m -> \u001b[m\u001b[1;32mmaster\u001b[m\u001b[33m, \u001b[m\u001b[1;31morigin/master\u001b[m\u001b[33m, \u001b[m\u001b[1;31morigin/HEAD\u001b[m\u001b[33m)\u001b[m add README\n"
     ]
    }
   ],
   "source": [
    "!git log --graph --oneline --all"
   ]
  },
  {
   "cell_type": "markdown",
   "id": "c642ab2d",
   "metadata": {},
   "source": [
    "# Player 1 (Addison) changes"
   ]
  },
  {
   "cell_type": "code",
   "execution_count": null,
   "id": "cab5c6e4",
   "metadata": {
    "vscode": {
     "languageId": "shellscript"
    }
   },
   "outputs": [],
   "source": [
    "!git branch addison-first-faq"
   ]
  },
  {
   "cell_type": "code",
   "execution_count": null,
   "id": "ee912827",
   "metadata": {
    "vscode": {
     "languageId": "shellscript"
    }
   },
   "outputs": [
    {
     "name": "stdout",
     "output_type": "stream",
     "text": [
      "  addison-first-faq\u001b[m\n",
      "* \u001b[32mmaster\u001b[m\n"
     ]
    }
   ],
   "source": [
    "!git branch"
   ]
  },
  {
   "cell_type": "code",
   "execution_count": null,
   "id": "eef114ed",
   "metadata": {
    "vscode": {
     "languageId": "shellscript"
    }
   },
   "outputs": [
    {
     "name": "stdout",
     "output_type": "stream",
     "text": [
      "Switched to branch 'addison-first-faq'\n"
     ]
    }
   ],
   "source": [
    "!git switch addison-first-faq"
   ]
  },
  {
   "cell_type": "code",
   "execution_count": null,
   "id": "91a6be01",
   "metadata": {
    "vscode": {
     "languageId": "shellscript"
    }
   },
   "outputs": [
    {
     "name": "stdout",
     "output_type": "stream",
     "text": [
      "Writing FAQ.md\n"
     ]
    }
   ],
   "source": [
    "%%writefile FAQ.md\n",
    "# FAQ\n",
    "\n",
    "## How many photos can I post?\n",
    " \n",
    "We know you want to show off your fabulous furry face, so we’ve given you space to upload up to 15 photos! \n",
    "\n",
    "For those who are camera-shy, we recommend posting at least one to bring your profile some attention. \n",
    "\n",
    "Showcase your best self—whether that means a fresh-from-the-groomer glamour shot or an action shot from your last game of fetch.\n"
   ]
  },
  {
   "cell_type": "code",
   "execution_count": null,
   "id": "c7d806e5",
   "metadata": {
    "vscode": {
     "languageId": "shellscript"
    }
   },
   "outputs": [],
   "source": [
    "!git add FAQ.md"
   ]
  },
  {
   "cell_type": "code",
   "execution_count": null,
   "id": "e2660f6d",
   "metadata": {
    "vscode": {
     "languageId": "shellscript"
    }
   },
   "outputs": [
    {
     "name": "stdout",
     "output_type": "stream",
     "text": [
      "[addison-first-faq 52005d2] addison’s first commit\n",
      " 1 file changed, 9 insertions(+)\n",
      " create mode 100644 FAQ.md\n"
     ]
    }
   ],
   "source": [
    "!git commit -m \"addison’s first commit\""
   ]
  },
  {
   "cell_type": "code",
   "execution_count": null,
   "id": "b508f5c9",
   "metadata": {
    "vscode": {
     "languageId": "shellscript"
    }
   },
   "outputs": [
    {
     "name": "stdout",
     "output_type": "stream",
     "text": [
      "* \u001b[33m52005d2\u001b[m\u001b[33m (\u001b[m\u001b[1;36mHEAD\u001b[m\u001b[33m -> \u001b[m\u001b[1;32maddison-first-faq\u001b[m\u001b[33m)\u001b[m addison’s first commit\n",
      "* \u001b[33m32b1d92\u001b[m\u001b[33m (\u001b[m\u001b[1;31morigin/master\u001b[m\u001b[33m, \u001b[m\u001b[1;31morigin/HEAD\u001b[m\u001b[33m, \u001b[m\u001b[1;32mmaster\u001b[m\u001b[33m)\u001b[m add README\n"
     ]
    }
   ],
   "source": [
    "!git log --graph --oneline --all"
   ]
  },
  {
   "cell_type": "markdown",
   "id": "d2fec2d4",
   "metadata": {},
   "source": [
    "## Merge into master"
   ]
  },
  {
   "cell_type": "code",
   "execution_count": null,
   "id": "8f5c7213",
   "metadata": {
    "vscode": {
     "languageId": "shellscript"
    }
   },
   "outputs": [
    {
     "name": "stdout",
     "output_type": "stream",
     "text": [
      "Switched to branch 'master'\n",
      "Your branch is up to date with 'origin/master'.\n"
     ]
    }
   ],
   "source": [
    "!git switch master"
   ]
  },
  {
   "cell_type": "code",
   "execution_count": null,
   "id": "ab1455b3",
   "metadata": {
    "vscode": {
     "languageId": "shellscript"
    }
   },
   "outputs": [
    {
     "name": "stdout",
     "output_type": "stream",
     "text": [
      "Updating 32b1d92..52005d2\n",
      "Fast-forward\n",
      " FAQ.md | 9 \u001b[32m+++++++++\u001b[m\n",
      " 1 file changed, 9 insertions(+)\n",
      " create mode 100644 FAQ.md\n"
     ]
    }
   ],
   "source": [
    "!git merge addison-first-faq"
   ]
  },
  {
   "cell_type": "code",
   "execution_count": null,
   "id": "3931df0b",
   "metadata": {
    "vscode": {
     "languageId": "shellscript"
    }
   },
   "outputs": [
    {
     "name": "stdout",
     "output_type": "stream",
     "text": [
      "On branch master\n",
      "Your branch is ahead of 'origin/master' by 1 commit.\n",
      "  (use \"git push\" to publish your local commits)\n",
      "\n",
      "nothing to commit, working tree clean\n"
     ]
    }
   ],
   "source": [
    "!git status"
   ]
  },
  {
   "cell_type": "code",
   "execution_count": null,
   "id": "296020cc",
   "metadata": {
    "vscode": {
     "languageId": "shellscript"
    }
   },
   "outputs": [
    {
     "name": "stdout",
     "output_type": "stream",
     "text": [
      "Enumerating objects: 4, done.\n",
      "Counting objects: 100% (4/4), done.\n",
      "Delta compression using up to 4 threads\n",
      "Compressing objects: 100% (3/3), done.\n",
      "Writing objects: 100% (3/3), 539 bytes | 539.00 KiB/s, done.\n",
      "Total 3 (delta 0), reused 0 (delta 0), pack-reused 0\n",
      "To github.com:v1TrAy/hawtdawg-all-ears\n",
      "   32b1d92..52005d2  master -> master\n"
     ]
    }
   ],
   "source": [
    "!git push"
   ]
  },
  {
   "cell_type": "code",
   "execution_count": null,
   "id": "e55e3b1c",
   "metadata": {
    "vscode": {
     "languageId": "shellscript"
    }
   },
   "outputs": [
    {
     "name": "stdout",
     "output_type": "stream",
     "text": [
      "Deleted branch addison-first-faq (was 52005d2).\n"
     ]
    }
   ],
   "source": [
    "!git branch -d rm"
   ]
  },
  {
   "cell_type": "code",
   "execution_count": null,
   "id": "1e6c6ce3",
   "metadata": {
    "vscode": {
     "languageId": "shellscript"
    }
   },
   "outputs": [
    {
     "name": "stdout",
     "output_type": "stream",
     "text": [
      "* \u001b[32mmaster\u001b[m\n"
     ]
    }
   ],
   "source": [
    "!git branch"
   ]
  },
  {
   "cell_type": "markdown",
   "id": "a091a89a",
   "metadata": {},
   "source": [
    "# Player 2 (Sangita) changes"
   ]
  },
  {
   "cell_type": "code",
   "execution_count": null,
   "id": "41db5f47",
   "metadata": {
    "vscode": {
     "languageId": "shellscript"
    }
   },
   "outputs": [
    {
     "name": "stdout",
     "output_type": "stream",
     "text": [
      "/home/amin/HeadFirstGit/HeadFirstGit-Samples/ch06/sangitas-clone\n"
     ]
    }
   ],
   "source": [
    "cd ../sangitas-clone"
   ]
  },
  {
   "cell_type": "code",
   "execution_count": null,
   "id": "a91470d7",
   "metadata": {
    "vscode": {
     "languageId": "shellscript"
    }
   },
   "outputs": [
    {
     "name": "stdout",
     "output_type": "stream",
     "text": [
      "* \u001b[32mmaster\u001b[m 52005d2 [\u001b[34morigin/master\u001b[m] addison’s first commit\n"
     ]
    }
   ],
   "source": [
    "!git branch -vv"
   ]
  },
  {
   "cell_type": "code",
   "execution_count": null,
   "id": "8916f563",
   "metadata": {
    "vscode": {
     "languageId": "shellscript"
    }
   },
   "outputs": [],
   "source": [
    "!git pull"
   ]
  },
  {
   "cell_type": "code",
   "execution_count": null,
   "id": "02d2c7c6",
   "metadata": {
    "vscode": {
     "languageId": "shellscript"
    }
   },
   "outputs": [
    {
     "name": "stdout",
     "output_type": "stream",
     "text": [
      "On branch master\n",
      "Your branch is up to date with 'origin/master'.\n",
      "\n",
      "nothing to commit, working tree clean\n"
     ]
    }
   ],
   "source": [
    "!git status"
   ]
  },
  {
   "cell_type": "markdown",
   "id": "f9caa1a5",
   "metadata": {},
   "source": [
    "# Player 1: Remote tracking branches "
   ]
  },
  {
   "cell_type": "code",
   "execution_count": null,
   "id": "402d0c39",
   "metadata": {
    "vscode": {
     "languageId": "shellscript"
    }
   },
   "outputs": [
    {
     "name": "stdout",
     "output_type": "stream",
     "text": [
      "/home/amin/HeadFirstGit/HeadFirstGit-Samples/ch06/addisons-clone\n"
     ]
    }
   ],
   "source": [
    "cd ../addisons-clone"
   ]
  },
  {
   "cell_type": "code",
   "execution_count": null,
   "id": "d62be5f5",
   "metadata": {
    "vscode": {
     "languageId": "shellscript"
    }
   },
   "outputs": [
    {
     "name": "stdout",
     "output_type": "stream",
     "text": [
      "* \u001b[32mmaster\u001b[m 52005d2 [\u001b[34morigin/master\u001b[m] addison’s first commit\n"
     ]
    }
   ],
   "source": [
    "!git branch -vv"
   ]
  },
  {
   "cell_type": "code",
   "execution_count": null,
   "id": "6d132f92",
   "metadata": {
    "vscode": {
     "languageId": "shellscript"
    }
   },
   "outputs": [],
   "source": [
    "!git branch addison-add-faqs"
   ]
  },
  {
   "cell_type": "code",
   "execution_count": null,
   "id": "e68da5f5",
   "metadata": {
    "vscode": {
     "languageId": "shellscript"
    }
   },
   "outputs": [
    {
     "name": "stdout",
     "output_type": "stream",
     "text": [
      "Switched to branch 'addison-add-faqs'\n"
     ]
    }
   ],
   "source": [
    "!git switch addison-add-faqs"
   ]
  },
  {
   "cell_type": "code",
   "execution_count": null,
   "id": "50f9ae30",
   "metadata": {
    "vscode": {
     "languageId": "shellscript"
    }
   },
   "outputs": [
    {
     "name": "stdout",
     "output_type": "stream",
     "text": [
      "Overwriting FAQ.md\n"
     ]
    }
   ],
   "source": [
    "%%writefile FAQ.md\n",
    "# FAQ\n",
    "\n",
    "## How many photos can I post?\n",
    " \n",
    "We know you want to show off your fabulous furry face, so we’ve given you space to upload up to 15 photos! \n",
    "For those who are camera-shy, we recommend posting at least one to bring your profile some attention. \n",
    "Showcase your best self—whether that means a fresh-from-the-groomer glamour shot or an action shot from your last game of fetch.\n",
    "\n",
    "## Where do I list my favorite treats?\n",
    " \n",
    "Open the Hawt Dawg app and click on \"Edit Profile.\" \n",
    "Scroll down to the section called \"Passions\" and tell potential mates and friends all about the treats and toys that make your tail wag. \n",
    "When you’re done, click “Save Changes” to show the world.\n"
   ]
  },
  {
   "cell_type": "code",
   "execution_count": null,
   "id": "1592c45d",
   "metadata": {
    "vscode": {
     "languageId": "shellscript"
    }
   },
   "outputs": [
    {
     "name": "stdout",
     "output_type": "stream",
     "text": [
      "[addison-add-faqs 7a5440b] add second FAQ\n",
      " 1 file changed, 6 insertions(+), 2 deletions(-)\n"
     ]
    }
   ],
   "source": [
    "!git add FAQ.md\n",
    "!git commit -m \"add second FAQ\""
   ]
  },
  {
   "cell_type": "code",
   "execution_count": null,
   "id": "307083bf",
   "metadata": {
    "vscode": {
     "languageId": "shellscript"
    }
   },
   "outputs": [
    {
     "name": "stdout",
     "output_type": "stream",
     "text": [
      "* \u001b[32maddison-add-faqs\u001b[m 7a5440b add second FAQ\n",
      "  master          \u001b[m 52005d2 [\u001b[34morigin/master\u001b[m] addison’s first commit\n"
     ]
    }
   ],
   "source": [
    "!git branch -vv"
   ]
  },
  {
   "cell_type": "code",
   "execution_count": null,
   "id": "eaa6f705",
   "metadata": {
    "vscode": {
     "languageId": "shellscript"
    }
   },
   "outputs": [
    {
     "name": "stdout",
     "output_type": "stream",
     "text": [
      "Enumerating objects: 5, done.\n",
      "Counting objects: 100% (5/5), done.\n",
      "Delta compression using up to 4 threads\n",
      "Compressing objects: 100% (3/3), done.\n",
      "Writing objects: 100% (3/3), 527 bytes | 527.00 KiB/s, done.\n",
      "Total 3 (delta 1), reused 0 (delta 0), pack-reused 0\n",
      "remote: Resolving deltas: 100% (1/1), completed with 1 local object.\u001b[K\n",
      "remote: \n",
      "remote: Create a pull request for 'addison-add-faqs' on GitHub by visiting:\u001b[K\n",
      "remote:      https://github.com/v1TrAy/hawtdawg-all-ears/pull/new/addison-add-faqs\u001b[K\n",
      "remote: \n",
      "To github.com:v1TrAy/hawtdawg-all-ears\n",
      " * [new branch]      addison-add-faqs -> addison-add-faqs\n",
      "branch 'addison-add-faqs' set up to track 'origin/addison-add-faqs'.\n"
     ]
    }
   ],
   "source": [
    "!git push -u origin addison-add-faqs"
   ]
  },
  {
   "cell_type": "code",
   "execution_count": null,
   "id": "6b32d3a4",
   "metadata": {
    "vscode": {
     "languageId": "shellscript"
    }
   },
   "outputs": [
    {
     "name": "stdout",
     "output_type": "stream",
     "text": [
      "* \u001b[32maddison-add-faqs\u001b[m 7a5440b [\u001b[34morigin/addison-add-faqs\u001b[m] add second FAQ\n",
      "  master          \u001b[m 52005d2 [\u001b[34morigin/master\u001b[m] addison’s first commit\n"
     ]
    }
   ],
   "source": [
    "!git branch -vv"
   ]
  },
  {
   "cell_type": "markdown",
   "id": "bdc96340",
   "metadata": {},
   "source": [
    "# Player 2: Remote tracking branches "
   ]
  },
  {
   "cell_type": "code",
   "execution_count": null,
   "id": "82e747bb",
   "metadata": {
    "vscode": {
     "languageId": "shellscript"
    }
   },
   "outputs": [
    {
     "name": "stdout",
     "output_type": "stream",
     "text": [
      "/home/amin/HeadFirstGit/HeadFirstGit-Samples/ch06/sangitas-clone\n"
     ]
    }
   ],
   "source": [
    "cd ../sangitas-clone"
   ]
  },
  {
   "cell_type": "code",
   "execution_count": null,
   "id": "19d9f255",
   "metadata": {
    "vscode": {
     "languageId": "shellscript"
    }
   },
   "outputs": [
    {
     "name": "stdout",
     "output_type": "stream",
     "text": [
      "* \u001b[32mmaster\u001b[m 52005d2 [\u001b[34morigin/master\u001b[m] addison’s first commit\n"
     ]
    }
   ],
   "source": [
    "!git branch -vv"
   ]
  },
  {
   "cell_type": "code",
   "execution_count": null,
   "id": "a671ff82",
   "metadata": {
    "vscode": {
     "languageId": "shellscript"
    }
   },
   "outputs": [
    {
     "name": "stdout",
     "output_type": "stream",
     "text": [
      "Switched to a new branch 'sangita-add-profile'\n"
     ]
    }
   ],
   "source": [
    "!git switch -c sangita-add-profile"
   ]
  },
  {
   "cell_type": "code",
   "execution_count": null,
   "id": "f910b685",
   "metadata": {
    "vscode": {
     "languageId": "shellscript"
    }
   },
   "outputs": [
    {
     "name": "stdout",
     "output_type": "stream",
     "text": [
      "Writing Profile.md\n"
     ]
    }
   ],
   "source": [
    "%%writefile Profile.md\n",
    "# Profile\n",
    "\n",
    "Name: **Roland H. Hermon**\n",
    "\n",
    "Age: **3**\n",
    "\n",
    "Breed: **Beagle**\n",
    "\n",
    "Location: **Philadelphia**"
   ]
  },
  {
   "cell_type": "code",
   "execution_count": null,
   "id": "93c30659",
   "metadata": {
    "vscode": {
     "languageId": "shellscript"
    }
   },
   "outputs": [
    {
     "name": "stdout",
     "output_type": "stream",
     "text": [
      "[sangita-add-profile bd5be66] add sample profile\n",
      " 1 file changed, 9 insertions(+)\n",
      " create mode 100644 Profile.md\n"
     ]
    }
   ],
   "source": [
    "!git add Profile.md\n",
    "!git commit -m \"add sample profile \""
   ]
  },
  {
   "cell_type": "code",
   "execution_count": null,
   "id": "39416d4f",
   "metadata": {
    "vscode": {
     "languageId": "shellscript"
    }
   },
   "outputs": [
    {
     "name": "stdout",
     "output_type": "stream",
     "text": [
      "  master             \u001b[m 52005d2 [\u001b[34morigin/master\u001b[m] addison’s first commit\n",
      "* \u001b[32msangita-add-profile\u001b[m bd5be66 add sample profile\n"
     ]
    }
   ],
   "source": [
    "!git branch -vv"
   ]
  },
  {
   "cell_type": "code",
   "execution_count": null,
   "id": "1b9576a8",
   "metadata": {
    "vscode": {
     "languageId": "shellscript"
    }
   },
   "outputs": [
    {
     "name": "stdout",
     "output_type": "stream",
     "text": [
      "fatal: The current branch sangita-add-profile has no upstream branch.\n",
      "To push the current branch and set the remote as upstream, use\n",
      "\n",
      "    git push --set-upstream origin sangita-add-profile\n",
      "\n",
      "To have this happen automatically for branches without a tracking\n",
      "upstream, see 'push.autoSetupRemote' in 'git help config'.\n",
      "\n"
     ]
    }
   ],
   "source": [
    "!git push"
   ]
  },
  {
   "cell_type": "code",
   "execution_count": null,
   "id": "c6fbfa09",
   "metadata": {
    "vscode": {
     "languageId": "shellscript"
    }
   },
   "outputs": [
    {
     "name": "stdout",
     "output_type": "stream",
     "text": [
      "Enumerating objects: 4, done.\n",
      "Counting objects: 100% (4/4), done.\n",
      "Delta compression using up to 4 threads\n",
      "Compressing objects: 100% (3/3), done.\n",
      "Writing objects: 100% (3/3), 386 bytes | 386.00 KiB/s, done.\n",
      "Total 3 (delta 0), reused 0 (delta 0), pack-reused 0\n",
      "remote: \n",
      "remote: Create a pull request for 'sangita-add-profile' on GitHub by visiting:\u001b[K\n",
      "remote:      https://github.com/v1TrAy/hawtdawg-all-ears/pull/new/sangita-add-profile\u001b[K\n",
      "remote: \n",
      "To github.com:v1TrAy/hawtdawg-all-ears.git\n",
      " * [new branch]      sangita-add-profile -> sangita-add-profile\n",
      "branch 'sangita-add-profile' set up to track 'origin/sangita-add-profile'.\n"
     ]
    }
   ],
   "source": [
    "!git push --set-upstream origin sangita-add-profile"
   ]
  },
  {
   "cell_type": "code",
   "execution_count": null,
   "id": "29bc3fed",
   "metadata": {
    "vscode": {
     "languageId": "shellscript"
    }
   },
   "outputs": [
    {
     "name": "stdout",
     "output_type": "stream",
     "text": [
      "  master             \u001b[m 52005d2 [\u001b[34morigin/master\u001b[m] addison’s first commit\n",
      "* \u001b[32msangita-add-profile\u001b[m bd5be66 [\u001b[34morigin/sangita-add-profile\u001b[m] add sample profile\n"
     ]
    }
   ],
   "source": [
    "!git branch -vv"
   ]
  },
  {
   "cell_type": "markdown",
   "id": "1460390f",
   "metadata": {},
   "source": [
    "# Difference Between `git pull` and `git fetch`\n",
    "\n",
    "Both `git pull` and `git fetch` are Git commands used to sync your local repository with changes from a remote repository. However, they work differently:\n",
    "\n",
    "### `git fetch`\n",
    "- **What it does**: Downloads new data from a remote repository, but does not automatically merge it into your current branch.\n",
    "\n",
    "- **How it works**: Fetching only retrieves updates (new commits, branches, tags, etc.) from the remote and stores them in your local repository's remote-tracking branches (e.g., `origin/main`). This allows you to inspect the changes before merging them into your local working branch.\n",
    "\n",
    "- **When to use**: Use `git fetch` when you want to check what's changed in the remote repository without affecting your local working directory.\n",
    "\n",
    "\n",
    "### `git pull`\n",
    "- **What it does**: Fetches changes from the remote repository and automatically merges them into your current branch.\n",
    "\n",
    "- **How it works**: `git pull` is essentially a combination of `git fetch` followed by a `git merge`. It fetches updates from the remote and merges them into the current branch in one step.\n",
    "\n",
    "- **When to use**: Use `git pull` when you're ready to integrate the changes from the remote repository into your local branch immediately.\n",
    "\n",
    "\n",
    "### Key Difference\n",
    "- `git fetch`: Only updates remote-tracking branches without modifying your working directory.\n",
    "\n",
    "- `git pull`: Updates remote-tracking branches and merges the changes into your current working branch."
   ]
  },
  {
   "cell_type": "markdown",
   "id": "cdf98b88",
   "metadata": {},
   "source": [
    "## Player 2: Fetch\n"
   ]
  },
  {
   "cell_type": "code",
   "execution_count": null,
   "id": "3b41bb42",
   "metadata": {
    "vscode": {
     "languageId": "shellscript"
    }
   },
   "outputs": [
    {
     "name": "stdout",
     "output_type": "stream",
     "text": [
      "remote: Enumerating objects: 5, done.\u001b[K\n",
      "remote: Counting objects: 100% (5/5), done.\u001b[K\n",
      "remote: Compressing objects: 100% (3/3), done.\u001b[K\n",
      "remote: Total 3 (delta 1), reused 2 (delta 0), pack-reused 0 (from 0)\u001b[K\n",
      "Unpacking objects: 100% (3/3), 507 bytes | 507.00 KiB/s, done.\n",
      "From github.com:v1TrAy/hawtdawg-all-ears\n",
      " * [new branch]      addison-add-faqs -> origin/addison-add-faqs\n"
     ]
    }
   ],
   "source": [
    "!git fetch"
   ]
  },
  {
   "cell_type": "code",
   "execution_count": null,
   "id": "9c33aa29",
   "metadata": {
    "vscode": {
     "languageId": "shellscript"
    }
   },
   "outputs": [
    {
     "name": "stdout",
     "output_type": "stream",
     "text": [
      "  master             \u001b[m 52005d2 [\u001b[34morigin/master\u001b[m] addison’s first commit\n",
      "* \u001b[32msangita-add-profile\u001b[m bd5be66 [\u001b[34morigin/sangita-add-profile\u001b[m] add sample profile\n"
     ]
    }
   ],
   "source": [
    "!git branch -vv"
   ]
  },
  {
   "cell_type": "code",
   "execution_count": null,
   "id": "0e45b265",
   "metadata": {
    "vscode": {
     "languageId": "shellscript"
    }
   },
   "outputs": [
    {
     "name": "stdout",
     "output_type": "stream",
     "text": [
      "  master\u001b[m\n",
      "* \u001b[32msangita-add-profile\u001b[m\n",
      "  \u001b[31mremotes/origin/HEAD\u001b[m -> origin/master\n",
      "  \u001b[31mremotes/origin/addison-add-faqs\u001b[m\n",
      "  \u001b[31mremotes/origin/master\u001b[m\n",
      "  \u001b[31mremotes/origin/sangita-add-profile\u001b[m\n"
     ]
    }
   ],
   "source": [
    "!git branch -a"
   ]
  },
  {
   "cell_type": "markdown",
   "id": "822f8371",
   "metadata": {},
   "source": [
    "## Player 1: Fetch"
   ]
  },
  {
   "cell_type": "code",
   "execution_count": null,
   "id": "c1a6070a",
   "metadata": {
    "vscode": {
     "languageId": "shellscript"
    }
   },
   "outputs": [
    {
     "name": "stdout",
     "output_type": "stream",
     "text": [
      "/home/amin/HeadFirstGit/HeadFirstGit-Samples/ch06/addisons-clone\n"
     ]
    }
   ],
   "source": [
    "cd ../addisons-clone"
   ]
  },
  {
   "cell_type": "code",
   "execution_count": null,
   "id": "2ba1f7e8",
   "metadata": {
    "vscode": {
     "languageId": "shellscript"
    }
   },
   "outputs": [
    {
     "name": "stdout",
     "output_type": "stream",
     "text": [
      "* \u001b[32maddison-add-faqs\u001b[m 7a5440b [\u001b[34morigin/addison-add-faqs\u001b[m] add second FAQ\n",
      "  master          \u001b[m 52005d2 [\u001b[34morigin/master\u001b[m] addison’s first commit\n"
     ]
    }
   ],
   "source": [
    "!git branch -vv"
   ]
  },
  {
   "cell_type": "code",
   "execution_count": null,
   "id": "7c6f684f",
   "metadata": {
    "vscode": {
     "languageId": "shellscript"
    }
   },
   "outputs": [
    {
     "name": "stdout",
     "output_type": "stream",
     "text": [
      "remote: Enumerating objects: 4, done.\u001b[K\n",
      "remote: Counting objects: 100% (4/4), done.\u001b[K\n",
      "remote: Compressing objects: 100% (3/3), done.\u001b[K\n",
      "remote: Total 3 (delta 0), reused 3 (delta 0), pack-reused 0 (from 0)\u001b[K\n",
      "Unpacking objects: 100% (3/3), 366 bytes | 366.00 KiB/s, done.\n",
      "From github.com:v1TrAy/hawtdawg-all-ears\n",
      " * [new branch]      sangita-add-profile -> origin/sangita-add-profile\n"
     ]
    }
   ],
   "source": [
    "!git fetch"
   ]
  },
  {
   "cell_type": "code",
   "execution_count": null,
   "id": "29299022",
   "metadata": {
    "vscode": {
     "languageId": "shellscript"
    }
   },
   "outputs": [
    {
     "name": "stdout",
     "output_type": "stream",
     "text": [
      "* \u001b[32maddison-add-faqs\u001b[m 7a5440b [\u001b[34morigin/addison-add-faqs\u001b[m] add second FAQ\n",
      "  master          \u001b[m 52005d2 [\u001b[34morigin/master\u001b[m] addison’s first commit\n"
     ]
    }
   ],
   "source": [
    "!git branch -vv"
   ]
  },
  {
   "cell_type": "code",
   "execution_count": null,
   "id": "0b63edcd",
   "metadata": {
    "vscode": {
     "languageId": "shellscript"
    }
   },
   "outputs": [
    {
     "name": "stdout",
     "output_type": "stream",
     "text": [
      "* \u001b[32maddison-add-faqs\u001b[m\n",
      "  master\u001b[m\n",
      "  \u001b[31mremotes/origin/HEAD\u001b[m -> origin/master\n",
      "  \u001b[31mremotes/origin/addison-add-faqs\u001b[m\n",
      "  \u001b[31mremotes/origin/master\u001b[m\n",
      "  \u001b[31mremotes/origin/sangita-add-profile\u001b[m\n"
     ]
    }
   ],
   "source": [
    "!git branch -a"
   ]
  },
  {
   "cell_type": "markdown",
   "id": "de6aad63",
   "metadata": {},
   "source": [
    "# Player 1: Switch to remote branch"
   ]
  },
  {
   "cell_type": "code",
   "execution_count": null,
   "id": "60b261b9",
   "metadata": {
    "vscode": {
     "languageId": "shellscript"
    }
   },
   "outputs": [
    {
     "name": "stdout",
     "output_type": "stream",
     "text": [
      "branch 'sangita-add-profile' set up to track 'origin/sangita-add-profile'.\n",
      "Switched to a new branch 'sangita-add-profile'\n"
     ]
    }
   ],
   "source": [
    "!git switch sangita-add-profile"
   ]
  },
  {
   "cell_type": "code",
   "execution_count": null,
   "id": "5c42d6e3",
   "metadata": {
    "vscode": {
     "languageId": "shellscript"
    }
   },
   "outputs": [
    {
     "name": "stdout",
     "output_type": "stream",
     "text": [
      "  addison-add-faqs   \u001b[m 7a5440b [\u001b[34morigin/addison-add-faqs\u001b[m] add second FAQ\n",
      "  master             \u001b[m 52005d2 [\u001b[34morigin/master\u001b[m] addison’s first commit\n",
      "* \u001b[32msangita-add-profile\u001b[m bd5be66 [\u001b[34morigin/sangita-add-profile\u001b[m] add sample profile\n"
     ]
    }
   ],
   "source": [
    "!git branch -vv"
   ]
  },
  {
   "cell_type": "code",
   "execution_count": null,
   "id": "50778cf8",
   "metadata": {
    "vscode": {
     "languageId": "shellscript"
    }
   },
   "outputs": [],
   "source": [
    "!echo \"Skills: Following scent trails, digging holes, treeing squirrels, looking after small children, guarding the pack, stealing chimkin when the little humans isn't looking\" >> Profile.md"
   ]
  },
  {
   "cell_type": "code",
   "execution_count": null,
   "id": "5366eaee",
   "metadata": {
    "vscode": {
     "languageId": "shellscript"
    }
   },
   "outputs": [],
   "source": [
    "!git add Profile.md"
   ]
  },
  {
   "cell_type": "code",
   "execution_count": null,
   "id": "51cd6ff7",
   "metadata": {
    "vscode": {
     "languageId": "shellscript"
    }
   },
   "outputs": [
    {
     "name": "stdout",
     "output_type": "stream",
     "text": [
      "[sangita-add-profile 43b502e] update profile\n",
      " 1 file changed, 2 insertions(+)\n"
     ]
    }
   ],
   "source": [
    "!git commit -m \"update profile\""
   ]
  },
  {
   "cell_type": "markdown",
   "id": "e5d61c92",
   "metadata": {},
   "source": [
    "# Player 2: Add to remote branch"
   ]
  },
  {
   "cell_type": "code",
   "execution_count": null,
   "id": "e67dfd96",
   "metadata": {
    "vscode": {
     "languageId": "shellscript"
    }
   },
   "outputs": [
    {
     "name": "stdout",
     "output_type": "stream",
     "text": [
      "/home/amin/HeadFirstGit/HeadFirstGit-Samples/ch06/sangitas-clone\n"
     ]
    }
   ],
   "source": [
    "cd ../sangitas-clone"
   ]
  },
  {
   "cell_type": "code",
   "execution_count": null,
   "id": "2cc9d2ac",
   "metadata": {
    "vscode": {
     "languageId": "shellscript"
    }
   },
   "outputs": [
    {
     "name": "stdout",
     "output_type": "stream",
     "text": [
      "  master             \u001b[m 52005d2 [\u001b[34morigin/master\u001b[m] addison’s first commit\n",
      "* \u001b[32msangita-add-profile\u001b[m bd5be66 [\u001b[34morigin/sangita-add-profile\u001b[m] add sample profile\n"
     ]
    }
   ],
   "source": [
    "!git branch -vv"
   ]
  },
  {
   "cell_type": "code",
   "execution_count": null,
   "id": "0b130ad4",
   "metadata": {
    "vscode": {
     "languageId": "shellscript"
    }
   },
   "outputs": [
    {
     "name": "stdout",
     "output_type": "stream",
     "text": [
      "branch 'addison-add-faqs' set up to track 'origin/addison-add-faqs'.\n",
      "Switched to a new branch 'addison-add-faqs'\n"
     ]
    }
   ],
   "source": [
    "!git switch addison-add-faqs"
   ]
  },
  {
   "cell_type": "code",
   "execution_count": null,
   "id": "4754c5c7",
   "metadata": {
    "vscode": {
     "languageId": "shellscript"
    }
   },
   "outputs": [
    {
     "name": "stdout",
     "output_type": "stream",
     "text": [
      "* \u001b[32maddison-add-faqs   \u001b[m 7a5440b [\u001b[34morigin/addison-add-faqs\u001b[m] add second FAQ\n",
      "  master             \u001b[m 52005d2 [\u001b[34morigin/master\u001b[m] addison’s first commit\n",
      "  sangita-add-profile\u001b[m bd5be66 [\u001b[34morigin/sangita-add-profile\u001b[m] add sample profile\n"
     ]
    }
   ],
   "source": [
    "!git branch -vv"
   ]
  },
  {
   "cell_type": "code",
   "execution_count": null,
   "id": "0f292efa",
   "metadata": {
    "vscode": {
     "languageId": "shellscript"
    }
   },
   "outputs": [],
   "source": [
    "!echo -e \"## Photos are nice and all, but I don’t see very well. How can I smell the other dogs?\\n\\\n",
    "We regret that we are unable to offer our customers smell-o-vision at this time.\\n\\\n",
    "As soon as human technology catches up to dog noses, we’ll be sure to add a scent feature to the app.\\n\\\n",
    "In the meantime, why not meet up at the dog park to get a whiff of your new friend?\" >> FAQ.md\n"
   ]
  },
  {
   "cell_type": "code",
   "execution_count": null,
   "id": "8a8eca50",
   "metadata": {
    "vscode": {
     "languageId": "shellscript"
    }
   },
   "outputs": [],
   "source": [
    "!git add FAQ.md"
   ]
  },
  {
   "cell_type": "code",
   "execution_count": null,
   "id": "600e30d6",
   "metadata": {
    "vscode": {
     "languageId": "shellscript"
    }
   },
   "outputs": [
    {
     "name": "stdout",
     "output_type": "stream",
     "text": [
      "[addison-add-faqs de59477] add third FAQ\n",
      " 1 file changed, 6 insertions(+)\n"
     ]
    }
   ],
   "source": [
    "!git commit -m \"add third FAQ\""
   ]
  },
  {
   "cell_type": "markdown",
   "id": "3335ac7b",
   "metadata": {},
   "source": [
    "# Check remote branches"
   ]
  },
  {
   "cell_type": "markdown",
   "id": "bece277f",
   "metadata": {},
   "source": [
    "## Player 1"
   ]
  },
  {
   "cell_type": "code",
   "execution_count": null,
   "id": "0813df91",
   "metadata": {
    "vscode": {
     "languageId": "shellscript"
    }
   },
   "outputs": [
    {
     "name": "stdout",
     "output_type": "stream",
     "text": [
      "/home/amin/HeadFirstGit/HeadFirstGit-Samples/ch06/addisons-clone\n"
     ]
    }
   ],
   "source": [
    "cd ../addisons-clone"
   ]
  },
  {
   "cell_type": "code",
   "execution_count": null,
   "id": "f2ea5924",
   "metadata": {
    "vscode": {
     "languageId": "shellscript"
    }
   },
   "outputs": [
    {
     "name": "stdout",
     "output_type": "stream",
     "text": [
      "On branch sangita-add-profile\n",
      "Your branch is ahead of 'origin/sangita-add-profile' by 1 commit.\n",
      "  (use \"git push\" to publish your local commits)\n",
      "\n",
      "Changes not staged for commit:\n",
      "  (use \"git add <file>...\" to update what will be committed)\n",
      "  (use \"git restore <file>...\" to discard changes in working directory)\n",
      "\t\u001b[31mmodified:   FAQ.md\u001b[m\n",
      "\n",
      "no changes added to commit (use \"git add\" and/or \"git commit -a\")\n"
     ]
    }
   ],
   "source": [
    "!git status"
   ]
  },
  {
   "cell_type": "code",
   "execution_count": null,
   "id": "077cbd9a",
   "metadata": {
    "vscode": {
     "languageId": "shellscript"
    }
   },
   "outputs": [
    {
     "name": "stdout",
     "output_type": "stream",
     "text": [
      "Enumerating objects: 5, done.\n",
      "Counting objects: 100% (5/5), done.\n",
      "Delta compression using up to 4 threads\n",
      "Compressing objects: 100% (3/3), done.\n",
      "Writing objects: 100% (3/3), 487 bytes | 487.00 KiB/s, done.\n",
      "Total 3 (delta 0), reused 0 (delta 0), pack-reused 0\n",
      "To github.com:v1TrAy/hawtdawg-all-ears\n",
      "   bd5be66..43b502e  sangita-add-profile -> sangita-add-profile\n"
     ]
    }
   ],
   "source": [
    "!git push"
   ]
  },
  {
   "cell_type": "markdown",
   "id": "58d0dbe1",
   "metadata": {},
   "source": [
    "## Player 2"
   ]
  },
  {
   "cell_type": "code",
   "execution_count": null,
   "id": "6c6553c3",
   "metadata": {
    "vscode": {
     "languageId": "shellscript"
    }
   },
   "outputs": [
    {
     "name": "stdout",
     "output_type": "stream",
     "text": [
      "/home/amin/HeadFirstGit/HeadFirstGit-Samples/ch06/sangitas-clone\n"
     ]
    }
   ],
   "source": [
    "%cd ../sangitas-clone"
   ]
  },
  {
   "cell_type": "code",
   "execution_count": null,
   "id": "c16a5d4f",
   "metadata": {
    "vscode": {
     "languageId": "shellscript"
    }
   },
   "outputs": [
    {
     "name": "stdout",
     "output_type": "stream",
     "text": [
      "On branch addison-add-faqs\n",
      "Your branch is ahead of 'origin/addison-add-faqs' by 1 commit.\n",
      "  (use \"git push\" to publish your local commits)\n",
      "\n",
      "nothing to commit, working tree clean\n"
     ]
    }
   ],
   "source": [
    "!git status"
   ]
  },
  {
   "cell_type": "code",
   "execution_count": null,
   "id": "3dc3c324",
   "metadata": {
    "vscode": {
     "languageId": "shellscript"
    }
   },
   "outputs": [
    {
     "name": "stdout",
     "output_type": "stream",
     "text": [
      "Enumerating objects: 5, done.\n",
      "Counting objects: 100% (5/5), done.\n",
      "Delta compression using up to 4 threads\n",
      "Compressing objects: 100% (3/3), done.\n",
      "Writing objects: 100% (3/3), 544 bytes | 544.00 KiB/s, done.\n",
      "Total 3 (delta 1), reused 0 (delta 0), pack-reused 0\n",
      "remote: Resolving deltas: 100% (1/1), completed with 1 local object.\u001b[K\n",
      "To github.com:v1TrAy/hawtdawg-all-ears.git\n",
      "   7a5440b..de59477  addison-add-faqs -> addison-add-faqs\n",
      "branch 'addison-add-faqs' set up to track 'origin/addison-add-faqs'.\n"
     ]
    }
   ],
   "source": [
    "!git push\n"
   ]
  },
  {
   "cell_type": "code",
   "execution_count": null,
   "id": "ce438e83",
   "metadata": {
    "vscode": {
     "languageId": "shellscript"
    }
   },
   "outputs": [
    {
     "name": "stdout",
     "output_type": "stream",
     "text": [
      "On branch addison-add-faqs\n",
      "Your branch is up to date with 'origin/addison-add-faqs'.\n",
      "\n",
      "nothing to commit, working tree clean\n"
     ]
    }
   ],
   "source": [
    "!git status"
   ]
  },
  {
   "cell_type": "markdown",
   "id": "79d8b21a",
   "metadata": {},
   "source": [
    "# git pull = git fetch + git merge!"
   ]
  },
  {
   "cell_type": "markdown",
   "id": "6dee6183",
   "metadata": {},
   "source": [
    "# Catch up with the remote"
   ]
  },
  {
   "cell_type": "markdown",
   "id": "50117ef2",
   "metadata": {},
   "source": [
    "## Player 1"
   ]
  },
  {
   "cell_type": "code",
   "execution_count": null,
   "id": "230b12a5",
   "metadata": {
    "vscode": {
     "languageId": "shellscript"
    }
   },
   "outputs": [
    {
     "name": "stdout",
     "output_type": "stream",
     "text": [
      "/home/amin/HeadFirstGit/HeadFirstGit-Samples/ch06/addisons-clone\n"
     ]
    }
   ],
   "source": [
    "cd ../addisons-clone"
   ]
  },
  {
   "cell_type": "code",
   "execution_count": null,
   "id": "bbfe1d7f",
   "metadata": {
    "vscode": {
     "languageId": "shellscript"
    }
   },
   "outputs": [
    {
     "name": "stdout",
     "output_type": "stream",
     "text": [
      "  addison-add-faqs   \u001b[m 7a5440b [\u001b[34morigin/addison-add-faqs\u001b[m] add second FAQ\n",
      "  master             \u001b[m 52005d2 [\u001b[34morigin/master\u001b[m] addison’s first commit\n",
      "* \u001b[32msangita-add-profile\u001b[m 43b502e [\u001b[34morigin/sangita-add-profile\u001b[m] update profile\n"
     ]
    }
   ],
   "source": [
    "!git branch -vv"
   ]
  },
  {
   "cell_type": "code",
   "execution_count": null,
   "id": "05c9073e",
   "metadata": {
    "vscode": {
     "languageId": "shellscript"
    }
   },
   "outputs": [
    {
     "name": "stdout",
     "output_type": "stream",
     "text": [
      "remote: Enumerating objects: 3, done.\u001b[K\n",
      "remote: Counting objects: 100% (2/2), done.\u001b[K\n",
      "remote: Total 3 (delta 1), reused 2 (delta 1), pack-reused 1 (from 1)\u001b[K\n",
      "Unpacking objects: 100% (3/3), 524 bytes | 32.00 KiB/s, done.\n",
      "From github.com:v1TrAy/hawtdawg-all-ears\n",
      "   7a5440b..de59477  addison-add-faqs -> origin/addison-add-faqs\n"
     ]
    }
   ],
   "source": [
    "!git fetch"
   ]
  },
  {
   "cell_type": "code",
   "execution_count": null,
   "id": "c71998a8",
   "metadata": {
    "vscode": {
     "languageId": "shellscript"
    }
   },
   "outputs": [
    {
     "name": "stdout",
     "output_type": "stream",
     "text": [
      "On branch sangita-add-profile\n",
      "Your branch is ahead of 'origin/sangita-add-profile' by 1 commit.\n",
      "  (use \"git push\" to publish your local commits)\n",
      "\n",
      "nothing to commit, working tree clean\n"
     ]
    }
   ],
   "source": [
    "!git status"
   ]
  },
  {
   "cell_type": "code",
   "execution_count": null,
   "id": "077a60d7",
   "metadata": {
    "vscode": {
     "languageId": "shellscript"
    }
   },
   "outputs": [
    {
     "name": "stdout",
     "output_type": "stream",
     "text": [
      "Switched to branch 'addison-add-faqs'\n",
      "Your branch is behind 'origin/addison-add-faqs' by 1 commit, and can be fast-forwarded.\n",
      "  (use \"git pull\" to update your local branch)\n"
     ]
    }
   ],
   "source": [
    "!git switch addison-add-faqs"
   ]
  },
  {
   "cell_type": "code",
   "execution_count": null,
   "id": "ab6b92c6",
   "metadata": {
    "vscode": {
     "languageId": "shellscript"
    }
   },
   "outputs": [
    {
     "name": "stdout",
     "output_type": "stream",
     "text": [
      "* \u001b[32maddison-add-faqs   \u001b[m 7a5440b [\u001b[34morigin/addison-add-faqs\u001b[m: behind 1] add second FAQ\n",
      "  master             \u001b[m 52005d2 [\u001b[34morigin/master\u001b[m] addison’s first commit\n",
      "  sangita-add-profile\u001b[m adc8f08 [\u001b[34morigin/sangita-add-profile\u001b[m: ahead 1] add third FAQ\n"
     ]
    }
   ],
   "source": [
    "!git branch -vv"
   ]
  },
  {
   "cell_type": "markdown",
   "id": "f977d9e4",
   "metadata": {},
   "source": [
    "### Merge remote branch into current"
   ]
  },
  {
   "cell_type": "code",
   "execution_count": null,
   "id": "5cb8daa6",
   "metadata": {
    "vscode": {
     "languageId": "shellscript"
    }
   },
   "outputs": [
    {
     "name": "stdout",
     "output_type": "stream",
     "text": [
      "Updating 7a5440b..de59477\n",
      "Fast-forward\n",
      " FAQ.md | 6 \u001b[32m++++++\u001b[m\n",
      " 1 file changed, 6 insertions(+)\n"
     ]
    }
   ],
   "source": [
    "!git merge origin/addison-add-faqs"
   ]
  },
  {
   "cell_type": "code",
   "execution_count": null,
   "id": "49b1de7a",
   "metadata": {
    "vscode": {
     "languageId": "shellscript"
    }
   },
   "outputs": [
    {
     "name": "stdout",
     "output_type": "stream",
     "text": [
      "On branch addison-add-faqs\n",
      "Your branch is up to date with 'origin/addison-add-faqs'.\n",
      "\n",
      "nothing to commit, working tree clean\n"
     ]
    }
   ],
   "source": [
    "!git status"
   ]
  },
  {
   "cell_type": "code",
   "execution_count": null,
   "id": "3f987069",
   "metadata": {
    "vscode": {
     "languageId": "shellscript"
    }
   },
   "outputs": [
    {
     "name": "stdout",
     "output_type": "stream",
     "text": [
      "Everything up-to-date\n"
     ]
    }
   ],
   "source": [
    "!git push"
   ]
  },
  {
   "cell_type": "markdown",
   "id": "cde9c2cd",
   "metadata": {},
   "source": [
    "## Player 2"
   ]
  },
  {
   "cell_type": "code",
   "execution_count": null,
   "id": "33b39374",
   "metadata": {
    "vscode": {
     "languageId": "shellscript"
    }
   },
   "outputs": [
    {
     "name": "stdout",
     "output_type": "stream",
     "text": [
      "/home/amin/HeadFirstGit/HeadFirstGit-Samples/ch06/sangitas-clone\n"
     ]
    }
   ],
   "source": [
    "%cd ../sangitas-clone"
   ]
  },
  {
   "cell_type": "code",
   "execution_count": null,
   "id": "8b4b9d8e",
   "metadata": {
    "vscode": {
     "languageId": "shellscript"
    }
   },
   "outputs": [
    {
     "name": "stdout",
     "output_type": "stream",
     "text": [
      "remote: Enumerating objects: 3, done.\u001b[K\n",
      "remote: Counting objects: 100% (1/1), done.\u001b[K\n",
      "remote: Total 3 (delta 0), reused 1 (delta 0), pack-reused 2 (from 2)\u001b[K\n",
      "Unpacking objects: 100% (3/3), 467 bytes | 467.00 KiB/s, done.\n",
      "From github.com:v1TrAy/hawtdawg-all-ears\n",
      " * [new branch]      master              -> origin/master\n",
      " * [new branch]      sangita-add-profile -> origin/sangita-add-profile\n"
     ]
    }
   ],
   "source": [
    "!git fetch"
   ]
  },
  {
   "cell_type": "code",
   "execution_count": null,
   "id": "9559306c",
   "metadata": {
    "vscode": {
     "languageId": "shellscript"
    }
   },
   "outputs": [
    {
     "name": "stdout",
     "output_type": "stream",
     "text": [
      "On branch addison-add-faqs\n",
      "Your branch is up to date with 'origin/addison-add-faqs'.\n",
      "\n",
      "nothing to commit, working tree clean\n"
     ]
    }
   ],
   "source": [
    "!git status"
   ]
  },
  {
   "cell_type": "code",
   "execution_count": null,
   "id": "4214b986",
   "metadata": {
    "vscode": {
     "languageId": "shellscript"
    }
   },
   "outputs": [
    {
     "name": "stdout",
     "output_type": "stream",
     "text": [
      "* \u001b[32maddison-add-faqs   \u001b[m de59477 [\u001b[34morigin/addison-add-faqs\u001b[m] add third FAQ\n",
      "  master             \u001b[m 52005d2 addison’s first commit\n",
      "  sangita-add-profile\u001b[m bd5be66 add sample profile\n"
     ]
    }
   ],
   "source": [
    "!git branch -vv"
   ]
  },
  {
   "cell_type": "code",
   "execution_count": null,
   "id": "3fdbf22e",
   "metadata": {
    "vscode": {
     "languageId": "shellscript"
    }
   },
   "outputs": [
    {
     "name": "stdout",
     "output_type": "stream",
     "text": [
      "Switched to branch 'sangita-add-profile'\n"
     ]
    }
   ],
   "source": [
    "!git switch sangita-add-profile"
   ]
  },
  {
   "cell_type": "code",
   "execution_count": null,
   "id": "c8525cca",
   "metadata": {
    "vscode": {
     "languageId": "shellscript"
    }
   },
   "outputs": [
    {
     "name": "stdout",
     "output_type": "stream",
     "text": [
      "Updating bd5be66..43b502e\n",
      "Fast-forward\n",
      " Profile.md | 2 \u001b[32m++\u001b[m\n",
      " 1 file changed, 2 insertions(+)\n"
     ]
    }
   ],
   "source": [
    "!git merge origin/sangita-add-profile"
   ]
  },
  {
   "cell_type": "code",
   "execution_count": null,
   "id": "002e8b64",
   "metadata": {
    "vscode": {
     "languageId": "shellscript"
    }
   },
   "outputs": [
    {
     "name": "stdout",
     "output_type": "stream",
     "text": [
      "On branch sangita-add-profile\n",
      "nothing to commit, working tree clean\n"
     ]
    }
   ],
   "source": [
    "!git status"
   ]
  },
  {
   "cell_type": "code",
   "execution_count": null,
   "id": "66ad4969",
   "metadata": {
    "vscode": {
     "languageId": "shellscript"
    }
   },
   "outputs": [
    {
     "name": "stdout",
     "output_type": "stream",
     "text": [
      "Everything up-to-date\n"
     ]
    }
   ],
   "source": [
    "!git push\n"
   ]
  },
  {
   "cell_type": "markdown",
   "id": "9d85c0a4",
   "metadata": {},
   "source": [
    "# Cleaning up remote branches"
   ]
  },
  {
   "cell_type": "markdown",
   "id": "18202e4a",
   "metadata": {},
   "source": [
    "## Player 1"
   ]
  },
  {
   "cell_type": "code",
   "execution_count": null,
   "id": "1aeb37a0",
   "metadata": {
    "vscode": {
     "languageId": "shellscript"
    }
   },
   "outputs": [
    {
     "name": "stdout",
     "output_type": "stream",
     "text": [
      "* \u001b[32maddison-add-faqs   \u001b[m de59477 [\u001b[34morigin/addison-add-faqs\u001b[m] add third FAQ\n",
      "  master             \u001b[m 52005d2 [\u001b[34morigin/master\u001b[m] addison’s first commit\n",
      "  sangita-add-profile\u001b[m adc8f08 [\u001b[34morigin/sangita-add-profile\u001b[m: ahead 1] add third FAQ\n"
     ]
    }
   ],
   "source": [
    "!git branch -vv"
   ]
  },
  {
   "cell_type": "markdown",
   "id": "e0616b65",
   "metadata": {},
   "source": [
    "### Prune deleted remote branches"
   ]
  },
  {
   "cell_type": "code",
   "execution_count": null,
   "id": "f49ced97",
   "metadata": {
    "vscode": {
     "languageId": "shellscript"
    }
   },
   "outputs": [
    {
     "name": "stdout",
     "output_type": "stream",
     "text": [
      "From github.com:v1TrAy/hawtdawg-all-ears\n",
      " - [deleted]         (none)     -> origin/addison-add-faqs\n",
      "remote: Enumerating objects: 6, done.\u001b[K\n",
      "remote: Counting objects: 100% (6/6), done.\u001b[K\n",
      "remote: Compressing objects: 100% (3/3), done.\u001b[K\n",
      "remote: Total 3 (delta 0), reused 1 (delta 0), pack-reused 0 (from 0)\u001b[K\n",
      "Unpacking objects: 100% (3/3), 1.84 KiB | 1.84 MiB/s, done.\n",
      "   52005d2..de2f326  master     -> origin/master\n"
     ]
    }
   ],
   "source": [
    "!git fetch -p"
   ]
  },
  {
   "cell_type": "code",
   "execution_count": null,
   "id": "9230e897",
   "metadata": {
    "vscode": {
     "languageId": "shellscript"
    }
   },
   "outputs": [
    {
     "name": "stdout",
     "output_type": "stream",
     "text": [
      "* \u001b[32maddison-add-faqs   \u001b[m de59477 [\u001b[34morigin/addison-add-faqs\u001b[m: gone] add third FAQ\n",
      "  master             \u001b[m 52005d2 [\u001b[34morigin/master\u001b[m: behind 6] addison’s first commit\n",
      "  sangita-add-profile\u001b[m adc8f08 [\u001b[34morigin/sangita-add-profile\u001b[m: ahead 1] add third FAQ\n"
     ]
    }
   ],
   "source": [
    "!git branch -vv"
   ]
  },
  {
   "cell_type": "code",
   "execution_count": null,
   "id": "810549b2",
   "metadata": {
    "vscode": {
     "languageId": "shellscript"
    }
   },
   "outputs": [
    {
     "name": "stdout",
     "output_type": "stream",
     "text": [
      "Switched to branch 'master'\n",
      "Your branch is behind 'origin/master' by 6 commits, and can be fast-forwarded.\n",
      "  (use \"git pull\" to update your local branch)\n"
     ]
    }
   ],
   "source": [
    "!git switch master"
   ]
  },
  {
   "cell_type": "code",
   "execution_count": null,
   "id": "173cd3e5",
   "metadata": {
    "vscode": {
     "languageId": "shellscript"
    }
   },
   "outputs": [
    {
     "name": "stdout",
     "output_type": "stream",
     "text": [
      "Deleted branch addison-add-faqs (was de59477).\n"
     ]
    }
   ],
   "source": [
    "!git branch addison-add-faqs -D"
   ]
  },
  {
   "cell_type": "markdown",
   "id": "80d96b1c",
   "metadata": {},
   "source": [
    "## Player 2"
   ]
  },
  {
   "cell_type": "code",
   "execution_count": null,
   "id": "11e348ec",
   "metadata": {
    "vscode": {
     "languageId": "shellscript"
    }
   },
   "outputs": [
    {
     "name": "stdout",
     "output_type": "stream",
     "text": [
      "Deleted branch sangita-add-profile (was adc8f08).\n"
     ]
    }
   ],
   "source": [
    "!git branch sangita-add-profile -D"
   ]
  },
  {
   "cell_type": "code",
   "execution_count": null,
   "id": "5a4c5141",
   "metadata": {
    "vscode": {
     "languageId": "shellscript"
    }
   },
   "outputs": [
    {
     "name": "stdout",
     "output_type": "stream",
     "text": [
      "* \u001b[32mmaster\u001b[m 52005d2 [\u001b[34morigin/master\u001b[m: behind 6] addison’s first commit\n"
     ]
    }
   ],
   "source": [
    "!git branch -vv"
   ]
  },
  {
   "cell_type": "code",
   "execution_count": null,
   "id": "47242c3b",
   "metadata": {
    "vscode": {
     "languageId": "shellscript"
    }
   },
   "outputs": [
    {
     "name": "stdout",
     "output_type": "stream",
     "text": [
      "Updating 52005d2..de2f326\n",
      "Fast-forward\n",
      " FAQ.md     | 14 \u001b[32m++++++++++++\u001b[m\u001b[31m--\u001b[m\n",
      " Profile.md | 11 \u001b[32m+++++++++++\u001b[m\n",
      " 2 files changed, 23 insertions(+), 2 deletions(-)\n",
      " create mode 100644 Profile.md\n"
     ]
    }
   ],
   "source": [
    "!git merge origin/master"
   ]
  },
  {
   "cell_type": "code",
   "execution_count": null,
   "id": "e221b3cc",
   "metadata": {
    "vscode": {
     "languageId": "shellscript"
    }
   },
   "outputs": [
    {
     "name": "stdout",
     "output_type": "stream",
     "text": [
      "*   \u001b[33mde2f326\u001b[m\u001b[33m (\u001b[m\u001b[1;36mHEAD\u001b[m\u001b[33m -> \u001b[m\u001b[1;32mmaster\u001b[m\u001b[33m, \u001b[m\u001b[1;31morigin/master\u001b[m\u001b[33m, \u001b[m\u001b[1;31morigin/HEAD\u001b[m\u001b[33m)\u001b[m Merge pull request #2 from v1TrAy/sangita-add-profile\n",
      "\u001b[31m|\u001b[m\u001b[32m\\\u001b[m  \n",
      "\u001b[31m|\u001b[m * \u001b[33m43b502e\u001b[m\u001b[33m (\u001b[m\u001b[1;31morigin/sangita-add-profile\u001b[m\u001b[33m)\u001b[m update profile\n",
      "\u001b[31m|\u001b[m * \u001b[33mbd5be66\u001b[m add sample profile\n",
      "* \u001b[32m|\u001b[m   \u001b[33m6561f22\u001b[m Merge pull request #1 from v1TrAy/addison-add-faqs\n",
      "\u001b[32m|\u001b[m\u001b[34m\\\u001b[m \u001b[32m\\\u001b[m  \n",
      "\u001b[32m|\u001b[m \u001b[34m|\u001b[m\u001b[32m/\u001b[m  \n",
      "\u001b[32m|\u001b[m\u001b[32m/\u001b[m\u001b[34m|\u001b[m   \n",
      "\u001b[32m|\u001b[m * \u001b[33mde59477\u001b[m add third FAQ\n",
      "\u001b[32m|\u001b[m * \u001b[33m7a5440b\u001b[m add second FAQ\n",
      "\u001b[32m|\u001b[m\u001b[32m/\u001b[m  \n",
      "* \u001b[33m52005d2\u001b[m addison’s first commit\n",
      "* \u001b[33m32b1d92\u001b[m add README\n"
     ]
    }
   ],
   "source": [
    "!git log --graph --oneline --all"
   ]
  }
 ],
 "metadata": {
  "kernelspec": {
   "display_name": "Python 3",
   "language": "python",
   "name": "python3"
  },
  "language_info": {
   "codemirror_mode": {
    "name": "ipython",
    "version": 3
   },
   "file_extension": ".py",
   "mimetype": "text/x-python",
   "name": "python",
   "nbconvert_exporter": "python",
   "pygments_lexer": "ipython3",
   "version": "3.12.3"
  }
 },
 "nbformat": 4,
 "nbformat_minor": 5
}
