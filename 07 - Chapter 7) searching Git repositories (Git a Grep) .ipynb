{
 "cells": [
  {
   "cell_type": "markdown",
   "id": "bc9801c2",
   "metadata": {},
   "source": [
    "# Chapter 7 - searching Git repositories (Git a Grep)"
   ]
  },
  {
   "cell_type": "markdown",
   "id": "d96c082d",
   "metadata": {},
   "source": [
    "# Cloning the repo"
   ]
  },
  {
   "cell_type": "code",
   "execution_count": null,
   "id": "cbad1456",
   "metadata": {
    "vscode": {
     "languageId": "shellscript"
    }
   },
   "outputs": [
    {
     "name": "stdout",
     "output_type": "stream",
     "text": [
      "Cloning into 'gitanjali-aref-wedding-plans'...\n",
      "remote: Enumerating objects: 27, done.\u001b[K\n",
      "remote: Counting objects: 100% (13/13), done.\u001b[K\n",
      "remote: Compressing objects: 100% (8/8), done.\u001b[K\n",
      "remote: Total 27 (delta 8), reused 5 (delta 5), pack-reused 14 (from 1)\u001b[K\n",
      "Receiving objects: 100% (27/27), done.\n",
      "Resolving deltas: 100% (9/9), done.\n"
     ]
    }
   ],
   "source": [
    "!git clone https://github.com/looselytyped/gitanjali-aref-wedding-plans"
   ]
  },
  {
   "cell_type": "code",
   "execution_count": null,
   "id": "febe5b2c",
   "metadata": {
    "vscode": {
     "languageId": "shellscript"
    }
   },
   "outputs": [
    {
     "name": "stdout",
     "output_type": "stream",
     "text": [
      "/home/amin/HeadFirstGit/HeadFirstGit-Samples/ch07/gitanjali-aref-wedding-plans\n"
     ]
    }
   ],
   "source": [
    "cd gitanjali-aref-wedding-plans"
   ]
  },
  {
   "cell_type": "code",
   "execution_count": null,
   "id": "a0691fe0",
   "metadata": {
    "vscode": {
     "languageId": "shellscript"
    }
   },
   "outputs": [
    {
     "name": "stdout",
     "output_type": "stream",
     "text": [
      "* \u001b[32mmaster\u001b[m 7886bce [\u001b[34morigin/master\u001b[m] add two more appetizers\n"
     ]
    }
   ],
   "source": [
    "!git branch -vv"
   ]
  },
  {
   "cell_type": "code",
   "execution_count": null,
   "id": "f6b59c78",
   "metadata": {
    "vscode": {
     "languageId": "shellscript"
    }
   },
   "outputs": [
    {
     "name": "stdout",
     "output_type": "stream",
     "text": [
      "* \u001b[33m7886bce\u001b[m\u001b[33m (\u001b[m\u001b[1;36mHEAD\u001b[m\u001b[33m -> \u001b[m\u001b[1;32mmaster\u001b[m\u001b[33m, \u001b[m\u001b[1;31morigin/master\u001b[m\u001b[33m, \u001b[m\u001b[1;31morigin/HEAD\u001b[m\u001b[33m)\u001b[m add two more appetizers\n",
      "* \u001b[33m0b90575\u001b[m offer nonalcoholic options\n",
      "* \u001b[33mc366817\u001b[m remove Git puns and make drinks more seasonal\n",
      "* \u001b[33me9beff3\u001b[m remove nuts from all items due to allergy concerns\n",
      "* \u001b[33mb6c8c82\u001b[m replace meat dishes with vegetarian items\n",
      "* \u001b[33md36c983\u001b[m add first draft of dinner menu\n",
      "* \u001b[33m99fd56e\u001b[m add first draft of appetizer and drink menus\n",
      "* \u001b[33m6b11ec8\u001b[m add README\n"
     ]
    }
   ],
   "source": [
    "!git log -a --oneline --graph"
   ]
  },
  {
   "cell_type": "markdown",
   "id": "53ba5f08",
   "metadata": {},
   "source": [
    "# Using git blame"
   ]
  },
  {
   "cell_type": "markdown",
   "id": "2ff8806d",
   "metadata": {},
   "source": [
    "### Show line-by-line commit history for a file "
   ]
  },
  {
   "cell_type": "code",
   "execution_count": null,
   "id": "ed6b7bf6",
   "metadata": {
    "vscode": {
     "languageId": "shellscript"
    }
   },
   "outputs": [
    {
     "name": "stdout",
     "output_type": "stream",
     "text": [
      "99fd56e6 (Trinity   2021-07-05 14:01:36 -0400 1) # Gitanjali and Aref Reception: Appetizers\n",
      "99fd56e6 (Trinity   2021-07-05 14:01:36 -0400 2) \n",
      "99fd56e6 (Trinity   2021-07-05 14:01:36 -0400 3) * Herb-sprinkled stuffed mushrooms\n",
      "e9beff31 (Armstrong 2021-07-17 15:12:03 -0400 4) * Blinnis with spiced fruit chutney\n",
      "b6c8c826 (Armstrong 2021-07-13 04:25:01 -0400 5) * Mini grilled cheese sandwiches\n",
      "7886bce9 (Armstrong 2021-07-26 20:36:10 -0400 6) * Housemade sweet-potato chips topped with French onion dip\n",
      "7886bce9 (Armstrong 2021-07-26 20:36:10 -0400 7) * Jackfruit cakes with Old Bay aioli\n"
     ]
    }
   ],
   "source": [
    "!git blame appetizers.md"
   ]
  },
  {
   "cell_type": "markdown",
   "id": "7e4b13ac",
   "metadata": {},
   "source": [
    "### Blame with short commit hashes"
   ]
  },
  {
   "cell_type": "code",
   "execution_count": null,
   "id": "8f1244a6",
   "metadata": {
    "vscode": {
     "languageId": "shellscript"
    }
   },
   "outputs": [
    {
     "name": "stdout",
     "output_type": "stream",
     "text": [
      "99fd56e6 1) # Gitanjali and Aref Reception: Appetizers\n",
      "99fd56e6 2) \n",
      "99fd56e6 3) * Herb-sprinkled stuffed mushrooms\n",
      "e9beff31 4) * Blinnis with spiced fruit chutney\n",
      "b6c8c826 5) * Mini grilled cheese sandwiches\n",
      "7886bce9 6) * Housemade sweet-potato chips topped with French onion dip\n",
      "7886bce9 7) * Jackfruit cakes with Old Bay aioli\n"
     ]
    }
   ],
   "source": [
    "!git blame -s appetizers.md"
   ]
  },
  {
   "cell_type": "markdown",
   "id": "46385543",
   "metadata": {},
   "source": [
    "# Searching Git repositories with grep"
   ]
  },
  {
   "cell_type": "code",
   "execution_count": null,
   "id": "609205be",
   "metadata": {
    "vscode": {
     "languageId": "shellscript"
    }
   },
   "outputs": [
    {
     "name": "stdout",
     "output_type": "stream",
     "text": [
      "\u001b[35mREADME.md\u001b[m\u001b[36m:\u001b[mThis repository will help us manage Gitanjali and Aref's wedding night \u001b[1;31mmenu\u001b[ms. \n"
     ]
    }
   ],
   "source": [
    "!git grep menu"
   ]
  },
  {
   "cell_type": "markdown",
   "id": "287bf45a",
   "metadata": {},
   "source": [
    "### Case-insensitive search"
   ]
  },
  {
   "cell_type": "code",
   "execution_count": null,
   "id": "86b1f40d",
   "metadata": {
    "vscode": {
     "languageId": "shellscript"
    }
   },
   "outputs": [
    {
     "name": "stdout",
     "output_type": "stream",
     "text": [
      "\u001b[35mREADME.md\u001b[m\u001b[36m:\u001b[mThis repository will help us manage Gitanjali and Aref's wedding night \u001b[1;31mmenu\u001b[ms. \n",
      "\u001b[35mdinner.md\u001b[m\u001b[36m:\u001b[m# Gitanjali and Aref Reception: Dinner \u001b[1;31mMenu\u001b[m\n"
     ]
    }
   ],
   "source": [
    "!git grep -i menu"
   ]
  },
  {
   "cell_type": "markdown",
   "id": "fd754093",
   "metadata": {},
   "source": [
    "### Show line numbers in search results "
   ]
  },
  {
   "cell_type": "code",
   "execution_count": null,
   "id": "ba383d69",
   "metadata": {
    "vscode": {
     "languageId": "shellscript"
    }
   },
   "outputs": [
    {
     "name": "stdout",
     "output_type": "stream",
     "text": [
      "\u001b[35mdrinks.md\u001b[m\u001b[36m:\u001b[m\u001b[32m4\u001b[m\u001b[36m:\u001b[m  Pumpkin-spice bitters give a \u001b[1;31mfall\u001b[m feeling to this classic bourbon-vermouth cocktail \n"
     ]
    }
   ],
   "source": [
    "!git grep -i -n fall"
   ]
  },
  {
   "cell_type": "markdown",
   "id": "2283c626",
   "metadata": {},
   "source": [
    "# git log -S"
   ]
  },
  {
   "cell_type": "markdown",
   "id": "8623059c",
   "metadata": {},
   "source": [
    "### Search commits that added/removed specific string"
   ]
  },
  {
   "cell_type": "code",
   "execution_count": null,
   "id": "dd6def2a",
   "metadata": {
    "vscode": {
     "languageId": "shellscript"
    }
   },
   "outputs": [
    {
     "name": "stdout",
     "output_type": "stream",
     "text": [
      "\u001b[33mcommit 99fd56e6628bb154a64b8171f8f3af2be2f96c6e\u001b[m\n",
      "Author: Trinity <trinity@eventplannerz.com>\n",
      "Date:   Mon Jul 5 14:01:36 2021 -0400\n",
      "\n",
      "    add first draft of appetizer and drink menus\n"
     ]
    }
   ],
   "source": [
    "!git log -S classic"
   ]
  },
  {
   "cell_type": "markdown",
   "id": "012478f7",
   "metadata": {},
   "source": [
    "# Git log -p"
   ]
  },
  {
   "cell_type": "markdown",
   "id": "2e6fc48f",
   "metadata": {},
   "source": [
    "### Show commits with diffs"
   ]
  },
  {
   "cell_type": "code",
   "execution_count": null,
   "id": "89a3add2",
   "metadata": {
    "vscode": {
     "languageId": "shellscript"
    }
   },
   "outputs": [
    {
     "name": "stdout",
     "output_type": "stream",
     "text": [
      "* \u001b[33m7886bce\u001b[m\u001b[33m (\u001b[m\u001b[1;36mHEAD\u001b[m\u001b[33m -> \u001b[m\u001b[1;32mmaster\u001b[m\u001b[33m, \u001b[m\u001b[1;31morigin/master\u001b[m\u001b[33m, \u001b[m\u001b[1;31morigin/HEAD\u001b[m\u001b[33m)\u001b[m add two more appetizers\n",
      "\u001b[31m|\u001b[m \u001b[1mdiff --git a/appetizers.md b/appetizers.md\u001b[m\n",
      "\u001b[31m|\u001b[m \u001b[1mindex c963726..fcbb433 100644\u001b[m\n",
      "\u001b[31m|\u001b[m \u001b[1m--- a/appetizers.md\u001b[m\n",
      "\u001b[31m|\u001b[m \u001b[1m+++ b/appetizers.md\u001b[m\n",
      "\u001b[31m|\u001b[m \u001b[36m@@ -3,3 +3,5 @@\u001b[m\n",
      "\u001b[31m|\u001b[m  * Herb-sprinkled stuffed mushrooms\u001b[m\n",
      "\u001b[31m|\u001b[m  * Blinnis with spiced fruit chutney\u001b[m\n",
      "\u001b[31m|\u001b[m  * Mini grilled cheese sandwiches\u001b[m\n",
      "\u001b[31m|\u001b[m \u001b[32m+\u001b[m\u001b[32m* Housemade sweet-potato chips topped with French onion dip\u001b[m\n",
      "\u001b[31m|\u001b[m \u001b[32m+\u001b[m\u001b[32m* Jackfruit cakes with Old Bay aioli\u001b[m\n",
      "* \u001b[33m0b90575\u001b[m offer nonalcoholic options\n",
      "\u001b[31m|\u001b[m \u001b[1mdiff --git a/drinks.md b/drinks.md\u001b[m\n",
      "\u001b[31m|\u001b[m \u001b[1mindex 93c7e91..3b31f11 100644\u001b[m\n",
      "\u001b[31m|\u001b[m \u001b[1m--- a/drinks.md\u001b[m\n",
      "\u001b[31m|\u001b[m \u001b[1m+++ b/drinks.md\u001b[m\n",
      "\u001b[31m|\u001b[m \u001b[36m@@ -6,3 +6,5 @@\u001b[m\n",
      "\u001b[31m|\u001b[m    Champagne meets apple cider, garnished with a cinnamon-sugar rim\u001b[m\n",
      "\u001b[31m|\u001b[m  * The Log Cabin: \u001b[m\n",
      "\u001b[31m|\u001b[m    Apple brandy and maple syrup will take you on an autumn trip through our favorite couple’s history\u001b[m\n",
      "\u001b[31m|\u001b[m \u001b[32m+\u001b[m\n",
      "\u001b[31m|\u001b[m \u001b[32m+\u001b[m\u001b[32m**Nonalcoholic substitutes for all spirits are available upon request.**\u001b[m\n",
      "* \u001b[33mc366817\u001b[m remove Git puns and make drinks more seasonal\n",
      "\u001b[31m|\u001b[m \u001b[1mdiff --git a/drinks.md b/drinks.md\u001b[m\n",
      "\u001b[31m|\u001b[m \u001b[1mindex 0fcee53..93c7e91 100644\u001b[m\n",
      "\u001b[31m|\u001b[m \u001b[1m--- a/drinks.md\u001b[m\n",
      "\u001b[31m|\u001b[m \u001b[1m+++ b/drinks.md\u001b[m\n",
      "\u001b[31m|\u001b[m \u001b[36m@@ -1,8 +1,8 @@\u001b[m\n",
      "\u001b[31m|\u001b[m  # Gitanjali and Aref Reception: Signature Drinks\u001b[m\n",
      "\u001b[31m|\u001b[m  \u001b[m\n",
      "\u001b[31m|\u001b[m \u001b[31m-* The Manhattan Merge: \u001b[m\n",
      "\u001b[31m|\u001b[m \u001b[31m-  Two become one in this updated take on a classic bourbon-vermouth cocktail\u001b[m\n",
      "\u001b[31m|\u001b[m \u001b[31m-* The Git Gimlet: \u001b[m\n",
      "\u001b[31m|\u001b[m \u001b[31m-  Gitanjali’s favorite drink, with refreshing lime and juniper notes \u001b[m\n",
      "\u001b[31m|\u001b[m \u001b[31m-* The Git Log Cabin: \u001b[m\n",
      "\u001b[31m|\u001b[m \u001b[31m-  Apple brandy and maple syrup will take you on an autumn trip through our favorite couple’s history \u001b[m\n",
      "\u001b[31m|\u001b[m \u001b[32m+\u001b[m\u001b[32m* Autumn in Manhattan:\u001b[m\u001b[41m \u001b[m\n",
      "\u001b[31m|\u001b[m \u001b[32m+\u001b[m\u001b[32m  Pumpkin-spice bitters give a fall feeling to this classic bourbon-vermouth cocktail\u001b[m\u001b[41m \u001b[m\n",
      "\u001b[31m|\u001b[m \u001b[32m+\u001b[m\u001b[32m* Orchard Mimosa:\u001b[m\u001b[41m \u001b[m\n",
      "\u001b[31m|\u001b[m \u001b[32m+\u001b[m\u001b[32m  Champagne meets apple cider, garnished with a cinnamon-sugar rim\u001b[m\n",
      "\u001b[31m|\u001b[m \u001b[32m+\u001b[m\u001b[32m* The Log Cabin:\u001b[m\u001b[41m \u001b[m\n",
      "\u001b[31m|\u001b[m \u001b[32m+\u001b[m\u001b[32m  Apple brandy and maple syrup will take you on an autumn trip through our favorite couple’s history\u001b[m\n",
      "* \u001b[33me9beff3\u001b[m remove nuts from all items due to allergy concerns\n",
      "\u001b[31m|\u001b[m \u001b[1mdiff --git a/appetizers.md b/appetizers.md\u001b[m\n",
      "\u001b[31m|\u001b[m \u001b[1mindex 76b0a35..c963726 100644\u001b[m\n",
      "\u001b[31m|\u001b[m \u001b[1m--- a/appetizers.md\u001b[m\n",
      "\u001b[31m|\u001b[m \u001b[1m+++ b/appetizers.md\u001b[m\n",
      "\u001b[31m|\u001b[m \u001b[36m@@ -1,5 +1,5 @@\u001b[m\n",
      "\u001b[31m|\u001b[m  # Gitanjali and Aref Reception: Appetizers\u001b[m\n",
      "\u001b[31m|\u001b[m  \u001b[m\n",
      "\u001b[31m|\u001b[m  * Herb-sprinkled stuffed mushrooms\u001b[m\n",
      "\u001b[31m|\u001b[m \u001b[31m-* Blinnis with spiced fruit and nut chutney\u001b[m\n",
      "\u001b[31m|\u001b[m \u001b[32m+\u001b[m\u001b[32m* Blinnis with spiced fruit chutney\u001b[m\n",
      "\u001b[31m|\u001b[m  * Mini grilled cheese sandwiches\u001b[m\n",
      "\u001b[31m|\u001b[m \u001b[1mdiff --git a/dinner.md b/dinner.md\u001b[m\n",
      "\u001b[31m|\u001b[m \u001b[1mindex 64c1f6e..df5fde0 100644\u001b[m\n",
      "\u001b[31m|\u001b[m \u001b[1m--- a/dinner.md\u001b[m\n",
      "\u001b[31m|\u001b[m \u001b[1m+++ b/dinner.md\u001b[m\n",
      "\u001b[31m|\u001b[m \u001b[36m@@ -10,7 +10,7 @@\u001b[m\n",
      "\u001b[31m|\u001b[m  \u001b[m\n",
      "\u001b[31m|\u001b[m  ## Second course\u001b[m\n",
      "\u001b[31m|\u001b[m  \u001b[m\n",
      "\u001b[31m|\u001b[m \u001b[31m-* Baked kabocha squash with sunflower-walnut stuffing served with roasted cauliflower and potatoes\u001b[m\n",
      "\u001b[31m|\u001b[m \u001b[32m+\u001b[m\u001b[32m* Baked kabocha squash with herbed ciabatta stuffing served with roasted cauliflower and potatoes\u001b[m\n",
      "\u001b[31m|\u001b[m  \u001b[m\n",
      "\u001b[31m|\u001b[m  **or**\u001b[m\n",
      "\u001b[31m|\u001b[m  \u001b[m\n",
      "\u001b[31m|\u001b[m \u001b[36m@@ -22,4 +22,4 @@\u001b[m\n",
      "\u001b[31m|\u001b[m  \u001b[m\n",
      "\u001b[31m|\u001b[m  **or**\u001b[m\n",
      "\u001b[31m|\u001b[m  \u001b[m\n",
      "\u001b[31m|\u001b[m \u001b[31m-* Almond-raspberry tart\u001b[m\n",
      "\u001b[31m|\u001b[m \u001b[32m+\u001b[m\u001b[32m* Raspberry tart\u001b[m\n",
      "* \u001b[33mb6c8c82\u001b[m replace meat dishes with vegetarian items\n",
      "\u001b[31m|\u001b[m \u001b[1mdiff --git a/appetizers.md b/appetizers.md\u001b[m\n",
      "\u001b[31m|\u001b[m \u001b[1mindex ceeaf08..76b0a35 100644\u001b[m\n",
      "\u001b[31m|\u001b[m \u001b[1m--- a/appetizers.md\u001b[m\n",
      "\u001b[31m|\u001b[m \u001b[1m+++ b/appetizers.md\u001b[m\n",
      "\u001b[31m|\u001b[m \u001b[36m@@ -1,5 +1,5 @@\u001b[m\n",
      "\u001b[31m|\u001b[m  # Gitanjali and Aref Reception: Appetizers\u001b[m\n",
      "\u001b[31m|\u001b[m  \u001b[m\n",
      "\u001b[31m|\u001b[m  * Herb-sprinkled stuffed mushrooms\u001b[m\n",
      "\u001b[31m|\u001b[m \u001b[31m-* Blinis with salmon, caviar, and crème fraiche\u001b[m\n",
      "\u001b[31m|\u001b[m \u001b[31m-* Mini roast-beef sandwiches\u001b[m\n",
      "\u001b[31m|\u001b[m \u001b[32m+\u001b[m\u001b[32m* Blinnis with spiced fruit and nut chutney\u001b[m\n",
      "\u001b[31m|\u001b[m \u001b[32m+\u001b[m\u001b[32m* Mini grilled cheese sandwiches\u001b[m\n",
      "\u001b[31m|\u001b[m \u001b[1mdiff --git a/dinner.md b/dinner.md\u001b[m\n",
      "\u001b[31m|\u001b[m \u001b[1mindex 10d16ca..64c1f6e 100644\u001b[m\n",
      "\u001b[31m|\u001b[m \u001b[1m--- a/dinner.md\u001b[m\n",
      "\u001b[31m|\u001b[m \u001b[1m+++ b/dinner.md\u001b[m\n",
      "\u001b[31m|\u001b[m \u001b[36m@@ -10,11 +10,11 @@\u001b[m\n",
      "\u001b[31m|\u001b[m  \u001b[m\n",
      "\u001b[31m|\u001b[m  ## Second course\u001b[m\n",
      "\u001b[31m|\u001b[m  \u001b[m\n",
      "\u001b[31m|\u001b[m \u001b[31m-* Baked Scottish salmon with garlic crumb topping, served with roasted cauliflower and potatoes\u001b[m\n",
      "\u001b[31m|\u001b[m \u001b[32m+\u001b[m\u001b[32m* Baked kabocha squash with sunflower-walnut stuffing served with roasted cauliflower and potatoes\u001b[m\n",
      "\u001b[31m|\u001b[m  \u001b[m\n",
      "\u001b[31m|\u001b[m  **or**\u001b[m\n",
      "\u001b[31m|\u001b[m  \u001b[m\n",
      "\u001b[31m|\u001b[m \u001b[31m-* Beef tenderloin with horseradish sauce, served with a loaded baked potato and green beans\u001b[m\n",
      "\u001b[31m|\u001b[m \u001b[32m+\u001b[m\u001b[32m* Rigatoni pasta with marinara sauce, served with garlic bread and green beans\u001b[m\u001b[41m \u001b[m\n",
      "\u001b[31m|\u001b[m  \u001b[m\n",
      "\u001b[31m|\u001b[m  ## Dessert\u001b[m\n",
      "\u001b[31m|\u001b[m  \u001b[m\n",
      "* \u001b[33md36c983\u001b[m add first draft of dinner menu\n",
      "\u001b[31m|\u001b[m \u001b[1mdiff --git a/dinner.md b/dinner.md\u001b[m\n",
      "\u001b[31m|\u001b[m \u001b[1mnew file mode 100644\u001b[m\n",
      "\u001b[31m|\u001b[m \u001b[1mindex 0000000..10d16ca\u001b[m\n",
      "\u001b[31m|\u001b[m \u001b[1m--- /dev/null\u001b[m\n",
      "\u001b[31m|\u001b[m \u001b[1m+++ b/dinner.md\u001b[m\n",
      "\u001b[31m|\u001b[m \u001b[36m@@ -0,0 +1,25 @@\u001b[m\n",
      "\u001b[31m|\u001b[m \u001b[32m+\u001b[m\u001b[32m# Gitanjali and Aref Reception: Dinner Menu\u001b[m\n",
      "\u001b[31m|\u001b[m \u001b[32m+\u001b[m\n",
      "\u001b[31m|\u001b[m \u001b[32m+\u001b[m\u001b[32m## First course\u001b[m\n",
      "\u001b[31m|\u001b[m \u001b[32m+\u001b[m\n",
      "\u001b[31m|\u001b[m \u001b[32m+\u001b[m\u001b[32m* Spinach and strawberry salad with champagne dressing\u001b[m\n",
      "\u001b[31m|\u001b[m \u001b[32m+\u001b[m\n",
      "\u001b[31m|\u001b[m \u001b[32m+\u001b[m\u001b[32m**or**\u001b[m\n",
      "\u001b[31m|\u001b[m \u001b[32m+\u001b[m\n",
      "\u001b[31m|\u001b[m \u001b[32m+\u001b[m\u001b[32m* Halloumi and grapefruit salad with tahini dressing\u001b[m\n",
      "\u001b[31m|\u001b[m \u001b[32m+\u001b[m\n",
      "\u001b[31m|\u001b[m \u001b[32m+\u001b[m\u001b[32m## Second course\u001b[m\n",
      "\u001b[31m|\u001b[m \u001b[32m+\u001b[m\n",
      "\u001b[31m|\u001b[m \u001b[32m+\u001b[m\u001b[32m* Baked Scottish salmon with garlic crumb topping, served with roasted cauliflower and potatoes\u001b[m\n",
      "\u001b[31m|\u001b[m \u001b[32m+\u001b[m\n",
      "\u001b[31m|\u001b[m \u001b[32m+\u001b[m\u001b[32m**or**\u001b[m\n",
      "\u001b[31m|\u001b[m \u001b[32m+\u001b[m\n",
      "\u001b[31m|\u001b[m \u001b[32m+\u001b[m\u001b[32m* Beef tenderloin with horseradish sauce, served with a loaded baked potato and green beans\u001b[m\n",
      "\u001b[31m|\u001b[m \u001b[32m+\u001b[m\n",
      "\u001b[31m|\u001b[m \u001b[32m+\u001b[m\u001b[32m## Dessert\u001b[m\n",
      "\u001b[31m|\u001b[m \u001b[32m+\u001b[m\n",
      "\u001b[31m|\u001b[m \u001b[32m+\u001b[m\u001b[32m* Chocolate meringue pie\u001b[m\n",
      "\u001b[31m|\u001b[m \u001b[32m+\u001b[m\n",
      "\u001b[31m|\u001b[m \u001b[32m+\u001b[m\u001b[32m**or**\u001b[m\n",
      "\u001b[31m|\u001b[m \u001b[32m+\u001b[m\n",
      "\u001b[31m|\u001b[m \u001b[32m+\u001b[m\u001b[32m* Almond-raspberry tart\u001b[m\n",
      "* \u001b[33m99fd56e\u001b[m add first draft of appetizer and drink menus\n",
      "\u001b[31m|\u001b[m \u001b[1mdiff --git a/appetizers.md b/appetizers.md\u001b[m\n",
      "\u001b[31m|\u001b[m \u001b[1mnew file mode 100644\u001b[m\n",
      "\u001b[31m|\u001b[m \u001b[1mindex 0000000..ceeaf08\u001b[m\n",
      "\u001b[31m|\u001b[m \u001b[1m--- /dev/null\u001b[m\n",
      "\u001b[31m|\u001b[m \u001b[1m+++ b/appetizers.md\u001b[m\n",
      "\u001b[31m|\u001b[m \u001b[36m@@ -0,0 +1,5 @@\u001b[m\n",
      "\u001b[31m|\u001b[m \u001b[32m+\u001b[m\u001b[32m# Gitanjali and Aref Reception: Appetizers\u001b[m\n",
      "\u001b[31m|\u001b[m \u001b[32m+\u001b[m\n",
      "\u001b[31m|\u001b[m \u001b[32m+\u001b[m\u001b[32m* Herb-sprinkled stuffed mushrooms\u001b[m\n",
      "\u001b[31m|\u001b[m \u001b[32m+\u001b[m\u001b[32m* Blinis with salmon, caviar, and crème fraiche\u001b[m\n",
      "\u001b[31m|\u001b[m \u001b[32m+\u001b[m\u001b[32m* Mini roast-beef sandwiches\u001b[m\n",
      "\u001b[31m|\u001b[m \u001b[1mdiff --git a/drinks.md b/drinks.md\u001b[m\n",
      "\u001b[31m|\u001b[m \u001b[1mnew file mode 100644\u001b[m\n",
      "\u001b[31m|\u001b[m \u001b[1mindex 0000000..0fcee53\u001b[m\n",
      "\u001b[31m|\u001b[m \u001b[1m--- /dev/null\u001b[m\n",
      "\u001b[31m|\u001b[m \u001b[1m+++ b/drinks.md\u001b[m\n",
      "\u001b[31m|\u001b[m \u001b[36m@@ -0,0 +1,8 @@\u001b[m\n",
      "\u001b[31m|\u001b[m \u001b[32m+\u001b[m\u001b[32m# Gitanjali and Aref Reception: Signature Drinks\u001b[m\n",
      "\u001b[31m|\u001b[m \u001b[32m+\u001b[m\n",
      "\u001b[31m|\u001b[m \u001b[32m+\u001b[m\u001b[32m* The Manhattan Merge:\u001b[m\u001b[41m \u001b[m\n",
      "\u001b[31m|\u001b[m \u001b[32m+\u001b[m\u001b[32m  Two become one in this updated take on a classic bourbon-vermouth cocktail\u001b[m\n",
      "\u001b[31m|\u001b[m \u001b[32m+\u001b[m\u001b[32m* The Git Gimlet:\u001b[m\u001b[41m \u001b[m\n",
      "\u001b[31m|\u001b[m \u001b[32m+\u001b[m\u001b[32m  Gitanjali’s favorite drink, with refreshing lime and juniper notes\u001b[m\u001b[41m \u001b[m\n",
      "\u001b[31m|\u001b[m \u001b[32m+\u001b[m\u001b[32m* The Git Log Cabin:\u001b[m\u001b[41m \u001b[m\n",
      "\u001b[31m|\u001b[m \u001b[32m+\u001b[m\u001b[32m  Apple brandy and maple syrup will take you on an autumn trip through our favorite couple’s history\u001b[m\u001b[41m \u001b[m\n",
      "* \u001b[33m6b11ec8\u001b[m add README\n",
      "  \u001b[1mdiff --git a/README.md b/README.md\u001b[m\n",
      "  \u001b[1mnew file mode 100644\u001b[m\n",
      "  \u001b[1mindex 0000000..1ad31f5\u001b[m\n",
      "  \u001b[1m--- /dev/null\u001b[m\n",
      "  \u001b[1m+++ b/README.md\u001b[m\n",
      "  \u001b[36m@@ -0,0 +1,3 @@\u001b[m\n",
      "  \u001b[32m+\u001b[m\u001b[32m# Gitanjali/Aref wedding plans\u001b[m\n",
      "  \u001b[32m+\u001b[m\n",
      "  \u001b[32m+\u001b[m\u001b[32mThis repository will help us manage Gitanjali and Aref's wedding night menus.\u001b[m\u001b[41m \u001b[m\n"
     ]
    }
   ],
   "source": [
    "!git log --oneline --graph -a -p"
   ]
  },
  {
   "cell_type": "markdown",
   "id": "1a8ce387",
   "metadata": {},
   "source": [
    "###  Show commits with changes to \"walnut\" and their diffs"
   ]
  },
  {
   "cell_type": "code",
   "execution_count": null,
   "id": "0fcb090b",
   "metadata": {
    "vscode": {
     "languageId": "shellscript"
    }
   },
   "outputs": [
    {
     "name": "stdout",
     "output_type": "stream",
     "text": [
      "\u001b[33mcommit e9beff319ce7a28fe4abb062f50b026e70668fc4\u001b[m\n",
      "Author: Armstrong <armstrong@eventplannerz.com>\n",
      "Date:   Sat Jul 17 15:12:03 2021 -0400\n",
      "\n",
      "    remove nuts from all items due to allergy concerns\n",
      "\n",
      "\u001b[1mdiff --git a/dinner.md b/dinner.md\u001b[m\n",
      "\u001b[1mindex 64c1f6e..df5fde0 100644\u001b[m\n",
      "\u001b[1m--- a/dinner.md\u001b[m\n",
      "\u001b[1m+++ b/dinner.md\u001b[m\n",
      "\u001b[36m@@ -10,7 +10,7 @@\u001b[m\n",
      " \u001b[m\n",
      " ## Second course\u001b[m\n",
      " \u001b[m\n",
      "\u001b[31m-* Baked kabocha squash with sunflower-walnut stuffing served with roasted cauliflower and potatoes\u001b[m\n",
      "\u001b[32m+\u001b[m\u001b[32m* Baked kabocha squash with herbed ciabatta stuffing served with roasted cauliflower and potatoes\u001b[m\n",
      " \u001b[m\n",
      " **or**\u001b[m\n",
      " \u001b[m\n",
      "\u001b[36m@@ -22,4 +22,4 @@\u001b[m\n",
      " \u001b[m\n",
      " **or**\u001b[m\n",
      " \u001b[m\n",
      "\u001b[31m-* Almond-raspberry tart\u001b[m\n",
      "\u001b[32m+\u001b[m\u001b[32m* Raspberry tart\u001b[m\n",
      "\n",
      "\u001b[33mcommit b6c8c826ed98583a175ea4616ba9aad48ec0b1ad\u001b[m\n",
      "Author: Armstrong <armstrong@eventplannerz.com>\n",
      "Date:   Tue Jul 13 04:25:01 2021 -0400\n",
      "\n",
      "    replace meat dishes with vegetarian items\n",
      "\n",
      "\u001b[1mdiff --git a/dinner.md b/dinner.md\u001b[m\n",
      "\u001b[1mindex 10d16ca..64c1f6e 100644\u001b[m\n",
      "\u001b[1m--- a/dinner.md\u001b[m\n",
      "\u001b[1m+++ b/dinner.md\u001b[m\n",
      "\u001b[36m@@ -10,11 +10,11 @@\u001b[m\n",
      " \u001b[m\n",
      " ## Second course\u001b[m\n",
      " \u001b[m\n",
      "\u001b[31m-* Baked Scottish salmon with garlic crumb topping, served with roasted cauliflower and potatoes\u001b[m\n",
      "\u001b[32m+\u001b[m\u001b[32m* Baked kabocha squash with sunflower-walnut stuffing served with roasted cauliflower and potatoes\u001b[m\n",
      " \u001b[m\n",
      " **or**\u001b[m\n",
      " \u001b[m\n",
      "\u001b[31m-* Beef tenderloin with horseradish sauce, served with a loaded baked potato and green beans\u001b[m\n",
      "\u001b[32m+\u001b[m\u001b[32m* Rigatoni pasta with marinara sauce, served with garlic bread and green beans\u001b[m\u001b[41m \u001b[m\n",
      " \u001b[m\n",
      " ## Dessert\u001b[m\n",
      " \u001b[m\n"
     ]
    }
   ],
   "source": [
    "!git log -S walnut -p"
   ]
  },
  {
   "cell_type": "code",
   "execution_count": null,
   "id": "d5e9f8df",
   "metadata": {
    "vscode": {
     "languageId": "shellscript"
    }
   },
   "outputs": [
    {
     "name": "stdout",
     "output_type": "stream",
     "text": [
      "\u001b[33me9beff3\u001b[m remove nuts from all items due to allergy concerns\n",
      "\u001b[1mdiff --git a/dinner.md b/dinner.md\u001b[m\n",
      "\u001b[1mindex 64c1f6e..df5fde0 100644\u001b[m\n",
      "\u001b[1m--- a/dinner.md\u001b[m\n",
      "\u001b[1m+++ b/dinner.md\u001b[m\n",
      "\u001b[36m@@ -10,7 +10,7 @@\u001b[m\n",
      "\n",
      "## Second course\u001b[m\n",
      "\n",
      "* Baked kabocha squash with \u001b[31m[-sunflower-walnut-]\u001b[m\u001b[32m{+herbed ciabatta+}\u001b[m stuffing served with roasted cauliflower and potatoes\n",
      "\n",
      "**or**\u001b[m\n",
      "\n",
      "\u001b[36m@@ -22,4 +22,4 @@\u001b[m\n",
      "\n",
      "**or**\u001b[m\n",
      "\n",
      "* \u001b[31m[-Almond-raspberry-]\u001b[m\u001b[32m{+Raspberry+}\u001b[m tart\n",
      "\u001b[33mb6c8c82\u001b[m replace meat dishes with vegetarian items\n",
      "\u001b[1mdiff --git a/dinner.md b/dinner.md\u001b[m\n",
      "\u001b[1mindex 10d16ca..64c1f6e 100644\u001b[m\n",
      "\u001b[1m--- a/dinner.md\u001b[m\n",
      "\u001b[1m+++ b/dinner.md\u001b[m\n",
      "\u001b[36m@@ -10,11 +10,11 @@\u001b[m\n",
      "\n",
      "## Second course\u001b[m\n",
      "\n",
      "* Baked \u001b[31m[-Scottish salmon-]\u001b[m\u001b[32m{+kabocha squash+}\u001b[m with \u001b[31m[-garlic crumb topping,-]\u001b[m\u001b[32m{+sunflower-walnut stuffing+}\u001b[m served with roasted cauliflower and potatoes\n",
      "\n",
      "**or**\u001b[m\n",
      "\n",
      "* \u001b[31m[-Beef tenderloin-]\u001b[m\u001b[32m{+Rigatoni pasta+}\u001b[m with \u001b[31m[-horseradish-]\u001b[m\u001b[32m{+marinara+}\u001b[m sauce, served with \u001b[31m[-a loaded baked potato-]\u001b[m\u001b[32m{+garlic bread+}\u001b[m and green beans \n",
      "\n",
      "## Dessert\u001b[m\n",
      "\n"
     ]
    }
   ],
   "source": [
    "!git log -S walnut -p --word-diff --oneline"
   ]
  },
  {
   "cell_type": "markdown",
   "id": "386656a4",
   "metadata": {},
   "source": [
    "# Git log -G"
   ]
  },
  {
   "cell_type": "markdown",
   "id": "574113c3",
   "metadata": {},
   "source": [
    "### Search commits by regex pattern in diff"
   ]
  },
  {
   "cell_type": "code",
   "execution_count": null,
   "id": "f68cdd85",
   "metadata": {
    "vscode": {
     "languageId": "shellscript"
    }
   },
   "outputs": [
    {
     "name": "stdout",
     "output_type": "stream",
     "text": [
      "\u001b[33mc366817\u001b[m remove Git puns and make drinks more seasonal\n",
      "\u001b[1mdiff --git a/drinks.md b/drinks.md\u001b[m\n",
      "\u001b[1mindex 0fcee53..93c7e91 100644\u001b[m\n",
      "\u001b[1m--- a/drinks.md\u001b[m\n",
      "\u001b[1m+++ b/drinks.md\u001b[m\n",
      "\u001b[36m@@ -1,8 +1,8 @@\u001b[m\n",
      "# Gitanjali and Aref Reception: Signature Drinks\u001b[m\n",
      "\n",
      "* \u001b[31m[-The Manhattan Merge: -]\u001b[m\n",
      "\u001b[31m[-  Two become one-]\u001b[m\u001b[32m{+Autumn+}\u001b[m in \u001b[31m[-this updated take on-]\u001b[m\u001b[32m{+Manhattan: +}\u001b[m\n",
      "\u001b[32m{+  Pumpkin-spice bitters give+}\u001b[m a \u001b[32m{+fall feeling to this+}\u001b[m classic bourbon-vermouth cocktail \n",
      "* \u001b[31m[-The Git Gimlet: -]\u001b[m\n",
      "\u001b[31m[-  Gitanjali’s favorite drink,-]\u001b[m\u001b[32m{+Orchard Mimosa: +}\u001b[m\n",
      "\u001b[32m{+  Champagne meets apple cider, garnished+}\u001b[m with \u001b[31m[-refreshing lime and juniper notes-]\u001b[m\u001b[32m{+a cinnamon-sugar rim+}\u001b[m\n",
      "* The\u001b[31m[-Git-]\u001b[m Log Cabin: \n",
      "  Apple brandy and maple syrup will take you on an autumn trip through our favorite couple’s history\n",
      "\u001b[33m99fd56e\u001b[m add first draft of appetizer and drink menus\n",
      "\u001b[1mdiff --git a/drinks.md b/drinks.md\u001b[m\n",
      "\u001b[1mnew file mode 100644\u001b[m\n",
      "\u001b[1mindex 0000000..0fcee53\u001b[m\n",
      "\u001b[1m--- /dev/null\u001b[m\n",
      "\u001b[1m+++ b/drinks.md\u001b[m\n",
      "\u001b[36m@@ -0,0 +1,8 @@\u001b[m\n",
      "\u001b[32m{+# Gitanjali and Aref Reception: Signature Drinks+}\u001b[m\n",
      "\n",
      "\u001b[32m{+* The Manhattan Merge: +}\u001b[m\n",
      "\u001b[32m{+  Two become one in this updated take on a classic bourbon-vermouth cocktail+}\u001b[m\n",
      "\u001b[32m{+* The Git Gimlet: +}\u001b[m\n",
      "\u001b[32m{+  Gitanjali’s favorite drink, with refreshing lime and juniper notes +}\u001b[m\n",
      "\u001b[32m{+* The Git Log Cabin: +}\u001b[m\n",
      "\u001b[32m{+  Apple brandy and maple syrup will take you on an autumn trip through our favorite couple’s history+}\u001b[m \n"
     ]
    }
   ],
   "source": [
    "!git log -p --oneline -G classic --word-diff"
   ]
  },
  {
   "cell_type": "code",
   "execution_count": null,
   "id": "fb6b9d86",
   "metadata": {
    "vscode": {
     "languageId": "shellscript"
    }
   },
   "outputs": [
    {
     "name": "stdout",
     "output_type": "stream",
     "text": [
      "\u001b[33mcommit 99fd56e6628bb154a64b8171f8f3af2be2f96c6e\u001b[m\n",
      "Author: Trinity <trinity@eventplannerz.com>\n",
      "Date:   Mon Jul 5 14:01:36 2021 -0400\n",
      "\n",
      "    add first draft of appetizer and drink menus\n",
      "\n",
      "\u001b[1mdiff --git a/drinks.md b/drinks.md\u001b[m\n",
      "\u001b[1mnew file mode 100644\u001b[m\n",
      "\u001b[1mindex 0000000..0fcee53\u001b[m\n",
      "\u001b[1m--- /dev/null\u001b[m\n",
      "\u001b[1m+++ b/drinks.md\u001b[m\n",
      "\u001b[36m@@ -0,0 +1,8 @@\u001b[m\n",
      "\u001b[32m{+# Gitanjali and Aref Reception: Signature Drinks+}\u001b[m\n",
      "\n",
      "\u001b[32m{+* The Manhattan Merge: +}\u001b[m\n",
      "\u001b[32m{+  Two become one in this updated take on a classic bourbon-vermouth cocktail+}\u001b[m\n",
      "\u001b[32m{+* The Git Gimlet: +}\u001b[m\n",
      "\u001b[32m{+  Gitanjali’s favorite drink, with refreshing lime and juniper notes +}\u001b[m\n",
      "\u001b[32m{+* The Git Log Cabin: +}\u001b[m\n",
      "\u001b[32m{+  Apple brandy and maple syrup will take you on an autumn trip through our favorite couple’s history+}\u001b[m \n"
     ]
    }
   ],
   "source": [
    "!git log -p -S classic --word-diff"
   ]
  },
  {
   "cell_type": "markdown",
   "id": "3b036d7c",
   "metadata": {},
   "source": [
    "# Searching commit messages\n",
    "## --grep"
   ]
  },
  {
   "cell_type": "code",
   "execution_count": null,
   "id": "907ed6e4",
   "metadata": {
    "vscode": {
     "languageId": "shellscript"
    }
   },
   "outputs": [
    {
     "name": "stdout",
     "output_type": "stream",
     "text": [
      "\u001b[33mcommit d36c9830823a17c42025713dcbc3bc29bbb4ce36\u001b[m\n",
      "Author: Trinity <trinity@eventplannerz.com>\n",
      "Date:   Sat Jul 10 12:38:23 2021 -0400\n",
      "\n",
      "    add first draft of dinner \u001b[1;31mmenu\u001b[m\n",
      "\n",
      "\u001b[33mcommit 99fd56e6628bb154a64b8171f8f3af2be2f96c6e\u001b[m\n",
      "Author: Trinity <trinity@eventplannerz.com>\n",
      "Date:   Mon Jul 5 14:01:36 2021 -0400\n",
      "\n",
      "    add first draft of appetizer and drink \u001b[1;31mmenu\u001b[ms\n"
     ]
    }
   ],
   "source": [
    "!git log --grep menu"
   ]
  },
  {
   "cell_type": "markdown",
   "id": "58660e6b",
   "metadata": {},
   "source": [
    "# Checking out commits"
   ]
  },
  {
   "cell_type": "code",
   "execution_count": null,
   "id": "b5655d13",
   "metadata": {
    "vscode": {
     "languageId": "shellscript"
    }
   },
   "outputs": [
    {
     "name": "stdout",
     "output_type": "stream",
     "text": [
      "\u001b[33mcommit 99fd56e6628bb154a64b8171f8f3af2be2f96c6e\u001b[m\n",
      "Author: Trinity <trinity@eventplannerz.com>\n",
      "Date:   Mon Jul 5 14:01:36 2021 -0400\n",
      "\n",
      "    \u001b[1;31madd first draft of appetizer and drink menus\u001b[m\n"
     ]
    }
   ],
   "source": [
    "!git log --grep \"add first draft of appetizer and drink menus\""
   ]
  },
  {
   "cell_type": "code",
   "execution_count": null,
   "id": "d0eaaa0f",
   "metadata": {
    "vscode": {
     "languageId": "shellscript"
    }
   },
   "outputs": [
    {
     "name": "stdout",
     "output_type": "stream",
     "text": [
      "\u001b[33mcommit 99fd56e6628bb154a64b8171f8f3af2be2f96c6e\u001b[m\n",
      "Author: Trinity <trinity@eventplannerz.com>\n",
      "Date:   Mon Jul 5 14:01:36 2021 -0400\n",
      "\n",
      "    \u001b[1;31madd first draft of appetizer and drink menus\u001b[m\n",
      "\n",
      "\u001b[1mdiff --git a/appetizers.md b/appetizers.md\u001b[m\n",
      "\u001b[1mnew file mode 100644\u001b[m\n",
      "\u001b[1mindex 0000000..ceeaf08\u001b[m\n",
      "\u001b[1m--- /dev/null\u001b[m\n",
      "\u001b[1m+++ b/appetizers.md\u001b[m\n",
      "\u001b[36m@@ -0,0 +1,5 @@\u001b[m\n",
      "\u001b[32m{+# Gitanjali and Aref Reception: Appetizers+}\u001b[m\n",
      "\n",
      "\u001b[32m{+* Herb-sprinkled stuffed mushrooms+}\u001b[m\n",
      "\u001b[32m{+* Blinis with salmon, caviar, and crème fraiche+}\u001b[m\n",
      "\u001b[32m{+* Mini roast-beef sandwiches+}\u001b[m\n",
      "\u001b[1mdiff --git a/drinks.md b/drinks.md\u001b[m\n",
      "\u001b[1mnew file mode 100644\u001b[m\n",
      "\u001b[1mindex 0000000..0fcee53\u001b[m\n",
      "\u001b[1m--- /dev/null\u001b[m\n",
      "\u001b[1m+++ b/drinks.md\u001b[m\n",
      "\u001b[36m@@ -0,0 +1,8 @@\u001b[m\n",
      "\u001b[32m{+# Gitanjali and Aref Reception: Signature Drinks+}\u001b[m\n",
      "\n",
      "\u001b[32m{+* The Manhattan Merge: +}\u001b[m\n",
      "\u001b[32m{+  Two become one in this updated take on a classic bourbon-vermouth cocktail+}\u001b[m\n",
      "\u001b[32m{+* The Git Gimlet: +}\u001b[m\n",
      "\u001b[32m{+  Gitanjali’s favorite drink, with refreshing lime and juniper notes +}\u001b[m\n",
      "\u001b[32m{+* The Git Log Cabin: +}\u001b[m\n",
      "\u001b[32m{+  Apple brandy and maple syrup will take you on an autumn trip through our favorite couple’s history+}\u001b[m \n"
     ]
    }
   ],
   "source": [
    "!git log --grep \"add first draft of appetizer and drink menus\" -p --word-diff"
   ]
  },
  {
   "cell_type": "code",
   "execution_count": null,
   "id": "4b062516",
   "metadata": {
    "vscode": {
     "languageId": "shellscript"
    }
   },
   "outputs": [
    {
     "name": "stdout",
     "output_type": "stream",
     "text": [
      "appetizers.md  dinner.md  drinks.md  README.md\n"
     ]
    }
   ],
   "source": [
    "ls"
   ]
  },
  {
   "cell_type": "markdown",
   "id": "86255c8d",
   "metadata": {},
   "source": [
    "### Switch to specific commit"
   ]
  },
  {
   "cell_type": "code",
   "execution_count": null,
   "id": "0607ac76",
   "metadata": {
    "vscode": {
     "languageId": "shellscript"
    }
   },
   "outputs": [
    {
     "name": "stdout",
     "output_type": "stream",
     "text": [
      "Note: switching to '99fd56e6'.\n",
      "\n",
      "You are in 'detached HEAD' state. You can look around, make experimental\n",
      "changes and commit them, and you can discard any commits you make in this\n",
      "state without impacting any branches by switching back to a branch.\n",
      "\n",
      "If you want to create a new branch to retain commits you create, you may\n",
      "do so (now or later) by using -c with the switch command. Example:\n",
      "\n",
      "  git switch -c <new-branch-name>\n",
      "\n",
      "Or undo this operation with:\n",
      "\n",
      "  git switch -\n",
      "\n",
      "Turn off this advice by setting config variable advice.detachedHead to false\n",
      "\n",
      "HEAD is now at 99fd56e add first draft of appetizer and drink menus\n"
     ]
    }
   ],
   "source": [
    "!git checkout 99fd56e6"
   ]
  },
  {
   "cell_type": "code",
   "execution_count": null,
   "id": "27206bae",
   "metadata": {
    "vscode": {
     "languageId": "shellscript"
    }
   },
   "outputs": [
    {
     "name": "stdout",
     "output_type": "stream",
     "text": [
      "appetizers.md  drinks.md  README.md\n"
     ]
    }
   ],
   "source": [
    "ls"
   ]
  },
  {
   "cell_type": "markdown",
   "id": "84959b2b",
   "metadata": {},
   "source": [
    "# Binary Search"
   ]
  },
  {
   "cell_type": "markdown",
   "id": "1434a04f",
   "metadata": {},
   "source": [
    "## ```Git biscet```"
   ]
  },
  {
   "cell_type": "code",
   "execution_count": null,
   "id": "d3de9e4d",
   "metadata": {
    "vscode": {
     "languageId": "shellscript"
    }
   },
   "outputs": [
    {
     "name": "stdout",
     "output_type": "stream",
     "text": [
      "Previous HEAD position was 99fd56e add first draft of appetizer and drink menus\n",
      "Switched to branch 'master'\n",
      "Your branch is up to date with 'origin/master'.\n"
     ]
    }
   ],
   "source": [
    "!git switch master"
   ]
  },
  {
   "cell_type": "code",
   "execution_count": null,
   "id": "8e3016a0",
   "metadata": {
    "vscode": {
     "languageId": "shellscript"
    }
   },
   "outputs": [
    {
     "name": "stdout",
     "output_type": "stream",
     "text": [
      "On branch master\n",
      "Your branch is up to date with 'origin/master'.\n",
      "\n",
      "nothing to commit, working tree clean\n"
     ]
    }
   ],
   "source": [
    "!git status"
   ]
  },
  {
   "cell_type": "code",
   "execution_count": null,
   "id": "99bb6b90",
   "metadata": {
    "vscode": {
     "languageId": "shellscript"
    }
   },
   "outputs": [
    {
     "name": "stdout",
     "output_type": "stream",
     "text": [
      "appetizers.md  dinner.md  drinks.md  README.md\n"
     ]
    }
   ],
   "source": [
    "!ls"
   ]
  },
  {
   "cell_type": "markdown",
   "id": "cd3dc60b",
   "metadata": {},
   "source": [
    "### Start binary search for bug"
   ]
  },
  {
   "cell_type": "code",
   "execution_count": null,
   "id": "a4ae35ba",
   "metadata": {
    "vscode": {
     "languageId": "shellscript"
    }
   },
   "outputs": [
    {
     "name": "stdout",
     "output_type": "stream",
     "text": [
      "status: waiting for both good and bad commits\n"
     ]
    }
   ],
   "source": [
    "!git bisect start"
   ]
  },
  {
   "cell_type": "markdown",
   "id": "689260d5",
   "metadata": {},
   "source": [
    "### Mark current commit as bad"
   ]
  },
  {
   "cell_type": "code",
   "execution_count": null,
   "id": "66067470",
   "metadata": {
    "vscode": {
     "languageId": "shellscript"
    }
   },
   "outputs": [
    {
     "name": "stdout",
     "output_type": "stream",
     "text": [
      "status: waiting for good commit(s), bad commit known\n"
     ]
    }
   ],
   "source": [
    "!git bisect bad"
   ]
  },
  {
   "cell_type": "markdown",
   "id": "ee1b905b",
   "metadata": {},
   "source": [
    "### Mark commit as good"
   ]
  },
  {
   "cell_type": "code",
   "execution_count": null,
   "id": "e2424eeb",
   "metadata": {
    "vscode": {
     "languageId": "shellscript"
    }
   },
   "outputs": [
    {
     "name": "stdout",
     "output_type": "stream",
     "text": [
      "Bisecting: 3 revisions left to test after this (roughly 2 steps)\n",
      "[b6c8c826ed98583a175ea4616ba9aad48ec0b1ad] replace meat dishes with vegetarian items\n"
     ]
    }
   ],
   "source": [
    "!git bisect good 6b11ec8"
   ]
  },
  {
   "cell_type": "code",
   "execution_count": null,
   "id": "d0b6b02c",
   "metadata": {
    "vscode": {
     "languageId": "shellscript"
    }
   },
   "outputs": [
    {
     "name": "stdout",
     "output_type": "stream",
     "text": [
      "# Gitanjali and Aref Reception: Appetizers\n",
      "\n",
      "* Herb-sprinkled stuffed mushrooms\n",
      "* Blinnis with spiced fruit and nut chutney\n",
      "* Mini grilled cheese sandwiches\n"
     ]
    }
   ],
   "source": [
    "!cat appetizers.md"
   ]
  },
  {
   "cell_type": "code",
   "execution_count": null,
   "id": "76488b24",
   "metadata": {
    "vscode": {
     "languageId": "shellscript"
    }
   },
   "outputs": [
    {
     "name": "stdout",
     "output_type": "stream",
     "text": [
      "Bisecting: 0 revisions left to test after this (roughly 1 step)\n",
      "[d36c9830823a17c42025713dcbc3bc29bbb4ce36] add first draft of dinner menu\n"
     ]
    }
   ],
   "source": [
    "!git bisect bad"
   ]
  },
  {
   "cell_type": "code",
   "execution_count": null,
   "id": "0f40fbfa",
   "metadata": {
    "vscode": {
     "languageId": "shellscript"
    }
   },
   "outputs": [
    {
     "name": "stdout",
     "output_type": "stream",
     "text": [
      "# Gitanjali and Aref Reception: Appetizers\n",
      "\n",
      "* Herb-sprinkled stuffed mushrooms\n",
      "* Blinis with salmon, caviar, and crème fraiche\n",
      "* Mini roast-beef sandwiches\n"
     ]
    }
   ],
   "source": [
    "!cat appetizers.md"
   ]
  },
  {
   "cell_type": "code",
   "execution_count": null,
   "id": "b454fc3a",
   "metadata": {
    "vscode": {
     "languageId": "shellscript"
    }
   },
   "outputs": [
    {
     "name": "stdout",
     "output_type": "stream",
     "text": [
      "b6c8c826ed98583a175ea4616ba9aad48ec0b1ad is the first bad commit\n",
      "\u001b[33mcommit b6c8c826ed98583a175ea4616ba9aad48ec0b1ad\u001b[m\n",
      "Author: Armstrong <armstrong@eventplannerz.com>\n",
      "Date:   Tue Jul 13 04:25:01 2021 -0400\n",
      "\n",
      "    replace meat dishes with vegetarian items\n",
      "\n",
      " appetizers.md | 4 \u001b[32m++\u001b[m\u001b[31m--\u001b[m\n",
      " dinner.md     | 4 \u001b[32m++\u001b[m\u001b[31m--\u001b[m\n",
      " 2 files changed, 4 insertions(+), 4 deletions(-)\n"
     ]
    }
   ],
   "source": [
    "!git bisect good"
   ]
  },
  {
   "cell_type": "markdown",
   "id": "c4e4524a",
   "metadata": {},
   "source": [
    "### End bisect session and return to original HEAD"
   ]
  },
  {
   "cell_type": "code",
   "execution_count": null,
   "id": "33d5fb7b",
   "metadata": {
    "vscode": {
     "languageId": "shellscript"
    }
   },
   "outputs": [
    {
     "name": "stdout",
     "output_type": "stream",
     "text": [
      "Previous HEAD position was d36c983 add first draft of dinner menu\n",
      "Switched to branch 'master'\n",
      "Your branch is up to date with 'origin/master'.\n"
     ]
    }
   ],
   "source": [
    "!git bisect reset"
   ]
  }
 ],
 "metadata": {
  "kernelspec": {
   "display_name": "Python 3",
   "language": "python",
   "name": "python3"
  },
  "language_info": {
   "codemirror_mode": {
    "name": "ipython",
    "version": 3
   },
   "file_extension": ".py",
   "mimetype": "text/x-python",
   "name": "python",
   "nbconvert_exporter": "python",
   "pygments_lexer": "ipython3",
   "version": "3.12.3"
  }
 },
 "nbformat": 4,
 "nbformat_minor": 5
}
